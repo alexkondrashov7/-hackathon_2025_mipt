{
 "cells": [
  {
   "cell_type": "code",
   "execution_count": 15,
   "id": "67d98df3",
   "metadata": {},
   "outputs": [],
   "source": [
    "import os\n",
    "import pandas as pd\n",
    "import json\n",
    "import matplotlib.pyplot as plt\n",
    "import seaborn as sns\n",
    "\n",
    "\n",
    "import warnings\n",
    "warnings.filterwarnings(\"ignore\")\n"
   ]
  },
  {
   "cell_type": "code",
   "execution_count": 81,
   "id": "fdcc2a9e",
   "metadata": {},
   "outputs": [],
   "source": [
    "\n",
    "# Загрузка данных\n",
    "def load_data():\n",
    "    customers = pd.read_csv(\"../research/clean_data/customers.csv\")\n",
    "    geolocation = pd.read_csv(\"../research/clean_data/geolocation.csv\")\n",
    "    order_pay = pd.read_csv(\"../research/clean_data/order_payments.csv\")\n",
    "    reviews = pd.read_csv(\"../research/clean_data/order_reviews.csv\")\n",
    "    orders = pd.read_csv(\"../research/clean_data/orders.csv\")\n",
    "    item = pd.read_csv(\"../research/clean_data/orders_items.csv\")\n",
    "    category_name = pd.read_csv(\n",
    "        \"../research/clean_data/product_category_name_translation.csv\")\n",
    "    products = pd.read_csv(\"../research/clean_data/products.csv\")\n",
    "    sellers = pd.read_csv(\"../research/clean_data/sellers.csv\")\n",
    "    return customers, geolocation, order_pay, reviews, orders, item, category_name, products, sellers\n",
    "\n",
    "# Объединение данных\n",
    "\n",
    "\n",
    "def merge_data(orders, item, order_pay, reviews, products, customers, sellers, category_name):\n",
    "    df = orders.merge(item, on='order_id', how='left')\n",
    "    df = df.merge(order_pay, on='order_id', how='outer', validate='m:m')\n",
    "    df = df.merge(reviews, on='order_id', how='outer')\n",
    "    df = df.merge(products, on='product_id', how='outer')\n",
    "    df = df.merge(customers, on='customer_id', how='outer')\n",
    "    df = df.merge(sellers, on='seller_id', how='outer')\n",
    "    df = df.merge(category_name, on=\"product_category_name\", how=\"left\")\n",
    "    return df\n",
    "\n",
    "\n",
    "# Очистка данных: удаление строк без customer_unique_id\n",
    "\n",
    "\n",
    "def filter_customers(df):\n",
    "    return df[~df[\"customer_unique_id\"].isna()]\n",
    "\n",
    "# Главная функция пайплайна\n",
    "\n",
    "\n",
    "def main_pipeline():\n",
    "    customers, geolocation, order_pay, reviews, orders, item, category_name, products, sellers = load_data()\n",
    "    df = merge_data(orders, item, order_pay, reviews, products,\n",
    "                    customers, sellers, category_name)\n",
    "    df = filter_customers(df)\n",
    "    \n",
    "    city_zip = geolocation.groupby([\"geolocation_city\", \"geolocation_zip_code_prefix\"])[\n",
    "    [\"geolocation_lat\", \"geolocation_lng\"]].mean().reset_index()\n",
    "\n",
    "    geo_result = city_zip\n",
    "\n",
    "    return df, geo_result\n",
    "\n",
    "# Обработка и анализ данных\n",
    "\n",
    "\n",
    "def process_data(df):\n",
    "    # Приводим столбцы к нужному типу данных\n",
    "    df['order_purchase_timestamp'] = pd.to_datetime(\n",
    "        df['order_purchase_timestamp'])\n",
    "    df['customer_unique_id'] = df['customer_unique_id'].astype(str)\n",
    "\n",
    "    # Убираем строки с отсутствующими customer_id или order_purchase_timestamp\n",
    "    df = df.dropna()\n",
    "\n",
    "    # RFM\n",
    "    current_date = df['order_purchase_timestamp'].max() + pd.Timedelta(days=1)\n",
    "    rfm = df.groupby('customer_unique_id').agg({\n",
    "        'order_purchase_timestamp': lambda x: (current_date - x.max()).days,\n",
    "        'order_id': 'count',\n",
    "        'payment_value': 'sum'\n",
    "    }).rename(columns={\n",
    "        'order_purchase_timestamp': 'recency',\n",
    "        'order_id': 'frequency',\n",
    "        'payment_value': 'monetary'\n",
    "    }).reset_index()\n",
    "\n",
    "    # Применяем квантильный анализ\n",
    "    rfm['r_quartile'] = pd.qcut(\n",
    "        rfm['recency'], 4, labels=False, duplicates='drop')\n",
    "    rfm['f_quartile'] = pd.qcut(\n",
    "        rfm['frequency'], 4, labels=False, duplicates='drop')\n",
    "    rfm['m_quartile'] = pd.qcut(\n",
    "        rfm['monetary'], 4, labels=False, duplicates='drop')\n",
    "    rfm['rfm_score'] = rfm[['r_quartile',\n",
    "                            'f_quartile', 'm_quartile']].sum(axis=1)\n",
    "\n",
    "    weights = {'R': 0.5, 'F': 0.3, 'M': 0.2}\n",
    "    rfm['RFM_Weighted'] = (rfm['r_quartile'] * weights['R'] +\n",
    "                           rfm['f_quartile'] * weights['F'] +\n",
    "                           rfm['m_quartile'] * weights['M'])\n",
    "\n",
    "    rfm['Churn_Risk'] = pd.qcut(rfm['RFM_Weighted'], q=[0, 0.25, 0.75, 1], labels=[\n",
    "                                'High_risk', 'Avg_risg', 'Low_risk'])\n",
    "\n",
    "    # ABC\n",
    "    rfm = rfm.sort_values('monetary', ascending=False)\n",
    "    rfm['cumulative_value'] = rfm['monetary'].cumsum()\n",
    "    total_value = rfm['monetary'].sum()\n",
    "    rfm['cumulative_percent'] = rfm['cumulative_value'] / total_value * 100\n",
    "\n",
    "    def assign_abc_category(row):\n",
    "        if row['cumulative_percent'] <= 80:\n",
    "            return 'A'\n",
    "        elif row['cumulative_percent'] <= 95:\n",
    "            return 'B'\n",
    "        else:\n",
    "            return 'C'\n",
    "\n",
    "    rfm['abc_class'] = rfm.apply(assign_abc_category, axis=1)\n",
    "\n",
    "    # XYZ\n",
    "    rfm['std_dev'] = df.groupby('customer_unique_id')[\n",
    "        'payment_value'].transform(lambda x: x.std())\n",
    "    rfm['x_category'] = pd.cut(\n",
    "        rfm['std_dev'], bins=[-1, 0.01, 50, float('inf')], labels=['X', 'Y', 'Z'])\n",
    "    rfm['x_category'] = rfm['x_category'].cat.add_categories(\n",
    "        ['Single Purchase'])\n",
    "    rfm['x_category'] = rfm['x_category'].fillna('Single Purchase')\n",
    "\n",
    "    new_categories = ['X', 'Y', 'Z', 'Single Purchase']\n",
    "    rfm['x_category'] = pd.Categorical(\n",
    "        rfm['x_category'], categories=new_categories)\n",
    "\n",
    "    # Сегментация клиентов\n",
    "    segments = rfm.copy()\n",
    "    segments['abc_class'] = segments['abc_class'].astype(str)\n",
    "    segments['x_category'] = segments['x_category'].astype(str)\n",
    "    segments['segment'] = segments['abc_class'] + \"_\" + segments['x_category']\n",
    "\n",
    "    segment_descriptions = {\n",
    "        'A_Single Purchase': 'Клиенты с одной покупкой, высокий денежный объем.',\n",
    "        'B_Single Purchase': 'Клиенты с одной покупкой, средний денежный объем.',\n",
    "        'C_Single Purchase': 'Клиенты с одной покупкой, низкий денежный объем.',\n",
    "        'A_X': 'Высокоприбыльные клиенты, низкая вариативность.',\n",
    "        'B_X': 'Клиенты со средней частотой и объемом, низкая вариативность.',\n",
    "        'C_X': 'Клиенты с низким объемом, низкая вариативность.',\n",
    "        'A_Y': 'Высокоприбыльные клиенты с разумной вариативностью.',\n",
    "        'B_Y': 'Средние клиенты с некоторой вариативностью.',\n",
    "        'C_Y': 'Клиенты с низким объемом и частотой, но с вариативностью.',\n",
    "        'A_Z': 'Высокоприбыльные клиенты с большой вариативностью.',\n",
    "        'B_Z': 'Средние клиенты с высокой вариативностью.',\n",
    "        'C_Z': 'Низкие клиенты с высокой вариативностью.',\n",
    "    }\n",
    "\n",
    "    segments['segment_description'] = segments['segment'].map(\n",
    "        segment_descriptions)\n",
    "\n",
    "    result = segments[[\"customer_unique_id\", \"Churn_Risk\", \"segment\"]]\n",
    "\n",
    "    return result\n",
    "\n",
    "\n",
    "def save_to_json(data, filename):\n",
    "    with open(filename, 'w', encoding='utf-8') as f:\n",
    "        json.dump(data.to_dict(orient='records'),\n",
    "                  f, ensure_ascii=False, indent=4)\n",
    "\n",
    "\n"
   ]
  },
  {
   "cell_type": "code",
   "execution_count": 82,
   "id": "fb324990",
   "metadata": {},
   "outputs": [],
   "source": [
    "# Основная функция\n",
    "if __name__ == \"__main__\":\n",
    "    data, geo_data = main_pipeline()\n",
    "    geo_data.drop_duplicates(inplace=True)\n",
    "    processed_data = process_data(data)\n",
    "\n",
    "\n",
    "    lat_long = data.merge(geo_data, left_on=\"customer_zip_code_prefix\",\n",
    "           right_on=\"geolocation_zip_code_prefix\", how=\"left\")\n",
    "\n",
    "    lat_long = lat_long[[\"customer_unique_id\", \"geolocation_lat\", \"geolocation_lng\"]]\n",
    "\n",
    "    result_raw = processed_data.merge(lat_long, on=\"customer_unique_id\", how=\"left\")\n",
    "    \n",
    "    result_raw.drop_duplicates(inplace=True)\n",
    "    result = result_raw.drop(columns=[\"customer_unique_id\"])\n",
    "\n",
    "    # save_to_json(result, './results/labels/customer_segments.json')"
   ]
  },
  {
   "cell_type": "code",
   "execution_count": 88,
   "id": "8635dba1",
   "metadata": {},
   "outputs": [
    {
     "data": {
      "application/vnd.microsoft.datawrangler.viewer.v0+json": {
       "columns": [
        {
         "name": "index",
         "rawType": "int64",
         "type": "integer"
        },
        {
         "name": "customer_unique_id",
         "rawType": "object",
         "type": "string"
        },
        {
         "name": "Churn_Risk",
         "rawType": "category",
         "type": "unknown"
        },
        {
         "name": "segment",
         "rawType": "object",
         "type": "string"
        }
       ],
       "conversionMethod": "pd.DataFrame",
       "ref": "6a52d040-4d2b-4572-8158-7fb78ee9d07b",
       "rows": [
        [
         "3656",
         "0a0a92112bd4c708ca5fde585afaa872",
         "Low_risk",
         "A_X"
        ],
        [
         "70137",
         "c402f431464c72e27330a67f7b94d4fb",
         "Avg_risg",
         "A_Single Purchase"
        ],
        [
         "22941",
         "4007669dec559734d6f53e029e360987",
         "Low_risk",
         "A_Z"
        ],
        [
         "85690",
         "ef8d54b3797ea4db1d63f0ced6a906e9",
         "Avg_risg",
         "A_Y"
        ],
        [
         "42295",
         "763c8b1c9c68a0229c42c9fc6f662b93",
         "Avg_risg",
         "A_Single Purchase"
        ],
        [
         "71661",
         "c8460e4251689ba205045f3ea17884a1",
         "Avg_risg",
         "A_Single Purchase"
        ],
        [
         "84036",
         "eae0a83d752b1dd32697e0e7b4221656",
         "Avg_risg",
         "A_Single Purchase"
        ],
        [
         "21953",
         "3d47f4368ccc8e1bb4c4a12dbda7111b",
         "Low_risk",
         "A_Single Purchase"
        ],
        [
         "62256",
         "adfa1cab2b2c8706db21bb13c0a1beb1",
         "Avg_risg",
         "A_Single Purchase"
        ],
        [
         "5524",
         "0f5ac8d5c31de21d2f25e24be15bbffb",
         "Low_risk",
         "A_X"
        ],
        [
         "9891",
         "1b76903617af13189607a36b0469f6f3",
         "Avg_risg",
         "A_X"
        ],
        [
         "77800",
         "d97b3cfb22b0d6b25ac9ed4e9c2d481b",
         "Low_risk",
         "A_Single Purchase"
        ],
        [
         "56805",
         "9eca552063680b7cd2ed0e8aea002b21",
         "Low_risk",
         "A_X"
        ],
        [
         "11728",
         "20a5257c01689ac69410a14cb51bb447",
         "Low_risk",
         "A_Single Purchase"
        ],
        [
         "91454",
         "fff5eb4918b2bf4b2da476788d42051c",
         "Avg_risg",
         "A_Single Purchase"
        ],
        [
         "39135",
         "6d394722d5fc5e721aee6875a218d8db",
         "Low_risk",
         "A_Z"
        ],
        [
         "19981",
         "37bc3d463e2a0024012a7fa587597a3c",
         "Avg_risg",
         "A_Single Purchase"
        ],
        [
         "35863",
         "6411590d91c48640cb07e72fbb4a359e",
         "Avg_risg",
         "A_Single Purchase"
        ],
        [
         "20318",
         "38a4f1deb45ca914dd13c73b41775d71",
         "Low_risk",
         "A_Single Purchase"
        ],
        [
         "17892",
         "31e412b9fb766b6794724ed17a41dfa6",
         "Low_risk",
         "A_Single Purchase"
        ],
        [
         "68191",
         "be825ddd3b40db3f91bf05b4e9435d56",
         "Avg_risg",
         "A_Single Purchase"
        ],
        [
         "3603",
         "09e9991c50513a303a2da26619870d7f",
         "Low_risk",
         "A_Single Purchase"
        ],
        [
         "51558",
         "906a8a4ec9f3d4c3e64fa6d1c4fe6009",
         "Avg_risg",
         "A_X"
        ],
        [
         "6490",
         "11f97da02237a49c8e783dfda6f50e8e",
         "Low_risk",
         "A_Single Purchase"
        ],
        [
         "71908",
         "c8ed31310fc440a3f8031b177f9842c3",
         "Avg_risg",
         "A_Single Purchase"
        ],
        [
         "90813",
         "fe2b2f70f3dc31c23319ae1029eac77f",
         "Avg_risg",
         "A_Y"
        ],
        [
         "6526",
         "12138e8ba93973c9b561253683f5581b",
         "Avg_risg",
         "A_X"
        ],
        [
         "30648",
         "559026a1299bd2ede976c8d516d92258",
         "Avg_risg",
         "A_Single Purchase"
        ],
        [
         "52736",
         "93bc212addb25a5f5139fded3c2ee6b3",
         "Low_risk",
         "A_Y"
        ],
        [
         "52512",
         "931eabdf0636b8fd60369a8d759917d6",
         "Low_risk",
         "A_Single Purchase"
        ],
        [
         "32397",
         "5a494c648fde2d1ec4eb614274ea7159",
         "Avg_risg",
         "A_Y"
        ],
        [
         "72487",
         "ca9ff40e3d69e5ffc34a46ed9b91451c",
         "Avg_risg",
         "A_Single Purchase"
        ],
        [
         "86094",
         "f0d3389b217aa61b5a66744ddd694cc3",
         "Avg_risg",
         "A_Single Purchase"
        ],
        [
         "48227",
         "86df00dc5fd68f4dd5d5945ca19f3ed6",
         "Low_risk",
         "A_Single Purchase"
        ],
        [
         "76795",
         "d687c16dcf223790dd97278b2cdbe240",
         "Avg_risg",
         "A_Single Purchase"
        ],
        [
         "89044",
         "f9172a6495d46451776be8bc8e46032d",
         "Avg_risg",
         "A_Single Purchase"
        ],
        [
         "57984",
         "a229eba70ec1c2abef51f04987deb7a5",
         "Avg_risg",
         "A_Single Purchase"
        ],
        [
         "51766",
         "910f0afb84bc778e856d3683c7e8a46a",
         "Avg_risg",
         "A_Single Purchase"
        ],
        [
         "22609",
         "3f01021289a4c54f1c984262f4ba625b",
         "Low_risk",
         "A_Single Purchase"
        ],
        [
         "18600",
         "33de26d1fafbfd4945eb586f7136efe6",
         "Low_risk",
         "A_Z"
        ],
        [
         "2301",
         "066ee6b9c6fc284260ff9a1274a82ca7",
         "Low_risk",
         "A_Single Purchase"
        ],
        [
         "43612",
         "79dbe8f7d2cd77fc463cfb663ab1375c",
         "Avg_risg",
         "A_Single Purchase"
        ],
        [
         "89908",
         "fb98136edc2c0f996bfad36a0c7e1306",
         "Avg_risg",
         "A_Single Purchase"
        ],
        [
         "66641",
         "ba3f35c1ecbfcbac6854edf5ffcc198d",
         "Low_risk",
         "A_Single Purchase"
        ],
        [
         "53935",
         "96e91c0dba30f7ff60c9acd47677c248",
         "Avg_risg",
         "A_Single Purchase"
        ],
        [
         "85763",
         "efce1ab3e96ccab8b1b464326bd22417",
         "Avg_risg",
         "A_Single Purchase"
        ],
        [
         "27242",
         "4c21c589db03eb65cbc452fc470850cf",
         "Low_risk",
         "A_X"
        ],
        [
         "2253",
         "064fb6f70338688d1372235d95d92ff7",
         "Avg_risg",
         "A_Single Purchase"
        ],
        [
         "13857",
         "26b5839e505ee33e6a449f7c2c403f99",
         "Avg_risg",
         "A_Single Purchase"
        ],
        [
         "20833",
         "3a205021b542565ebf170c0ec55783d9",
         "Low_risk",
         "A_Single Purchase"
        ]
       ],
       "shape": {
        "columns": 3,
        "rows": 91465
       }
      },
      "text/html": [
       "<div>\n",
       "<style scoped>\n",
       "    .dataframe tbody tr th:only-of-type {\n",
       "        vertical-align: middle;\n",
       "    }\n",
       "\n",
       "    .dataframe tbody tr th {\n",
       "        vertical-align: top;\n",
       "    }\n",
       "\n",
       "    .dataframe thead th {\n",
       "        text-align: right;\n",
       "    }\n",
       "</style>\n",
       "<table border=\"1\" class=\"dataframe\">\n",
       "  <thead>\n",
       "    <tr style=\"text-align: right;\">\n",
       "      <th></th>\n",
       "      <th>customer_unique_id</th>\n",
       "      <th>Churn_Risk</th>\n",
       "      <th>segment</th>\n",
       "    </tr>\n",
       "  </thead>\n",
       "  <tbody>\n",
       "    <tr>\n",
       "      <th>3656</th>\n",
       "      <td>0a0a92112bd4c708ca5fde585afaa872</td>\n",
       "      <td>Low_risk</td>\n",
       "      <td>A_X</td>\n",
       "    </tr>\n",
       "    <tr>\n",
       "      <th>70137</th>\n",
       "      <td>c402f431464c72e27330a67f7b94d4fb</td>\n",
       "      <td>Avg_risg</td>\n",
       "      <td>A_Single Purchase</td>\n",
       "    </tr>\n",
       "    <tr>\n",
       "      <th>22941</th>\n",
       "      <td>4007669dec559734d6f53e029e360987</td>\n",
       "      <td>Low_risk</td>\n",
       "      <td>A_Z</td>\n",
       "    </tr>\n",
       "    <tr>\n",
       "      <th>85690</th>\n",
       "      <td>ef8d54b3797ea4db1d63f0ced6a906e9</td>\n",
       "      <td>Avg_risg</td>\n",
       "      <td>A_Y</td>\n",
       "    </tr>\n",
       "    <tr>\n",
       "      <th>42295</th>\n",
       "      <td>763c8b1c9c68a0229c42c9fc6f662b93</td>\n",
       "      <td>Avg_risg</td>\n",
       "      <td>A_Single Purchase</td>\n",
       "    </tr>\n",
       "    <tr>\n",
       "      <th>...</th>\n",
       "      <td>...</td>\n",
       "      <td>...</td>\n",
       "      <td>...</td>\n",
       "    </tr>\n",
       "    <tr>\n",
       "      <th>14509</th>\n",
       "      <td>2878e5b88167faab17d4fb83a986d38b</td>\n",
       "      <td>Avg_risg</td>\n",
       "      <td>C_X</td>\n",
       "    </tr>\n",
       "    <tr>\n",
       "      <th>39876</th>\n",
       "      <td>6f5b9d1cdccc4d28f0483a612edecacf</td>\n",
       "      <td>Avg_risg</td>\n",
       "      <td>C_Y</td>\n",
       "    </tr>\n",
       "    <tr>\n",
       "      <th>64154</th>\n",
       "      <td>b33336f46234b24a613ad9064d13106d</td>\n",
       "      <td>High_risk</td>\n",
       "      <td>C_Y</td>\n",
       "    </tr>\n",
       "    <tr>\n",
       "      <th>67650</th>\n",
       "      <td>bd06ce0e06ad77a7f681f1a4960a3cc6</td>\n",
       "      <td>Avg_risg</td>\n",
       "      <td>C_Single Purchase</td>\n",
       "    </tr>\n",
       "    <tr>\n",
       "      <th>17736</th>\n",
       "      <td>317cfc692e3f86c45c95697c61c853a6</td>\n",
       "      <td>High_risk</td>\n",
       "      <td>C_Single Purchase</td>\n",
       "    </tr>\n",
       "  </tbody>\n",
       "</table>\n",
       "<p>91465 rows × 3 columns</p>\n",
       "</div>"
      ],
      "text/plain": [
       "                     customer_unique_id Churn_Risk            segment\n",
       "3656   0a0a92112bd4c708ca5fde585afaa872   Low_risk                A_X\n",
       "70137  c402f431464c72e27330a67f7b94d4fb   Avg_risg  A_Single Purchase\n",
       "22941  4007669dec559734d6f53e029e360987   Low_risk                A_Z\n",
       "85690  ef8d54b3797ea4db1d63f0ced6a906e9   Avg_risg                A_Y\n",
       "42295  763c8b1c9c68a0229c42c9fc6f662b93   Avg_risg  A_Single Purchase\n",
       "...                                 ...        ...                ...\n",
       "14509  2878e5b88167faab17d4fb83a986d38b   Avg_risg                C_X\n",
       "39876  6f5b9d1cdccc4d28f0483a612edecacf   Avg_risg                C_Y\n",
       "64154  b33336f46234b24a613ad9064d13106d  High_risk                C_Y\n",
       "67650  bd06ce0e06ad77a7f681f1a4960a3cc6   Avg_risg  C_Single Purchase\n",
       "17736  317cfc692e3f86c45c95697c61c853a6  High_risk  C_Single Purchase\n",
       "\n",
       "[91465 rows x 3 columns]"
      ]
     },
     "execution_count": 88,
     "metadata": {},
     "output_type": "execute_result"
    }
   ],
   "source": [
    "processed_data"
   ]
  },
  {
   "cell_type": "code",
   "execution_count": 89,
   "id": "1cbd50d4",
   "metadata": {},
   "outputs": [
    {
     "data": {
      "application/vnd.microsoft.datawrangler.viewer.v0+json": {
       "columns": [
        {
         "name": "index",
         "rawType": "int64",
         "type": "integer"
        },
        {
         "name": "customer_unique_id",
         "rawType": "object",
         "type": "string"
        },
        {
         "name": "geolocation_lat",
         "rawType": "float64",
         "type": "float"
        },
        {
         "name": "geolocation_lng",
         "rawType": "float64",
         "type": "float"
        }
       ],
       "conversionMethod": "pd.DataFrame",
       "ref": "6adffd23-9b06-4cd0-8e78-9b8f9c57f562",
       "rows": [
        [
         "0",
         "3c7e305796add66698959fc7ad176f6b",
         "-23.758681645959967",
         "-53.29655313761005"
        ],
        [
         "1",
         "9de5797cddb92598755a0f76383ddbbb",
         "-20.670324298534855",
         "-44.06634940030844"
        ],
        [
         "2",
         "9915eb9f74b6c11aaf04833f65b00e93",
         "-17.22424977052579",
         "-46.87426005019532"
        ],
        [
         "3",
         "dce323533e45e74d215e0fe7fb114118",
         "-22.82328999243296",
         "-43.00384698243707"
        ],
        [
         "4",
         "dce323533e45e74d215e0fe7fb114118",
         "-22.82405538794622",
         "-43.00186391274569"
        ],
        [
         "5",
         "dce323533e45e74d215e0fe7fb114118",
         "-22.82328999243296",
         "-43.00384698243707"
        ],
        [
         "6",
         "dce323533e45e74d215e0fe7fb114118",
         "-22.82405538794622",
         "-43.00186391274569"
        ],
        [
         "7",
         "acfca8c3549ceceba9e125afc0349610",
         "-25.461372104723406",
         "-49.23112375249536"
        ],
        [
         "8",
         "6d30fb7a44f6405e3df4ec6a5a1c787c",
         "-12.150150399595153",
         "-39.24608673614469"
        ],
        [
         "9",
         "fd65dc867fc1c42c8421fae7fb4eba67",
         "-12.244490545252848",
         "-38.97927798222695"
        ],
        [
         "10",
         "eb69ead1e0da68c941a67677f6a39f3b",
         "-23.553569194197415",
         "-46.80917761192744"
        ],
        [
         "11",
         "dd47740f3c285d15d8c9c72fc204e78a",
         "-19.89882312396387",
         "-43.91995942778065"
        ],
        [
         "12",
         "862b2b94a70e91cb0e9f1224d736992d",
         "-24.793146010158477",
         "-49.99321137719571"
        ],
        [
         "13",
         "2ac356d0dbef7022ef6e7d96151744f0",
         "-9.42112633935479",
         "-40.49909628806642"
        ],
        [
         "14",
         "581f517c9afcdcc8d3a9d827f83e51a2",
         "-27.004522453378566",
         "-51.152808530844105"
        ],
        [
         "15",
         "20ae7f5cb408302fe02d95d78c8d4f01",
         "-27.23052111686544",
         "-52.02460734657694"
        ],
        [
         "16",
         "20ae7f5cb408302fe02d95d78c8d4f01",
         "-27.23017000927502",
         "-52.02304505384309"
        ],
        [
         "17",
         "20ae7f5cb408302fe02d95d78c8d4f01",
         "-27.23052111686544",
         "-52.02460734657694"
        ],
        [
         "18",
         "20ae7f5cb408302fe02d95d78c8d4f01",
         "-27.23017000927502",
         "-52.02304505384309"
        ],
        [
         "19",
         "4ed16134a4f12d79e401be023468cbe1",
         "-22.952796167411087",
         "-42.96204835244484"
        ],
        [
         "20",
         "4ed16134a4f12d79e401be023468cbe1",
         "-22.96041335880632",
         "-42.98462188371834"
        ],
        [
         "21",
         "4ed16134a4f12d79e401be023468cbe1",
         "-22.952796167411087",
         "-42.96204835244484"
        ],
        [
         "22",
         "4ed16134a4f12d79e401be023468cbe1",
         "-22.96041335880632",
         "-42.98462188371834"
        ],
        [
         "23",
         "be8b51073ad2413727c89e38b38e5818",
         "-29.956800948002655",
         "-51.10200182918825"
        ],
        [
         "24",
         "919b613e7aa171cb4ca017c049fbc5da",
         "-22.189776394472776",
         "-47.38856177162857"
        ],
        [
         "25",
         "919b613e7aa171cb4ca017c049fbc5da",
         "-22.189776394472776",
         "-47.38856177162857"
        ],
        [
         "26",
         "ec480617d171ec40842fd13cf45dcf6f",
         "-23.648203482894164",
         "-46.59544229151689"
        ],
        [
         "27",
         "ec480617d171ec40842fd13cf45dcf6f",
         "-23.64639535813418",
         "-46.59387634486162"
        ],
        [
         "28",
         "dc9108cdc59294eebe936e0971e6da63",
         "-3.8384024138553956",
         "-38.51612072434251"
        ],
        [
         "29",
         "dc9108cdc59294eebe936e0971e6da63",
         "-3.8384024138553956",
         "-38.51612072434251"
        ],
        [
         "30",
         "2eb631a7476babac8aac18cfd99bb7d1",
         "-23.6837309324534",
         "-46.535052424831406"
        ],
        [
         "31",
         "2eb631a7476babac8aac18cfd99bb7d1",
         "-23.683532889155583",
         "-46.53614872828188"
        ],
        [
         "32",
         "2eb631a7476babac8aac18cfd99bb7d1",
         "-23.6837309324534",
         "-46.535052424831406"
        ],
        [
         "33",
         "2eb631a7476babac8aac18cfd99bb7d1",
         "-23.683532889155583",
         "-46.53614872828188"
        ],
        [
         "34",
         "bd32064dc20647a566342828eded6fd6",
         "-22.854821380164108",
         "-47.21174818191287"
        ],
        [
         "35",
         "bd32064dc20647a566342828eded6fd6",
         "-22.859707236522905",
         "-47.21293221556519"
        ],
        [
         "36",
         "551a43d7e0bb14426e6ca28d7eec8463",
         "-23.012491913121654",
         "-44.537154342600466"
        ],
        [
         "37",
         "551a43d7e0bb14426e6ca28d7eec8463",
         "-23.012491913121654",
         "-44.537154342600466"
        ],
        [
         "38",
         "551a43d7e0bb14426e6ca28d7eec8463",
         "-23.012491913121654",
         "-44.537154342600466"
        ],
        [
         "39",
         "551a43d7e0bb14426e6ca28d7eec8463",
         "-23.012491913121654",
         "-44.537154342600466"
        ],
        [
         "40",
         "551a43d7e0bb14426e6ca28d7eec8463",
         "-23.012491913121654",
         "-44.537154342600466"
        ],
        [
         "41",
         "18cdff92d2777ba2cebf27e4a6370a6f",
         "-23.546610291733526",
         "-46.483672548187975"
        ],
        [
         "42",
         "18cdff92d2777ba2cebf27e4a6370a6f",
         "-23.545802589999905",
         "-46.482823901232685"
        ],
        [
         "43",
         "dac056a3c0afdd113e5cfa5698f561e7",
         "-26.4708938653165",
         "-49.115804151541674"
        ],
        [
         "44",
         "dac056a3c0afdd113e5cfa5698f561e7",
         "-26.470099165589335",
         "-49.11509555910926"
        ],
        [
         "45",
         "21f748a16f4e1688a9014eb3ee6fa325",
         "-22.681850756571837",
         "-47.66164172153085"
        ],
        [
         "46",
         "013ae505c83f5fb1905ed23afdafd3a2",
         "-19.825659440273114",
         "-43.97272971558917"
        ],
        [
         "47",
         "d1354b6a5a8b77dbbe3e3187e418e8ec",
         "-23.628925050957612",
         "-45.43378205021413"
        ],
        [
         "48",
         "e58f0403dc02936d911f974a17c5610a",
         "-23.611616106632408",
         "-46.512065279758765"
        ],
        [
         "49",
         "e58f0403dc02936d911f974a17c5610a",
         "-23.61046279199208",
         "-46.515388245536435"
        ]
       ],
       "shape": {
        "columns": 3,
        "rows": 177949
       }
      },
      "text/html": [
       "<div>\n",
       "<style scoped>\n",
       "    .dataframe tbody tr th:only-of-type {\n",
       "        vertical-align: middle;\n",
       "    }\n",
       "\n",
       "    .dataframe tbody tr th {\n",
       "        vertical-align: top;\n",
       "    }\n",
       "\n",
       "    .dataframe thead th {\n",
       "        text-align: right;\n",
       "    }\n",
       "</style>\n",
       "<table border=\"1\" class=\"dataframe\">\n",
       "  <thead>\n",
       "    <tr style=\"text-align: right;\">\n",
       "      <th></th>\n",
       "      <th>customer_unique_id</th>\n",
       "      <th>geolocation_lat</th>\n",
       "      <th>geolocation_lng</th>\n",
       "    </tr>\n",
       "  </thead>\n",
       "  <tbody>\n",
       "    <tr>\n",
       "      <th>0</th>\n",
       "      <td>3c7e305796add66698959fc7ad176f6b</td>\n",
       "      <td>-23.758682</td>\n",
       "      <td>-53.296553</td>\n",
       "    </tr>\n",
       "    <tr>\n",
       "      <th>1</th>\n",
       "      <td>9de5797cddb92598755a0f76383ddbbb</td>\n",
       "      <td>-20.670324</td>\n",
       "      <td>-44.066349</td>\n",
       "    </tr>\n",
       "    <tr>\n",
       "      <th>2</th>\n",
       "      <td>9915eb9f74b6c11aaf04833f65b00e93</td>\n",
       "      <td>-17.224250</td>\n",
       "      <td>-46.874260</td>\n",
       "    </tr>\n",
       "    <tr>\n",
       "      <th>3</th>\n",
       "      <td>dce323533e45e74d215e0fe7fb114118</td>\n",
       "      <td>-22.823290</td>\n",
       "      <td>-43.003847</td>\n",
       "    </tr>\n",
       "    <tr>\n",
       "      <th>4</th>\n",
       "      <td>dce323533e45e74d215e0fe7fb114118</td>\n",
       "      <td>-22.824055</td>\n",
       "      <td>-43.001864</td>\n",
       "    </tr>\n",
       "    <tr>\n",
       "      <th>...</th>\n",
       "      <td>...</td>\n",
       "      <td>...</td>\n",
       "      <td>...</td>\n",
       "    </tr>\n",
       "    <tr>\n",
       "      <th>177944</th>\n",
       "      <td>587b326ba3bf8aa4d3e50fb1f38ea79f</td>\n",
       "      <td>-23.638866</td>\n",
       "      <td>-46.951562</td>\n",
       "    </tr>\n",
       "    <tr>\n",
       "      <th>177945</th>\n",
       "      <td>14d46ad43ae7e3cd6944258b9840373b</td>\n",
       "      <td>-10.681051</td>\n",
       "      <td>-37.432707</td>\n",
       "    </tr>\n",
       "    <tr>\n",
       "      <th>177946</th>\n",
       "      <td>1942b890cee1b55dbf8176e925e79e07</td>\n",
       "      <td>-30.051186</td>\n",
       "      <td>-51.180017</td>\n",
       "    </tr>\n",
       "    <tr>\n",
       "      <th>177947</th>\n",
       "      <td>0f21adf44f13a61282678a89f6433c10</td>\n",
       "      <td>-12.974012</td>\n",
       "      <td>-38.496331</td>\n",
       "    </tr>\n",
       "    <tr>\n",
       "      <th>177948</th>\n",
       "      <td>736e6bfa0510aa5b878881a226a5fd89</td>\n",
       "      <td>-23.542712</td>\n",
       "      <td>-46.811923</td>\n",
       "    </tr>\n",
       "  </tbody>\n",
       "</table>\n",
       "<p>177949 rows × 3 columns</p>\n",
       "</div>"
      ],
      "text/plain": [
       "                      customer_unique_id  geolocation_lat  geolocation_lng\n",
       "0       3c7e305796add66698959fc7ad176f6b       -23.758682       -53.296553\n",
       "1       9de5797cddb92598755a0f76383ddbbb       -20.670324       -44.066349\n",
       "2       9915eb9f74b6c11aaf04833f65b00e93       -17.224250       -46.874260\n",
       "3       dce323533e45e74d215e0fe7fb114118       -22.823290       -43.003847\n",
       "4       dce323533e45e74d215e0fe7fb114118       -22.824055       -43.001864\n",
       "...                                  ...              ...              ...\n",
       "177944  587b326ba3bf8aa4d3e50fb1f38ea79f       -23.638866       -46.951562\n",
       "177945  14d46ad43ae7e3cd6944258b9840373b       -10.681051       -37.432707\n",
       "177946  1942b890cee1b55dbf8176e925e79e07       -30.051186       -51.180017\n",
       "177947  0f21adf44f13a61282678a89f6433c10       -12.974012       -38.496331\n",
       "177948  736e6bfa0510aa5b878881a226a5fd89       -23.542712       -46.811923\n",
       "\n",
       "[177949 rows x 3 columns]"
      ]
     },
     "execution_count": 89,
     "metadata": {},
     "output_type": "execute_result"
    }
   ],
   "source": [
    "lat_long"
   ]
  },
  {
   "cell_type": "code",
   "execution_count": null,
   "id": "b288f54e",
   "metadata": {},
   "outputs": [],
   "source": []
  }
 ],
 "metadata": {
  "kernelspec": {
   "display_name": "dlenv",
   "language": "python",
   "name": "python3"
  },
  "language_info": {
   "codemirror_mode": {
    "name": "ipython",
    "version": 3
   },
   "file_extension": ".py",
   "mimetype": "text/x-python",
   "name": "python",
   "nbconvert_exporter": "python",
   "pygments_lexer": "ipython3",
   "version": "3.11.11"
  }
 },
 "nbformat": 4,
 "nbformat_minor": 5
}
