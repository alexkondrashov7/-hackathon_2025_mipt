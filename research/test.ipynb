{
 "cells": [
  {
   "cell_type": "code",
   "execution_count": 15,
   "id": "67d98df3",
   "metadata": {},
   "outputs": [],
   "source": [
    "import os\n",
    "import pandas as pd\n",
    "import json\n",
    "import matplotlib.pyplot as plt\n",
    "import seaborn as sns\n",
    "\n",
    "\n",
    "import warnings\n",
    "warnings.filterwarnings(\"ignore\")\n"
   ]
  },
  {
   "cell_type": "code",
   "execution_count": 81,
   "id": "fdcc2a9e",
   "metadata": {},
   "outputs": [],
   "source": [
    "\n",
    "# Загрузка данных\n",
    "def load_data():\n",
    "    customers = pd.read_csv(\"../research/clean_data/customers.csv\")\n",
    "    geolocation = pd.read_csv(\"../research/clean_data/geolocation.csv\")\n",
    "    order_pay = pd.read_csv(\"../research/clean_data/order_payments.csv\")\n",
    "    reviews = pd.read_csv(\"../research/clean_data/order_reviews.csv\")\n",
    "    orders = pd.read_csv(\"../research/clean_data/orders.csv\")\n",
    "    item = pd.read_csv(\"../research/clean_data/orders_items.csv\")\n",
    "    category_name = pd.read_csv(\n",
    "        \"../research/clean_data/product_category_name_translation.csv\")\n",
    "    products = pd.read_csv(\"../research/clean_data/products.csv\")\n",
    "    sellers = pd.read_csv(\"../research/clean_data/sellers.csv\")\n",
    "    return customers, geolocation, order_pay, reviews, orders, item, category_name, products, sellers\n",
    "\n",
    "# Объединение данных\n",
    "\n",
    "\n",
    "def merge_data(orders, item, order_pay, reviews, products, customers, sellers, category_name):\n",
    "    df = orders.merge(item, on='order_id', how='left')\n",
    "    df = df.merge(order_pay, on='order_id', how='outer', validate='m:m')\n",
    "    df = df.merge(reviews, on='order_id', how='outer')\n",
    "    df = df.merge(products, on='product_id', how='outer')\n",
    "    df = df.merge(customers, on='customer_id', how='outer')\n",
    "    df = df.merge(sellers, on='seller_id', how='outer')\n",
    "    df = df.merge(category_name, on=\"product_category_name\", how=\"left\")\n",
    "    return df\n",
    "\n",
    "\n",
    "# Очистка данных: удаление строк без customer_unique_id\n",
    "\n",
    "\n",
    "def filter_customers(df):\n",
    "    return df[~df[\"customer_unique_id\"].isna()]\n",
    "\n",
    "# Главная функция пайплайна\n",
    "\n",
    "\n",
    "def main_pipeline():\n",
    "    customers, geolocation, order_pay, reviews, orders, item, category_name, products, sellers = load_data()\n",
    "    df = merge_data(orders, item, order_pay, reviews, products,\n",
    "                    customers, sellers, category_name)\n",
    "    df = filter_customers(df)\n",
    "    \n",
    "    city_zip = geolocation.groupby([\"geolocation_city\", \"geolocation_zip_code_prefix\"])[\n",
    "    [\"geolocation_lat\", \"geolocation_lng\"]].mean().reset_index()\n",
    "\n",
    "    geo_result = city_zip\n",
    "\n",
    "    return df, geo_result\n",
    "\n",
    "# Обработка и анализ данных\n",
    "\n",
    "\n",
    "def process_data(df):\n",
    "    # Приводим столбцы к нужному типу данных\n",
    "    df['order_purchase_timestamp'] = pd.to_datetime(\n",
    "        df['order_purchase_timestamp'])\n",
    "    df['customer_unique_id'] = df['customer_unique_id'].astype(str)\n",
    "\n",
    "    # Убираем строки с отсутствующими customer_id или order_purchase_timestamp\n",
    "    df = df.dropna()\n",
    "\n",
    "    # RFM\n",
    "    current_date = df['order_purchase_timestamp'].max() + pd.Timedelta(days=1)\n",
    "    rfm = df.groupby('customer_unique_id').agg({\n",
    "        'order_purchase_timestamp': lambda x: (current_date - x.max()).days,\n",
    "        'order_id': 'count',\n",
    "        'payment_value': 'sum'\n",
    "    }).rename(columns={\n",
    "        'order_purchase_timestamp': 'recency',\n",
    "        'order_id': 'frequency',\n",
    "        'payment_value': 'monetary'\n",
    "    }).reset_index()\n",
    "\n",
    "    # Применяем квантильный анализ\n",
    "    rfm['r_quartile'] = pd.qcut(\n",
    "        rfm['recency'], 4, labels=False, duplicates='drop')\n",
    "    rfm['f_quartile'] = pd.qcut(\n",
    "        rfm['frequency'], 4, labels=False, duplicates='drop')\n",
    "    rfm['m_quartile'] = pd.qcut(\n",
    "        rfm['monetary'], 4, labels=False, duplicates='drop')\n",
    "    rfm['rfm_score'] = rfm[['r_quartile',\n",
    "                            'f_quartile', 'm_quartile']].sum(axis=1)\n",
    "\n",
    "    weights = {'R': 0.5, 'F': 0.3, 'M': 0.2}\n",
    "    rfm['RFM_Weighted'] = (rfm['r_quartile'] * weights['R'] +\n",
    "                           rfm['f_quartile'] * weights['F'] +\n",
    "                           rfm['m_quartile'] * weights['M'])\n",
    "\n",
    "    rfm['Churn_Risk'] = pd.qcut(rfm['RFM_Weighted'], q=[0, 0.25, 0.75, 1], labels=[\n",
    "                                'High_risk', 'Avg_risg', 'Low_risk'])\n",
    "\n",
    "    # ABC\n",
    "    rfm = rfm.sort_values('monetary', ascending=False)\n",
    "    rfm['cumulative_value'] = rfm['monetary'].cumsum()\n",
    "    total_value = rfm['monetary'].sum()\n",
    "    rfm['cumulative_percent'] = rfm['cumulative_value'] / total_value * 100\n",
    "\n",
    "    def assign_abc_category(row):\n",
    "        if row['cumulative_percent'] <= 80:\n",
    "            return 'A'\n",
    "        elif row['cumulative_percent'] <= 95:\n",
    "            return 'B'\n",
    "        else:\n",
    "            return 'C'\n",
    "\n",
    "    rfm['abc_class'] = rfm.apply(assign_abc_category, axis=1)\n",
    "\n",
    "    # XYZ\n",
    "    rfm['std_dev'] = df.groupby('customer_unique_id')[\n",
    "        'payment_value'].transform(lambda x: x.std())\n",
    "    rfm['x_category'] = pd.cut(\n",
    "        rfm['std_dev'], bins=[-1, 0.01, 50, float('inf')], labels=['X', 'Y', 'Z'])\n",
    "    rfm['x_category'] = rfm['x_category'].cat.add_categories(\n",
    "        ['Single Purchase'])\n",
    "    rfm['x_category'] = rfm['x_category'].fillna('Single Purchase')\n",
    "\n",
    "    new_categories = ['X', 'Y', 'Z', 'Single Purchase']\n",
    "    rfm['x_category'] = pd.Categorical(\n",
    "        rfm['x_category'], categories=new_categories)\n",
    "\n",
    "    # Сегментация клиентов\n",
    "    segments = rfm.copy()\n",
    "    segments['abc_class'] = segments['abc_class'].astype(str)\n",
    "    segments['x_category'] = segments['x_category'].astype(str)\n",
    "    segments['segment'] = segments['abc_class'] + \"_\" + segments['x_category']\n",
    "\n",
    "    segment_descriptions = {\n",
    "        'A_Single Purchase': 'Клиенты с одной покупкой, высокий денежный объем.',\n",
    "        'B_Single Purchase': 'Клиенты с одной покупкой, средний денежный объем.',\n",
    "        'C_Single Purchase': 'Клиенты с одной покупкой, низкий денежный объем.',\n",
    "        'A_X': 'Высокоприбыльные клиенты, низкая вариативность.',\n",
    "        'B_X': 'Клиенты со средней частотой и объемом, низкая вариативность.',\n",
    "        'C_X': 'Клиенты с низким объемом, низкая вариативность.',\n",
    "        'A_Y': 'Высокоприбыльные клиенты с разумной вариативностью.',\n",
    "        'B_Y': 'Средние клиенты с некоторой вариативностью.',\n",
    "        'C_Y': 'Клиенты с низким объемом и частотой, но с вариативностью.',\n",
    "        'A_Z': 'Высокоприбыльные клиенты с большой вариативностью.',\n",
    "        'B_Z': 'Средние клиенты с высокой вариативностью.',\n",
    "        'C_Z': 'Низкие клиенты с высокой вариативностью.',\n",
    "    }\n",
    "\n",
    "    segments['segment_description'] = segments['segment'].map(\n",
    "        segment_descriptions)\n",
    "\n",
    "    result = segments[[\"customer_unique_id\", \"Churn_Risk\", \"segment\"]]\n",
    "\n",
    "    return result\n",
    "\n",
    "\n",
    "def save_to_json(data, filename):\n",
    "    with open(filename, 'w', encoding='utf-8') as f:\n",
    "        json.dump(data.to_dict(orient='records'),\n",
    "                  f, ensure_ascii=False, indent=4)\n",
    "\n",
    "\n"
   ]
  },
  {
   "cell_type": "code",
   "execution_count": 108,
   "id": "fb324990",
   "metadata": {},
   "outputs": [],
   "source": [
    "# Основная функция\n",
    "if __name__ == \"__main__\":\n",
    "    data, geo_data = main_pipeline()\n",
    "    geo_data.drop_duplicates(inplace=True)\n",
    "    processed_data = process_data(data)\n",
    "\n",
    "\n",
    "    lat_long = data.merge(geo_data, left_on=\"customer_zip_code_prefix\",\n",
    "           right_on=\"geolocation_zip_code_prefix\", how=\"left\")\n",
    "\n",
    "    lat_long = lat_long[[\"customer_unique_id\", \"geolocation_lat\", \"geolocation_lng\"]]\n",
    "    lat_long = lat_long.groupby([\"customer_unique_id\"])[[\"geolocation_lat\", \"geolocation_lng\"]].mean().reset_index()\n",
    "\n",
    "    result_raw = processed_data.merge(lat_long, on=\"customer_unique_id\", how=\"left\")\n",
    "    \n",
    "    result_raw.drop_duplicates(inplace=True)\n",
    "    result = result_raw.drop(columns=[\"customer_unique_id\"])\n",
    "\n",
    "    # save_to_json(result, './results/labels/customer_segments.json')"
   ]
  },
  {
   "cell_type": "code",
   "execution_count": 109,
   "id": "8635dba1",
   "metadata": {},
   "outputs": [
    {
     "data": {
      "application/vnd.microsoft.datawrangler.viewer.v0+json": {
       "columns": [
        {
         "name": "index",
         "rawType": "int64",
         "type": "integer"
        },
        {
         "name": "Churn_Risk",
         "rawType": "category",
         "type": "unknown"
        },
        {
         "name": "segment",
         "rawType": "object",
         "type": "string"
        },
        {
         "name": "geolocation_lat",
         "rawType": "float64",
         "type": "float"
        },
        {
         "name": "geolocation_lng",
         "rawType": "float64",
         "type": "float"
        }
       ],
       "conversionMethod": "pd.DataFrame",
       "ref": "cb161a45-071d-4a38-adad-2f7c79b82e36",
       "rows": [
        [
         "0",
         "Low_risk",
         "A_X",
         "-22.900792318737054",
         "-43.18512600905903"
        ],
        [
         "1",
         "Avg_risg",
         "A_Single Purchase",
         "-23.530027831192616",
         "-46.61797165039588"
        ],
        [
         "2",
         "Low_risk",
         "A_Z",
         "-20.16172407166727",
         "-44.90162107855125"
        ],
        [
         "3",
         "Avg_risg",
         "A_Y",
         "-22.9226494320251",
         "-43.24366443678431"
        ],
        [
         "4",
         "Avg_risg",
         "A_Single Purchase",
         "-20.368738710847147",
         "-40.30788517695972"
        ],
        [
         "5",
         "Avg_risg",
         "A_Single Purchase",
         "-30.001172127177735",
         "-51.09688764050552"
        ],
        [
         "6",
         "Avg_risg",
         "A_Single Purchase",
         "-10.59343419559849",
         "-38.3840533984747"
        ],
        [
         "7",
         "Low_risk",
         "A_Single Purchase",
         "-23.579538631247527",
         "-46.644455855603105"
        ],
        [
         "8",
         "Avg_risg",
         "A_Single Purchase",
         "-13.678739773966848",
         "-57.89540839585879"
        ],
        [
         "9",
         "Low_risk",
         "A_X",
         "-26.23079979525913",
         "-51.08785333268114"
        ],
        [
         "10",
         "Avg_risg",
         "A_X",
         "-2.498450470716396",
         "-44.29693651901792"
        ],
        [
         "11",
         "Low_risk",
         "A_Single Purchase",
         "-23.52984385623886",
         "-46.49895036647107"
        ],
        [
         "12",
         "Low_risk",
         "A_X",
         "-25.439459436302418",
         "-49.35485179591294"
        ],
        [
         "13",
         "Low_risk",
         "A_Single Purchase",
         "-23.6964050602977",
         "-46.61736696432891"
        ],
        [
         "14",
         "Avg_risg",
         "A_Single Purchase",
         "-7.226873001139669",
         "-35.870334367110786"
        ],
        [
         "15",
         "Low_risk",
         "A_Z",
         "-22.965097551656015",
         "-43.3806326301091"
        ],
        [
         "16",
         "Avg_risg",
         "A_Single Purchase",
         "-27.63326939554436",
         "-51.33708003869207"
        ],
        [
         "17",
         "Avg_risg",
         "A_Single Purchase",
         "-17.804259022822208",
         "-50.893357478742914"
        ],
        [
         "18",
         "Low_risk",
         "A_Single Purchase",
         "-22.692247099592908",
         "-46.96568916593968"
        ],
        [
         "19",
         "Low_risk",
         "A_Single Purchase",
         "-23.964672338527112",
         "-46.34245770671684"
        ],
        [
         "20",
         "Avg_risg",
         "A_Single Purchase",
         "-12.935461721738884",
         "-38.339314882013824"
        ],
        [
         "21",
         "Low_risk",
         "A_Single Purchase",
         "-20.728888266924546",
         "-48.054106566240335"
        ],
        [
         "22",
         "Avg_risg",
         "A_X",
         "-20.83006020141816",
         "-49.37779728038864"
        ],
        [
         "23",
         "Low_risk",
         "A_Single Purchase",
         "-16.706444663482248",
         "-49.24125729124828"
        ],
        [
         "24",
         "Avg_risg",
         "A_Single Purchase",
         "-20.44594207227437",
         "-48.014253812524124"
        ],
        [
         "25",
         "Avg_risg",
         "A_Y",
         "-14.138222555765957",
         "-47.51716603130353"
        ],
        [
         "26",
         "Avg_risg",
         "A_X",
         "-22.972261312334158",
         "-47.01069669868447"
        ],
        [
         "27",
         "Avg_risg",
         "A_Single Purchase",
         "-23.60138522607311",
         "-48.070897449928445"
        ],
        [
         "28",
         "Low_risk",
         "A_Y",
         "-28.848246022218653",
         "-51.89217320831845"
        ],
        [
         "29",
         "Low_risk",
         "A_Single Purchase",
         "-26.935415283430633",
         "-48.93779770062289"
        ],
        [
         "30",
         "Avg_risg",
         "A_Y",
         "-11.304524233573394",
         "-41.85561580261808"
        ],
        [
         "31",
         "Avg_risg",
         "A_Single Purchase",
         "-23.66678840660476",
         "-46.69072709683612"
        ],
        [
         "32",
         "Avg_risg",
         "A_Single Purchase",
         "-23.635033264109847",
         "-46.7724611366252"
        ],
        [
         "33",
         "Low_risk",
         "A_Single Purchase",
         "-30.00408465659846",
         "-51.19659672324055"
        ],
        [
         "34",
         "Avg_risg",
         "A_Single Purchase",
         "-23.51830372024234",
         "-46.20628935255862"
        ],
        [
         "35",
         "Avg_risg",
         "A_Single Purchase",
         "-22.67125872312501",
         "-43.59330586269565"
        ],
        [
         "36",
         "Avg_risg",
         "A_Single Purchase",
         "-22.894126819307587",
         "-43.12056216040356"
        ],
        [
         "37",
         "Avg_risg",
         "A_Single Purchase",
         "-3.714162719231505",
         "-38.55314425947683"
        ],
        [
         "38",
         "Low_risk",
         "A_Single Purchase",
         "-23.60666727438888",
         "-46.512616041984224"
        ],
        [
         "39",
         "Low_risk",
         "A_Z",
         "-16.72320651070669",
         "-43.872060099028126"
        ],
        [
         "40",
         "Low_risk",
         "A_Single Purchase",
         "-24.80391308667147",
         "-49.990584357818015"
        ],
        [
         "41",
         "Avg_risg",
         "A_Single Purchase",
         "-23.489960832404012",
         "-46.62731637840902"
        ],
        [
         "42",
         "Avg_risg",
         "A_Single Purchase",
         "-25.293583312771926",
         "-49.22213126169521"
        ],
        [
         "43",
         "Low_risk",
         "A_Single Purchase",
         "-19.65549229199747",
         "-43.23414338910416"
        ],
        [
         "44",
         "Avg_risg",
         "A_Single Purchase",
         "-23.003300817630926",
         "-43.34319458062894"
        ],
        [
         "45",
         "Avg_risg",
         "A_Single Purchase",
         "-23.53949242192743",
         "-46.66185684497762"
        ],
        [
         "46",
         "Low_risk",
         "A_X",
         "-20.139932552117877",
         "-44.88434651161509"
        ],
        [
         "47",
         "Avg_risg",
         "A_Single Purchase",
         "-22.917159804510817",
         "-43.40406768150765"
        ],
        [
         "48",
         "Avg_risg",
         "A_Single Purchase",
         "-20.738115554770385",
         "-48.908679701753194"
        ],
        [
         "49",
         "Low_risk",
         "A_Single Purchase",
         "-15.641102765360863",
         "-56.147247721160014"
        ]
       ],
       "shape": {
        "columns": 4,
        "rows": 91465
       }
      },
      "text/html": [
       "<div>\n",
       "<style scoped>\n",
       "    .dataframe tbody tr th:only-of-type {\n",
       "        vertical-align: middle;\n",
       "    }\n",
       "\n",
       "    .dataframe tbody tr th {\n",
       "        vertical-align: top;\n",
       "    }\n",
       "\n",
       "    .dataframe thead th {\n",
       "        text-align: right;\n",
       "    }\n",
       "</style>\n",
       "<table border=\"1\" class=\"dataframe\">\n",
       "  <thead>\n",
       "    <tr style=\"text-align: right;\">\n",
       "      <th></th>\n",
       "      <th>Churn_Risk</th>\n",
       "      <th>segment</th>\n",
       "      <th>geolocation_lat</th>\n",
       "      <th>geolocation_lng</th>\n",
       "    </tr>\n",
       "  </thead>\n",
       "  <tbody>\n",
       "    <tr>\n",
       "      <th>0</th>\n",
       "      <td>Low_risk</td>\n",
       "      <td>A_X</td>\n",
       "      <td>-22.900792</td>\n",
       "      <td>-43.185126</td>\n",
       "    </tr>\n",
       "    <tr>\n",
       "      <th>1</th>\n",
       "      <td>Avg_risg</td>\n",
       "      <td>A_Single Purchase</td>\n",
       "      <td>-23.530028</td>\n",
       "      <td>-46.617972</td>\n",
       "    </tr>\n",
       "    <tr>\n",
       "      <th>2</th>\n",
       "      <td>Low_risk</td>\n",
       "      <td>A_Z</td>\n",
       "      <td>-20.161724</td>\n",
       "      <td>-44.901621</td>\n",
       "    </tr>\n",
       "    <tr>\n",
       "      <th>3</th>\n",
       "      <td>Avg_risg</td>\n",
       "      <td>A_Y</td>\n",
       "      <td>-22.922649</td>\n",
       "      <td>-43.243664</td>\n",
       "    </tr>\n",
       "    <tr>\n",
       "      <th>4</th>\n",
       "      <td>Avg_risg</td>\n",
       "      <td>A_Single Purchase</td>\n",
       "      <td>-20.368739</td>\n",
       "      <td>-40.307885</td>\n",
       "    </tr>\n",
       "    <tr>\n",
       "      <th>...</th>\n",
       "      <td>...</td>\n",
       "      <td>...</td>\n",
       "      <td>...</td>\n",
       "      <td>...</td>\n",
       "    </tr>\n",
       "    <tr>\n",
       "      <th>91460</th>\n",
       "      <td>Avg_risg</td>\n",
       "      <td>C_X</td>\n",
       "      <td>-23.569459</td>\n",
       "      <td>-46.534603</td>\n",
       "    </tr>\n",
       "    <tr>\n",
       "      <th>91461</th>\n",
       "      <td>Avg_risg</td>\n",
       "      <td>C_Y</td>\n",
       "      <td>-23.462144</td>\n",
       "      <td>-46.603462</td>\n",
       "    </tr>\n",
       "    <tr>\n",
       "      <th>91462</th>\n",
       "      <td>High_risk</td>\n",
       "      <td>C_Y</td>\n",
       "      <td>-23.619004</td>\n",
       "      <td>-46.640370</td>\n",
       "    </tr>\n",
       "    <tr>\n",
       "      <th>91463</th>\n",
       "      <td>Avg_risg</td>\n",
       "      <td>C_Single Purchase</td>\n",
       "      <td>-23.725302</td>\n",
       "      <td>-46.678971</td>\n",
       "    </tr>\n",
       "    <tr>\n",
       "      <th>91464</th>\n",
       "      <td>High_risk</td>\n",
       "      <td>C_Single Purchase</td>\n",
       "      <td>-22.768996</td>\n",
       "      <td>-47.150800</td>\n",
       "    </tr>\n",
       "  </tbody>\n",
       "</table>\n",
       "<p>91465 rows × 4 columns</p>\n",
       "</div>"
      ],
      "text/plain": [
       "      Churn_Risk            segment  geolocation_lat  geolocation_lng\n",
       "0       Low_risk                A_X       -22.900792       -43.185126\n",
       "1       Avg_risg  A_Single Purchase       -23.530028       -46.617972\n",
       "2       Low_risk                A_Z       -20.161724       -44.901621\n",
       "3       Avg_risg                A_Y       -22.922649       -43.243664\n",
       "4       Avg_risg  A_Single Purchase       -20.368739       -40.307885\n",
       "...          ...                ...              ...              ...\n",
       "91460   Avg_risg                C_X       -23.569459       -46.534603\n",
       "91461   Avg_risg                C_Y       -23.462144       -46.603462\n",
       "91462  High_risk                C_Y       -23.619004       -46.640370\n",
       "91463   Avg_risg  C_Single Purchase       -23.725302       -46.678971\n",
       "91464  High_risk  C_Single Purchase       -22.768996       -47.150800\n",
       "\n",
       "[91465 rows x 4 columns]"
      ]
     },
     "execution_count": 109,
     "metadata": {},
     "output_type": "execute_result"
    }
   ],
   "source": [
    "result"
   ]
  },
  {
   "cell_type": "code",
   "execution_count": null,
   "id": "dfd837e3",
   "metadata": {},
   "outputs": [],
   "source": []
  }
 ],
 "metadata": {
  "kernelspec": {
   "display_name": "dlenv",
   "language": "python",
   "name": "python3"
  },
  "language_info": {
   "codemirror_mode": {
    "name": "ipython",
    "version": 3
   },
   "file_extension": ".py",
   "mimetype": "text/x-python",
   "name": "python",
   "nbconvert_exporter": "python",
   "pygments_lexer": "ipython3",
   "version": "3.11.11"
  }
 },
 "nbformat": 4,
 "nbformat_minor": 5
}
