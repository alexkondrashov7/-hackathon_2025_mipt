{
 "cells": [
  {
   "cell_type": "code",
   "execution_count": 1,
   "id": "2cb376b8",
   "metadata": {},
   "outputs": [],
   "source": [
    "import numpy as np\n",
    "import pandas as pd\n",
    "\n",
    "import matplotlib.pyplot as plt \n",
    "import seaborn as sns\n",
    "\n",
    "from sklearn.model_selection import train_test_split\n",
    "from sklearn.preprocessing import StandardScaler, OneHotEncoder, LabelEncoder\n",
    "from sklearn.metrics import accuracy_score\n",
    "from sklearn.metrics import confusion_matrix\n",
    "from sklearn.ensemble import RandomForestClassifier\n",
    "\n",
    "import torch\n",
    "import torch.nn as nn\n",
    "import torch.optim as optim\n",
    "from torch.utils.data import DataLoader, TensorDataset\n",
    "\n",
    "import warnings\n",
    "warnings.filterwarnings(\"ignore\")   "
   ]
  },
  {
   "cell_type": "markdown",
   "id": "f098be67",
   "metadata": {},
   "source": [
    "---\n",
    "### Произведем объединение первичных данных"
   ]
  },
  {
   "cell_type": "code",
   "execution_count": 2,
   "id": "74a3a795",
   "metadata": {},
   "outputs": [],
   "source": [
    "# Загрузка данных\n",
    "def load_data():\n",
    "    customers = pd.read_csv(\"./clean_data/customers.csv\")\n",
    "    geolocation = pd.read_csv(\"./clean_data/geolocation.csv\")\n",
    "    order_pay = pd.read_csv(\"./clean_data/order_payments.csv\")\n",
    "    reviews = pd.read_csv(\"./clean_data/order_reviews.csv\")\n",
    "    orders = pd.read_csv(\"./clean_data/orders.csv\")\n",
    "    item = pd.read_csv(\"./clean_data/orders_items.csv\")\n",
    "    category_name = pd.read_csv(\n",
    "        \"./clean_data/product_category_name_translation.csv\")\n",
    "    products = pd.read_csv(\"./clean_data/products.csv\")\n",
    "    sellers = pd.read_csv(\"./clean_data/sellers.csv\")\n",
    "    return customers, geolocation, order_pay, reviews, orders, item, category_name, products, sellers\n"
   ]
  },
  {
   "cell_type": "code",
   "execution_count": 3,
   "id": "6c130fbf",
   "metadata": {},
   "outputs": [],
   "source": [
    "# Объединение данных\n",
    "def merge_data(orders, item, order_pay, reviews, products, customers, sellers, category_name):\n",
    "    df = orders.merge(item, on='order_id', how='left')\n",
    "    df = df.merge(order_pay, on='order_id', how='outer', validate='m:m')\n",
    "    df = df.merge(reviews, on='order_id', how='outer')\n",
    "    df = df.merge(products, on='product_id', how='outer')\n",
    "    df = df.merge(customers, on='customer_id', how='outer')\n",
    "    df = df.merge(sellers, on='seller_id', how='outer')\n",
    "    df = df.merge(category_name, on=\"product_category_name\", how=\"left\")\n",
    "    return df"
   ]
  },
  {
   "cell_type": "code",
   "execution_count": 4,
   "id": "86e27317",
   "metadata": {},
   "outputs": [],
   "source": [
    "# Очистка данных: удаление строк без customer_unique_id\n",
    "def filter_customers(df):\n",
    "    return df[~df[\"customer_unique_id\"].isna()]"
   ]
  },
  {
   "cell_type": "code",
   "execution_count": 5,
   "id": "390dfe71",
   "metadata": {},
   "outputs": [],
   "source": [
    "# Главная функция пайплайна\n",
    "def main_pipeline():\n",
    "    # Шаг 1: Загрузка данных\n",
    "    customers, geolocation, order_pay, reviews, orders, item, category_name, products, sellers = load_data()\n",
    "\n",
    "    # Шаг 2: Объединение данных\n",
    "    df = merge_data(orders, item, order_pay, reviews, products,\n",
    "                    customers, sellers, category_name)\n",
    "\n",
    "    # Шаг 3: Фильтрация данных\n",
    "    df = filter_customers(df)\n",
    "\n",
    "    final_data = df\n",
    "\n",
    "    return final_data"
   ]
  },
  {
   "cell_type": "code",
   "execution_count": 6,
   "id": "07ce2eb1",
   "metadata": {},
   "outputs": [],
   "source": [
    "data = main_pipeline()"
   ]
  },
  {
   "cell_type": "code",
   "execution_count": 7,
   "id": "8471d88a",
   "metadata": {},
   "outputs": [
    {
     "data": {
      "application/vnd.microsoft.datawrangler.viewer.v0+json": {
       "columns": [
        {
         "name": "index",
         "rawType": "int64",
         "type": "integer"
        },
        {
         "name": "order_id",
         "rawType": "object",
         "type": "unknown"
        },
        {
         "name": "customer_id",
         "rawType": "object",
         "type": "string"
        },
        {
         "name": "order_status",
         "rawType": "object",
         "type": "unknown"
        },
        {
         "name": "order_purchase_timestamp",
         "rawType": "object",
         "type": "unknown"
        },
        {
         "name": "order_approved_at",
         "rawType": "object",
         "type": "unknown"
        },
        {
         "name": "order_delivered_carrier_date",
         "rawType": "object",
         "type": "unknown"
        },
        {
         "name": "order_delivered_customer_date",
         "rawType": "object",
         "type": "unknown"
        },
        {
         "name": "order_estimated_delivery_date",
         "rawType": "object",
         "type": "unknown"
        },
        {
         "name": "order_item_id",
         "rawType": "float64",
         "type": "float"
        },
        {
         "name": "product_id",
         "rawType": "object",
         "type": "unknown"
        },
        {
         "name": "seller_id",
         "rawType": "object",
         "type": "unknown"
        },
        {
         "name": "shipping_limit_date",
         "rawType": "object",
         "type": "unknown"
        },
        {
         "name": "price",
         "rawType": "float64",
         "type": "float"
        },
        {
         "name": "freight_value",
         "rawType": "float64",
         "type": "float"
        },
        {
         "name": "payment_sequential",
         "rawType": "float64",
         "type": "float"
        },
        {
         "name": "payment_type",
         "rawType": "object",
         "type": "unknown"
        },
        {
         "name": "payment_installments",
         "rawType": "float64",
         "type": "float"
        },
        {
         "name": "payment_value",
         "rawType": "float64",
         "type": "float"
        },
        {
         "name": "review_id",
         "rawType": "object",
         "type": "unknown"
        },
        {
         "name": "review_score",
         "rawType": "float64",
         "type": "float"
        },
        {
         "name": "review_creation_date",
         "rawType": "object",
         "type": "unknown"
        },
        {
         "name": "review_answer_timestamp",
         "rawType": "object",
         "type": "unknown"
        },
        {
         "name": "product_category_name",
         "rawType": "object",
         "type": "unknown"
        },
        {
         "name": "product_name_lenght",
         "rawType": "float64",
         "type": "float"
        },
        {
         "name": "product_description_lenght",
         "rawType": "float64",
         "type": "float"
        },
        {
         "name": "product_photos_qty",
         "rawType": "float64",
         "type": "float"
        },
        {
         "name": "product_weight_g",
         "rawType": "float64",
         "type": "float"
        },
        {
         "name": "product_length_cm",
         "rawType": "float64",
         "type": "float"
        },
        {
         "name": "product_height_cm",
         "rawType": "float64",
         "type": "float"
        },
        {
         "name": "product_width_cm",
         "rawType": "float64",
         "type": "float"
        },
        {
         "name": "customer_unique_id",
         "rawType": "object",
         "type": "string"
        },
        {
         "name": "customer_zip_code_prefix",
         "rawType": "float64",
         "type": "float"
        },
        {
         "name": "customer_city",
         "rawType": "object",
         "type": "string"
        },
        {
         "name": "customer_state",
         "rawType": "object",
         "type": "string"
        },
        {
         "name": "seller_zip_code_prefix",
         "rawType": "float64",
         "type": "float"
        },
        {
         "name": "seller_city",
         "rawType": "object",
         "type": "unknown"
        },
        {
         "name": "seller_state",
         "rawType": "object",
         "type": "unknown"
        },
        {
         "name": "product_category_name_english",
         "rawType": "object",
         "type": "unknown"
        }
       ],
       "conversionMethod": "pd.DataFrame",
       "ref": "230641d4-8ba4-4e98-8ce4-89af61d50c93",
       "rows": [
        [
         "0",
         "d455a8cb295653b55abda06d434ab492",
         "944b72539d7e1f7f7fc6e46639ef1fe3",
         "delivered",
         "2017-09-26 22:17:05",
         "2017-09-27 22:24:16",
         "2017-09-29 15:53:03",
         "2017-10-07 16:12:47",
         "2017-10-30 00:00:00",
         "1.0",
         "a2ff5a97bf95719e38ea2e3b4105bce8",
         "0015a82c2db000af6aaaf3ae2ecb0532",
         "2017-10-12 22:24:16",
         "895.0",
         "21.02",
         "1.0",
         "credit_card",
         "10.0",
         "916.02",
         "f6923b4d17e0f4e87b38cb26c758d3c6",
         "5.0",
         "2017-10-08 00:00:00",
         "2017-10-11 21:42:45",
         "eletroportateis",
         "40.0",
         "849.0",
         "2.0",
         "11800.0",
         "40.0",
         "43.0",
         "36.0",
         "3c7e305796add66698959fc7ad176f6b",
         "87502.0",
         "umuarama",
         "PR",
         "9080.0",
         "santo andre",
         "SP",
         "small_appliances"
        ],
        [
         "1",
         "7f39ba4c9052be115350065d07583cac",
         "d7fc82cbeafea77bd0a8fbbf6296e387",
         "delivered",
         "2017-10-18 08:16:34",
         "2017-10-18 23:56:20",
         "2017-10-20 14:29:01",
         "2017-10-27 16:46:05",
         "2017-11-09 00:00:00",
         "1.0",
         "a2ff5a97bf95719e38ea2e3b4105bce8",
         "0015a82c2db000af6aaaf3ae2ecb0532",
         "2017-10-24 23:56:20",
         "895.0",
         "21.02",
         "1.0",
         "credit_card",
         "8.0",
         "916.02",
         "2abb25fde5aafe9bc85d031dffb2f4ac",
         "1.0",
         "2017-10-28 00:00:00",
         "2017-10-28 14:32:42",
         "eletroportateis",
         "40.0",
         "849.0",
         "2.0",
         "11800.0",
         "40.0",
         "43.0",
         "36.0",
         "9de5797cddb92598755a0f76383ddbbb",
         "35490.0",
         "entre rios de minas",
         "MG",
         "9080.0",
         "santo andre",
         "SP",
         "small_appliances"
        ],
        [
         "2",
         "9dc8d1a6f16f1b89874c29c9d8d30447",
         "d9442164acf4b03109425633efaa0cfc",
         "delivered",
         "2017-10-12 13:33:22",
         "2017-10-12 13:49:22",
         "2017-10-17 15:42:42",
         "2017-10-24 20:17:44",
         "2017-11-06 00:00:00",
         "1.0",
         "a2ff5a97bf95719e38ea2e3b4105bce8",
         "0015a82c2db000af6aaaf3ae2ecb0532",
         "2017-10-18 14:49:22",
         "895.0",
         "21.02",
         "1.0",
         "credit_card",
         "4.0",
         "916.02",
         "799c3e3362ac0d09cfa1b39b51647490",
         "5.0",
         "2017-10-25 00:00:00",
         "2017-10-25 23:15:15",
         "eletroportateis",
         "40.0",
         "849.0",
         "2.0",
         "11800.0",
         "40.0",
         "43.0",
         "36.0",
         "9915eb9f74b6c11aaf04833f65b00e93",
         "38600.0",
         "paracatu",
         "MG",
         "9080.0",
         "santo andre",
         "SP",
         "small_appliances"
        ],
        [
         "3",
         "0f548bd29148ebc519d6495e37a284e1",
         "015faf9ec36eccd957c0f2782aab09a4",
         "delivered",
         "2017-09-03 08:06:30",
         "2017-09-03 08:25:50",
         "2017-09-04 22:03:06",
         "2017-09-08 16:26:55",
         "2017-09-27 00:00:00",
         "1.0",
         "08574b074924071f4e201e151b152b4e",
         "001cca7ae9ae17fb1caed9dfb1094831",
         "2017-09-08 08:25:50",
         "99.0",
         "33.08",
         "1.0",
         "credit_card",
         "2.0",
         "264.16",
         "f402ea966112bd28646760b72d7f677f",
         "5.0",
         "2017-09-09 00:00:00",
         "2017-09-09 20:51:47",
         "ferramentas_jardim",
         "36.0",
         "450.0",
         "1.0",
         "9000.0",
         "42.0",
         "12.0",
         "39.0",
         "dce323533e45e74d215e0fe7fb114118",
         "24710.0",
         "sao goncalo",
         "RJ",
         "29156.0",
         "cariacica",
         "ES",
         "garden_tools"
        ],
        [
         "4",
         "0f548bd29148ebc519d6495e37a284e1",
         "015faf9ec36eccd957c0f2782aab09a4",
         "delivered",
         "2017-09-03 08:06:30",
         "2017-09-03 08:25:50",
         "2017-09-04 22:03:06",
         "2017-09-08 16:26:55",
         "2017-09-27 00:00:00",
         "2.0",
         "08574b074924071f4e201e151b152b4e",
         "001cca7ae9ae17fb1caed9dfb1094831",
         "2017-09-08 08:25:50",
         "99.0",
         "33.08",
         "1.0",
         "credit_card",
         "2.0",
         "264.16",
         "f402ea966112bd28646760b72d7f677f",
         "5.0",
         "2017-09-09 00:00:00",
         "2017-09-09 20:51:47",
         "ferramentas_jardim",
         "36.0",
         "450.0",
         "1.0",
         "9000.0",
         "42.0",
         "12.0",
         "39.0",
         "dce323533e45e74d215e0fe7fb114118",
         "24710.0",
         "sao goncalo",
         "RJ",
         "29156.0",
         "cariacica",
         "ES",
         "garden_tools"
        ],
        [
         "5",
         "4dcbd5ebfc13eef35e0fcb0ca1c2807e",
         "033be315f82e41697260be39939d3662",
         "delivered",
         "2017-10-22 16:39:09",
         "2017-10-23 17:49:12",
         "2017-10-24 21:03:32",
         "2017-11-08 18:28:44",
         "2017-11-16 00:00:00",
         "1.0",
         "08574b074924071f4e201e151b152b4e",
         "001cca7ae9ae17fb1caed9dfb1094831",
         "2017-10-27 17:49:12",
         "99.0",
         "33.08",
         "1.0",
         "credit_card",
         "4.0",
         "132.08",
         "7ce43134cd68a0f9c3ac301eedb46fd6",
         "1.0",
         "2017-11-09 00:00:00",
         "2017-11-14 18:39:14",
         "ferramentas_jardim",
         "36.0",
         "450.0",
         "1.0",
         "9000.0",
         "42.0",
         "12.0",
         "39.0",
         "acfca8c3549ceceba9e125afc0349610",
         "81530.0",
         "curitiba",
         "PR",
         "29156.0",
         "cariacica",
         "ES",
         "garden_tools"
        ],
        [
         "6",
         "99a50db34d17b1f845a8ea04de3e747d",
         "075b39e18f6c41df500a6ae613a735da",
         "delivered",
         "2017-10-09 08:16:17",
         "2017-10-09 08:28:19",
         "2017-10-16 18:35:57",
         "2017-10-24 13:32:58",
         "2017-11-09 00:00:00",
         "1.0",
         "08574b074924071f4e201e151b152b4e",
         "001cca7ae9ae17fb1caed9dfb1094831",
         "2017-10-16 09:28:19",
         "99.0",
         "45.99",
         "1.0",
         "credit_card",
         "2.0",
         "144.99",
         "6aba9ce93d9c63f8ff5386dd09b9d51f",
         "5.0",
         "2017-10-25 00:00:00",
         "2017-11-11 00:11:52",
         "ferramentas_jardim",
         "36.0",
         "450.0",
         "1.0",
         "9000.0",
         "42.0",
         "12.0",
         "39.0",
         "6d30fb7a44f6405e3df4ec6a5a1c787c",
         "44670.0",
         "anguera",
         "BA",
         "29156.0",
         "cariacica",
         "ES",
         "garden_tools"
        ],
        [
         "7",
         "48ac23662de1f4a94e29e7f3452a85d9",
         "093c2d35fa85b871eb936417a82a1ad2",
         "delivered",
         "2017-08-11 14:16:43",
         "2017-08-11 14:30:16",
         "2017-08-14 17:23:56",
         "2017-08-26 15:27:28",
         "2017-09-06 00:00:00",
         "1.0",
         "0da9ffd92214425d880de3f94e74ce39",
         "001cca7ae9ae17fb1caed9dfb1094831",
         "2017-08-17 14:30:16",
         "112.0",
         "46.08",
         "1.0",
         "credit_card",
         "4.0",
         "158.08",
         "a2519ba49564fd4c92c7c4c8d414ea83",
         "4.0",
         "2017-08-27 00:00:00",
         "2017-08-27 23:57:48",
         "construcao_ferramentas_construcao",
         "33.0",
         "449.0",
         "3.0",
         "10900.0",
         "39.0",
         "12.0",
         "42.0",
         "fd65dc867fc1c42c8421fae7fb4eba67",
         "44024.0",
         "feira de santana",
         "BA",
         "29156.0",
         "cariacica",
         "ES",
         "construction_tools_construction"
        ],
        [
         "8",
         "bb13fa2703eaccdcb1e263eab3be6de4",
         "0c3dfc99f2187c03f0e115be04ab0d72",
         "delivered",
         "2017-09-10 20:19:02",
         "2017-09-10 20:30:23",
         "2017-09-12 22:14:58",
         "2017-09-22 17:42:05",
         "2017-09-28 00:00:00",
         "1.0",
         "e251ebd2858be1aa7d9b2087a6992580",
         "001cca7ae9ae17fb1caed9dfb1094831",
         "2017-09-14 20:30:23",
         "129.0",
         "36.98",
         "1.0",
         "credit_card",
         "2.0",
         "165.98",
         "66cd38b97623c3c4123770d8cf1b748f",
         "3.0",
         "2017-09-23 00:00:00",
         "2017-09-25 22:45:42",
         "ferramentas_jardim",
         "34.0",
         "511.0",
         "4.0",
         "8875.0",
         "40.0",
         "14.0",
         "43.0",
         "eb69ead1e0da68c941a67677f6a39f3b",
         "6162.0",
         "osasco",
         "SP",
         "29156.0",
         "cariacica",
         "ES",
         "garden_tools"
        ],
        [
         "9",
         "dfeb385531b47a17e24ab43992ebf15e",
         "0d9c4b5c91997a61af84d12d72e91fc7",
         "delivered",
         "2018-07-12 21:38:26",
         "2018-07-12 21:50:17",
         "2018-07-13 13:32:00",
         "2018-07-20 17:28:28",
         "2018-08-03 00:00:00",
         "1.0",
         "d32f22e03fb01595aa10383f4364d303",
         "001cca7ae9ae17fb1caed9dfb1094831",
         "2018-07-19 21:50:17",
         "129.9",
         "36.14",
         "1.0",
         "credit_card",
         "8.0",
         "166.04",
         "6f21984d8feb3af2707c80918eeead2a",
         "5.0",
         "2018-07-21 00:00:00",
         "2018-07-23 20:36:11",
         "construcao_ferramentas_construcao",
         "39.0",
         "452.0",
         "4.0",
         "8650.0",
         "43.0",
         "13.0",
         "40.0",
         "dd47740f3c285d15d8c9c72fc204e78a",
         "31035.0",
         "belo horizonte",
         "MG",
         "29156.0",
         "cariacica",
         "ES",
         "construction_tools_construction"
        ],
        [
         "10",
         "a2e6b3c462fbefc8709b2eb5f51f809b",
         "0e1c72b69b4c8f473de3b34712a15a76",
         "delivered",
         "2017-07-05 13:27:40",
         "2017-07-06 03:24:07",
         "2017-07-06 15:40:01",
         "2017-07-13 17:38:00",
         "2017-08-02 00:00:00",
         "1.0",
         "0da9ffd92214425d880de3f94e74ce39",
         "001cca7ae9ae17fb1caed9dfb1094831",
         "2017-07-12 03:24:07",
         "99.99",
         "56.93",
         "1.0",
         "boleto",
         "1.0",
         "156.92",
         "b3fde621a8029ccfa9f76aec3c8cfb75",
         "5.0",
         "2017-07-14 00:00:00",
         "2017-07-19 01:25:23",
         "construcao_ferramentas_construcao",
         "33.0",
         "449.0",
         "3.0",
         "10900.0",
         "39.0",
         "12.0",
         "42.0",
         "862b2b94a70e91cb0e9f1224d736992d",
         "84172.0",
         "castro",
         "PR",
         "29156.0",
         "cariacica",
         "ES",
         "construction_tools_construction"
        ],
        [
         "11",
         "e39e5c5582fe3b14f62bfdf4f721b40f",
         "0f0f0708cb128767fa11e1b6daefe426",
         "delivered",
         "2017-12-27 23:09:37",
         "2017-12-29 02:09:49",
         "2018-01-02 17:42:01",
         "2018-01-09 20:44:05",
         "2018-01-30 00:00:00",
         "1.0",
         "08574b074924071f4e201e151b152b4e",
         "001cca7ae9ae17fb1caed9dfb1094831",
         "2018-01-05 02:09:49",
         "99.0",
         "45.99",
         "1.0",
         "boleto",
         "1.0",
         "144.99",
         "e31e32f2fcb5613e95a68f86cf4ddc25",
         "5.0",
         "2018-01-10 00:00:00",
         "2018-01-11 03:08:56",
         "ferramentas_jardim",
         "36.0",
         "450.0",
         "1.0",
         "9000.0",
         "42.0",
         "12.0",
         "39.0",
         "2ac356d0dbef7022ef6e7d96151744f0",
         "48904.0",
         "juazeiro",
         "BA",
         "29156.0",
         "cariacica",
         "ES",
         "garden_tools"
        ],
        [
         "12",
         "b2c450c7534eb01ae390b7c5668ac39f",
         "0f887db1a0da167d1b7c85c3ec5d1f5e",
         "delivered",
         "2017-05-05 22:12:04",
         "2017-05-06 22:15:17",
         "2017-05-09 16:27:54",
         "2017-05-17 09:44:30",
         "2017-06-05 00:00:00",
         "1.0",
         "08574b074924071f4e201e151b152b4e",
         "001cca7ae9ae17fb1caed9dfb1094831",
         "2017-05-10 22:15:17",
         "99.0",
         "39.79",
         "1.0",
         "credit_card",
         "8.0",
         "138.79",
         "a79a5da11cdf1992da9768376c285232",
         "3.0",
         "2017-05-18 00:00:00",
         "2017-05-21 20:19:57",
         "ferramentas_jardim",
         "36.0",
         "450.0",
         "1.0",
         "9000.0",
         "42.0",
         "12.0",
         "39.0",
         "581f517c9afcdcc8d3a9d827f83e51a2",
         "89560.0",
         "videira",
         "SC",
         "29156.0",
         "cariacica",
         "ES",
         "garden_tools"
        ],
        [
         "13",
         "226e16e7eb6dcefe180d80127468de8b",
         "1063de5cc98f570e53eccb32723746e2",
         "delivered",
         "2017-12-06 16:52:25",
         "2017-12-06 17:13:09",
         "2017-12-07 19:41:35",
         "2017-12-28 21:48:58",
         "2018-01-08 00:00:00",
         "1.0",
         "08574b074924071f4e201e151b152b4e",
         "001cca7ae9ae17fb1caed9dfb1094831",
         "2017-12-12 17:13:09",
         "99.0",
         "45.99",
         "1.0",
         "credit_card",
         "1.0",
         "289.98",
         "dd97474b0558bc5b1277bad2c0fcd68e",
         "5.0",
         "2017-12-29 00:00:00",
         "2017-12-30 00:30:37",
         "ferramentas_jardim",
         "36.0",
         "450.0",
         "1.0",
         "9000.0",
         "42.0",
         "12.0",
         "39.0",
         "20ae7f5cb408302fe02d95d78c8d4f01",
         "89700.0",
         "concordia",
         "SC",
         "29156.0",
         "cariacica",
         "ES",
         "garden_tools"
        ],
        [
         "14",
         "226e16e7eb6dcefe180d80127468de8b",
         "1063de5cc98f570e53eccb32723746e2",
         "delivered",
         "2017-12-06 16:52:25",
         "2017-12-06 17:13:09",
         "2017-12-07 19:41:35",
         "2017-12-28 21:48:58",
         "2018-01-08 00:00:00",
         "2.0",
         "08574b074924071f4e201e151b152b4e",
         "001cca7ae9ae17fb1caed9dfb1094831",
         "2017-12-12 17:13:09",
         "99.0",
         "45.99",
         "1.0",
         "credit_card",
         "1.0",
         "289.98",
         "dd97474b0558bc5b1277bad2c0fcd68e",
         "5.0",
         "2017-12-29 00:00:00",
         "2017-12-30 00:30:37",
         "ferramentas_jardim",
         "36.0",
         "450.0",
         "1.0",
         "9000.0",
         "42.0",
         "12.0",
         "39.0",
         "20ae7f5cb408302fe02d95d78c8d4f01",
         "89700.0",
         "concordia",
         "SC",
         "29156.0",
         "cariacica",
         "ES",
         "garden_tools"
        ],
        [
         "15",
         "42aaabf39b810fa0a3390fe791dbb880",
         "11259004e69dac0f64c28698b2e702d3",
         "delivered",
         "2017-03-17 14:22:50",
         "2017-03-17 14:22:50",
         "2017-03-22 10:20:38",
         "2017-03-31 11:47:39",
         "2017-04-07 00:00:00",
         "1.0",
         "e251ebd2858be1aa7d9b2087a6992580",
         "001cca7ae9ae17fb1caed9dfb1094831",
         "2017-03-23 14:22:50",
         "139.9",
         "15.15",
         "1.0",
         "credit_card",
         "3.0",
         "310.1",
         "b74d391d225a284210db00929a8adb1c",
         "5.0",
         "2017-04-01 00:00:00",
         "2017-04-01 21:04:36",
         "ferramentas_jardim",
         "34.0",
         "511.0",
         "4.0",
         "8875.0",
         "40.0",
         "14.0",
         "43.0",
         "4ed16134a4f12d79e401be023468cbe1",
         "24936.0",
         "marica",
         "RJ",
         "29156.0",
         "cariacica",
         "ES",
         "garden_tools"
        ],
        [
         "16",
         "42aaabf39b810fa0a3390fe791dbb880",
         "11259004e69dac0f64c28698b2e702d3",
         "delivered",
         "2017-03-17 14:22:50",
         "2017-03-17 14:22:50",
         "2017-03-22 10:20:38",
         "2017-03-31 11:47:39",
         "2017-04-07 00:00:00",
         "2.0",
         "e251ebd2858be1aa7d9b2087a6992580",
         "001cca7ae9ae17fb1caed9dfb1094831",
         "2017-03-23 14:22:50",
         "139.9",
         "15.15",
         "1.0",
         "credit_card",
         "3.0",
         "310.1",
         "b74d391d225a284210db00929a8adb1c",
         "5.0",
         "2017-04-01 00:00:00",
         "2017-04-01 21:04:36",
         "ferramentas_jardim",
         "34.0",
         "511.0",
         "4.0",
         "8875.0",
         "40.0",
         "14.0",
         "43.0",
         "4ed16134a4f12d79e401be023468cbe1",
         "24936.0",
         "marica",
         "RJ",
         "29156.0",
         "cariacica",
         "ES",
         "garden_tools"
        ],
        [
         "17",
         "e0e79f987715dab211e5e31e5e9c95e8",
         "1130a7b0de3b712d1025595e41893015",
         "delivered",
         "2017-10-07 11:52:52",
         "2017-10-07 12:07:42",
         "2017-10-20 17:58:07",
         "2017-10-26 19:59:00",
         "2017-11-08 00:00:00",
         "1.0",
         "08574b074924071f4e201e151b152b4e",
         "001cca7ae9ae17fb1caed9dfb1094831",
         "2017-10-13 12:07:42",
         "99.0",
         "37.99",
         "1.0",
         "credit_card",
         "2.0",
         "136.99",
         "892a3abc52303bc6445f6e0ba87efd85",
         "4.0",
         "2017-10-27 00:00:00",
         "2017-10-27 15:29:08",
         "ferramentas_jardim",
         "36.0",
         "450.0",
         "1.0",
         "9000.0",
         "42.0",
         "12.0",
         "39.0",
         "be8b51073ad2413727c89e38b38e5818",
         "94920.0",
         "cachoeirinha",
         "RS",
         "29156.0",
         "cariacica",
         "ES",
         "garden_tools"
        ],
        [
         "18",
         "f585ab48a4d0027744dd2912cb42a2cb",
         "133d446a88638f9aa5aac7f8c5e5164b",
         "delivered",
         "2017-10-08 18:04:57",
         "2017-10-09 09:49:34",
         "2017-10-16 18:35:55",
         "2017-10-23 20:53:58",
         "2017-11-03 00:00:00",
         "1.0",
         "08574b074924071f4e201e151b152b4e",
         "001cca7ae9ae17fb1caed9dfb1094831",
         "2017-10-16 10:49:34",
         "99.0",
         "41.08",
         "1.0",
         "credit_card",
         "10.0",
         "280.16",
         "2f210df09863168e9f9372e43ce53528",
         "1.0",
         "2017-10-24 00:00:00",
         "2017-10-25 00:47:16",
         "ferramentas_jardim",
         "36.0",
         "450.0",
         "1.0",
         "9000.0",
         "42.0",
         "12.0",
         "39.0",
         "919b613e7aa171cb4ca017c049fbc5da",
         "13610.0",
         "leme",
         "SP",
         "29156.0",
         "cariacica",
         "ES",
         "garden_tools"
        ],
        [
         "19",
         "f585ab48a4d0027744dd2912cb42a2cb",
         "133d446a88638f9aa5aac7f8c5e5164b",
         "delivered",
         "2017-10-08 18:04:57",
         "2017-10-09 09:49:34",
         "2017-10-16 18:35:55",
         "2017-10-23 20:53:58",
         "2017-11-03 00:00:00",
         "2.0",
         "08574b074924071f4e201e151b152b4e",
         "001cca7ae9ae17fb1caed9dfb1094831",
         "2017-10-16 10:49:34",
         "99.0",
         "41.08",
         "1.0",
         "credit_card",
         "10.0",
         "280.16",
         "2f210df09863168e9f9372e43ce53528",
         "1.0",
         "2017-10-24 00:00:00",
         "2017-10-25 00:47:16",
         "ferramentas_jardim",
         "36.0",
         "450.0",
         "1.0",
         "9000.0",
         "42.0",
         "12.0",
         "39.0",
         "919b613e7aa171cb4ca017c049fbc5da",
         "13610.0",
         "leme",
         "SP",
         "29156.0",
         "cariacica",
         "ES",
         "garden_tools"
        ],
        [
         "20",
         "542a2c666cc61a67907e200c8cce4a78",
         "14adf05160841b9f4b22f189542c794d",
         "delivered",
         "2017-07-27 08:50:06",
         "2017-07-27 10:22:46",
         "2017-07-28 19:52:39",
         "2017-08-02 19:46:12",
         "2017-08-22 00:00:00",
         "1.0",
         "08574b074924071f4e201e151b152b4e",
         "001cca7ae9ae17fb1caed9dfb1094831",
         "2017-08-02 10:22:46",
         "89.0",
         "37.92",
         "1.0",
         "credit_card",
         "6.0",
         "126.92",
         "21119103316ddb08d0bf59fefdd60ba5",
         "5.0",
         "2017-08-03 00:00:00",
         "2017-08-04 00:10:57",
         "ferramentas_jardim",
         "36.0",
         "450.0",
         "1.0",
         "9000.0",
         "42.0",
         "12.0",
         "39.0",
         "ec480617d171ec40842fd13cf45dcf6f",
         "4186.0",
         "sao paulo",
         "SP",
         "29156.0",
         "cariacica",
         "ES",
         "garden_tools"
        ],
        [
         "21",
         "0aed18a03ea2ccdb5981aea3524b304d",
         "186d5e15485ff2afa04f02bd00aee4a4",
         "delivered",
         "2017-09-08 12:16:48",
         "2017-09-12 04:55:21",
         "2017-09-13 22:23:41",
         "2017-09-23 01:23:34",
         "2017-10-03 00:00:00",
         "2.0",
         "08574b074924071f4e201e151b152b4e",
         "001cca7ae9ae17fb1caed9dfb1094831",
         "2017-09-18 04:55:21",
         "99.0",
         "52.71",
         "1.0",
         "boleto",
         "1.0",
         "313.43",
         "b1b8ed5013ee80279488d05cd327e154",
         "1.0",
         "2017-09-23 00:00:00",
         "2017-09-24 15:50:34",
         "ferramentas_jardim",
         "36.0",
         "450.0",
         "1.0",
         "9000.0",
         "42.0",
         "12.0",
         "39.0",
         "dc9108cdc59294eebe936e0971e6da63",
         "60865.0",
         "fortaleza",
         "CE",
         "29156.0",
         "cariacica",
         "ES",
         "garden_tools"
        ],
        [
         "22",
         "0aed18a03ea2ccdb5981aea3524b304d",
         "186d5e15485ff2afa04f02bd00aee4a4",
         "delivered",
         "2017-09-08 12:16:48",
         "2017-09-12 04:55:21",
         "2017-09-13 22:23:41",
         "2017-09-23 01:23:34",
         "2017-10-03 00:00:00",
         "1.0",
         "98a8c2fa16d7239c606640f5555768e4",
         "001cca7ae9ae17fb1caed9dfb1094831",
         "2017-09-18 04:55:21",
         "109.0",
         "52.72",
         "1.0",
         "boleto",
         "1.0",
         "313.43",
         "b1b8ed5013ee80279488d05cd327e154",
         "1.0",
         "2017-09-23 00:00:00",
         "2017-09-24 15:50:34",
         "ferramentas_jardim",
         "39.0",
         "500.0",
         "1.0",
         "8325.0",
         "43.0",
         "14.0",
         "33.0",
         "dc9108cdc59294eebe936e0971e6da63",
         "60865.0",
         "fortaleza",
         "CE",
         "29156.0",
         "cariacica",
         "ES",
         "garden_tools"
        ],
        [
         "23",
         "15816297ce3f82c12bdfacebb7f445b5",
         "191f7ac02aef8691dcf021de4eec473e",
         "delivered",
         "2017-07-28 21:51:44",
         "2017-07-29 14:55:20",
         "2017-07-31 17:47:59",
         "2017-08-03 19:56:47",
         "2017-08-23 00:00:00",
         "1.0",
         "08574b074924071f4e201e151b152b4e",
         "001cca7ae9ae17fb1caed9dfb1094831",
         "2017-08-03 14:55:20",
         "89.0",
         "37.92",
         "1.0",
         "credit_card",
         "2.0",
         "253.84",
         "93b942f0d3f3b90c097791c772735653",
         "5.0",
         "2017-08-04 00:00:00",
         "2017-08-05 02:15:22",
         "ferramentas_jardim",
         "36.0",
         "450.0",
         "1.0",
         "9000.0",
         "42.0",
         "12.0",
         "39.0",
         "2eb631a7476babac8aac18cfd99bb7d1",
         "9185.0",
         "santo andre",
         "SP",
         "29156.0",
         "cariacica",
         "ES",
         "garden_tools"
        ],
        [
         "24",
         "15816297ce3f82c12bdfacebb7f445b5",
         "191f7ac02aef8691dcf021de4eec473e",
         "delivered",
         "2017-07-28 21:51:44",
         "2017-07-29 14:55:20",
         "2017-07-31 17:47:59",
         "2017-08-03 19:56:47",
         "2017-08-23 00:00:00",
         "2.0",
         "08574b074924071f4e201e151b152b4e",
         "001cca7ae9ae17fb1caed9dfb1094831",
         "2017-08-03 14:55:20",
         "89.0",
         "37.92",
         "1.0",
         "credit_card",
         "2.0",
         "253.84",
         "93b942f0d3f3b90c097791c772735653",
         "5.0",
         "2017-08-04 00:00:00",
         "2017-08-05 02:15:22",
         "ferramentas_jardim",
         "36.0",
         "450.0",
         "1.0",
         "9000.0",
         "42.0",
         "12.0",
         "39.0",
         "2eb631a7476babac8aac18cfd99bb7d1",
         "9185.0",
         "santo andre",
         "SP",
         "29156.0",
         "cariacica",
         "ES",
         "garden_tools"
        ],
        [
         "25",
         "072d46cbc49c2ee26ddde8f25d22f617",
         "1966b090f543e7faae8d35fbd5b19137",
         "delivered",
         "2017-09-12 21:58:21",
         "2017-09-12 22:10:19",
         "2017-09-14 16:24:01",
         "2017-09-29 14:17:00",
         "2017-10-03 00:00:00",
         "1.0",
         "e251ebd2858be1aa7d9b2087a6992580",
         "001cca7ae9ae17fb1caed9dfb1094831",
         "2017-09-18 22:10:19",
         "129.0",
         "36.98",
         "1.0",
         "credit_card",
         "2.0",
         "165.98",
         "44f034d47317b63dcfd151dceffdb56d",
         "5.0",
         "2017-09-30 00:00:00",
         "2017-09-30 19:32:02",
         "ferramentas_jardim",
         "34.0",
         "511.0",
         "4.0",
         "8875.0",
         "40.0",
         "14.0",
         "43.0",
         "bd32064dc20647a566342828eded6fd6",
         "13183.0",
         "hortolandia",
         "SP",
         "29156.0",
         "cariacica",
         "ES",
         "garden_tools"
        ],
        [
         "26",
         "eb188a175542057d90b3ca5628b7b5a0",
         "1eda56b47988d592fec945da9ee88c56",
         "delivered",
         "2017-02-18 23:26:24",
         "2017-02-19 01:02:43",
         "2017-02-21 07:07:39",
         "2017-02-23 09:23:57",
         "2017-03-21 00:00:00",
         "1.0",
         "e251ebd2858be1aa7d9b2087a6992580",
         "001cca7ae9ae17fb1caed9dfb1094831",
         "2017-02-22 23:26:24",
         "99.9",
         "14.87",
         "1.0",
         "credit_card",
         "4.0",
         "573.85",
         "4621bafe7564f22421e54866fde89ffd",
         "4.0",
         "2017-02-24 00:00:00",
         "2017-03-04 00:45:28",
         "ferramentas_jardim",
         "34.0",
         "511.0",
         "4.0",
         "8875.0",
         "40.0",
         "14.0",
         "43.0",
         "551a43d7e0bb14426e6ca28d7eec8463",
         "23954.0",
         "angra dos reis",
         "RJ",
         "29156.0",
         "cariacica",
         "ES",
         "garden_tools"
        ],
        [
         "27",
         "eb188a175542057d90b3ca5628b7b5a0",
         "1eda56b47988d592fec945da9ee88c56",
         "delivered",
         "2017-02-18 23:26:24",
         "2017-02-19 01:02:43",
         "2017-02-21 07:07:39",
         "2017-02-23 09:23:57",
         "2017-03-21 00:00:00",
         "2.0",
         "e251ebd2858be1aa7d9b2087a6992580",
         "001cca7ae9ae17fb1caed9dfb1094831",
         "2017-02-22 23:26:24",
         "99.9",
         "14.87",
         "1.0",
         "credit_card",
         "4.0",
         "573.85",
         "4621bafe7564f22421e54866fde89ffd",
         "4.0",
         "2017-02-24 00:00:00",
         "2017-03-04 00:45:28",
         "ferramentas_jardim",
         "34.0",
         "511.0",
         "4.0",
         "8875.0",
         "40.0",
         "14.0",
         "43.0",
         "551a43d7e0bb14426e6ca28d7eec8463",
         "23954.0",
         "angra dos reis",
         "RJ",
         "29156.0",
         "cariacica",
         "ES",
         "garden_tools"
        ],
        [
         "28",
         "eb188a175542057d90b3ca5628b7b5a0",
         "1eda56b47988d592fec945da9ee88c56",
         "delivered",
         "2017-02-18 23:26:24",
         "2017-02-19 01:02:43",
         "2017-02-21 07:07:39",
         "2017-02-23 09:23:57",
         "2017-03-21 00:00:00",
         "3.0",
         "e251ebd2858be1aa7d9b2087a6992580",
         "001cca7ae9ae17fb1caed9dfb1094831",
         "2017-02-22 23:26:24",
         "99.9",
         "14.87",
         "1.0",
         "credit_card",
         "4.0",
         "573.85",
         "4621bafe7564f22421e54866fde89ffd",
         "4.0",
         "2017-02-24 00:00:00",
         "2017-03-04 00:45:28",
         "ferramentas_jardim",
         "34.0",
         "511.0",
         "4.0",
         "8875.0",
         "40.0",
         "14.0",
         "43.0",
         "551a43d7e0bb14426e6ca28d7eec8463",
         "23954.0",
         "angra dos reis",
         "RJ",
         "29156.0",
         "cariacica",
         "ES",
         "garden_tools"
        ],
        [
         "29",
         "eb188a175542057d90b3ca5628b7b5a0",
         "1eda56b47988d592fec945da9ee88c56",
         "delivered",
         "2017-02-18 23:26:24",
         "2017-02-19 01:02:43",
         "2017-02-21 07:07:39",
         "2017-02-23 09:23:57",
         "2017-03-21 00:00:00",
         "4.0",
         "e251ebd2858be1aa7d9b2087a6992580",
         "001cca7ae9ae17fb1caed9dfb1094831",
         "2017-02-22 23:26:24",
         "99.9",
         "14.87",
         "1.0",
         "credit_card",
         "4.0",
         "573.85",
         "4621bafe7564f22421e54866fde89ffd",
         "4.0",
         "2017-02-24 00:00:00",
         "2017-03-04 00:45:28",
         "ferramentas_jardim",
         "34.0",
         "511.0",
         "4.0",
         "8875.0",
         "40.0",
         "14.0",
         "43.0",
         "551a43d7e0bb14426e6ca28d7eec8463",
         "23954.0",
         "angra dos reis",
         "RJ",
         "29156.0",
         "cariacica",
         "ES",
         "garden_tools"
        ],
        [
         "30",
         "eb188a175542057d90b3ca5628b7b5a0",
         "1eda56b47988d592fec945da9ee88c56",
         "delivered",
         "2017-02-18 23:26:24",
         "2017-02-19 01:02:43",
         "2017-02-21 07:07:39",
         "2017-02-23 09:23:57",
         "2017-03-21 00:00:00",
         "5.0",
         "e251ebd2858be1aa7d9b2087a6992580",
         "001cca7ae9ae17fb1caed9dfb1094831",
         "2017-02-22 23:26:24",
         "99.9",
         "14.87",
         "1.0",
         "credit_card",
         "4.0",
         "573.85",
         "4621bafe7564f22421e54866fde89ffd",
         "4.0",
         "2017-02-24 00:00:00",
         "2017-03-04 00:45:28",
         "ferramentas_jardim",
         "34.0",
         "511.0",
         "4.0",
         "8875.0",
         "40.0",
         "14.0",
         "43.0",
         "551a43d7e0bb14426e6ca28d7eec8463",
         "23954.0",
         "angra dos reis",
         "RJ",
         "29156.0",
         "cariacica",
         "ES",
         "garden_tools"
        ],
        [
         "31",
         "53cb5f5ec120b69e739f77e3fcd21284",
         "1f286dacf7cf0af9d9b77173e20ae21d",
         "delivered",
         "2017-12-06 22:27:20",
         "2017-12-06 22:38:28",
         "2017-12-07 19:44:49",
         "2017-12-18 23:18:58",
         "2018-01-02 00:00:00",
         "1.0",
         "08574b074924071f4e201e151b152b4e",
         "001cca7ae9ae17fb1caed9dfb1094831",
         "2017-12-12 22:38:28",
         "99.0",
         "33.08",
         "1.0",
         "credit_card",
         "2.0",
         "132.08",
         "5c9f4b73a18bbede91502082554470cd",
         "4.0",
         "2017-12-19 00:00:00",
         "2017-12-22 01:51:59",
         "ferramentas_jardim",
         "36.0",
         "450.0",
         "1.0",
         "9000.0",
         "42.0",
         "12.0",
         "39.0",
         "18cdff92d2777ba2cebf27e4a6370a6f",
         "3590.0",
         "sao paulo",
         "SP",
         "29156.0",
         "cariacica",
         "ES",
         "garden_tools"
        ],
        [
         "32",
         "53d2e274628757ebe6882d41339d46af",
         "1fff5bd495b4e1ccb35d4a2b51520803",
         "delivered",
         "2017-10-04 19:43:47",
         "2017-10-04 19:56:18",
         "2017-10-10 20:42:39",
         "2017-10-20 17:45:21",
         "2017-11-06 00:00:00",
         "1.0",
         "08574b074924071f4e201e151b152b4e",
         "001cca7ae9ae17fb1caed9dfb1094831",
         "2017-10-10 19:56:18",
         "99.0",
         "45.99",
         "1.0",
         "credit_card",
         "2.0",
         "144.99",
         "88c44b69fe110fc4f33986c2fca672cb",
         "5.0",
         "2017-10-21 00:00:00",
         "2017-10-24 09:28:42",
         "ferramentas_jardim",
         "36.0",
         "450.0",
         "1.0",
         "9000.0",
         "42.0",
         "12.0",
         "39.0",
         "dac056a3c0afdd113e5cfa5698f561e7",
         "89254.0",
         "jaragua do sul",
         "SC",
         "29156.0",
         "cariacica",
         "ES",
         "garden_tools"
        ],
        [
         "33",
         "eac76692452422620996fe5e1a7f8bb0",
         "206f3129c0e4d7d0b9550426023f0a08",
         "delivered",
         "2018-01-29 20:32:08",
         "2018-01-29 21:13:27",
         "2018-02-03 00:09:40",
         "2018-02-08 17:03:53",
         "2018-02-22 00:00:00",
         "1.0",
         "98a8c2fa16d7239c606640f5555768e4",
         "001cca7ae9ae17fb1caed9dfb1094831",
         "2018-02-02 21:13:27",
         "129.0",
         "40.23",
         "1.0",
         "credit_card",
         "3.0",
         "169.23",
         "a26dba51ffa3f179bec8862931fafadc",
         "5.0",
         "2018-02-09 00:00:00",
         "2018-02-10 02:38:56",
         "ferramentas_jardim",
         "39.0",
         "500.0",
         "1.0",
         "8325.0",
         "43.0",
         "14.0",
         "33.0",
         "21f748a16f4e1688a9014eb3ee6fa325",
         "13412.0",
         "piracicaba",
         "SP",
         "29156.0",
         "cariacica",
         "ES",
         "garden_tools"
        ],
        [
         "34",
         "e0491d5fa20ffe7ac96ccfdb874a8dc1",
         "2074276f1cbcee59fc01ab7b591d017b",
         "delivered",
         "2017-10-28 22:10:51",
         "2017-10-28 22:26:17",
         "2017-10-30 21:33:44",
         "2017-11-07 00:28:41",
         "2017-11-23 00:00:00",
         "1.0",
         "98a8c2fa16d7239c606640f5555768e4",
         "001cca7ae9ae17fb1caed9dfb1094831",
         "2017-11-02 22:25:47",
         "110.0",
         "32.1",
         "1.0",
         "credit_card",
         "2.0",
         "142.1",
         "106a424480a25b6d951117d7065e29ed",
         "4.0",
         "2017-11-08 00:00:00",
         "2017-11-08 11:06:31",
         "ferramentas_jardim",
         "39.0",
         "500.0",
         "1.0",
         "8325.0",
         "43.0",
         "14.0",
         "33.0",
         "013ae505c83f5fb1905ed23afdafd3a2",
         "31525.0",
         "belo horizonte",
         "MG",
         "29156.0",
         "cariacica",
         "ES",
         "garden_tools"
        ],
        [
         "35",
         "213ede0c70c581ede2b365194da6d2fe",
         "21119651f4644d55f2b8dc4221623047",
         "delivered",
         "2017-10-03 12:44:33",
         "2017-10-03 12:56:48",
         "2017-10-04 20:25:33",
         "2017-10-10 20:46:12",
         "2017-10-27 00:00:00",
         "1.0",
         "08574b074924071f4e201e151b152b4e",
         "001cca7ae9ae17fb1caed9dfb1094831",
         "2017-10-09 12:56:48",
         "99.0",
         "41.08",
         "1.0",
         "credit_card",
         "2.0",
         "140.08",
         "7cb15eb57b3afdf70618d277c929611d",
         "4.0",
         "2017-10-11 00:00:00",
         "2017-10-11 23:52:59",
         "ferramentas_jardim",
         "36.0",
         "450.0",
         "1.0",
         "9000.0",
         "42.0",
         "12.0",
         "39.0",
         "d1354b6a5a8b77dbbe3e3187e418e8ec",
         "11674.0",
         "caraguatatuba",
         "SP",
         "29156.0",
         "cariacica",
         "ES",
         "garden_tools"
        ],
        [
         "36",
         "66eee0f0bae09aa30b023e20bc83ee80",
         "22c60276d51cf85ff2c70610087ee91b",
         "delivered",
         "2017-10-30 23:10:31",
         "2017-10-30 23:31:09",
         "2017-11-01 21:53:46",
         "2017-11-10 17:52:15",
         "2017-11-14 00:00:00",
         "1.0",
         "547b95702aec86f05ac37e61d164891c",
         "001cca7ae9ae17fb1caed9dfb1094831",
         "2017-11-06 23:25:28",
         "129.0",
         "33.29",
         "1.0",
         "credit_card",
         "3.0",
         "162.29",
         "9a1b5545eb5567917b11007b7e06b8f3",
         "4.0",
         "2017-11-11 00:00:00",
         "2017-11-12 01:46:13",
         "ferramentas_jardim",
         "33.0",
         "509.0",
         "1.0",
         "9100.0",
         "42.0",
         "13.0",
         "39.0",
         "e58f0403dc02936d911f974a17c5610a",
         "3982.0",
         "sao paulo",
         "SP",
         "29156.0",
         "cariacica",
         "ES",
         "garden_tools"
        ],
        [
         "37",
         "6711fee36dd6c08f101b5b21eb439ddb",
         "22c855868c3faf25b1273834d9b187a7",
         "delivered",
         "2017-05-17 19:22:19",
         "2017-05-18 02:22:50",
         "2017-05-18 11:40:35",
         "2017-05-26 09:33:29",
         "2017-06-19 00:00:00",
         "1.0",
         "08574b074924071f4e201e151b152b4e",
         "001cca7ae9ae17fb1caed9dfb1094831",
         "2017-05-24 02:22:50",
         "99.0",
         "69.4",
         "1.0",
         "boleto",
         "1.0",
         "168.4",
         "320482b48d76184417e33530fb21d1e6",
         "5.0",
         "2017-05-27 00:00:00",
         "2017-05-28 11:45:03",
         "ferramentas_jardim",
         "36.0",
         "450.0",
         "1.0",
         "9000.0",
         "42.0",
         "12.0",
         "39.0",
         "cf4521a1632386922541928abd69ab42",
         "96075.0",
         "pelotas",
         "RS",
         "29156.0",
         "cariacica",
         "ES",
         "garden_tools"
        ],
        [
         "38",
         "3363e330c754a732795f39079bb76d55",
         "235702411e5214f0e4a0761bf5ce9e99",
         "delivered",
         "2018-01-10 12:06:09",
         "2018-01-10 12:17:33",
         "2018-01-11 17:10:33",
         "2018-01-26 16:38:42",
         "2018-02-08 00:00:00",
         "1.0",
         "08574b074924071f4e201e151b152b4e",
         "001cca7ae9ae17fb1caed9dfb1094831",
         "2018-01-16 12:17:33",
         "99.0",
         "45.99",
         "1.0",
         "credit_card",
         "3.0",
         "144.99",
         "585a646c178f03c376541aa521135b41",
         "5.0",
         "2018-01-27 00:00:00",
         "2018-01-29 14:50:43",
         "ferramentas_jardim",
         "36.0",
         "450.0",
         "1.0",
         "9000.0",
         "42.0",
         "12.0",
         "39.0",
         "9fc089b0b6a8db40d4357e784f1e91d4",
         "99965.0",
         "agua santa",
         "RS",
         "29156.0",
         "cariacica",
         "ES",
         "garden_tools"
        ],
        [
         "39",
         "006e43460a55bc60c0a437521e426529",
         "23bfd4316e261786deed5a08231c75bc",
         "delivered",
         "2017-05-11 00:24:35",
         "2017-05-11 01:30:22",
         "2017-05-12 12:26:32",
         "2017-05-19 09:51:17",
         "2017-06-02 00:00:00",
         "1.0",
         "08574b074924071f4e201e151b152b4e",
         "001cca7ae9ae17fb1caed9dfb1094831",
         "2017-05-17 01:30:22",
         "99.0",
         "43.06",
         "1.0",
         "credit_card",
         "3.0",
         "142.06",
         "7f8c3db58f0112378d38f6065d6c3e33",
         "5.0",
         "2017-05-20 00:00:00",
         "2017-05-21 12:35:51",
         "ferramentas_jardim",
         "36.0",
         "450.0",
         "1.0",
         "9000.0",
         "42.0",
         "12.0",
         "39.0",
         "1df0a296f852bdf1a17b085730f4b894",
         "11431.0",
         "guaruja",
         "SP",
         "29156.0",
         "cariacica",
         "ES",
         "garden_tools"
        ],
        [
         "40",
         "40f5d5356396abbec18c0c893d329422",
         "24ee1aafc38ba4ae08741da0bd57520a",
         "delivered",
         "2018-01-01 20:50:39",
         "2018-01-01 21:06:39",
         "2018-01-02 17:48:13",
         "2018-02-02 20:33:14",
         "2018-02-01 00:00:00",
         "1.0",
         "547b95702aec86f05ac37e61d164891c",
         "001cca7ae9ae17fb1caed9dfb1094831",
         "2018-01-05 21:06:39",
         "129.0",
         "38.2",
         "1.0",
         "credit_card",
         "1.0",
         "167.2",
         "7d8e00a87e4af371866ee5093c3075d9",
         "3.0",
         "2018-02-03 00:00:00",
         "2018-02-03 12:30:50",
         "ferramentas_jardim",
         "33.0",
         "509.0",
         "1.0",
         "9100.0",
         "42.0",
         "13.0",
         "39.0",
         "73b44df1a4441ad7605dfa49624655bc",
         "94480.0",
         "viamao",
         "RS",
         "29156.0",
         "cariacica",
         "ES",
         "garden_tools"
        ],
        [
         "41",
         "6f6926816d7f45e2ce64ae33c9faf58e",
         "26cad29ce2fd0d9203145f2d71b7aa43",
         "delivered",
         "2017-05-18 15:15:28",
         "2017-05-19 02:43:17",
         "2017-05-19 12:01:40",
         "2017-05-25 17:52:50",
         "2017-06-13 00:00:00",
         "1.0",
         "547b95702aec86f05ac37e61d164891c",
         "001cca7ae9ae17fb1caed9dfb1094831",
         "2017-05-25 02:43:17",
         "135.0",
         "45.03",
         "1.0",
         "boleto",
         "1.0",
         "180.03",
         "305eb85a3e229b476360f8e7915bfe91",
         "4.0",
         "2017-05-27 00:00:00",
         "2017-05-29 10:56:01",
         "ferramentas_jardim",
         "33.0",
         "509.0",
         "1.0",
         "9100.0",
         "42.0",
         "13.0",
         "39.0",
         "bfe1ecef0f01ad67e5e0cf1860e94e60",
         "17800.0",
         "adamantina",
         "SP",
         "29156.0",
         "cariacica",
         "ES",
         "garden_tools"
        ],
        [
         "42",
         "b9e0c2dfab4b400170fc1bdc4765a35e",
         "2754a7cefac9fb43b30e62440b7f41a4",
         "delivered",
         "2017-09-29 18:13:42",
         "2017-09-29 18:28:18",
         "2017-10-03 17:05:51",
         "2017-10-11 20:52:37",
         "2017-10-27 00:00:00",
         "1.0",
         "08574b074924071f4e201e151b152b4e",
         "001cca7ae9ae17fb1caed9dfb1094831",
         "2017-10-05 18:28:18",
         "99.0",
         "33.08",
         "1.0",
         "credit_card",
         "1.0",
         "132.08",
         "409e3e52d8002176e467b3cd5e7f8177",
         "5.0",
         "2017-10-12 00:00:00",
         "2017-10-12 15:30:23",
         "ferramentas_jardim",
         "36.0",
         "450.0",
         "1.0",
         "9000.0",
         "42.0",
         "12.0",
         "39.0",
         "062933ff315c2b7a8c4a302a115be4c4",
         "81925.0",
         "curitiba",
         "PR",
         "29156.0",
         "cariacica",
         "ES",
         "garden_tools"
        ],
        [
         "43",
         "a5dcc015b748b353c2ddfb0939d36c58",
         "289fd418dcc325a3820763155a982c51",
         "delivered",
         "2017-11-05 22:08:34",
         "2017-11-07 05:32:00",
         "2017-11-07 21:56:49",
         "2017-11-14 01:38:34",
         "2017-11-27 00:00:00",
         "1.0",
         "08574b074924071f4e201e151b152b4e",
         "001cca7ae9ae17fb1caed9dfb1094831",
         "2017-11-12 22:15:35",
         "99.0",
         "33.08",
         "1.0",
         "credit_card",
         "10.0",
         "132.08",
         "a8a912314fbc2bb55eb9aaee86882277",
         "5.0",
         "2017-11-14 00:00:00",
         "2017-11-16 23:01:23",
         "ferramentas_jardim",
         "36.0",
         "450.0",
         "1.0",
         "9000.0",
         "42.0",
         "12.0",
         "39.0",
         "d31877e6feecf887ec4e9b95c30e6422",
         "9271.0",
         "santo andre",
         "SP",
         "29156.0",
         "cariacica",
         "ES",
         "garden_tools"
        ],
        [
         "44",
         "3b2a2bbfd008c0c053c78914e69e0f79",
         "291dcc54f6638380fed8043b57a27868",
         "delivered",
         "2017-06-13 20:47:56",
         "2017-06-13 21:05:27",
         "2017-06-14 15:02:59",
         "2017-06-24 08:39:31",
         "2017-07-06 00:00:00",
         "1.0",
         "e251ebd2858be1aa7d9b2087a6992580",
         "001cca7ae9ae17fb1caed9dfb1094831",
         "2017-06-19 21:05:27",
         "112.0",
         "32.11",
         "1.0",
         "credit_card",
         "10.0",
         "144.11",
         "5f80319e2d8e42bbbc5c8dfa410021b9",
         "5.0",
         "2017-06-25 00:00:00",
         "2017-06-27 16:23:54",
         "ferramentas_jardim",
         "34.0",
         "511.0",
         "4.0",
         "8875.0",
         "40.0",
         "14.0",
         "43.0",
         "cd16d14e5c24e8d4ef137c35c00edf37",
         "24743.0",
         "sao goncalo",
         "RJ",
         "29156.0",
         "cariacica",
         "ES",
         "garden_tools"
        ],
        [
         "45",
         "5190f963681eb5a3db66961c4fa05a66",
         "2e6d1249c2afaeff7e64fc0a7f4e3e8b",
         "delivered",
         "2017-07-10 18:38:10",
         "2017-07-11 10:50:16",
         "2017-07-12 17:27:47",
         "2017-08-01 19:29:29",
         "2017-08-09 00:00:00",
         "1.0",
         "547b95702aec86f05ac37e61d164891c",
         "001cca7ae9ae17fb1caed9dfb1094831",
         "2017-07-17 10:50:16",
         "112.0",
         "51.91",
         "1.0",
         "credit_card",
         "4.0",
         "163.91",
         "f01b1a9d7a33dda2db91ae5601c5f707",
         "5.0",
         "2017-08-02 00:00:00",
         "2017-08-03 00:49:37",
         "ferramentas_jardim",
         "33.0",
         "509.0",
         "1.0",
         "9100.0",
         "42.0",
         "13.0",
         "39.0",
         "7c7a3e75a07057d6e7e5ef9989d38f13",
         "64009.0",
         "teresina",
         "PI",
         "29156.0",
         "cariacica",
         "ES",
         "garden_tools"
        ],
        [
         "46",
         "a589a29e4907819c966a0c4840b41ccc",
         "2f326df8bae20dc643eecaba92d0778b",
         "delivered",
         "2017-06-09 13:59:44",
         "2017-06-09 14:10:25",
         "2017-06-12 09:58:13",
         "2017-06-19 15:46:55",
         "2017-07-06 00:00:00",
         "1.0",
         "08574b074924071f4e201e151b152b4e",
         "001cca7ae9ae17fb1caed9dfb1094831",
         "2017-06-15 14:10:25",
         "89.0",
         "36.7",
         "1.0",
         "credit_card",
         "1.0",
         "125.7",
         "21621e3d592df214154047b4c2193514",
         "5.0",
         "2017-06-20 00:00:00",
         "2017-06-21 10:56:17",
         "ferramentas_jardim",
         "36.0",
         "450.0",
         "1.0",
         "9000.0",
         "42.0",
         "12.0",
         "39.0",
         "1267212283399f8294c491fec2b02be9",
         "9812.0",
         "sao bernardo do campo",
         "SP",
         "29156.0",
         "cariacica",
         "ES",
         "garden_tools"
        ],
        [
         "47",
         "5d70582531ed37f284797ba1354e0c50",
         "2f6748db5d35abc0695076611514da0e",
         "delivered",
         "2017-03-25 12:57:33",
         "2017-03-25 13:10:09",
         "2017-03-28 13:52:36",
         "2017-04-04 16:59:58",
         "2017-04-18 00:00:00",
         "1.0",
         "08574b074924071f4e201e151b152b4e",
         "001cca7ae9ae17fb1caed9dfb1094831",
         "2017-03-30 13:10:09",
         "69.9",
         "31.23",
         "1.0",
         "credit_card",
         "2.0",
         "101.13",
         "45d33d3d3dde041b9978cc50881f2247",
         "5.0",
         "2017-04-06 00:00:00",
         "2017-04-08 22:22:57",
         "ferramentas_jardim",
         "36.0",
         "450.0",
         "1.0",
         "9000.0",
         "42.0",
         "12.0",
         "39.0",
         "d17cf621fd6150d478c7a017158db8c7",
         "26564.0",
         "mesquita",
         "RJ",
         "29156.0",
         "cariacica",
         "ES",
         "garden_tools"
        ],
        [
         "48",
         "0bea543455029a72056bd0e781a8dca7",
         "2fde2146af0116e4451b544145e05cc3",
         "delivered",
         "2017-07-23 11:22:00",
         "2017-07-25 03:45:20",
         "2017-07-26 19:53:24",
         "2017-08-01 21:46:39",
         "2017-08-15 00:00:00",
         "1.0",
         "0da9ffd92214425d880de3f94e74ce39",
         "001cca7ae9ae17fb1caed9dfb1094831",
         "2017-07-31 03:45:20",
         "99.99",
         "40.03",
         "1.0",
         "boleto",
         "1.0",
         "140.02",
         "5d8cbce3988874758731d5d33ea01558",
         "4.0",
         "2017-08-02 00:00:00",
         "2017-08-03 09:19:56",
         "construcao_ferramentas_construcao",
         "33.0",
         "449.0",
         "3.0",
         "10900.0",
         "39.0",
         "12.0",
         "42.0",
         "52dea3631aa7ae55b1fc52a767908327",
         "39402.0",
         "montes claros",
         "MG",
         "29156.0",
         "cariacica",
         "ES",
         "construction_tools_construction"
        ],
        [
         "49",
         "39ce67c7db740ee02e0c17fc02b0292d",
         "32598a93be7614cfdbe84634aae6e4a8",
         "delivered",
         "2017-06-29 19:21:05",
         "2017-07-01 04:50:17",
         "2017-07-03 15:37:50",
         "2017-07-07 17:15:50",
         "2017-07-27 00:00:00",
         "1.0",
         "08574b074924071f4e201e151b152b4e",
         "001cca7ae9ae17fb1caed9dfb1094831",
         "2017-07-06 04:50:17",
         "89.0",
         "43.24",
         "1.0",
         "boleto",
         "1.0",
         "132.24",
         "4b16e4ef5326db481ae06592a05fd79e",
         "5.0",
         "2017-07-08 00:00:00",
         "2017-07-09 22:02:36",
         "ferramentas_jardim",
         "36.0",
         "450.0",
         "1.0",
         "9000.0",
         "42.0",
         "12.0",
         "39.0",
         "24433952cd744df9e64ee3ed8fc4e10d",
         "81920.0",
         "curitiba",
         "PR",
         "29156.0",
         "cariacica",
         "ES",
         "garden_tools"
        ]
       ],
       "shape": {
        "columns": 38,
        "rows": 118686
       }
      },
      "text/html": [
       "<div>\n",
       "<style scoped>\n",
       "    .dataframe tbody tr th:only-of-type {\n",
       "        vertical-align: middle;\n",
       "    }\n",
       "\n",
       "    .dataframe tbody tr th {\n",
       "        vertical-align: top;\n",
       "    }\n",
       "\n",
       "    .dataframe thead th {\n",
       "        text-align: right;\n",
       "    }\n",
       "</style>\n",
       "<table border=\"1\" class=\"dataframe\">\n",
       "  <thead>\n",
       "    <tr style=\"text-align: right;\">\n",
       "      <th></th>\n",
       "      <th>order_id</th>\n",
       "      <th>customer_id</th>\n",
       "      <th>order_status</th>\n",
       "      <th>order_purchase_timestamp</th>\n",
       "      <th>order_approved_at</th>\n",
       "      <th>order_delivered_carrier_date</th>\n",
       "      <th>order_delivered_customer_date</th>\n",
       "      <th>order_estimated_delivery_date</th>\n",
       "      <th>order_item_id</th>\n",
       "      <th>product_id</th>\n",
       "      <th>...</th>\n",
       "      <th>product_height_cm</th>\n",
       "      <th>product_width_cm</th>\n",
       "      <th>customer_unique_id</th>\n",
       "      <th>customer_zip_code_prefix</th>\n",
       "      <th>customer_city</th>\n",
       "      <th>customer_state</th>\n",
       "      <th>seller_zip_code_prefix</th>\n",
       "      <th>seller_city</th>\n",
       "      <th>seller_state</th>\n",
       "      <th>product_category_name_english</th>\n",
       "    </tr>\n",
       "  </thead>\n",
       "  <tbody>\n",
       "    <tr>\n",
       "      <th>0</th>\n",
       "      <td>d455a8cb295653b55abda06d434ab492</td>\n",
       "      <td>944b72539d7e1f7f7fc6e46639ef1fe3</td>\n",
       "      <td>delivered</td>\n",
       "      <td>2017-09-26 22:17:05</td>\n",
       "      <td>2017-09-27 22:24:16</td>\n",
       "      <td>2017-09-29 15:53:03</td>\n",
       "      <td>2017-10-07 16:12:47</td>\n",
       "      <td>2017-10-30 00:00:00</td>\n",
       "      <td>1.0</td>\n",
       "      <td>a2ff5a97bf95719e38ea2e3b4105bce8</td>\n",
       "      <td>...</td>\n",
       "      <td>43.0</td>\n",
       "      <td>36.0</td>\n",
       "      <td>3c7e305796add66698959fc7ad176f6b</td>\n",
       "      <td>87502.0</td>\n",
       "      <td>umuarama</td>\n",
       "      <td>PR</td>\n",
       "      <td>9080.0</td>\n",
       "      <td>santo andre</td>\n",
       "      <td>SP</td>\n",
       "      <td>small_appliances</td>\n",
       "    </tr>\n",
       "    <tr>\n",
       "      <th>1</th>\n",
       "      <td>7f39ba4c9052be115350065d07583cac</td>\n",
       "      <td>d7fc82cbeafea77bd0a8fbbf6296e387</td>\n",
       "      <td>delivered</td>\n",
       "      <td>2017-10-18 08:16:34</td>\n",
       "      <td>2017-10-18 23:56:20</td>\n",
       "      <td>2017-10-20 14:29:01</td>\n",
       "      <td>2017-10-27 16:46:05</td>\n",
       "      <td>2017-11-09 00:00:00</td>\n",
       "      <td>1.0</td>\n",
       "      <td>a2ff5a97bf95719e38ea2e3b4105bce8</td>\n",
       "      <td>...</td>\n",
       "      <td>43.0</td>\n",
       "      <td>36.0</td>\n",
       "      <td>9de5797cddb92598755a0f76383ddbbb</td>\n",
       "      <td>35490.0</td>\n",
       "      <td>entre rios de minas</td>\n",
       "      <td>MG</td>\n",
       "      <td>9080.0</td>\n",
       "      <td>santo andre</td>\n",
       "      <td>SP</td>\n",
       "      <td>small_appliances</td>\n",
       "    </tr>\n",
       "    <tr>\n",
       "      <th>2</th>\n",
       "      <td>9dc8d1a6f16f1b89874c29c9d8d30447</td>\n",
       "      <td>d9442164acf4b03109425633efaa0cfc</td>\n",
       "      <td>delivered</td>\n",
       "      <td>2017-10-12 13:33:22</td>\n",
       "      <td>2017-10-12 13:49:22</td>\n",
       "      <td>2017-10-17 15:42:42</td>\n",
       "      <td>2017-10-24 20:17:44</td>\n",
       "      <td>2017-11-06 00:00:00</td>\n",
       "      <td>1.0</td>\n",
       "      <td>a2ff5a97bf95719e38ea2e3b4105bce8</td>\n",
       "      <td>...</td>\n",
       "      <td>43.0</td>\n",
       "      <td>36.0</td>\n",
       "      <td>9915eb9f74b6c11aaf04833f65b00e93</td>\n",
       "      <td>38600.0</td>\n",
       "      <td>paracatu</td>\n",
       "      <td>MG</td>\n",
       "      <td>9080.0</td>\n",
       "      <td>santo andre</td>\n",
       "      <td>SP</td>\n",
       "      <td>small_appliances</td>\n",
       "    </tr>\n",
       "    <tr>\n",
       "      <th>3</th>\n",
       "      <td>0f548bd29148ebc519d6495e37a284e1</td>\n",
       "      <td>015faf9ec36eccd957c0f2782aab09a4</td>\n",
       "      <td>delivered</td>\n",
       "      <td>2017-09-03 08:06:30</td>\n",
       "      <td>2017-09-03 08:25:50</td>\n",
       "      <td>2017-09-04 22:03:06</td>\n",
       "      <td>2017-09-08 16:26:55</td>\n",
       "      <td>2017-09-27 00:00:00</td>\n",
       "      <td>1.0</td>\n",
       "      <td>08574b074924071f4e201e151b152b4e</td>\n",
       "      <td>...</td>\n",
       "      <td>12.0</td>\n",
       "      <td>39.0</td>\n",
       "      <td>dce323533e45e74d215e0fe7fb114118</td>\n",
       "      <td>24710.0</td>\n",
       "      <td>sao goncalo</td>\n",
       "      <td>RJ</td>\n",
       "      <td>29156.0</td>\n",
       "      <td>cariacica</td>\n",
       "      <td>ES</td>\n",
       "      <td>garden_tools</td>\n",
       "    </tr>\n",
       "    <tr>\n",
       "      <th>4</th>\n",
       "      <td>0f548bd29148ebc519d6495e37a284e1</td>\n",
       "      <td>015faf9ec36eccd957c0f2782aab09a4</td>\n",
       "      <td>delivered</td>\n",
       "      <td>2017-09-03 08:06:30</td>\n",
       "      <td>2017-09-03 08:25:50</td>\n",
       "      <td>2017-09-04 22:03:06</td>\n",
       "      <td>2017-09-08 16:26:55</td>\n",
       "      <td>2017-09-27 00:00:00</td>\n",
       "      <td>2.0</td>\n",
       "      <td>08574b074924071f4e201e151b152b4e</td>\n",
       "      <td>...</td>\n",
       "      <td>12.0</td>\n",
       "      <td>39.0</td>\n",
       "      <td>dce323533e45e74d215e0fe7fb114118</td>\n",
       "      <td>24710.0</td>\n",
       "      <td>sao goncalo</td>\n",
       "      <td>RJ</td>\n",
       "      <td>29156.0</td>\n",
       "      <td>cariacica</td>\n",
       "      <td>ES</td>\n",
       "      <td>garden_tools</td>\n",
       "    </tr>\n",
       "    <tr>\n",
       "      <th>...</th>\n",
       "      <td>...</td>\n",
       "      <td>...</td>\n",
       "      <td>...</td>\n",
       "      <td>...</td>\n",
       "      <td>...</td>\n",
       "      <td>...</td>\n",
       "      <td>...</td>\n",
       "      <td>...</td>\n",
       "      <td>...</td>\n",
       "      <td>...</td>\n",
       "      <td>...</td>\n",
       "      <td>...</td>\n",
       "      <td>...</td>\n",
       "      <td>...</td>\n",
       "      <td>...</td>\n",
       "      <td>...</td>\n",
       "      <td>...</td>\n",
       "      <td>...</td>\n",
       "      <td>...</td>\n",
       "      <td>...</td>\n",
       "      <td>...</td>\n",
       "    </tr>\n",
       "    <tr>\n",
       "      <th>118806</th>\n",
       "      <td>NaN</td>\n",
       "      <td>ffaded93e5a1fce06363cfb6905676a1</td>\n",
       "      <td>NaN</td>\n",
       "      <td>NaN</td>\n",
       "      <td>NaN</td>\n",
       "      <td>NaN</td>\n",
       "      <td>NaN</td>\n",
       "      <td>NaN</td>\n",
       "      <td>NaN</td>\n",
       "      <td>NaN</td>\n",
       "      <td>...</td>\n",
       "      <td>NaN</td>\n",
       "      <td>NaN</td>\n",
       "      <td>587b326ba3bf8aa4d3e50fb1f38ea79f</td>\n",
       "      <td>6722.0</td>\n",
       "      <td>cotia</td>\n",
       "      <td>SP</td>\n",
       "      <td>NaN</td>\n",
       "      <td>NaN</td>\n",
       "      <td>NaN</td>\n",
       "      <td>NaN</td>\n",
       "    </tr>\n",
       "    <tr>\n",
       "      <th>118807</th>\n",
       "      <td>NaN</td>\n",
       "      <td>ffb81db92e7ac00ecfac978f673be8a6</td>\n",
       "      <td>NaN</td>\n",
       "      <td>NaN</td>\n",
       "      <td>NaN</td>\n",
       "      <td>NaN</td>\n",
       "      <td>NaN</td>\n",
       "      <td>NaN</td>\n",
       "      <td>NaN</td>\n",
       "      <td>NaN</td>\n",
       "      <td>...</td>\n",
       "      <td>NaN</td>\n",
       "      <td>NaN</td>\n",
       "      <td>14d46ad43ae7e3cd6944258b9840373b</td>\n",
       "      <td>49509.0</td>\n",
       "      <td>itabaiana</td>\n",
       "      <td>SE</td>\n",
       "      <td>NaN</td>\n",
       "      <td>NaN</td>\n",
       "      <td>NaN</td>\n",
       "      <td>NaN</td>\n",
       "    </tr>\n",
       "    <tr>\n",
       "      <th>118808</th>\n",
       "      <td>NaN</td>\n",
       "      <td>ffe7ffb7c7ae0d42808f387578426b3b</td>\n",
       "      <td>NaN</td>\n",
       "      <td>NaN</td>\n",
       "      <td>NaN</td>\n",
       "      <td>NaN</td>\n",
       "      <td>NaN</td>\n",
       "      <td>NaN</td>\n",
       "      <td>NaN</td>\n",
       "      <td>NaN</td>\n",
       "      <td>...</td>\n",
       "      <td>NaN</td>\n",
       "      <td>NaN</td>\n",
       "      <td>1942b890cee1b55dbf8176e925e79e07</td>\n",
       "      <td>90690.0</td>\n",
       "      <td>porto alegre</td>\n",
       "      <td>RS</td>\n",
       "      <td>NaN</td>\n",
       "      <td>NaN</td>\n",
       "      <td>NaN</td>\n",
       "      <td>NaN</td>\n",
       "    </tr>\n",
       "    <tr>\n",
       "      <th>118809</th>\n",
       "      <td>NaN</td>\n",
       "      <td>fffc22669ca576ae3f654ea64c8f36be</td>\n",
       "      <td>NaN</td>\n",
       "      <td>NaN</td>\n",
       "      <td>NaN</td>\n",
       "      <td>NaN</td>\n",
       "      <td>NaN</td>\n",
       "      <td>NaN</td>\n",
       "      <td>NaN</td>\n",
       "      <td>NaN</td>\n",
       "      <td>...</td>\n",
       "      <td>NaN</td>\n",
       "      <td>NaN</td>\n",
       "      <td>0f21adf44f13a61282678a89f6433c10</td>\n",
       "      <td>40255.0</td>\n",
       "      <td>salvador</td>\n",
       "      <td>BA</td>\n",
       "      <td>NaN</td>\n",
       "      <td>NaN</td>\n",
       "      <td>NaN</td>\n",
       "      <td>NaN</td>\n",
       "    </tr>\n",
       "    <tr>\n",
       "      <th>118810</th>\n",
       "      <td>NaN</td>\n",
       "      <td>ffffe8b65bbe3087b653a978c870db99</td>\n",
       "      <td>NaN</td>\n",
       "      <td>NaN</td>\n",
       "      <td>NaN</td>\n",
       "      <td>NaN</td>\n",
       "      <td>NaN</td>\n",
       "      <td>NaN</td>\n",
       "      <td>NaN</td>\n",
       "      <td>NaN</td>\n",
       "      <td>...</td>\n",
       "      <td>NaN</td>\n",
       "      <td>NaN</td>\n",
       "      <td>736e6bfa0510aa5b878881a226a5fd89</td>\n",
       "      <td>6172.0</td>\n",
       "      <td>osasco</td>\n",
       "      <td>SP</td>\n",
       "      <td>NaN</td>\n",
       "      <td>NaN</td>\n",
       "      <td>NaN</td>\n",
       "      <td>NaN</td>\n",
       "    </tr>\n",
       "  </tbody>\n",
       "</table>\n",
       "<p>118686 rows × 38 columns</p>\n",
       "</div>"
      ],
      "text/plain": [
       "                                order_id                       customer_id  \\\n",
       "0       d455a8cb295653b55abda06d434ab492  944b72539d7e1f7f7fc6e46639ef1fe3   \n",
       "1       7f39ba4c9052be115350065d07583cac  d7fc82cbeafea77bd0a8fbbf6296e387   \n",
       "2       9dc8d1a6f16f1b89874c29c9d8d30447  d9442164acf4b03109425633efaa0cfc   \n",
       "3       0f548bd29148ebc519d6495e37a284e1  015faf9ec36eccd957c0f2782aab09a4   \n",
       "4       0f548bd29148ebc519d6495e37a284e1  015faf9ec36eccd957c0f2782aab09a4   \n",
       "...                                  ...                               ...   \n",
       "118806                               NaN  ffaded93e5a1fce06363cfb6905676a1   \n",
       "118807                               NaN  ffb81db92e7ac00ecfac978f673be8a6   \n",
       "118808                               NaN  ffe7ffb7c7ae0d42808f387578426b3b   \n",
       "118809                               NaN  fffc22669ca576ae3f654ea64c8f36be   \n",
       "118810                               NaN  ffffe8b65bbe3087b653a978c870db99   \n",
       "\n",
       "       order_status order_purchase_timestamp    order_approved_at  \\\n",
       "0         delivered      2017-09-26 22:17:05  2017-09-27 22:24:16   \n",
       "1         delivered      2017-10-18 08:16:34  2017-10-18 23:56:20   \n",
       "2         delivered      2017-10-12 13:33:22  2017-10-12 13:49:22   \n",
       "3         delivered      2017-09-03 08:06:30  2017-09-03 08:25:50   \n",
       "4         delivered      2017-09-03 08:06:30  2017-09-03 08:25:50   \n",
       "...             ...                      ...                  ...   \n",
       "118806          NaN                      NaN                  NaN   \n",
       "118807          NaN                      NaN                  NaN   \n",
       "118808          NaN                      NaN                  NaN   \n",
       "118809          NaN                      NaN                  NaN   \n",
       "118810          NaN                      NaN                  NaN   \n",
       "\n",
       "       order_delivered_carrier_date order_delivered_customer_date  \\\n",
       "0               2017-09-29 15:53:03           2017-10-07 16:12:47   \n",
       "1               2017-10-20 14:29:01           2017-10-27 16:46:05   \n",
       "2               2017-10-17 15:42:42           2017-10-24 20:17:44   \n",
       "3               2017-09-04 22:03:06           2017-09-08 16:26:55   \n",
       "4               2017-09-04 22:03:06           2017-09-08 16:26:55   \n",
       "...                             ...                           ...   \n",
       "118806                          NaN                           NaN   \n",
       "118807                          NaN                           NaN   \n",
       "118808                          NaN                           NaN   \n",
       "118809                          NaN                           NaN   \n",
       "118810                          NaN                           NaN   \n",
       "\n",
       "       order_estimated_delivery_date  order_item_id  \\\n",
       "0                2017-10-30 00:00:00            1.0   \n",
       "1                2017-11-09 00:00:00            1.0   \n",
       "2                2017-11-06 00:00:00            1.0   \n",
       "3                2017-09-27 00:00:00            1.0   \n",
       "4                2017-09-27 00:00:00            2.0   \n",
       "...                              ...            ...   \n",
       "118806                           NaN            NaN   \n",
       "118807                           NaN            NaN   \n",
       "118808                           NaN            NaN   \n",
       "118809                           NaN            NaN   \n",
       "118810                           NaN            NaN   \n",
       "\n",
       "                              product_id  ... product_height_cm  \\\n",
       "0       a2ff5a97bf95719e38ea2e3b4105bce8  ...              43.0   \n",
       "1       a2ff5a97bf95719e38ea2e3b4105bce8  ...              43.0   \n",
       "2       a2ff5a97bf95719e38ea2e3b4105bce8  ...              43.0   \n",
       "3       08574b074924071f4e201e151b152b4e  ...              12.0   \n",
       "4       08574b074924071f4e201e151b152b4e  ...              12.0   \n",
       "...                                  ...  ...               ...   \n",
       "118806                               NaN  ...               NaN   \n",
       "118807                               NaN  ...               NaN   \n",
       "118808                               NaN  ...               NaN   \n",
       "118809                               NaN  ...               NaN   \n",
       "118810                               NaN  ...               NaN   \n",
       "\n",
       "       product_width_cm                customer_unique_id  \\\n",
       "0                  36.0  3c7e305796add66698959fc7ad176f6b   \n",
       "1                  36.0  9de5797cddb92598755a0f76383ddbbb   \n",
       "2                  36.0  9915eb9f74b6c11aaf04833f65b00e93   \n",
       "3                  39.0  dce323533e45e74d215e0fe7fb114118   \n",
       "4                  39.0  dce323533e45e74d215e0fe7fb114118   \n",
       "...                 ...                               ...   \n",
       "118806              NaN  587b326ba3bf8aa4d3e50fb1f38ea79f   \n",
       "118807              NaN  14d46ad43ae7e3cd6944258b9840373b   \n",
       "118808              NaN  1942b890cee1b55dbf8176e925e79e07   \n",
       "118809              NaN  0f21adf44f13a61282678a89f6433c10   \n",
       "118810              NaN  736e6bfa0510aa5b878881a226a5fd89   \n",
       "\n",
       "        customer_zip_code_prefix        customer_city customer_state  \\\n",
       "0                        87502.0             umuarama             PR   \n",
       "1                        35490.0  entre rios de minas             MG   \n",
       "2                        38600.0             paracatu             MG   \n",
       "3                        24710.0          sao goncalo             RJ   \n",
       "4                        24710.0          sao goncalo             RJ   \n",
       "...                          ...                  ...            ...   \n",
       "118806                    6722.0                cotia             SP   \n",
       "118807                   49509.0            itabaiana             SE   \n",
       "118808                   90690.0         porto alegre             RS   \n",
       "118809                   40255.0             salvador             BA   \n",
       "118810                    6172.0               osasco             SP   \n",
       "\n",
       "        seller_zip_code_prefix  seller_city seller_state  \\\n",
       "0                       9080.0  santo andre           SP   \n",
       "1                       9080.0  santo andre           SP   \n",
       "2                       9080.0  santo andre           SP   \n",
       "3                      29156.0    cariacica           ES   \n",
       "4                      29156.0    cariacica           ES   \n",
       "...                        ...          ...          ...   \n",
       "118806                     NaN          NaN          NaN   \n",
       "118807                     NaN          NaN          NaN   \n",
       "118808                     NaN          NaN          NaN   \n",
       "118809                     NaN          NaN          NaN   \n",
       "118810                     NaN          NaN          NaN   \n",
       "\n",
       "        product_category_name_english  \n",
       "0                    small_appliances  \n",
       "1                    small_appliances  \n",
       "2                    small_appliances  \n",
       "3                        garden_tools  \n",
       "4                        garden_tools  \n",
       "...                               ...  \n",
       "118806                            NaN  \n",
       "118807                            NaN  \n",
       "118808                            NaN  \n",
       "118809                            NaN  \n",
       "118810                            NaN  \n",
       "\n",
       "[118686 rows x 38 columns]"
      ]
     },
     "execution_count": 7,
     "metadata": {},
     "output_type": "execute_result"
    }
   ],
   "source": [
    "data"
   ]
  },
  {
   "cell_type": "code",
   "execution_count": 8,
   "id": "b20af8fd",
   "metadata": {},
   "outputs": [],
   "source": [
    "data.dropna(inplace=True)"
   ]
  },
  {
   "cell_type": "code",
   "execution_count": 9,
   "id": "429db7cc",
   "metadata": {},
   "outputs": [],
   "source": [
    "data[\"order_delivered_customer_date\"] = pd.to_datetime(data[\"order_delivered_customer_date\"])"
   ]
  },
  {
   "cell_type": "code",
   "execution_count": 10,
   "id": "ea073fa7",
   "metadata": {},
   "outputs": [],
   "source": [
    "data_test = data[data[\"order_delivered_customer_date\"] >= pd.to_datetime(\"2018-07-01\")]\n",
    "data_train = data[data[\"order_delivered_customer_date\"] < pd.to_datetime(\"2018-07-01\")]"
   ]
  },
  {
   "cell_type": "code",
   "execution_count": 11,
   "id": "2074254c",
   "metadata": {},
   "outputs": [
    {
     "data": {
      "application/vnd.microsoft.datawrangler.viewer.v0+json": {
       "columns": [
        {
         "name": "index",
         "rawType": "int64",
         "type": "integer"
        },
        {
         "name": "customer_unique_id",
         "rawType": "object",
         "type": "string"
        },
        {
         "name": "R_rank",
         "rawType": "int64",
         "type": "integer"
        },
        {
         "name": "F_rank",
         "rawType": "int64",
         "type": "integer"
        },
        {
         "name": "M_rank",
         "rawType": "int64",
         "type": "integer"
        },
        {
         "name": "RFM_Weighted",
         "rawType": "float64",
         "type": "float"
        },
        {
         "name": "Churn_Risk",
         "rawType": "int64",
         "type": "integer"
        }
       ],
       "conversionMethod": "pd.DataFrame",
       "ref": "6ca13115-d178-4c9b-aef8-ae42c51dd7f2",
       "rows": [
        [
         "0",
         "0000366f3b9a7992bf8c76cfdf3221e2",
         "4",
         "1",
         "1",
         "2.5",
         "2"
        ],
        [
         "1",
         "0000b849f77a49e4a4ce2b2a4ca5be3f",
         "3",
         "1",
         "1",
         "2.0",
         "2"
        ],
        [
         "2",
         "0000f46a3911fa3c0805444483337064",
         "1",
         "1",
         "1",
         "1.0",
         "3"
        ],
        [
         "3",
         "0000f6ccb0745a6a4b88665a16c9f078",
         "2",
         "1",
         "1",
         "1.5",
         "3"
        ],
        [
         "4",
         "0004aac84e0df4da2b147fca70cf8255",
         "2",
         "1",
         "1",
         "1.5",
         "3"
        ]
       ],
       "shape": {
        "columns": 6,
        "rows": 5
       }
      },
      "text/html": [
       "<div>\n",
       "<style scoped>\n",
       "    .dataframe tbody tr th:only-of-type {\n",
       "        vertical-align: middle;\n",
       "    }\n",
       "\n",
       "    .dataframe tbody tr th {\n",
       "        vertical-align: top;\n",
       "    }\n",
       "\n",
       "    .dataframe thead th {\n",
       "        text-align: right;\n",
       "    }\n",
       "</style>\n",
       "<table border=\"1\" class=\"dataframe\">\n",
       "  <thead>\n",
       "    <tr style=\"text-align: right;\">\n",
       "      <th></th>\n",
       "      <th>customer_unique_id</th>\n",
       "      <th>R_rank</th>\n",
       "      <th>F_rank</th>\n",
       "      <th>M_rank</th>\n",
       "      <th>RFM_Weighted</th>\n",
       "      <th>Churn_Risk</th>\n",
       "    </tr>\n",
       "  </thead>\n",
       "  <tbody>\n",
       "    <tr>\n",
       "      <th>0</th>\n",
       "      <td>0000366f3b9a7992bf8c76cfdf3221e2</td>\n",
       "      <td>4</td>\n",
       "      <td>1</td>\n",
       "      <td>1</td>\n",
       "      <td>2.5</td>\n",
       "      <td>2</td>\n",
       "    </tr>\n",
       "    <tr>\n",
       "      <th>1</th>\n",
       "      <td>0000b849f77a49e4a4ce2b2a4ca5be3f</td>\n",
       "      <td>3</td>\n",
       "      <td>1</td>\n",
       "      <td>1</td>\n",
       "      <td>2.0</td>\n",
       "      <td>2</td>\n",
       "    </tr>\n",
       "    <tr>\n",
       "      <th>2</th>\n",
       "      <td>0000f46a3911fa3c0805444483337064</td>\n",
       "      <td>1</td>\n",
       "      <td>1</td>\n",
       "      <td>1</td>\n",
       "      <td>1.0</td>\n",
       "      <td>3</td>\n",
       "    </tr>\n",
       "    <tr>\n",
       "      <th>3</th>\n",
       "      <td>0000f6ccb0745a6a4b88665a16c9f078</td>\n",
       "      <td>2</td>\n",
       "      <td>1</td>\n",
       "      <td>1</td>\n",
       "      <td>1.5</td>\n",
       "      <td>3</td>\n",
       "    </tr>\n",
       "    <tr>\n",
       "      <th>4</th>\n",
       "      <td>0004aac84e0df4da2b147fca70cf8255</td>\n",
       "      <td>2</td>\n",
       "      <td>1</td>\n",
       "      <td>1</td>\n",
       "      <td>1.5</td>\n",
       "      <td>3</td>\n",
       "    </tr>\n",
       "  </tbody>\n",
       "</table>\n",
       "</div>"
      ],
      "text/plain": [
       "                 customer_unique_id  R_rank  F_rank  M_rank  RFM_Weighted  \\\n",
       "0  0000366f3b9a7992bf8c76cfdf3221e2       4       1       1           2.5   \n",
       "1  0000b849f77a49e4a4ce2b2a4ca5be3f       3       1       1           2.0   \n",
       "2  0000f46a3911fa3c0805444483337064       1       1       1           1.0   \n",
       "3  0000f6ccb0745a6a4b88665a16c9f078       2       1       1           1.5   \n",
       "4  0004aac84e0df4da2b147fca70cf8255       2       1       1           1.5   \n",
       "\n",
       "   Churn_Risk  \n",
       "0           2  \n",
       "1           2  \n",
       "2           3  \n",
       "3           3  \n",
       "4           3  "
      ]
     },
     "execution_count": 11,
     "metadata": {},
     "output_type": "execute_result"
    }
   ],
   "source": [
    "labels = pd.read_csv(\"./labels/rfm.csv\")\n",
    "labels.head()"
   ]
  },
  {
   "cell_type": "code",
   "execution_count": 12,
   "id": "63e132ed",
   "metadata": {},
   "outputs": [
    {
     "data": {
      "application/vnd.microsoft.datawrangler.viewer.v0+json": {
       "columns": [
        {
         "name": "index",
         "rawType": "int64",
         "type": "integer"
        },
        {
         "name": "customer_unique_id",
         "rawType": "object",
         "type": "string"
        },
        {
         "name": "Churn_Risk",
         "rawType": "int64",
         "type": "integer"
        }
       ],
       "conversionMethod": "pd.DataFrame",
       "ref": "bd266ed4-d39e-486f-a4a0-f114a5e5bf7b",
       "rows": [
        [
         "0",
         "0000366f3b9a7992bf8c76cfdf3221e2",
         "2"
        ],
        [
         "1",
         "0000b849f77a49e4a4ce2b2a4ca5be3f",
         "2"
        ],
        [
         "2",
         "0000f46a3911fa3c0805444483337064",
         "3"
        ],
        [
         "3",
         "0000f6ccb0745a6a4b88665a16c9f078",
         "3"
        ],
        [
         "4",
         "0004aac84e0df4da2b147fca70cf8255",
         "3"
        ]
       ],
       "shape": {
        "columns": 2,
        "rows": 5
       }
      },
      "text/html": [
       "<div>\n",
       "<style scoped>\n",
       "    .dataframe tbody tr th:only-of-type {\n",
       "        vertical-align: middle;\n",
       "    }\n",
       "\n",
       "    .dataframe tbody tr th {\n",
       "        vertical-align: top;\n",
       "    }\n",
       "\n",
       "    .dataframe thead th {\n",
       "        text-align: right;\n",
       "    }\n",
       "</style>\n",
       "<table border=\"1\" class=\"dataframe\">\n",
       "  <thead>\n",
       "    <tr style=\"text-align: right;\">\n",
       "      <th></th>\n",
       "      <th>customer_unique_id</th>\n",
       "      <th>Churn_Risk</th>\n",
       "    </tr>\n",
       "  </thead>\n",
       "  <tbody>\n",
       "    <tr>\n",
       "      <th>0</th>\n",
       "      <td>0000366f3b9a7992bf8c76cfdf3221e2</td>\n",
       "      <td>2</td>\n",
       "    </tr>\n",
       "    <tr>\n",
       "      <th>1</th>\n",
       "      <td>0000b849f77a49e4a4ce2b2a4ca5be3f</td>\n",
       "      <td>2</td>\n",
       "    </tr>\n",
       "    <tr>\n",
       "      <th>2</th>\n",
       "      <td>0000f46a3911fa3c0805444483337064</td>\n",
       "      <td>3</td>\n",
       "    </tr>\n",
       "    <tr>\n",
       "      <th>3</th>\n",
       "      <td>0000f6ccb0745a6a4b88665a16c9f078</td>\n",
       "      <td>3</td>\n",
       "    </tr>\n",
       "    <tr>\n",
       "      <th>4</th>\n",
       "      <td>0004aac84e0df4da2b147fca70cf8255</td>\n",
       "      <td>3</td>\n",
       "    </tr>\n",
       "  </tbody>\n",
       "</table>\n",
       "</div>"
      ],
      "text/plain": [
       "                 customer_unique_id  Churn_Risk\n",
       "0  0000366f3b9a7992bf8c76cfdf3221e2           2\n",
       "1  0000b849f77a49e4a4ce2b2a4ca5be3f           2\n",
       "2  0000f46a3911fa3c0805444483337064           3\n",
       "3  0000f6ccb0745a6a4b88665a16c9f078           3\n",
       "4  0004aac84e0df4da2b147fca70cf8255           3"
      ]
     },
     "execution_count": 12,
     "metadata": {},
     "output_type": "execute_result"
    }
   ],
   "source": [
    "labels = labels[[\"customer_unique_id\", \"Churn_Risk\"]]\n",
    "labels.head()"
   ]
  },
  {
   "cell_type": "markdown",
   "id": "a7e54638",
   "metadata": {},
   "source": [
    "---\n",
    "### Сформируем портрет клиента на основе подхода который мы использовали для KMeans, но с учетом тех фитов которые мы можем поймать даже при первой покупке клиента, т.е. группа товаров, город, цена товара, оценка товара, что-то, что позволит нам идентифицировать клиента гораздо заранее с определенной долей вероятности"
   ]
  },
  {
   "cell_type": "code",
   "execution_count": 13,
   "id": "62f13b1f",
   "metadata": {},
   "outputs": [
    {
     "data": {
      "application/vnd.microsoft.datawrangler.viewer.v0+json": {
       "columns": [
        {
         "name": "index",
         "rawType": "int64",
         "type": "integer"
        },
        {
         "name": "customer_unique_id",
         "rawType": "object",
         "type": "string"
        },
        {
         "name": "num_orders",
         "rawType": "int64",
         "type": "integer"
        }
       ],
       "conversionMethod": "pd.DataFrame",
       "ref": "403e9da8-091f-4b79-8e0b-4e59cf81ee96",
       "rows": [
        [
         "0",
         "0000366f3b9a7992bf8c76cfdf3221e2",
         "1"
        ],
        [
         "1",
         "0000b849f77a49e4a4ce2b2a4ca5be3f",
         "1"
        ],
        [
         "2",
         "0000f46a3911fa3c0805444483337064",
         "1"
        ],
        [
         "3",
         "0000f6ccb0745a6a4b88665a16c9f078",
         "1"
        ],
        [
         "4",
         "0004aac84e0df4da2b147fca70cf8255",
         "1"
        ],
        [
         "5",
         "0004bd2a26a76fe21f786e4fbd80607f",
         "1"
        ],
        [
         "6",
         "00050ab1314c0e55a6ca13cf7181fecf",
         "1"
        ],
        [
         "7",
         "00053a61a98854899e70ed204dd4bafe",
         "2"
        ],
        [
         "8",
         "0005e1862207bf6ccc02e4228effd9a0",
         "1"
        ],
        [
         "9",
         "0005ef4cd20d2893f0d9fbd94d3c0d97",
         "1"
        ],
        [
         "10",
         "0006fdc98a402fceb4eb0ee528f6a8d4",
         "1"
        ],
        [
         "11",
         "00082cbe03e478190aadbea78542e933",
         "1"
        ],
        [
         "12",
         "00090324bbad0e9342388303bb71ba0a",
         "1"
        ],
        [
         "13",
         "000949456b182f53c18b68d6babc79c1",
         "1"
        ],
        [
         "14",
         "000a5ad9c4601d2bbdd9ed765d5213b3",
         "1"
        ],
        [
         "15",
         "000bfa1d2f1a41876493be685390d6d3",
         "2"
        ],
        [
         "16",
         "000c8bdb58a29e7115cfc257230fb21b",
         "1"
        ],
        [
         "17",
         "000d460961d6dbfa3ec6c9f5805769e1",
         "1"
        ],
        [
         "18",
         "000de6019bb59f34c099a907c151d855",
         "2"
        ],
        [
         "19",
         "000ed48ceeb6f4bf8ad021a10a3c7b43",
         "1"
        ],
        [
         "20",
         "0010a452c6d13139e50b57f19f52e04e",
         "1"
        ],
        [
         "21",
         "0010fb34b966d44409382af9e8fd5b77",
         "1"
        ],
        [
         "22",
         "001147e649a7b1afd577e873841632dd",
         "2"
        ],
        [
         "23",
         "00115fc7123b5310cf6d3a3aa932699e",
         "1"
        ],
        [
         "24",
         "0011805441c0d1b68b48002f1d005526",
         "1"
        ],
        [
         "25",
         "0011857aff0e5871ce5eb429f21cdaf5",
         "1"
        ],
        [
         "26",
         "0011c98589159d6149979563c504cb21",
         "1"
        ],
        [
         "27",
         "0012929d977a8d7280bb277c1e5f589d",
         "1"
        ],
        [
         "28",
         "0014a5a58da615f7b01a4f5e194bf5ea",
         "1"
        ],
        [
         "29",
         "00191a9719ef48ebb5860b130347bf33",
         "1"
        ],
        [
         "30",
         "001926cef41060fae572e2e7b30bd2a4",
         "2"
        ],
        [
         "31",
         "00196fdb2bf9edfc35e88ebfbcf8d781",
         "1"
        ],
        [
         "32",
         "0019da6aa6bcb27cc32f1249bd12da05",
         "1"
        ],
        [
         "33",
         "0019e8c501c85848ac0966d45226fa1d",
         "1"
        ],
        [
         "34",
         "001a2bf0e46c684031af91fb2bce149d",
         "1"
        ],
        [
         "35",
         "001a3a8e11d76c9a366c31a4aa2cc529",
         "1"
        ],
        [
         "36",
         "001ae5a1788703d64536c30362503e49",
         "1"
        ],
        [
         "37",
         "001f3c4211216384d5fe59b041ce1461",
         "1"
        ],
        [
         "38",
         "002043098f10ba39a4600b6c52fbfe3c",
         "1"
        ],
        [
         "39",
         "002311514717ca8b65b09a26cdf7b91a",
         "1"
        ],
        [
         "40",
         "0023557a94bef0038066b5d1b3dc763e",
         "1"
        ],
        [
         "41",
         "00256bf7b05c08f6a5849df3d0a64f1f",
         "1"
        ],
        [
         "42",
         "0027324a96d26a2bc7d69262f83c8403",
         "1"
        ],
        [
         "43",
         "0028a7d8db7b0247652509358ad8d755",
         "2"
        ],
        [
         "44",
         "0028cfeb9dfcd3628a56d5b6400deef5",
         "1"
        ],
        [
         "45",
         "00293787e2aec37a9c253b63fdfe2049",
         "2"
        ],
        [
         "46",
         "002aba8c1af80acacef6e011f9f23262",
         "1"
        ],
        [
         "47",
         "002ae492472e45ad6ebeb7a625409392",
         "2"
        ],
        [
         "48",
         "002b4cd83fabaffaa475f78ea5ef3e08",
         "1"
        ],
        [
         "49",
         "002bdeb33da5b1b3ce8b9c822f749c82",
         "1"
        ]
       ],
       "shape": {
        "columns": 2,
        "rows": 77869
       }
      },
      "text/html": [
       "<div>\n",
       "<style scoped>\n",
       "    .dataframe tbody tr th:only-of-type {\n",
       "        vertical-align: middle;\n",
       "    }\n",
       "\n",
       "    .dataframe tbody tr th {\n",
       "        vertical-align: top;\n",
       "    }\n",
       "\n",
       "    .dataframe thead th {\n",
       "        text-align: right;\n",
       "    }\n",
       "</style>\n",
       "<table border=\"1\" class=\"dataframe\">\n",
       "  <thead>\n",
       "    <tr style=\"text-align: right;\">\n",
       "      <th></th>\n",
       "      <th>customer_unique_id</th>\n",
       "      <th>num_orders</th>\n",
       "    </tr>\n",
       "  </thead>\n",
       "  <tbody>\n",
       "    <tr>\n",
       "      <th>0</th>\n",
       "      <td>0000366f3b9a7992bf8c76cfdf3221e2</td>\n",
       "      <td>1</td>\n",
       "    </tr>\n",
       "    <tr>\n",
       "      <th>1</th>\n",
       "      <td>0000b849f77a49e4a4ce2b2a4ca5be3f</td>\n",
       "      <td>1</td>\n",
       "    </tr>\n",
       "    <tr>\n",
       "      <th>2</th>\n",
       "      <td>0000f46a3911fa3c0805444483337064</td>\n",
       "      <td>1</td>\n",
       "    </tr>\n",
       "    <tr>\n",
       "      <th>3</th>\n",
       "      <td>0000f6ccb0745a6a4b88665a16c9f078</td>\n",
       "      <td>1</td>\n",
       "    </tr>\n",
       "    <tr>\n",
       "      <th>4</th>\n",
       "      <td>0004aac84e0df4da2b147fca70cf8255</td>\n",
       "      <td>1</td>\n",
       "    </tr>\n",
       "    <tr>\n",
       "      <th>...</th>\n",
       "      <td>...</td>\n",
       "      <td>...</td>\n",
       "    </tr>\n",
       "    <tr>\n",
       "      <th>77864</th>\n",
       "      <td>fffcf5a5ff07b0908bd4e2dbc735a684</td>\n",
       "      <td>2</td>\n",
       "    </tr>\n",
       "    <tr>\n",
       "      <th>77865</th>\n",
       "      <td>fffea47cd6d3cc0a88bd621562a9d061</td>\n",
       "      <td>1</td>\n",
       "    </tr>\n",
       "    <tr>\n",
       "      <th>77866</th>\n",
       "      <td>ffff371b4d645b6ecea244b27531430a</td>\n",
       "      <td>1</td>\n",
       "    </tr>\n",
       "    <tr>\n",
       "      <th>77867</th>\n",
       "      <td>ffff5962728ec6157033ef9805bacc48</td>\n",
       "      <td>1</td>\n",
       "    </tr>\n",
       "    <tr>\n",
       "      <th>77868</th>\n",
       "      <td>ffffd2657e2aad2907e67c3e9daecbeb</td>\n",
       "      <td>1</td>\n",
       "    </tr>\n",
       "  </tbody>\n",
       "</table>\n",
       "<p>77869 rows × 2 columns</p>\n",
       "</div>"
      ],
      "text/plain": [
       "                     customer_unique_id  num_orders\n",
       "0      0000366f3b9a7992bf8c76cfdf3221e2           1\n",
       "1      0000b849f77a49e4a4ce2b2a4ca5be3f           1\n",
       "2      0000f46a3911fa3c0805444483337064           1\n",
       "3      0000f6ccb0745a6a4b88665a16c9f078           1\n",
       "4      0004aac84e0df4da2b147fca70cf8255           1\n",
       "...                                 ...         ...\n",
       "77864  fffcf5a5ff07b0908bd4e2dbc735a684           2\n",
       "77865  fffea47cd6d3cc0a88bd621562a9d061           1\n",
       "77866  ffff371b4d645b6ecea244b27531430a           1\n",
       "77867  ffff5962728ec6157033ef9805bacc48           1\n",
       "77868  ffffd2657e2aad2907e67c3e9daecbeb           1\n",
       "\n",
       "[77869 rows x 2 columns]"
      ]
     },
     "execution_count": 13,
     "metadata": {},
     "output_type": "execute_result"
    }
   ],
   "source": [
    "# Сформируем информацию по количеству покупок\n",
    "orderer_by_client_train = data_train.groupby([\"customer_unique_id\",])[\n",
    "    [\"order_id\"]].count().reset_index().rename(columns={\"order_id\":\"num_orders\"})\n",
    "\n",
    "orderer_by_client_train"
   ]
  },
  {
   "cell_type": "code",
   "execution_count": 14,
   "id": "155ca886",
   "metadata": {},
   "outputs": [
    {
     "data": {
      "application/vnd.microsoft.datawrangler.viewer.v0+json": {
       "columns": [
        {
         "name": "index",
         "rawType": "int64",
         "type": "integer"
        },
        {
         "name": "customer_unique_id",
         "rawType": "object",
         "type": "string"
        },
        {
         "name": "num_orders",
         "rawType": "int64",
         "type": "integer"
        }
       ],
       "conversionMethod": "pd.DataFrame",
       "ref": "fdb3c54a-eacc-4a4f-a3a6-a345f1fdd30d",
       "rows": [
        [
         "0",
         "000e309254ab1fc5ba99dd469d36bdb4",
         "2"
        ],
        [
         "1",
         "000ec5bff359e1c0ad76a81a45cb598f",
         "1"
        ],
        [
         "2",
         "000fbf0473c10fc1ab6f8d2d286ce20c",
         "4"
        ],
        [
         "3",
         "0015752e079902b12cd00b9b7596276b",
         "2"
        ],
        [
         "4",
         "00172711b30d52eea8b313a7f2cced02",
         "1"
        ],
        [
         "5",
         "001928b561575b2821c92254a2327d06",
         "2"
        ],
        [
         "6",
         "00196c4c9a3af7dd2ad10eade69c926f",
         "1"
        ],
        [
         "7",
         "001a34eb30ecb8e3aacb07c475ca4dd1",
         "1"
        ],
        [
         "8",
         "001deb796b28a3a128d6113857569aa4",
         "1"
        ],
        [
         "9",
         "002471155ecd08d208d1376720e2a907",
         "1"
        ],
        [
         "10",
         "0025795df7a7d077c4c90162fa820085",
         "2"
        ],
        [
         "11",
         "003162bf0351f47a1a247992b8b9b42d",
         "1"
        ],
        [
         "12",
         "0032ca69771a7758ce643258bb9e4ac7",
         "1"
        ],
        [
         "13",
         "0033f4a2887e07e25aa1204d482f41ba",
         "1"
        ],
        [
         "14",
         "00344274804f3b8003de1b0562ae01df",
         "1"
        ],
        [
         "15",
         "00391594070baf8603f5fdc1d0c6a48c",
         "1"
        ],
        [
         "16",
         "003a5571a07dcf09bf117d13d2980ba3",
         "1"
        ],
        [
         "17",
         "003a7a8eb096ed3cbf713d2def1ca701",
         "1"
        ],
        [
         "18",
         "003ae409f37c3c30cb1c974af3a42692",
         "1"
        ],
        [
         "19",
         "003c2067070f5b3d923235b1ea1cc17b",
         "1"
        ],
        [
         "20",
         "003fb95e849e71e732629d94bb92762f",
         "1"
        ],
        [
         "21",
         "0042dfa8925d6eb23e471ec350454f04",
         "1"
        ],
        [
         "22",
         "0048706e497cfba0b689e1e3497bc99e",
         "1"
        ],
        [
         "23",
         "0048a779a98a7848514096ff04046079",
         "1"
        ],
        [
         "24",
         "0049ec2d7a5818d0e4b3f4735cec2458",
         "1"
        ],
        [
         "25",
         "004b9b1634b7becda8eec4e96bced882",
         "1"
        ],
        [
         "26",
         "004df63539fd5e38d4b0a0506de7549c",
         "1"
        ],
        [
         "27",
         "00504b68faa074d0f40adcb4f7727f71",
         "2"
        ],
        [
         "28",
         "0056c2dd794a5eede6164dcae635875a",
         "1"
        ],
        [
         "29",
         "005754cb59f8ee5cdbb5cda9d138757e",
         "2"
        ],
        [
         "30",
         "0057f64bff87f4698b4cbd338d62a2a8",
         "1"
        ],
        [
         "31",
         "005f6fa02633470267dcd1e3ecd0fa79",
         "1"
        ],
        [
         "32",
         "0065f7795a38381973a373c8b4939679",
         "1"
        ],
        [
         "33",
         "0067d2652c12515146721538868bbd80",
         "1"
        ],
        [
         "34",
         "0068bd2e9e76c018846dbc6e2bec5ac5",
         "1"
        ],
        [
         "35",
         "00705dcbc0b9cad67abd658612770905",
         "1"
        ],
        [
         "36",
         "007658319c060f337577e8a1834d5df5",
         "1"
        ],
        [
         "37",
         "0077ba3f829303a1dce98552495c91a1",
         "1"
        ],
        [
         "38",
         "0087c31081ea8d160baa06bf4ad4d76f",
         "1"
        ],
        [
         "39",
         "008b06aba4b5f5b5b94f525ccf520624",
         "2"
        ],
        [
         "40",
         "008ca52811784a181c8c88e8d66b49db",
         "1"
        ],
        [
         "41",
         "00950dbc783342e164c24e09023ebcb7",
         "1"
        ],
        [
         "42",
         "00a02d822b18db532e50e0607e615f3b",
         "1"
        ],
        [
         "43",
         "00a1d0d7d91c17c634d6896ce10ce1c6",
         "1"
        ],
        [
         "44",
         "00a33236962b4ac37fd25275be9c206b",
         "1"
        ],
        [
         "45",
         "00b246520d4904724f9b20188a2ff39b",
         "1"
        ],
        [
         "46",
         "00b2ca23369b68c4d4105ecea9c0cb93",
         "1"
        ],
        [
         "47",
         "00b742e2f6d8fa571cd560007081d53b",
         "1"
        ],
        [
         "48",
         "00b9746bf8ac2964942d8b969f015196",
         "1"
        ],
        [
         "49",
         "00c07da5ba0e07b4f248a3a373b07476",
         "1"
        ]
       ],
       "shape": {
        "columns": 2,
        "rows": 13901
       }
      },
      "text/html": [
       "<div>\n",
       "<style scoped>\n",
       "    .dataframe tbody tr th:only-of-type {\n",
       "        vertical-align: middle;\n",
       "    }\n",
       "\n",
       "    .dataframe tbody tr th {\n",
       "        vertical-align: top;\n",
       "    }\n",
       "\n",
       "    .dataframe thead th {\n",
       "        text-align: right;\n",
       "    }\n",
       "</style>\n",
       "<table border=\"1\" class=\"dataframe\">\n",
       "  <thead>\n",
       "    <tr style=\"text-align: right;\">\n",
       "      <th></th>\n",
       "      <th>customer_unique_id</th>\n",
       "      <th>num_orders</th>\n",
       "    </tr>\n",
       "  </thead>\n",
       "  <tbody>\n",
       "    <tr>\n",
       "      <th>0</th>\n",
       "      <td>000e309254ab1fc5ba99dd469d36bdb4</td>\n",
       "      <td>2</td>\n",
       "    </tr>\n",
       "    <tr>\n",
       "      <th>1</th>\n",
       "      <td>000ec5bff359e1c0ad76a81a45cb598f</td>\n",
       "      <td>1</td>\n",
       "    </tr>\n",
       "    <tr>\n",
       "      <th>2</th>\n",
       "      <td>000fbf0473c10fc1ab6f8d2d286ce20c</td>\n",
       "      <td>4</td>\n",
       "    </tr>\n",
       "    <tr>\n",
       "      <th>3</th>\n",
       "      <td>0015752e079902b12cd00b9b7596276b</td>\n",
       "      <td>2</td>\n",
       "    </tr>\n",
       "    <tr>\n",
       "      <th>4</th>\n",
       "      <td>00172711b30d52eea8b313a7f2cced02</td>\n",
       "      <td>1</td>\n",
       "    </tr>\n",
       "    <tr>\n",
       "      <th>...</th>\n",
       "      <td>...</td>\n",
       "      <td>...</td>\n",
       "    </tr>\n",
       "    <tr>\n",
       "      <th>13896</th>\n",
       "      <td>ffec490ab531184a483efe2eedd68908</td>\n",
       "      <td>1</td>\n",
       "    </tr>\n",
       "    <tr>\n",
       "      <th>13897</th>\n",
       "      <td>ffee94d548cef05b146d825a7648dab4</td>\n",
       "      <td>1</td>\n",
       "    </tr>\n",
       "    <tr>\n",
       "      <th>13898</th>\n",
       "      <td>fff3e1d7bc75f11dc7670619b2e61840</td>\n",
       "      <td>1</td>\n",
       "    </tr>\n",
       "    <tr>\n",
       "      <th>13899</th>\n",
       "      <td>fff5eb4918b2bf4b2da476788d42051c</td>\n",
       "      <td>6</td>\n",
       "    </tr>\n",
       "    <tr>\n",
       "      <th>13900</th>\n",
       "      <td>fff96bc586f78b1f070da28c4977e810</td>\n",
       "      <td>1</td>\n",
       "    </tr>\n",
       "  </tbody>\n",
       "</table>\n",
       "<p>13901 rows × 2 columns</p>\n",
       "</div>"
      ],
      "text/plain": [
       "                     customer_unique_id  num_orders\n",
       "0      000e309254ab1fc5ba99dd469d36bdb4           2\n",
       "1      000ec5bff359e1c0ad76a81a45cb598f           1\n",
       "2      000fbf0473c10fc1ab6f8d2d286ce20c           4\n",
       "3      0015752e079902b12cd00b9b7596276b           2\n",
       "4      00172711b30d52eea8b313a7f2cced02           1\n",
       "...                                 ...         ...\n",
       "13896  ffec490ab531184a483efe2eedd68908           1\n",
       "13897  ffee94d548cef05b146d825a7648dab4           1\n",
       "13898  fff3e1d7bc75f11dc7670619b2e61840           1\n",
       "13899  fff5eb4918b2bf4b2da476788d42051c           6\n",
       "13900  fff96bc586f78b1f070da28c4977e810           1\n",
       "\n",
       "[13901 rows x 2 columns]"
      ]
     },
     "execution_count": 14,
     "metadata": {},
     "output_type": "execute_result"
    }
   ],
   "source": [
    "# Сформируем информацию по количеству покупок\n",
    "orderer_by_client_test = data_test.groupby([\"customer_unique_id\",])[\n",
    "    [\"order_id\"]].count().reset_index().rename(columns={\"order_id\":\"num_orders\"})\n",
    "\n",
    "orderer_by_client_test"
   ]
  },
  {
   "cell_type": "code",
   "execution_count": 15,
   "id": "c0f02264",
   "metadata": {},
   "outputs": [
    {
     "data": {
      "application/vnd.microsoft.datawrangler.viewer.v0+json": {
       "columns": [
        {
         "name": "index",
         "rawType": "int64",
         "type": "integer"
        },
        {
         "name": "customer_unique_id",
         "rawType": "object",
         "type": "string"
        },
        {
         "name": "customer_city",
         "rawType": "object",
         "type": "string"
        }
       ],
       "conversionMethod": "pd.DataFrame",
       "ref": "56fdc11f-7b7c-4e0e-a70b-9001348105fe",
       "rows": [
        [
         "0",
         "3c7e305796add66698959fc7ad176f6b",
         "umuarama"
        ],
        [
         "1",
         "9de5797cddb92598755a0f76383ddbbb",
         "entre rios de minas"
        ],
        [
         "2",
         "9915eb9f74b6c11aaf04833f65b00e93",
         "paracatu"
        ],
        [
         "3",
         "dce323533e45e74d215e0fe7fb114118",
         "sao goncalo"
        ],
        [
         "5",
         "acfca8c3549ceceba9e125afc0349610",
         "curitiba"
        ],
        [
         "6",
         "6d30fb7a44f6405e3df4ec6a5a1c787c",
         "anguera"
        ],
        [
         "7",
         "fd65dc867fc1c42c8421fae7fb4eba67",
         "feira de santana"
        ],
        [
         "8",
         "eb69ead1e0da68c941a67677f6a39f3b",
         "osasco"
        ],
        [
         "10",
         "862b2b94a70e91cb0e9f1224d736992d",
         "castro"
        ],
        [
         "11",
         "2ac356d0dbef7022ef6e7d96151744f0",
         "juazeiro"
        ],
        [
         "12",
         "581f517c9afcdcc8d3a9d827f83e51a2",
         "videira"
        ],
        [
         "13",
         "20ae7f5cb408302fe02d95d78c8d4f01",
         "concordia"
        ],
        [
         "15",
         "4ed16134a4f12d79e401be023468cbe1",
         "marica"
        ],
        [
         "17",
         "be8b51073ad2413727c89e38b38e5818",
         "cachoeirinha"
        ],
        [
         "18",
         "919b613e7aa171cb4ca017c049fbc5da",
         "leme"
        ],
        [
         "20",
         "ec480617d171ec40842fd13cf45dcf6f",
         "sao paulo"
        ],
        [
         "21",
         "dc9108cdc59294eebe936e0971e6da63",
         "fortaleza"
        ],
        [
         "23",
         "2eb631a7476babac8aac18cfd99bb7d1",
         "santo andre"
        ],
        [
         "25",
         "bd32064dc20647a566342828eded6fd6",
         "hortolandia"
        ],
        [
         "26",
         "551a43d7e0bb14426e6ca28d7eec8463",
         "angra dos reis"
        ],
        [
         "31",
         "18cdff92d2777ba2cebf27e4a6370a6f",
         "sao paulo"
        ],
        [
         "32",
         "dac056a3c0afdd113e5cfa5698f561e7",
         "jaragua do sul"
        ],
        [
         "33",
         "21f748a16f4e1688a9014eb3ee6fa325",
         "piracicaba"
        ],
        [
         "34",
         "013ae505c83f5fb1905ed23afdafd3a2",
         "belo horizonte"
        ],
        [
         "35",
         "d1354b6a5a8b77dbbe3e3187e418e8ec",
         "caraguatatuba"
        ],
        [
         "36",
         "e58f0403dc02936d911f974a17c5610a",
         "sao paulo"
        ],
        [
         "37",
         "cf4521a1632386922541928abd69ab42",
         "pelotas"
        ],
        [
         "38",
         "9fc089b0b6a8db40d4357e784f1e91d4",
         "agua santa"
        ],
        [
         "39",
         "1df0a296f852bdf1a17b085730f4b894",
         "guaruja"
        ],
        [
         "40",
         "73b44df1a4441ad7605dfa49624655bc",
         "viamao"
        ],
        [
         "41",
         "bfe1ecef0f01ad67e5e0cf1860e94e60",
         "adamantina"
        ],
        [
         "42",
         "062933ff315c2b7a8c4a302a115be4c4",
         "curitiba"
        ],
        [
         "43",
         "d31877e6feecf887ec4e9b95c30e6422",
         "santo andre"
        ],
        [
         "44",
         "cd16d14e5c24e8d4ef137c35c00edf37",
         "sao goncalo"
        ],
        [
         "45",
         "7c7a3e75a07057d6e7e5ef9989d38f13",
         "teresina"
        ],
        [
         "46",
         "1267212283399f8294c491fec2b02be9",
         "sao bernardo do campo"
        ],
        [
         "47",
         "d17cf621fd6150d478c7a017158db8c7",
         "mesquita"
        ],
        [
         "48",
         "52dea3631aa7ae55b1fc52a767908327",
         "montes claros"
        ],
        [
         "49",
         "24433952cd744df9e64ee3ed8fc4e10d",
         "curitiba"
        ],
        [
         "50",
         "dfaeedb50d4f20b01551db05f8c0691d",
         "franca"
        ],
        [
         "52",
         "084fda7ed25e2b249c425263a2197bc0",
         "sorocaba"
        ],
        [
         "53",
         "2aa86eae0b8c66d71038f9652e3f2897",
         "salvador"
        ],
        [
         "54",
         "21bb05add38438bb24dbdbaa3ef7817d",
         "sorocaba"
        ],
        [
         "56",
         "89d68ade60d5942d65fa5189c810bdab",
         "capivari de baixo"
        ],
        [
         "57",
         "a6851c3bb0ecbf1b0f2b03e9416ccb1f",
         "barreiras"
        ],
        [
         "61",
         "7f9a82af65e8568d377ea5046f53a8da",
         "divinopolis"
        ],
        [
         "62",
         "cb7b0a31f4d257be90adf28f7a0afc47",
         "paraguacu"
        ],
        [
         "66",
         "7f31cf9189427507d76ff27437f75309",
         "rio de janeiro"
        ],
        [
         "67",
         "af7677b14139402d72356e06e8d6b924",
         "brasilia"
        ],
        [
         "68",
         "86743f9f9dcf64def58f3ff5b150eed7",
         "piuma"
        ]
       ],
       "shape": {
        "columns": 2,
        "rows": 77958
       }
      },
      "text/html": [
       "<div>\n",
       "<style scoped>\n",
       "    .dataframe tbody tr th:only-of-type {\n",
       "        vertical-align: middle;\n",
       "    }\n",
       "\n",
       "    .dataframe tbody tr th {\n",
       "        vertical-align: top;\n",
       "    }\n",
       "\n",
       "    .dataframe thead th {\n",
       "        text-align: right;\n",
       "    }\n",
       "</style>\n",
       "<table border=\"1\" class=\"dataframe\">\n",
       "  <thead>\n",
       "    <tr style=\"text-align: right;\">\n",
       "      <th></th>\n",
       "      <th>customer_unique_id</th>\n",
       "      <th>customer_city</th>\n",
       "    </tr>\n",
       "  </thead>\n",
       "  <tbody>\n",
       "    <tr>\n",
       "      <th>0</th>\n",
       "      <td>3c7e305796add66698959fc7ad176f6b</td>\n",
       "      <td>umuarama</td>\n",
       "    </tr>\n",
       "    <tr>\n",
       "      <th>1</th>\n",
       "      <td>9de5797cddb92598755a0f76383ddbbb</td>\n",
       "      <td>entre rios de minas</td>\n",
       "    </tr>\n",
       "    <tr>\n",
       "      <th>2</th>\n",
       "      <td>9915eb9f74b6c11aaf04833f65b00e93</td>\n",
       "      <td>paracatu</td>\n",
       "    </tr>\n",
       "    <tr>\n",
       "      <th>3</th>\n",
       "      <td>dce323533e45e74d215e0fe7fb114118</td>\n",
       "      <td>sao goncalo</td>\n",
       "    </tr>\n",
       "    <tr>\n",
       "      <th>5</th>\n",
       "      <td>acfca8c3549ceceba9e125afc0349610</td>\n",
       "      <td>curitiba</td>\n",
       "    </tr>\n",
       "    <tr>\n",
       "      <th>...</th>\n",
       "      <td>...</td>\n",
       "      <td>...</td>\n",
       "    </tr>\n",
       "    <tr>\n",
       "      <th>115826</th>\n",
       "      <td>f992b70fb02cdfadc277f493997515b7</td>\n",
       "      <td>porto ferreira</td>\n",
       "    </tr>\n",
       "    <tr>\n",
       "      <th>115827</th>\n",
       "      <td>08da95f931937b2c20f5225f2e6c93b0</td>\n",
       "      <td>santo andre</td>\n",
       "    </tr>\n",
       "    <tr>\n",
       "      <th>115828</th>\n",
       "      <td>051bc94e9cd865806bba8eeefb336d0a</td>\n",
       "      <td>cesario lange</td>\n",
       "    </tr>\n",
       "    <tr>\n",
       "      <th>115829</th>\n",
       "      <td>e03a1bf47d42257f8e8e5e8775696622</td>\n",
       "      <td>embu-guacu</td>\n",
       "    </tr>\n",
       "    <tr>\n",
       "      <th>115830</th>\n",
       "      <td>4182d20f129b3679e6808317f1e95567</td>\n",
       "      <td>campinas</td>\n",
       "    </tr>\n",
       "  </tbody>\n",
       "</table>\n",
       "<p>77958 rows × 2 columns</p>\n",
       "</div>"
      ],
      "text/plain": [
       "                      customer_unique_id        customer_city\n",
       "0       3c7e305796add66698959fc7ad176f6b             umuarama\n",
       "1       9de5797cddb92598755a0f76383ddbbb  entre rios de minas\n",
       "2       9915eb9f74b6c11aaf04833f65b00e93             paracatu\n",
       "3       dce323533e45e74d215e0fe7fb114118          sao goncalo\n",
       "5       acfca8c3549ceceba9e125afc0349610             curitiba\n",
       "...                                  ...                  ...\n",
       "115826  f992b70fb02cdfadc277f493997515b7       porto ferreira\n",
       "115827  08da95f931937b2c20f5225f2e6c93b0          santo andre\n",
       "115828  051bc94e9cd865806bba8eeefb336d0a        cesario lange\n",
       "115829  e03a1bf47d42257f8e8e5e8775696622           embu-guacu\n",
       "115830  4182d20f129b3679e6808317f1e95567             campinas\n",
       "\n",
       "[77958 rows x 2 columns]"
      ]
     },
     "execution_count": 15,
     "metadata": {},
     "output_type": "execute_result"
    }
   ],
   "source": [
    "clients_city_train = data_train[[\"customer_unique_id\", \"customer_city\"]]\n",
    "clients_city_train = clients_city_train.drop_duplicates()\n",
    "clients_city_train"
   ]
  },
  {
   "cell_type": "code",
   "execution_count": 16,
   "id": "591fe7a4",
   "metadata": {},
   "outputs": [
    {
     "data": {
      "application/vnd.microsoft.datawrangler.viewer.v0+json": {
       "columns": [
        {
         "name": "index",
         "rawType": "int64",
         "type": "integer"
        },
        {
         "name": "customer_unique_id",
         "rawType": "object",
         "type": "string"
        },
        {
         "name": "customer_city",
         "rawType": "object",
         "type": "string"
        }
       ],
       "conversionMethod": "pd.DataFrame",
       "ref": "6438b772-f87c-4e45-9a94-e2ca3debab65",
       "rows": [
        [
         "9",
         "dd47740f3c285d15d8c9c72fc204e78a",
         "belo horizonte"
        ],
        [
         "201",
         "bdd6161ef248021de58940666e32ce93",
         "prudentopolis"
        ],
        [
         "515",
         "a30df00a22c69239b63f02b32fd233c7",
         "sao paulo"
        ],
        [
         "527",
         "268a7f591b53e9d437da6fa851aecd9e",
         "brasilia"
        ],
        [
         "683",
         "b1509fcb21da7376ef86182f65298ded",
         "sao paulo"
        ],
        [
         "701",
         "c1dffa0ed8695e4823f90ae4550e336e",
         "sao paulo"
        ],
        [
         "865",
         "487e7e69517aa5d6fe673aa3d46acf06",
         "presidente prudente"
        ],
        [
         "872",
         "44016db6072d394d603eb8e7741554a2",
         "santa branca"
        ],
        [
         "873",
         "1896efb077779c378d7cc57a290a303d",
         "campo mourao"
        ],
        [
         "874",
         "8d50f5eadf50201ccdcedfb9e2ac8455",
         "sao paulo"
        ],
        [
         "916",
         "c373ff22a7aa4f91a4cf85688e7b3f75",
         "julio mesquita"
        ],
        [
         "918",
         "da6c70612a3d7484427e8442ff96056c",
         "jundiai"
        ],
        [
         "928",
         "04093066bc3fa341df1261a78e9a8e89",
         "tangara da serra"
        ],
        [
         "929",
         "a9c3f19dd756a0f8d81c14f0616761e9",
         "porto alegre"
        ],
        [
         "931",
         "97a8c192968ddbded45b8fc64563ac3e",
         "sao paulo"
        ],
        [
         "933",
         "7bef4a9ca5f6e11c24a94b7f816cc4a4",
         "belo horizonte"
        ],
        [
         "936",
         "06a492c4633c57918215fa9b4f87919a",
         "sao paulo"
        ],
        [
         "937",
         "83427bc11e1e5fce6f827c2472fc8be9",
         "sao paulo"
        ],
        [
         "939",
         "63090a16cf5072baf04479c8adb04a46",
         "rio de janeiro"
        ],
        [
         "940",
         "1d84ae042ab75a74c83ee89130cd9115",
         "diadema"
        ],
        [
         "942",
         "64421b0701a2c51c0a2e2c8a9a06dc59",
         "campinas"
        ],
        [
         "946",
         "b9d026a7323a6a6e96961d4cb2ffc902",
         "mutum"
        ],
        [
         "956",
         "0d312c82ca29ab2d5d5e29f30f5168ee",
         "sao bernardo do campo"
        ],
        [
         "964",
         "aecb58a40bd7dffb5623df12cd8f4837",
         "guarulhos"
        ],
        [
         "990",
         "3c2ee70d168dd3b2f4139e95dc5e5005",
         "sao joao da boa vista"
        ],
        [
         "1088",
         "10c04a9366e94baf4f2fcc2e3e1a62fc",
         "brasilia"
        ],
        [
         "1089",
         "fe2be031363fbeb53703145ce05f440b",
         "porto alegre"
        ],
        [
         "1090",
         "e0a5db60810bf77e8297ec649fdff00d",
         "jaragua do sul"
        ],
        [
         "1093",
         "16e0f0577c09e6c32d6ae9a42ebf874b",
         "sao caetano do sul"
        ],
        [
         "1094",
         "98133f3d328de825de71642dc8a49467",
         "sao paulo"
        ],
        [
         "1099",
         "16c3fbe7788b5a59f325ac0175b48e2a",
         "belo horizonte"
        ],
        [
         "1105",
         "d8f3c4f441a9b59a29f977df16724f38",
         "sao bernardo do campo"
        ],
        [
         "1106",
         "c82677c0f4ba35f3e3a928f38de5cab2",
         "sao paulo"
        ],
        [
         "1107",
         "97107c892093c359b94a37cf51e09d27",
         "sao paulo"
        ],
        [
         "1108",
         "1d6b10164a653cc7b008b27a3d1a6598",
         "sao paulo"
        ],
        [
         "1116",
         "bc7e09410b08895e9d9ad2144f7f17d5",
         "rio de janeiro"
        ],
        [
         "1117",
         "4ed82d2c4fb7be1abe53c72f75c4e269",
         "uberaba"
        ],
        [
         "1118",
         "167c4b188bfb3d78528f2d795400fa15",
         "sao paulo"
        ],
        [
         "1119",
         "5988eceb1e86a7162dbb279ed2401a8c",
         "presidente epitacio"
        ],
        [
         "1120",
         "81ed63903142641cd6b9318258281764",
         "coronel vivida"
        ],
        [
         "1121",
         "1852429a01e2dd12b065a0a2cacbe1bd",
         "imbituba"
        ],
        [
         "1122",
         "60ad8e5d883bf4980a1bf8f28d730411",
         "belo horizonte"
        ],
        [
         "1125",
         "4758bb880479dc35ec48f38bebcdcfc7",
         "belo horizonte"
        ],
        [
         "1127",
         "ea6c32cd21c1105cbdc3a6e10c14a75f",
         "schroeder"
        ],
        [
         "1128",
         "a672e4e4af506e713c1b4373e038cabb",
         "santo andre"
        ],
        [
         "1135",
         "6acf05191f069f9819ddaef370945f00",
         "florianopolis"
        ],
        [
         "1140",
         "7cecee7f130941c470e112c8c9234e4e",
         "sao jose do barreiro"
        ],
        [
         "1145",
         "463b274f7ab4cac3b894531a03a7afa1",
         "santa maria"
        ],
        [
         "1161",
         "e72ca4ec535043aba6d08184a176341a",
         "curitiba"
        ],
        [
         "1162",
         "9baef1636c4aee3e6ec85931c36aa0e3",
         "alambari"
        ]
       ],
       "shape": {
        "columns": 2,
        "rows": 13902
       }
      },
      "text/html": [
       "<div>\n",
       "<style scoped>\n",
       "    .dataframe tbody tr th:only-of-type {\n",
       "        vertical-align: middle;\n",
       "    }\n",
       "\n",
       "    .dataframe tbody tr th {\n",
       "        vertical-align: top;\n",
       "    }\n",
       "\n",
       "    .dataframe thead th {\n",
       "        text-align: right;\n",
       "    }\n",
       "</style>\n",
       "<table border=\"1\" class=\"dataframe\">\n",
       "  <thead>\n",
       "    <tr style=\"text-align: right;\">\n",
       "      <th></th>\n",
       "      <th>customer_unique_id</th>\n",
       "      <th>customer_city</th>\n",
       "    </tr>\n",
       "  </thead>\n",
       "  <tbody>\n",
       "    <tr>\n",
       "      <th>9</th>\n",
       "      <td>dd47740f3c285d15d8c9c72fc204e78a</td>\n",
       "      <td>belo horizonte</td>\n",
       "    </tr>\n",
       "    <tr>\n",
       "      <th>201</th>\n",
       "      <td>bdd6161ef248021de58940666e32ce93</td>\n",
       "      <td>prudentopolis</td>\n",
       "    </tr>\n",
       "    <tr>\n",
       "      <th>515</th>\n",
       "      <td>a30df00a22c69239b63f02b32fd233c7</td>\n",
       "      <td>sao paulo</td>\n",
       "    </tr>\n",
       "    <tr>\n",
       "      <th>527</th>\n",
       "      <td>268a7f591b53e9d437da6fa851aecd9e</td>\n",
       "      <td>brasilia</td>\n",
       "    </tr>\n",
       "    <tr>\n",
       "      <th>683</th>\n",
       "      <td>b1509fcb21da7376ef86182f65298ded</td>\n",
       "      <td>sao paulo</td>\n",
       "    </tr>\n",
       "    <tr>\n",
       "      <th>...</th>\n",
       "      <td>...</td>\n",
       "      <td>...</td>\n",
       "    </tr>\n",
       "    <tr>\n",
       "      <th>115776</th>\n",
       "      <td>f68bdc0a50d8fbe96e0144beff4bcc0e</td>\n",
       "      <td>curitiba</td>\n",
       "    </tr>\n",
       "    <tr>\n",
       "      <th>115777</th>\n",
       "      <td>8c446b198f0c92d5db58d3c8eacd3a11</td>\n",
       "      <td>irati</td>\n",
       "    </tr>\n",
       "    <tr>\n",
       "      <th>115786</th>\n",
       "      <td>3cc1026f5863d3b5fc44bd92bad50cee</td>\n",
       "      <td>porto alegre</td>\n",
       "    </tr>\n",
       "    <tr>\n",
       "      <th>115810</th>\n",
       "      <td>0c7f5da7d9d33d16ddc25dfafcc513ce</td>\n",
       "      <td>sao paulo</td>\n",
       "    </tr>\n",
       "    <tr>\n",
       "      <th>115813</th>\n",
       "      <td>8b27e23ca14dc7d4d8e429abda30b5fb</td>\n",
       "      <td>caieiras</td>\n",
       "    </tr>\n",
       "  </tbody>\n",
       "</table>\n",
       "<p>13902 rows × 2 columns</p>\n",
       "</div>"
      ],
      "text/plain": [
       "                      customer_unique_id   customer_city\n",
       "9       dd47740f3c285d15d8c9c72fc204e78a  belo horizonte\n",
       "201     bdd6161ef248021de58940666e32ce93   prudentopolis\n",
       "515     a30df00a22c69239b63f02b32fd233c7       sao paulo\n",
       "527     268a7f591b53e9d437da6fa851aecd9e        brasilia\n",
       "683     b1509fcb21da7376ef86182f65298ded       sao paulo\n",
       "...                                  ...             ...\n",
       "115776  f68bdc0a50d8fbe96e0144beff4bcc0e        curitiba\n",
       "115777  8c446b198f0c92d5db58d3c8eacd3a11           irati\n",
       "115786  3cc1026f5863d3b5fc44bd92bad50cee    porto alegre\n",
       "115810  0c7f5da7d9d33d16ddc25dfafcc513ce       sao paulo\n",
       "115813  8b27e23ca14dc7d4d8e429abda30b5fb        caieiras\n",
       "\n",
       "[13902 rows x 2 columns]"
      ]
     },
     "execution_count": 16,
     "metadata": {},
     "output_type": "execute_result"
    }
   ],
   "source": [
    "clients_city_test = data_test[[\"customer_unique_id\", \"customer_city\"]]\n",
    "clients_city_test = clients_city_test.drop_duplicates()\n",
    "clients_city_test"
   ]
  },
  {
   "cell_type": "code",
   "execution_count": 17,
   "id": "912fea14",
   "metadata": {},
   "outputs": [
    {
     "data": {
      "application/vnd.microsoft.datawrangler.viewer.v0+json": {
       "columns": [
        {
         "name": "index",
         "rawType": "int64",
         "type": "integer"
        },
        {
         "name": "customer_unique_id",
         "rawType": "object",
         "type": "string"
        },
        {
         "name": "payment_value_mean",
         "rawType": "float64",
         "type": "float"
        },
        {
         "name": "payment_installments_mean",
         "rawType": "float64",
         "type": "float"
        },
        {
         "name": "price_mean",
         "rawType": "float64",
         "type": "float"
        },
        {
         "name": "review_score_mean",
         "rawType": "float64",
         "type": "float"
        }
       ],
       "conversionMethod": "pd.DataFrame",
       "ref": "5c30c98e-3b4f-4746-80aa-2ee24f4fb384",
       "rows": [
        [
         "0",
         "0000366f3b9a7992bf8c76cfdf3221e2",
         "141.9",
         "8.0",
         "129.9",
         "5.0"
        ],
        [
         "1",
         "0000b849f77a49e4a4ce2b2a4ca5be3f",
         "27.19",
         "1.0",
         "18.9",
         "4.0"
        ],
        [
         "2",
         "0000f46a3911fa3c0805444483337064",
         "86.22",
         "8.0",
         "69.0",
         "3.0"
        ],
        [
         "3",
         "0000f6ccb0745a6a4b88665a16c9f078",
         "43.62",
         "4.0",
         "25.99",
         "4.0"
        ],
        [
         "4",
         "0004aac84e0df4da2b147fca70cf8255",
         "196.89",
         "6.0",
         "180.0",
         "5.0"
        ],
        [
         "5",
         "0004bd2a26a76fe21f786e4fbd80607f",
         "166.98",
         "8.0",
         "154.0",
         "4.0"
        ],
        [
         "6",
         "00050ab1314c0e55a6ca13cf7181fecf",
         "35.38",
         "1.0",
         "27.99",
         "4.0"
        ],
        [
         "7",
         "00053a61a98854899e70ed204dd4bafe",
         "419.18",
         "3.0",
         "191.0",
         "1.0"
        ],
        [
         "8",
         "0005e1862207bf6ccc02e4228effd9a0",
         "150.12",
         "3.0",
         "135.0",
         "4.0"
        ],
        [
         "9",
         "0005ef4cd20d2893f0d9fbd94d3c0d97",
         "129.76",
         "4.0",
         "104.9",
         "1.0"
        ],
        [
         "10",
         "0006fdc98a402fceb4eb0ee528f6a8d4",
         "29.0",
         "2.0",
         "13.9",
         "3.0"
        ],
        [
         "11",
         "00082cbe03e478190aadbea78542e933",
         "126.26",
         "1.0",
         "79.0",
         "5.0"
        ],
        [
         "12",
         "00090324bbad0e9342388303bb71ba0a",
         "63.66",
         "3.0",
         "49.95",
         "5.0"
        ],
        [
         "13",
         "000949456b182f53c18b68d6babc79c1",
         "82.05",
         "1.0",
         "64.89",
         "4.0"
        ],
        [
         "14",
         "000a5ad9c4601d2bbdd9ed765d5213b3",
         "91.28",
         "3.0",
         "76.99",
         "4.0"
        ],
        [
         "15",
         "000bfa1d2f1a41876493be685390d6d3",
         "46.85",
         "4.0",
         "35.0",
         "4.5"
        ],
        [
         "16",
         "000c8bdb58a29e7115cfc257230fb21b",
         "29.0",
         "2.0",
         "13.9",
         "5.0"
        ],
        [
         "17",
         "000d460961d6dbfa3ec6c9f5805769e1",
         "36.68",
         "1.0",
         "28.9",
         "5.0"
        ],
        [
         "18",
         "000de6019bb59f34c099a907c151d855",
         "257.44",
         "4.0",
         "114.9",
         "2.0"
        ],
        [
         "19",
         "000ed48ceeb6f4bf8ad021a10a3c7b43",
         "20.75",
         "1.0",
         "12.88",
         "5.0"
        ],
        [
         "20",
         "0010a452c6d13139e50b57f19f52e04e",
         "325.93",
         "10.0",
         "299.0",
         "1.0"
        ],
        [
         "21",
         "0010fb34b966d44409382af9e8fd5b77",
         "61.8",
         "6.0",
         "49.95",
         "4.0"
        ],
        [
         "22",
         "001147e649a7b1afd577e873841632dd",
         "212.16",
         "1.0",
         "85.0",
         "4.0"
        ],
        [
         "23",
         "00115fc7123b5310cf6d3a3aa932699e",
         "76.11",
         "1.0",
         "59.99",
         "4.0"
        ],
        [
         "24",
         "0011805441c0d1b68b48002f1d005526",
         "297.14",
         "10.0",
         "269.0",
         "3.0"
        ],
        [
         "25",
         "0011857aff0e5871ce5eb429f21cdaf5",
         "192.83",
         "3.0",
         "174.33",
         "5.0"
        ],
        [
         "26",
         "0011c98589159d6149979563c504cb21",
         "117.94",
         "5.0",
         "99.99",
         "5.0"
        ],
        [
         "27",
         "0012929d977a8d7280bb277c1e5f589d",
         "155.65",
         "1.0",
         "129.9",
         "1.0"
        ],
        [
         "28",
         "0014a5a58da615f7b01a4f5e194bf5ea",
         "99.82",
         "3.0",
         "88.0",
         "5.0"
        ],
        [
         "29",
         "00191a9719ef48ebb5860b130347bf33",
         "58.86",
         "2.0",
         "47.9",
         "3.0"
        ],
        [
         "30",
         "001926cef41060fae572e2e7b30bd2a4",
         "91.21",
         "1.0",
         "24.395",
         "4.0"
        ],
        [
         "31",
         "00196fdb2bf9edfc35e88ebfbcf8d781",
         "27.0",
         "1.0",
         "12.9",
         "3.0"
        ],
        [
         "32",
         "0019da6aa6bcb27cc32f1249bd12da05",
         "87.71",
         "1.0",
         "79.9",
         "1.0"
        ],
        [
         "33",
         "0019e8c501c85848ac0966d45226fa1d",
         "197.27",
         "2.0",
         "159.99",
         "5.0"
        ],
        [
         "34",
         "001a2bf0e46c684031af91fb2bce149d",
         "36.73",
         "1.0",
         "24.88",
         "4.0"
        ],
        [
         "35",
         "001a3a8e11d76c9a366c31a4aa2cc529",
         "24.23",
         "1.0",
         "9.0",
         "5.0"
        ],
        [
         "36",
         "001ae5a1788703d64536c30362503e49",
         "135.08",
         "1.0",
         "89.99",
         "5.0"
        ],
        [
         "37",
         "001f3c4211216384d5fe59b041ce1461",
         "35.84",
         "3.0",
         "24.88",
         "3.0"
        ],
        [
         "38",
         "002043098f10ba39a4600b6c52fbfe3c",
         "237.81",
         "4.0",
         "176.99",
         "4.0"
        ],
        [
         "39",
         "002311514717ca8b65b09a26cdf7b91a",
         "124.32",
         "2.0",
         "116.25",
         "5.0"
        ],
        [
         "40",
         "0023557a94bef0038066b5d1b3dc763e",
         "107.44",
         "2.0",
         "89.9",
         "3.0"
        ],
        [
         "41",
         "00256bf7b05c08f6a5849df3d0a64f1f",
         "57.73",
         "1.0",
         "39.5",
         "3.0"
        ],
        [
         "42",
         "0027324a96d26a2bc7d69262f83c8403",
         "46.78",
         "2.0",
         "37.9",
         "5.0"
        ],
        [
         "43",
         "0028a7d8db7b0247652509358ad8d755",
         "177.435",
         "1.0",
         "274.0",
         "3.0"
        ],
        [
         "44",
         "0028cfeb9dfcd3628a56d5b6400deef5",
         "118.2",
         "1.0",
         "95.9",
         "5.0"
        ],
        [
         "45",
         "00293787e2aec37a9c253b63fdfe2049",
         "257.87",
         "1.0",
         "118.9",
         "3.0"
        ],
        [
         "46",
         "002aba8c1af80acacef6e011f9f23262",
         "217.74",
         "3.0",
         "199.9",
         "1.0"
        ],
        [
         "47",
         "002ae492472e45ad6ebeb7a625409392",
         "218.66",
         "4.0",
         "51.99",
         "3.0"
        ],
        [
         "48",
         "002b4cd83fabaffaa475f78ea5ef3e08",
         "64.42",
         "1.0",
         "49.9",
         "2.0"
        ],
        [
         "49",
         "002bdeb33da5b1b3ce8b9c822f749c82",
         "38.09",
         "1.0",
         "23.99",
         "5.0"
        ]
       ],
       "shape": {
        "columns": 5,
        "rows": 77869
       }
      },
      "text/html": [
       "<div>\n",
       "<style scoped>\n",
       "    .dataframe tbody tr th:only-of-type {\n",
       "        vertical-align: middle;\n",
       "    }\n",
       "\n",
       "    .dataframe tbody tr th {\n",
       "        vertical-align: top;\n",
       "    }\n",
       "\n",
       "    .dataframe thead th {\n",
       "        text-align: right;\n",
       "    }\n",
       "</style>\n",
       "<table border=\"1\" class=\"dataframe\">\n",
       "  <thead>\n",
       "    <tr style=\"text-align: right;\">\n",
       "      <th></th>\n",
       "      <th>customer_unique_id</th>\n",
       "      <th>payment_value_mean</th>\n",
       "      <th>payment_installments_mean</th>\n",
       "      <th>price_mean</th>\n",
       "      <th>review_score_mean</th>\n",
       "    </tr>\n",
       "  </thead>\n",
       "  <tbody>\n",
       "    <tr>\n",
       "      <th>0</th>\n",
       "      <td>0000366f3b9a7992bf8c76cfdf3221e2</td>\n",
       "      <td>141.90</td>\n",
       "      <td>8.0</td>\n",
       "      <td>129.90</td>\n",
       "      <td>5.0</td>\n",
       "    </tr>\n",
       "    <tr>\n",
       "      <th>1</th>\n",
       "      <td>0000b849f77a49e4a4ce2b2a4ca5be3f</td>\n",
       "      <td>27.19</td>\n",
       "      <td>1.0</td>\n",
       "      <td>18.90</td>\n",
       "      <td>4.0</td>\n",
       "    </tr>\n",
       "    <tr>\n",
       "      <th>2</th>\n",
       "      <td>0000f46a3911fa3c0805444483337064</td>\n",
       "      <td>86.22</td>\n",
       "      <td>8.0</td>\n",
       "      <td>69.00</td>\n",
       "      <td>3.0</td>\n",
       "    </tr>\n",
       "    <tr>\n",
       "      <th>3</th>\n",
       "      <td>0000f6ccb0745a6a4b88665a16c9f078</td>\n",
       "      <td>43.62</td>\n",
       "      <td>4.0</td>\n",
       "      <td>25.99</td>\n",
       "      <td>4.0</td>\n",
       "    </tr>\n",
       "    <tr>\n",
       "      <th>4</th>\n",
       "      <td>0004aac84e0df4da2b147fca70cf8255</td>\n",
       "      <td>196.89</td>\n",
       "      <td>6.0</td>\n",
       "      <td>180.00</td>\n",
       "      <td>5.0</td>\n",
       "    </tr>\n",
       "    <tr>\n",
       "      <th>...</th>\n",
       "      <td>...</td>\n",
       "      <td>...</td>\n",
       "      <td>...</td>\n",
       "      <td>...</td>\n",
       "      <td>...</td>\n",
       "    </tr>\n",
       "    <tr>\n",
       "      <th>77864</th>\n",
       "      <td>fffcf5a5ff07b0908bd4e2dbc735a684</td>\n",
       "      <td>2067.42</td>\n",
       "      <td>10.0</td>\n",
       "      <td>785.00</td>\n",
       "      <td>5.0</td>\n",
       "    </tr>\n",
       "    <tr>\n",
       "      <th>77865</th>\n",
       "      <td>fffea47cd6d3cc0a88bd621562a9d061</td>\n",
       "      <td>84.58</td>\n",
       "      <td>1.0</td>\n",
       "      <td>64.89</td>\n",
       "      <td>4.0</td>\n",
       "    </tr>\n",
       "    <tr>\n",
       "      <th>77866</th>\n",
       "      <td>ffff371b4d645b6ecea244b27531430a</td>\n",
       "      <td>112.46</td>\n",
       "      <td>1.0</td>\n",
       "      <td>89.90</td>\n",
       "      <td>5.0</td>\n",
       "    </tr>\n",
       "    <tr>\n",
       "      <th>77867</th>\n",
       "      <td>ffff5962728ec6157033ef9805bacc48</td>\n",
       "      <td>133.69</td>\n",
       "      <td>5.0</td>\n",
       "      <td>115.00</td>\n",
       "      <td>5.0</td>\n",
       "    </tr>\n",
       "    <tr>\n",
       "      <th>77868</th>\n",
       "      <td>ffffd2657e2aad2907e67c3e9daecbeb</td>\n",
       "      <td>71.56</td>\n",
       "      <td>4.0</td>\n",
       "      <td>56.99</td>\n",
       "      <td>5.0</td>\n",
       "    </tr>\n",
       "  </tbody>\n",
       "</table>\n",
       "<p>77869 rows × 5 columns</p>\n",
       "</div>"
      ],
      "text/plain": [
       "                     customer_unique_id  payment_value_mean  \\\n",
       "0      0000366f3b9a7992bf8c76cfdf3221e2              141.90   \n",
       "1      0000b849f77a49e4a4ce2b2a4ca5be3f               27.19   \n",
       "2      0000f46a3911fa3c0805444483337064               86.22   \n",
       "3      0000f6ccb0745a6a4b88665a16c9f078               43.62   \n",
       "4      0004aac84e0df4da2b147fca70cf8255              196.89   \n",
       "...                                 ...                 ...   \n",
       "77864  fffcf5a5ff07b0908bd4e2dbc735a684             2067.42   \n",
       "77865  fffea47cd6d3cc0a88bd621562a9d061               84.58   \n",
       "77866  ffff371b4d645b6ecea244b27531430a              112.46   \n",
       "77867  ffff5962728ec6157033ef9805bacc48              133.69   \n",
       "77868  ffffd2657e2aad2907e67c3e9daecbeb               71.56   \n",
       "\n",
       "       payment_installments_mean  price_mean  review_score_mean  \n",
       "0                            8.0      129.90                5.0  \n",
       "1                            1.0       18.90                4.0  \n",
       "2                            8.0       69.00                3.0  \n",
       "3                            4.0       25.99                4.0  \n",
       "4                            6.0      180.00                5.0  \n",
       "...                          ...         ...                ...  \n",
       "77864                       10.0      785.00                5.0  \n",
       "77865                        1.0       64.89                4.0  \n",
       "77866                        1.0       89.90                5.0  \n",
       "77867                        5.0      115.00                5.0  \n",
       "77868                        4.0       56.99                5.0  \n",
       "\n",
       "[77869 rows x 5 columns]"
      ]
     },
     "execution_count": 17,
     "metadata": {},
     "output_type": "execute_result"
    }
   ],
   "source": [
    "payments_ratings_train = data_train.groupby(\"customer_unique_id\")[\n",
    "    [\"payment_value\", \"payment_installments\", \"price\", \"review_score\"]].agg([\"mean\"]).reset_index()\n",
    "payments_ratings_train.columns = ['_'.join(col).strip('_') for col in payments_ratings_train.columns.values]\n",
    "payments_ratings_train"
   ]
  },
  {
   "cell_type": "code",
   "execution_count": 18,
   "id": "bb57d496",
   "metadata": {},
   "outputs": [
    {
     "data": {
      "application/vnd.microsoft.datawrangler.viewer.v0+json": {
       "columns": [
        {
         "name": "index",
         "rawType": "int64",
         "type": "integer"
        },
        {
         "name": "customer_unique_id",
         "rawType": "object",
         "type": "string"
        },
        {
         "name": "payment_value_mean",
         "rawType": "float64",
         "type": "float"
        },
        {
         "name": "payment_installments_mean",
         "rawType": "float64",
         "type": "float"
        },
        {
         "name": "price_mean",
         "rawType": "float64",
         "type": "float"
        },
        {
         "name": "review_score_mean",
         "rawType": "float64",
         "type": "float"
        }
       ],
       "conversionMethod": "pd.DataFrame",
       "ref": "ff7401ca-b40b-4588-8642-eed31828e11a",
       "rows": [
        [
         "0",
         "000e309254ab1fc5ba99dd469d36bdb4",
         "39.21",
         "1.0",
         "59.9",
         "3.0"
        ],
        [
         "1",
         "000ec5bff359e1c0ad76a81a45cb598f",
         "27.75",
         "1.0",
         "14.96",
         "5.0"
        ],
        [
         "2",
         "000fbf0473c10fc1ab6f8d2d286ce20c",
         "362.38",
         "1.0",
         "71.45",
         "5.0"
        ],
        [
         "3",
         "0015752e079902b12cd00b9b7596276b",
         "74.82",
         "3.0",
         "29.9",
         "5.0"
        ],
        [
         "4",
         "00172711b30d52eea8b313a7f2cced02",
         "122.07",
         "2.0",
         "74.5",
         "4.0"
        ],
        [
         "5",
         "001928b561575b2821c92254a2327d06",
         "164.81",
         "6.0",
         "68.44500000000001",
         "2.0"
        ],
        [
         "6",
         "00196c4c9a3af7dd2ad10eade69c926f",
         "37.58",
         "1.0",
         "22.32",
         "5.0"
        ],
        [
         "7",
         "001a34eb30ecb8e3aacb07c475ca4dd1",
         "161.71",
         "1.0",
         "151.9",
         "5.0"
        ],
        [
         "8",
         "001deb796b28a3a128d6113857569aa4",
         "63.33",
         "6.0",
         "39.9",
         "4.0"
        ],
        [
         "9",
         "002471155ecd08d208d1376720e2a907",
         "92.18",
         "3.0",
         "68.9",
         "5.0"
        ],
        [
         "10",
         "0025795df7a7d077c4c90162fa820085",
         "214.08",
         "3.0",
         "88.95",
         "1.0"
        ],
        [
         "11",
         "003162bf0351f47a1a247992b8b9b42d",
         "536.6",
         "10.0",
         "514.9",
         "5.0"
        ],
        [
         "12",
         "0032ca69771a7758ce643258bb9e4ac7",
         "62.45",
         "2.0",
         "45.0",
         "5.0"
        ],
        [
         "13",
         "0033f4a2887e07e25aa1204d482f41ba",
         "425.04",
         "1.0",
         "350.0",
         "5.0"
        ],
        [
         "14",
         "00344274804f3b8003de1b0562ae01df",
         "226.23",
         "5.0",
         "188.0",
         "3.0"
        ],
        [
         "15",
         "00391594070baf8603f5fdc1d0c6a48c",
         "119.32",
         "1.0",
         "105.0",
         "3.0"
        ],
        [
         "16",
         "003a5571a07dcf09bf117d13d2980ba3",
         "181.82",
         "2.0",
         "149.9",
         "5.0"
        ],
        [
         "17",
         "003a7a8eb096ed3cbf713d2def1ca701",
         "157.46",
         "1.0",
         "99.99",
         "5.0"
        ],
        [
         "18",
         "003ae409f37c3c30cb1c974af3a42692",
         "216.32",
         "1.0",
         "195.0",
         "3.0"
        ],
        [
         "19",
         "003c2067070f5b3d923235b1ea1cc17b",
         "147.38",
         "1.0",
         "109.7",
         "3.0"
        ],
        [
         "20",
         "003fb95e849e71e732629d94bb92762f",
         "77.59",
         "4.0",
         "57.99",
         "5.0"
        ],
        [
         "21",
         "0042dfa8925d6eb23e471ec350454f04",
         "62.91",
         "1.0",
         "49.9",
         "5.0"
        ],
        [
         "22",
         "0048706e497cfba0b689e1e3497bc99e",
         "82.65",
         "3.0",
         "69.5",
         "4.0"
        ],
        [
         "23",
         "0048a779a98a7848514096ff04046079",
         "41.04",
         "2.0",
         "21.7",
         "5.0"
        ],
        [
         "24",
         "0049ec2d7a5818d0e4b3f4735cec2458",
         "44.18",
         "1.0",
         "25.9",
         "5.0"
        ],
        [
         "25",
         "004b9b1634b7becda8eec4e96bced882",
         "158.74",
         "1.0",
         "134.99",
         "5.0"
        ],
        [
         "26",
         "004df63539fd5e38d4b0a0506de7549c",
         "993.55",
         "10.0",
         "949.99",
         "3.0"
        ],
        [
         "27",
         "00504b68faa074d0f40adcb4f7727f71",
         "198.7",
         "3.0",
         "76.0",
         "3.0"
        ],
        [
         "28",
         "0056c2dd794a5eede6164dcae635875a",
         "171.88",
         "6.0",
         "129.99",
         "5.0"
        ],
        [
         "29",
         "005754cb59f8ee5cdbb5cda9d138757e",
         "258.38",
         "4.0",
         "110.32",
         "5.0"
        ],
        [
         "30",
         "0057f64bff87f4698b4cbd338d62a2a8",
         "82.86",
         "3.0",
         "75.07",
         "4.0"
        ],
        [
         "31",
         "005f6fa02633470267dcd1e3ecd0fa79",
         "272.04",
         "4.0",
         "199.99",
         "5.0"
        ],
        [
         "32",
         "0065f7795a38381973a373c8b4939679",
         "31.22",
         "1.0",
         "15.99",
         "4.0"
        ],
        [
         "33",
         "0067d2652c12515146721538868bbd80",
         "190.28",
         "1.0",
         "169.9",
         "5.0"
        ],
        [
         "34",
         "0068bd2e9e76c018846dbc6e2bec5ac5",
         "79.51",
         "1.0",
         "59.9",
         "5.0"
        ],
        [
         "35",
         "00705dcbc0b9cad67abd658612770905",
         "47.93",
         "2.0",
         "39.49",
         "5.0"
        ],
        [
         "36",
         "007658319c060f337577e8a1834d5df5",
         "119.45",
         "5.0",
         "75.0",
         "4.0"
        ],
        [
         "37",
         "0077ba3f829303a1dce98552495c91a1",
         "159.65",
         "3.0",
         "139.99",
         "4.0"
        ],
        [
         "38",
         "0087c31081ea8d160baa06bf4ad4d76f",
         "183.05",
         "8.0",
         "160.0",
         "4.0"
        ],
        [
         "39",
         "008b06aba4b5f5b5b94f525ccf520624",
         "90.5",
         "2.0",
         "33.99",
         "5.0"
        ],
        [
         "40",
         "008ca52811784a181c8c88e8d66b49db",
         "136.64",
         "4.0",
         "111.51",
         "5.0"
        ],
        [
         "41",
         "00950dbc783342e164c24e09023ebcb7",
         "89.1",
         "1.0",
         "80.38",
         "5.0"
        ],
        [
         "42",
         "00a02d822b18db532e50e0607e615f3b",
         "199.26",
         "2.0",
         "179.9",
         "5.0"
        ],
        [
         "43",
         "00a1d0d7d91c17c634d6896ce10ce1c6",
         "114.58",
         "10.0",
         "95.0",
         "3.0"
        ],
        [
         "44",
         "00a33236962b4ac37fd25275be9c206b",
         "116.84",
         "1.0",
         "98.0",
         "5.0"
        ],
        [
         "45",
         "00b246520d4904724f9b20188a2ff39b",
         "35.05",
         "1.0",
         "12.99",
         "5.0"
        ],
        [
         "46",
         "00b2ca23369b68c4d4105ecea9c0cb93",
         "103.27",
         "1.0",
         "65.9",
         "5.0"
        ],
        [
         "47",
         "00b742e2f6d8fa571cd560007081d53b",
         "181.05",
         "1.0",
         "146.94",
         "5.0"
        ],
        [
         "48",
         "00b9746bf8ac2964942d8b969f015196",
         "94.36",
         "5.0",
         "70.0",
         "5.0"
        ],
        [
         "49",
         "00c07da5ba0e07b4f248a3a373b07476",
         "2304.68",
         "10.0",
         "2258.0",
         "5.0"
        ]
       ],
       "shape": {
        "columns": 5,
        "rows": 13901
       }
      },
      "text/html": [
       "<div>\n",
       "<style scoped>\n",
       "    .dataframe tbody tr th:only-of-type {\n",
       "        vertical-align: middle;\n",
       "    }\n",
       "\n",
       "    .dataframe tbody tr th {\n",
       "        vertical-align: top;\n",
       "    }\n",
       "\n",
       "    .dataframe thead th {\n",
       "        text-align: right;\n",
       "    }\n",
       "</style>\n",
       "<table border=\"1\" class=\"dataframe\">\n",
       "  <thead>\n",
       "    <tr style=\"text-align: right;\">\n",
       "      <th></th>\n",
       "      <th>customer_unique_id</th>\n",
       "      <th>payment_value_mean</th>\n",
       "      <th>payment_installments_mean</th>\n",
       "      <th>price_mean</th>\n",
       "      <th>review_score_mean</th>\n",
       "    </tr>\n",
       "  </thead>\n",
       "  <tbody>\n",
       "    <tr>\n",
       "      <th>0</th>\n",
       "      <td>000e309254ab1fc5ba99dd469d36bdb4</td>\n",
       "      <td>39.21</td>\n",
       "      <td>1.0</td>\n",
       "      <td>59.90</td>\n",
       "      <td>3.0</td>\n",
       "    </tr>\n",
       "    <tr>\n",
       "      <th>1</th>\n",
       "      <td>000ec5bff359e1c0ad76a81a45cb598f</td>\n",
       "      <td>27.75</td>\n",
       "      <td>1.0</td>\n",
       "      <td>14.96</td>\n",
       "      <td>5.0</td>\n",
       "    </tr>\n",
       "    <tr>\n",
       "      <th>2</th>\n",
       "      <td>000fbf0473c10fc1ab6f8d2d286ce20c</td>\n",
       "      <td>362.38</td>\n",
       "      <td>1.0</td>\n",
       "      <td>71.45</td>\n",
       "      <td>5.0</td>\n",
       "    </tr>\n",
       "    <tr>\n",
       "      <th>3</th>\n",
       "      <td>0015752e079902b12cd00b9b7596276b</td>\n",
       "      <td>74.82</td>\n",
       "      <td>3.0</td>\n",
       "      <td>29.90</td>\n",
       "      <td>5.0</td>\n",
       "    </tr>\n",
       "    <tr>\n",
       "      <th>4</th>\n",
       "      <td>00172711b30d52eea8b313a7f2cced02</td>\n",
       "      <td>122.07</td>\n",
       "      <td>2.0</td>\n",
       "      <td>74.50</td>\n",
       "      <td>4.0</td>\n",
       "    </tr>\n",
       "    <tr>\n",
       "      <th>...</th>\n",
       "      <td>...</td>\n",
       "      <td>...</td>\n",
       "      <td>...</td>\n",
       "      <td>...</td>\n",
       "      <td>...</td>\n",
       "    </tr>\n",
       "    <tr>\n",
       "      <th>13896</th>\n",
       "      <td>ffec490ab531184a483efe2eedd68908</td>\n",
       "      <td>57.98</td>\n",
       "      <td>1.0</td>\n",
       "      <td>39.90</td>\n",
       "      <td>1.0</td>\n",
       "    </tr>\n",
       "    <tr>\n",
       "      <th>13897</th>\n",
       "      <td>ffee94d548cef05b146d825a7648dab4</td>\n",
       "      <td>35.36</td>\n",
       "      <td>1.0</td>\n",
       "      <td>27.90</td>\n",
       "      <td>5.0</td>\n",
       "    </tr>\n",
       "    <tr>\n",
       "      <th>13898</th>\n",
       "      <td>fff3e1d7bc75f11dc7670619b2e61840</td>\n",
       "      <td>82.51</td>\n",
       "      <td>1.0</td>\n",
       "      <td>54.85</td>\n",
       "      <td>5.0</td>\n",
       "    </tr>\n",
       "    <tr>\n",
       "      <th>13899</th>\n",
       "      <td>fff5eb4918b2bf4b2da476788d42051c</td>\n",
       "      <td>2844.96</td>\n",
       "      <td>1.0</td>\n",
       "      <td>175.00</td>\n",
       "      <td>5.0</td>\n",
       "    </tr>\n",
       "    <tr>\n",
       "      <th>13900</th>\n",
       "      <td>fff96bc586f78b1f070da28c4977e810</td>\n",
       "      <td>63.42</td>\n",
       "      <td>2.0</td>\n",
       "      <td>45.00</td>\n",
       "      <td>4.0</td>\n",
       "    </tr>\n",
       "  </tbody>\n",
       "</table>\n",
       "<p>13901 rows × 5 columns</p>\n",
       "</div>"
      ],
      "text/plain": [
       "                     customer_unique_id  payment_value_mean  \\\n",
       "0      000e309254ab1fc5ba99dd469d36bdb4               39.21   \n",
       "1      000ec5bff359e1c0ad76a81a45cb598f               27.75   \n",
       "2      000fbf0473c10fc1ab6f8d2d286ce20c              362.38   \n",
       "3      0015752e079902b12cd00b9b7596276b               74.82   \n",
       "4      00172711b30d52eea8b313a7f2cced02              122.07   \n",
       "...                                 ...                 ...   \n",
       "13896  ffec490ab531184a483efe2eedd68908               57.98   \n",
       "13897  ffee94d548cef05b146d825a7648dab4               35.36   \n",
       "13898  fff3e1d7bc75f11dc7670619b2e61840               82.51   \n",
       "13899  fff5eb4918b2bf4b2da476788d42051c             2844.96   \n",
       "13900  fff96bc586f78b1f070da28c4977e810               63.42   \n",
       "\n",
       "       payment_installments_mean  price_mean  review_score_mean  \n",
       "0                            1.0       59.90                3.0  \n",
       "1                            1.0       14.96                5.0  \n",
       "2                            1.0       71.45                5.0  \n",
       "3                            3.0       29.90                5.0  \n",
       "4                            2.0       74.50                4.0  \n",
       "...                          ...         ...                ...  \n",
       "13896                        1.0       39.90                1.0  \n",
       "13897                        1.0       27.90                5.0  \n",
       "13898                        1.0       54.85                5.0  \n",
       "13899                        1.0      175.00                5.0  \n",
       "13900                        2.0       45.00                4.0  \n",
       "\n",
       "[13901 rows x 5 columns]"
      ]
     },
     "execution_count": 18,
     "metadata": {},
     "output_type": "execute_result"
    }
   ],
   "source": [
    "payments_ratings_test = data_test.groupby(\"customer_unique_id\")[\n",
    "    [\"payment_value\", \"payment_installments\", \"price\", \"review_score\"]].agg([\"mean\"]).reset_index()\n",
    "payments_ratings_test.columns = ['_'.join(col).strip('_') for col in payments_ratings_test.columns.values]\n",
    "payments_ratings_test"
   ]
  },
  {
   "cell_type": "code",
   "execution_count": 19,
   "id": "6a1a7dd3",
   "metadata": {},
   "outputs": [
    {
     "data": {
      "application/vnd.microsoft.datawrangler.viewer.v0+json": {
       "columns": [
        {
         "name": "index",
         "rawType": "int64",
         "type": "integer"
        },
        {
         "name": "customer_unique_id",
         "rawType": "object",
         "type": "string"
        },
        {
         "name": "most_frequent_product_category",
         "rawType": "object",
         "type": "string"
        }
       ],
       "conversionMethod": "pd.DataFrame",
       "ref": "64ad8265-5370-4446-a60a-d9fe07cb9a15",
       "rows": [
        [
         "0",
         "0000366f3b9a7992bf8c76cfdf3221e2",
         "bed_bath_table"
        ],
        [
         "1",
         "0000b849f77a49e4a4ce2b2a4ca5be3f",
         "health_beauty"
        ],
        [
         "2",
         "0000f46a3911fa3c0805444483337064",
         "stationery"
        ],
        [
         "3",
         "0000f6ccb0745a6a4b88665a16c9f078",
         "telephony"
        ],
        [
         "4",
         "0004aac84e0df4da2b147fca70cf8255",
         "telephony"
        ],
        [
         "5",
         "0004bd2a26a76fe21f786e4fbd80607f",
         "garden_tools"
        ],
        [
         "6",
         "00050ab1314c0e55a6ca13cf7181fecf",
         "telephony"
        ],
        [
         "7",
         "00053a61a98854899e70ed204dd4bafe",
         "sports_leisure"
        ],
        [
         "8",
         "0005e1862207bf6ccc02e4228effd9a0",
         "fashion_bags_accessories"
        ],
        [
         "9",
         "0005ef4cd20d2893f0d9fbd94d3c0d97",
         "sports_leisure"
        ],
        [
         "10",
         "0006fdc98a402fceb4eb0ee528f6a8d4",
         "bed_bath_table"
        ],
        [
         "11",
         "00082cbe03e478190aadbea78542e933",
         "luggage_accessories"
        ],
        [
         "12",
         "00090324bbad0e9342388303bb71ba0a",
         "bed_bath_table"
        ],
        [
         "13",
         "000949456b182f53c18b68d6babc79c1",
         "computers_accessories"
        ],
        [
         "14",
         "000a5ad9c4601d2bbdd9ed765d5213b3",
         "health_beauty"
        ],
        [
         "15",
         "000bfa1d2f1a41876493be685390d6d3",
         "fashion_bags_accessories"
        ],
        [
         "16",
         "000c8bdb58a29e7115cfc257230fb21b",
         "bed_bath_table"
        ],
        [
         "17",
         "000d460961d6dbfa3ec6c9f5805769e1",
         "telephony"
        ],
        [
         "18",
         "000de6019bb59f34c099a907c151d855",
         "bed_bath_table"
        ],
        [
         "19",
         "000ed48ceeb6f4bf8ad021a10a3c7b43",
         "computers_accessories"
        ],
        [
         "20",
         "0010a452c6d13139e50b57f19f52e04e",
         "home_confort"
        ],
        [
         "21",
         "0010fb34b966d44409382af9e8fd5b77",
         "bed_bath_table"
        ],
        [
         "22",
         "001147e649a7b1afd577e873841632dd",
         "housewares"
        ],
        [
         "23",
         "00115fc7123b5310cf6d3a3aa932699e",
         "sports_leisure"
        ],
        [
         "24",
         "0011805441c0d1b68b48002f1d005526",
         "computers_accessories"
        ],
        [
         "25",
         "0011857aff0e5871ce5eb429f21cdaf5",
         "luggage_accessories"
        ],
        [
         "26",
         "0011c98589159d6149979563c504cb21",
         "small_appliances"
        ],
        [
         "27",
         "0012929d977a8d7280bb277c1e5f589d",
         "watches_gifts"
        ],
        [
         "28",
         "0014a5a58da615f7b01a4f5e194bf5ea",
         "health_beauty"
        ],
        [
         "29",
         "00191a9719ef48ebb5860b130347bf33",
         "bed_bath_table"
        ],
        [
         "30",
         "001926cef41060fae572e2e7b30bd2a4",
         "computers_accessories"
        ],
        [
         "31",
         "00196fdb2bf9edfc35e88ebfbcf8d781",
         "electronics"
        ],
        [
         "32",
         "0019da6aa6bcb27cc32f1249bd12da05",
         "housewares"
        ],
        [
         "33",
         "0019e8c501c85848ac0966d45226fa1d",
         "sports_leisure"
        ],
        [
         "34",
         "001a2bf0e46c684031af91fb2bce149d",
         "housewares"
        ],
        [
         "35",
         "001a3a8e11d76c9a366c31a4aa2cc529",
         "electronics"
        ],
        [
         "36",
         "001ae5a1788703d64536c30362503e49",
         "garden_tools"
        ],
        [
         "37",
         "001f3c4211216384d5fe59b041ce1461",
         "housewares"
        ],
        [
         "38",
         "002043098f10ba39a4600b6c52fbfe3c",
         "office_furniture"
        ],
        [
         "39",
         "002311514717ca8b65b09a26cdf7b91a",
         "auto"
        ],
        [
         "40",
         "0023557a94bef0038066b5d1b3dc763e",
         "auto"
        ],
        [
         "41",
         "00256bf7b05c08f6a5849df3d0a64f1f",
         "furniture_decor"
        ],
        [
         "42",
         "0027324a96d26a2bc7d69262f83c8403",
         "perfumery"
        ],
        [
         "43",
         "0028a7d8db7b0247652509358ad8d755",
         "office_furniture"
        ],
        [
         "44",
         "0028cfeb9dfcd3628a56d5b6400deef5",
         "electronics"
        ],
        [
         "45",
         "00293787e2aec37a9c253b63fdfe2049",
         "health_beauty"
        ],
        [
         "46",
         "002aba8c1af80acacef6e011f9f23262",
         "construction_tools_construction"
        ],
        [
         "47",
         "002ae492472e45ad6ebeb7a625409392",
         "health_beauty"
        ],
        [
         "48",
         "002b4cd83fabaffaa475f78ea5ef3e08",
         "fashion_bags_accessories"
        ],
        [
         "49",
         "002bdeb33da5b1b3ce8b9c822f749c82",
         "health_beauty"
        ]
       ],
       "shape": {
        "columns": 2,
        "rows": 77869
       }
      },
      "text/html": [
       "<div>\n",
       "<style scoped>\n",
       "    .dataframe tbody tr th:only-of-type {\n",
       "        vertical-align: middle;\n",
       "    }\n",
       "\n",
       "    .dataframe tbody tr th {\n",
       "        vertical-align: top;\n",
       "    }\n",
       "\n",
       "    .dataframe thead th {\n",
       "        text-align: right;\n",
       "    }\n",
       "</style>\n",
       "<table border=\"1\" class=\"dataframe\">\n",
       "  <thead>\n",
       "    <tr style=\"text-align: right;\">\n",
       "      <th></th>\n",
       "      <th>customer_unique_id</th>\n",
       "      <th>most_frequent_product_category</th>\n",
       "    </tr>\n",
       "  </thead>\n",
       "  <tbody>\n",
       "    <tr>\n",
       "      <th>0</th>\n",
       "      <td>0000366f3b9a7992bf8c76cfdf3221e2</td>\n",
       "      <td>bed_bath_table</td>\n",
       "    </tr>\n",
       "    <tr>\n",
       "      <th>1</th>\n",
       "      <td>0000b849f77a49e4a4ce2b2a4ca5be3f</td>\n",
       "      <td>health_beauty</td>\n",
       "    </tr>\n",
       "    <tr>\n",
       "      <th>2</th>\n",
       "      <td>0000f46a3911fa3c0805444483337064</td>\n",
       "      <td>stationery</td>\n",
       "    </tr>\n",
       "    <tr>\n",
       "      <th>3</th>\n",
       "      <td>0000f6ccb0745a6a4b88665a16c9f078</td>\n",
       "      <td>telephony</td>\n",
       "    </tr>\n",
       "    <tr>\n",
       "      <th>4</th>\n",
       "      <td>0004aac84e0df4da2b147fca70cf8255</td>\n",
       "      <td>telephony</td>\n",
       "    </tr>\n",
       "    <tr>\n",
       "      <th>...</th>\n",
       "      <td>...</td>\n",
       "      <td>...</td>\n",
       "    </tr>\n",
       "    <tr>\n",
       "      <th>77864</th>\n",
       "      <td>fffcf5a5ff07b0908bd4e2dbc735a684</td>\n",
       "      <td>health_beauty</td>\n",
       "    </tr>\n",
       "    <tr>\n",
       "      <th>77865</th>\n",
       "      <td>fffea47cd6d3cc0a88bd621562a9d061</td>\n",
       "      <td>baby</td>\n",
       "    </tr>\n",
       "    <tr>\n",
       "      <th>77866</th>\n",
       "      <td>ffff371b4d645b6ecea244b27531430a</td>\n",
       "      <td>auto</td>\n",
       "    </tr>\n",
       "    <tr>\n",
       "      <th>77867</th>\n",
       "      <td>ffff5962728ec6157033ef9805bacc48</td>\n",
       "      <td>watches_gifts</td>\n",
       "    </tr>\n",
       "    <tr>\n",
       "      <th>77868</th>\n",
       "      <td>ffffd2657e2aad2907e67c3e9daecbeb</td>\n",
       "      <td>perfumery</td>\n",
       "    </tr>\n",
       "  </tbody>\n",
       "</table>\n",
       "<p>77869 rows × 2 columns</p>\n",
       "</div>"
      ],
      "text/plain": [
       "                     customer_unique_id most_frequent_product_category\n",
       "0      0000366f3b9a7992bf8c76cfdf3221e2                 bed_bath_table\n",
       "1      0000b849f77a49e4a4ce2b2a4ca5be3f                  health_beauty\n",
       "2      0000f46a3911fa3c0805444483337064                     stationery\n",
       "3      0000f6ccb0745a6a4b88665a16c9f078                      telephony\n",
       "4      0004aac84e0df4da2b147fca70cf8255                      telephony\n",
       "...                                 ...                            ...\n",
       "77864  fffcf5a5ff07b0908bd4e2dbc735a684                  health_beauty\n",
       "77865  fffea47cd6d3cc0a88bd621562a9d061                           baby\n",
       "77866  ffff371b4d645b6ecea244b27531430a                           auto\n",
       "77867  ffff5962728ec6157033ef9805bacc48                  watches_gifts\n",
       "77868  ffffd2657e2aad2907e67c3e9daecbeb                      perfumery\n",
       "\n",
       "[77869 rows x 2 columns]"
      ]
     },
     "execution_count": 19,
     "metadata": {},
     "output_type": "execute_result"
    }
   ],
   "source": [
    "# Сформируем информацию по модальной категории продуктов в разрезе пользователей\n",
    "def calculate_mode(series):\n",
    "    return series.mode().iloc[0] if not series.mode().empty else None\n",
    "\n",
    "mode_category_train = (\n",
    "    data_train.groupby(\"customer_unique_id\")[\"product_category_name_english\"]\n",
    "    .agg(calculate_mode)\n",
    "    .reset_index()\n",
    ")\n",
    "\n",
    "mode_category_train.columns = [\"customer_unique_id\", \"most_frequent_product_category\"]\n",
    "\n",
    "mode_category_train\n"
   ]
  },
  {
   "cell_type": "code",
   "execution_count": 20,
   "id": "73b09815",
   "metadata": {},
   "outputs": [
    {
     "data": {
      "application/vnd.microsoft.datawrangler.viewer.v0+json": {
       "columns": [
        {
         "name": "index",
         "rawType": "int64",
         "type": "integer"
        },
        {
         "name": "customer_unique_id",
         "rawType": "object",
         "type": "string"
        },
        {
         "name": "most_frequent_product_category",
         "rawType": "object",
         "type": "string"
        }
       ],
       "conversionMethod": "pd.DataFrame",
       "ref": "fe4bb4c1-815c-48dc-8dc4-59951c694b7c",
       "rows": [
        [
         "0",
         "000e309254ab1fc5ba99dd469d36bdb4",
         "fashion_underwear_beach"
        ],
        [
         "1",
         "000ec5bff359e1c0ad76a81a45cb598f",
         "home_appliances"
        ],
        [
         "2",
         "000fbf0473c10fc1ab6f8d2d286ce20c",
         "musical_instruments"
        ],
        [
         "3",
         "0015752e079902b12cd00b9b7596276b",
         "luggage_accessories"
        ],
        [
         "4",
         "00172711b30d52eea8b313a7f2cced02",
         "stationery"
        ],
        [
         "5",
         "001928b561575b2821c92254a2327d06",
         "bed_bath_table"
        ],
        [
         "6",
         "00196c4c9a3af7dd2ad10eade69c926f",
         "computers_accessories"
        ],
        [
         "7",
         "001a34eb30ecb8e3aacb07c475ca4dd1",
         "housewares"
        ],
        [
         "8",
         "001deb796b28a3a128d6113857569aa4",
         "housewares"
        ],
        [
         "9",
         "002471155ecd08d208d1376720e2a907",
         "housewares"
        ],
        [
         "10",
         "0025795df7a7d077c4c90162fa820085",
         "stationery"
        ],
        [
         "11",
         "003162bf0351f47a1a247992b8b9b42d",
         "books_general_interest"
        ],
        [
         "12",
         "0032ca69771a7758ce643258bb9e4ac7",
         "furniture_living_room"
        ],
        [
         "13",
         "0033f4a2887e07e25aa1204d482f41ba",
         "cool_stuff"
        ],
        [
         "14",
         "00344274804f3b8003de1b0562ae01df",
         "health_beauty"
        ],
        [
         "15",
         "00391594070baf8603f5fdc1d0c6a48c",
         "computers_accessories"
        ],
        [
         "16",
         "003a5571a07dcf09bf117d13d2980ba3",
         "baby"
        ],
        [
         "17",
         "003a7a8eb096ed3cbf713d2def1ca701",
         "garden_tools"
        ],
        [
         "18",
         "003ae409f37c3c30cb1c974af3a42692",
         "pet_shop"
        ],
        [
         "19",
         "003c2067070f5b3d923235b1ea1cc17b",
         "sports_leisure"
        ],
        [
         "20",
         "003fb95e849e71e732629d94bb92762f",
         "bed_bath_table"
        ],
        [
         "21",
         "0042dfa8925d6eb23e471ec350454f04",
         "baby"
        ],
        [
         "22",
         "0048706e497cfba0b689e1e3497bc99e",
         "health_beauty"
        ],
        [
         "23",
         "0048a779a98a7848514096ff04046079",
         "home_construction"
        ],
        [
         "24",
         "0049ec2d7a5818d0e4b3f4735cec2458",
         "telephony"
        ],
        [
         "25",
         "004b9b1634b7becda8eec4e96bced882",
         "sports_leisure"
        ],
        [
         "26",
         "004df63539fd5e38d4b0a0506de7549c",
         "watches_gifts"
        ],
        [
         "27",
         "00504b68faa074d0f40adcb4f7727f71",
         "bed_bath_table"
        ],
        [
         "28",
         "0056c2dd794a5eede6164dcae635875a",
         "housewares"
        ],
        [
         "29",
         "005754cb59f8ee5cdbb5cda9d138757e",
         "health_beauty"
        ],
        [
         "30",
         "0057f64bff87f4698b4cbd338d62a2a8",
         "furniture_decor"
        ],
        [
         "31",
         "005f6fa02633470267dcd1e3ecd0fa79",
         "furniture_decor"
        ],
        [
         "32",
         "0065f7795a38381973a373c8b4939679",
         "stationery"
        ],
        [
         "33",
         "0067d2652c12515146721538868bbd80",
         "baby"
        ],
        [
         "34",
         "0068bd2e9e76c018846dbc6e2bec5ac5",
         "bed_bath_table"
        ],
        [
         "35",
         "00705dcbc0b9cad67abd658612770905",
         "housewares"
        ],
        [
         "36",
         "007658319c060f337577e8a1834d5df5",
         "furniture_decor"
        ],
        [
         "37",
         "0077ba3f829303a1dce98552495c91a1",
         "office_furniture"
        ],
        [
         "38",
         "0087c31081ea8d160baa06bf4ad4d76f",
         "health_beauty"
        ],
        [
         "39",
         "008b06aba4b5f5b5b94f525ccf520624",
         "housewares"
        ],
        [
         "40",
         "008ca52811784a181c8c88e8d66b49db",
         "stationery"
        ],
        [
         "41",
         "00950dbc783342e164c24e09023ebcb7",
         "baby"
        ],
        [
         "42",
         "00a02d822b18db532e50e0607e615f3b",
         "computers_accessories"
        ],
        [
         "43",
         "00a1d0d7d91c17c634d6896ce10ce1c6",
         "watches_gifts"
        ],
        [
         "44",
         "00a33236962b4ac37fd25275be9c206b",
         "housewares"
        ],
        [
         "45",
         "00b246520d4904724f9b20188a2ff39b",
         "health_beauty"
        ],
        [
         "46",
         "00b2ca23369b68c4d4105ecea9c0cb93",
         "sports_leisure"
        ],
        [
         "47",
         "00b742e2f6d8fa571cd560007081d53b",
         "office_furniture"
        ],
        [
         "48",
         "00b9746bf8ac2964942d8b969f015196",
         "furniture_decor"
        ],
        [
         "49",
         "00c07da5ba0e07b4f248a3a373b07476",
         "auto"
        ]
       ],
       "shape": {
        "columns": 2,
        "rows": 13901
       }
      },
      "text/html": [
       "<div>\n",
       "<style scoped>\n",
       "    .dataframe tbody tr th:only-of-type {\n",
       "        vertical-align: middle;\n",
       "    }\n",
       "\n",
       "    .dataframe tbody tr th {\n",
       "        vertical-align: top;\n",
       "    }\n",
       "\n",
       "    .dataframe thead th {\n",
       "        text-align: right;\n",
       "    }\n",
       "</style>\n",
       "<table border=\"1\" class=\"dataframe\">\n",
       "  <thead>\n",
       "    <tr style=\"text-align: right;\">\n",
       "      <th></th>\n",
       "      <th>customer_unique_id</th>\n",
       "      <th>most_frequent_product_category</th>\n",
       "    </tr>\n",
       "  </thead>\n",
       "  <tbody>\n",
       "    <tr>\n",
       "      <th>0</th>\n",
       "      <td>000e309254ab1fc5ba99dd469d36bdb4</td>\n",
       "      <td>fashion_underwear_beach</td>\n",
       "    </tr>\n",
       "    <tr>\n",
       "      <th>1</th>\n",
       "      <td>000ec5bff359e1c0ad76a81a45cb598f</td>\n",
       "      <td>home_appliances</td>\n",
       "    </tr>\n",
       "    <tr>\n",
       "      <th>2</th>\n",
       "      <td>000fbf0473c10fc1ab6f8d2d286ce20c</td>\n",
       "      <td>musical_instruments</td>\n",
       "    </tr>\n",
       "    <tr>\n",
       "      <th>3</th>\n",
       "      <td>0015752e079902b12cd00b9b7596276b</td>\n",
       "      <td>luggage_accessories</td>\n",
       "    </tr>\n",
       "    <tr>\n",
       "      <th>4</th>\n",
       "      <td>00172711b30d52eea8b313a7f2cced02</td>\n",
       "      <td>stationery</td>\n",
       "    </tr>\n",
       "    <tr>\n",
       "      <th>...</th>\n",
       "      <td>...</td>\n",
       "      <td>...</td>\n",
       "    </tr>\n",
       "    <tr>\n",
       "      <th>13896</th>\n",
       "      <td>ffec490ab531184a483efe2eedd68908</td>\n",
       "      <td>construction_tools_construction</td>\n",
       "    </tr>\n",
       "    <tr>\n",
       "      <th>13897</th>\n",
       "      <td>ffee94d548cef05b146d825a7648dab4</td>\n",
       "      <td>auto</td>\n",
       "    </tr>\n",
       "    <tr>\n",
       "      <th>13898</th>\n",
       "      <td>fff3e1d7bc75f11dc7670619b2e61840</td>\n",
       "      <td>computers_accessories</td>\n",
       "    </tr>\n",
       "    <tr>\n",
       "      <th>13899</th>\n",
       "      <td>fff5eb4918b2bf4b2da476788d42051c</td>\n",
       "      <td>signaling_and_security</td>\n",
       "    </tr>\n",
       "    <tr>\n",
       "      <th>13900</th>\n",
       "      <td>fff96bc586f78b1f070da28c4977e810</td>\n",
       "      <td>housewares</td>\n",
       "    </tr>\n",
       "  </tbody>\n",
       "</table>\n",
       "<p>13901 rows × 2 columns</p>\n",
       "</div>"
      ],
      "text/plain": [
       "                     customer_unique_id   most_frequent_product_category\n",
       "0      000e309254ab1fc5ba99dd469d36bdb4          fashion_underwear_beach\n",
       "1      000ec5bff359e1c0ad76a81a45cb598f                  home_appliances\n",
       "2      000fbf0473c10fc1ab6f8d2d286ce20c              musical_instruments\n",
       "3      0015752e079902b12cd00b9b7596276b              luggage_accessories\n",
       "4      00172711b30d52eea8b313a7f2cced02                       stationery\n",
       "...                                 ...                              ...\n",
       "13896  ffec490ab531184a483efe2eedd68908  construction_tools_construction\n",
       "13897  ffee94d548cef05b146d825a7648dab4                             auto\n",
       "13898  fff3e1d7bc75f11dc7670619b2e61840            computers_accessories\n",
       "13899  fff5eb4918b2bf4b2da476788d42051c           signaling_and_security\n",
       "13900  fff96bc586f78b1f070da28c4977e810                       housewares\n",
       "\n",
       "[13901 rows x 2 columns]"
      ]
     },
     "execution_count": 20,
     "metadata": {},
     "output_type": "execute_result"
    }
   ],
   "source": [
    "mode_category_test = (\n",
    "    data_test.groupby(\"customer_unique_id\")[\"product_category_name_english\"]\n",
    "    .agg(calculate_mode)\n",
    "    .reset_index()\n",
    ")\n",
    "\n",
    "mode_category_test.columns = [\"customer_unique_id\", \"most_frequent_product_category\"]\n",
    "\n",
    "mode_category_test"
   ]
  },
  {
   "cell_type": "code",
   "execution_count": 21,
   "id": "6c456a48",
   "metadata": {},
   "outputs": [
    {
     "data": {
      "application/vnd.microsoft.datawrangler.viewer.v0+json": {
       "columns": [
        {
         "name": "index",
         "rawType": "int64",
         "type": "integer"
        },
        {
         "name": "customer_unique_id",
         "rawType": "object",
         "type": "string"
        },
        {
         "name": "Churn_Risk",
         "rawType": "int64",
         "type": "integer"
        },
        {
         "name": "num_orders",
         "rawType": "int64",
         "type": "integer"
        },
        {
         "name": "payment_value_mean",
         "rawType": "float64",
         "type": "float"
        },
        {
         "name": "payment_installments_mean",
         "rawType": "float64",
         "type": "float"
        },
        {
         "name": "price_mean",
         "rawType": "float64",
         "type": "float"
        },
        {
         "name": "review_score_mean",
         "rawType": "float64",
         "type": "float"
        },
        {
         "name": "customer_city",
         "rawType": "object",
         "type": "string"
        },
        {
         "name": "most_frequent_product_category",
         "rawType": "object",
         "type": "string"
        }
       ],
       "conversionMethod": "pd.DataFrame",
       "ref": "3345d329-a344-4773-b55e-7acf13245e0a",
       "rows": [
        [
         "0",
         "0000366f3b9a7992bf8c76cfdf3221e2",
         "2",
         "1",
         "141.9",
         "8.0",
         "129.9",
         "5.0",
         "cajamar",
         "bed_bath_table"
        ],
        [
         "1",
         "0000b849f77a49e4a4ce2b2a4ca5be3f",
         "2",
         "1",
         "27.19",
         "1.0",
         "18.9",
         "4.0",
         "osasco",
         "health_beauty"
        ],
        [
         "2",
         "0000f46a3911fa3c0805444483337064",
         "3",
         "1",
         "86.22",
         "8.0",
         "69.0",
         "3.0",
         "sao jose",
         "stationery"
        ],
        [
         "3",
         "0000f6ccb0745a6a4b88665a16c9f078",
         "3",
         "1",
         "43.62",
         "4.0",
         "25.99",
         "4.0",
         "belem",
         "telephony"
        ],
        [
         "4",
         "0004aac84e0df4da2b147fca70cf8255",
         "3",
         "1",
         "196.89",
         "6.0",
         "180.0",
         "5.0",
         "sorocaba",
         "telephony"
        ],
        [
         "5",
         "0004bd2a26a76fe21f786e4fbd80607f",
         "2",
         "1",
         "166.98",
         "8.0",
         "154.0",
         "4.0",
         "sao paulo",
         "garden_tools"
        ],
        [
         "6",
         "00050ab1314c0e55a6ca13cf7181fecf",
         "2",
         "1",
         "35.38",
         "1.0",
         "27.99",
         "4.0",
         "campinas",
         "telephony"
        ],
        [
         "7",
         "00053a61a98854899e70ed204dd4bafe",
         "1",
         "2",
         "419.18",
         "3.0",
         "191.0",
         "1.0",
         "curitiba",
         "sports_leisure"
        ],
        [
         "8",
         "0005e1862207bf6ccc02e4228effd9a0",
         "3",
         "1",
         "150.12",
         "3.0",
         "135.0",
         "4.0",
         "teresopolis",
         "fashion_bags_accessories"
        ],
        [
         "9",
         "0005ef4cd20d2893f0d9fbd94d3c0d97",
         "2",
         "1",
         "129.76",
         "4.0",
         "104.9",
         "1.0",
         "sao luis",
         "sports_leisure"
        ],
        [
         "10",
         "0006fdc98a402fceb4eb0ee528f6a8d4",
         "3",
         "1",
         "29.0",
         "2.0",
         "13.9",
         "3.0",
         "mimoso do sul",
         "bed_bath_table"
        ],
        [
         "11",
         "00082cbe03e478190aadbea78542e933",
         "3",
         "1",
         "126.26",
         "1.0",
         "79.0",
         "5.0",
         "itapeva",
         "luggage_accessories"
        ],
        [
         "12",
         "00090324bbad0e9342388303bb71ba0a",
         "2",
         "1",
         "63.66",
         "3.0",
         "49.95",
         "5.0",
         "campinas",
         "bed_bath_table"
        ],
        [
         "13",
         "000949456b182f53c18b68d6babc79c1",
         "2",
         "1",
         "82.05",
         "1.0",
         "64.89",
         "4.0",
         "sao bernardo do campo",
         "computers_accessories"
        ],
        [
         "14",
         "000a5ad9c4601d2bbdd9ed765d5213b3",
         "3",
         "1",
         "91.28",
         "3.0",
         "76.99",
         "4.0",
         "porto alegre",
         "health_beauty"
        ],
        [
         "15",
         "000bfa1d2f1a41876493be685390d6d3",
         "2",
         "2",
         "46.85",
         "4.0",
         "35.0",
         "4.5",
         "santos",
         "fashion_bags_accessories"
        ],
        [
         "16",
         "000c8bdb58a29e7115cfc257230fb21b",
         "3",
         "1",
         "29.0",
         "2.0",
         "13.9",
         "5.0",
         "belo horizonte",
         "bed_bath_table"
        ],
        [
         "17",
         "000d460961d6dbfa3ec6c9f5805769e1",
         "3",
         "1",
         "36.68",
         "1.0",
         "28.9",
         "5.0",
         "sao paulo",
         "telephony"
        ],
        [
         "18",
         "000de6019bb59f34c099a907c151d855",
         "2",
         "2",
         "257.44",
         "4.0",
         "114.9",
         "2.0",
         "sao sebastiao",
         "bed_bath_table"
        ],
        [
         "19",
         "000ed48ceeb6f4bf8ad021a10a3c7b43",
         "2",
         "1",
         "20.75",
         "1.0",
         "12.88",
         "5.0",
         "sao paulo",
         "computers_accessories"
        ],
        [
         "20",
         "0010a452c6d13139e50b57f19f52e04e",
         "3",
         "1",
         "325.93",
         "10.0",
         "299.0",
         "1.0",
         "taquara",
         "home_confort"
        ],
        [
         "21",
         "0010fb34b966d44409382af9e8fd5b77",
         "2",
         "1",
         "61.8",
         "6.0",
         "49.95",
         "4.0",
         "sao paulo",
         "bed_bath_table"
        ],
        [
         "22",
         "001147e649a7b1afd577e873841632dd",
         "2",
         "2",
         "212.16",
         "1.0",
         "85.0",
         "4.0",
         "maringa",
         "housewares"
        ],
        [
         "23",
         "00115fc7123b5310cf6d3a3aa932699e",
         "3",
         "1",
         "76.11",
         "1.0",
         "59.99",
         "4.0",
         "brasilia",
         "sports_leisure"
        ],
        [
         "24",
         "0011805441c0d1b68b48002f1d005526",
         "3",
         "1",
         "297.14",
         "10.0",
         "269.0",
         "3.0",
         "goianesia do para",
         "computers_accessories"
        ],
        [
         "25",
         "0011857aff0e5871ce5eb429f21cdaf5",
         "3",
         "1",
         "192.83",
         "3.0",
         "174.33",
         "5.0",
         "santo andre",
         "luggage_accessories"
        ],
        [
         "26",
         "0011c98589159d6149979563c504cb21",
         "3",
         "1",
         "117.94",
         "5.0",
         "99.99",
         "5.0",
         "campos altos",
         "small_appliances"
        ],
        [
         "27",
         "0012929d977a8d7280bb277c1e5f589d",
         "3",
         "1",
         "155.65",
         "1.0",
         "129.9",
         "1.0",
         "canoas",
         "watches_gifts"
        ],
        [
         "28",
         "0014a5a58da615f7b01a4f5e194bf5ea",
         "3",
         "1",
         "99.82",
         "3.0",
         "88.0",
         "5.0",
         "sao paulo",
         "health_beauty"
        ],
        [
         "29",
         "00191a9719ef48ebb5860b130347bf33",
         "3",
         "1",
         "58.86",
         "2.0",
         "47.9",
         "3.0",
         "jarinu",
         "bed_bath_table"
        ],
        [
         "30",
         "001926cef41060fae572e2e7b30bd2a4",
         "2",
         "2",
         "91.21",
         "1.0",
         "24.395",
         "4.0",
         "nova canaa do norte",
         "computers_accessories"
        ],
        [
         "31",
         "00196fdb2bf9edfc35e88ebfbcf8d781",
         "2",
         "1",
         "27.0",
         "1.0",
         "12.9",
         "3.0",
         "canoas",
         "electronics"
        ],
        [
         "32",
         "0019da6aa6bcb27cc32f1249bd12da05",
         "2",
         "1",
         "87.71",
         "1.0",
         "79.9",
         "1.0",
         "limeira",
         "housewares"
        ],
        [
         "33",
         "0019e8c501c85848ac0966d45226fa1d",
         "2",
         "1",
         "197.27",
         "2.0",
         "159.99",
         "5.0",
         "cuiaba",
         "sports_leisure"
        ],
        [
         "34",
         "001a2bf0e46c684031af91fb2bce149d",
         "3",
         "1",
         "36.73",
         "1.0",
         "24.88",
         "4.0",
         "sao paulo",
         "housewares"
        ],
        [
         "35",
         "001a3a8e11d76c9a366c31a4aa2cc529",
         "2",
         "1",
         "24.23",
         "1.0",
         "9.0",
         "5.0",
         "porto alegre",
         "electronics"
        ],
        [
         "36",
         "001ae5a1788703d64536c30362503e49",
         "3",
         "1",
         "135.08",
         "1.0",
         "89.99",
         "5.0",
         "volta redonda",
         "garden_tools"
        ],
        [
         "37",
         "001f3c4211216384d5fe59b041ce1461",
         "3",
         "1",
         "35.84",
         "3.0",
         "24.88",
         "3.0",
         "sao paulo",
         "housewares"
        ],
        [
         "38",
         "002043098f10ba39a4600b6c52fbfe3c",
         "3",
         "1",
         "237.81",
         "4.0",
         "176.99",
         "4.0",
         "aracaju",
         "office_furniture"
        ],
        [
         "39",
         "002311514717ca8b65b09a26cdf7b91a",
         "2",
         "1",
         "124.32",
         "2.0",
         "116.25",
         "5.0",
         "guarulhos",
         "auto"
        ],
        [
         "40",
         "0023557a94bef0038066b5d1b3dc763e",
         "2",
         "1",
         "107.44",
         "2.0",
         "89.9",
         "3.0",
         "potirendaba",
         "auto"
        ],
        [
         "41",
         "00256bf7b05c08f6a5849df3d0a64f1f",
         "2",
         "1",
         "57.73",
         "1.0",
         "39.5",
         "3.0",
         "sao paulo",
         "furniture_decor"
        ],
        [
         "42",
         "0027324a96d26a2bc7d69262f83c8403",
         "2",
         "1",
         "46.78",
         "2.0",
         "37.9",
         "5.0",
         "sao jose dos campos",
         "perfumery"
        ],
        [
         "43",
         "0028a7d8db7b0247652509358ad8d755",
         "2",
         "2",
         "177.435",
         "1.0",
         "274.0",
         "3.0",
         "valinhos",
         "office_furniture"
        ],
        [
         "44",
         "0028cfeb9dfcd3628a56d5b6400deef5",
         "3",
         "1",
         "118.2",
         "1.0",
         "95.9",
         "5.0",
         "serrana",
         "electronics"
        ],
        [
         "45",
         "00293787e2aec37a9c253b63fdfe2049",
         "2",
         "2",
         "257.87",
         "1.0",
         "118.9",
         "3.0",
         "rio de janeiro",
         "health_beauty"
        ],
        [
         "46",
         "002aba8c1af80acacef6e011f9f23262",
         "2",
         "1",
         "217.74",
         "3.0",
         "199.9",
         "1.0",
         "mangaratiba",
         "construction_tools_construction"
        ],
        [
         "47",
         "002ae492472e45ad6ebeb7a625409392",
         "2",
         "2",
         "218.66",
         "4.0",
         "51.99",
         "3.0",
         "brasilia",
         "health_beauty"
        ],
        [
         "48",
         "002b4cd83fabaffaa475f78ea5ef3e08",
         "3",
         "1",
         "64.42",
         "1.0",
         "49.9",
         "2.0",
         "sao sebastiao do paraiso",
         "fashion_bags_accessories"
        ],
        [
         "49",
         "002bdeb33da5b1b3ce8b9c822f749c82",
         "3",
         "1",
         "38.09",
         "1.0",
         "23.99",
         "5.0",
         "palhoca",
         "health_beauty"
        ]
       ],
       "shape": {
        "columns": 9,
        "rows": 77958
       }
      },
      "text/html": [
       "<div>\n",
       "<style scoped>\n",
       "    .dataframe tbody tr th:only-of-type {\n",
       "        vertical-align: middle;\n",
       "    }\n",
       "\n",
       "    .dataframe tbody tr th {\n",
       "        vertical-align: top;\n",
       "    }\n",
       "\n",
       "    .dataframe thead th {\n",
       "        text-align: right;\n",
       "    }\n",
       "</style>\n",
       "<table border=\"1\" class=\"dataframe\">\n",
       "  <thead>\n",
       "    <tr style=\"text-align: right;\">\n",
       "      <th></th>\n",
       "      <th>customer_unique_id</th>\n",
       "      <th>Churn_Risk</th>\n",
       "      <th>num_orders</th>\n",
       "      <th>payment_value_mean</th>\n",
       "      <th>payment_installments_mean</th>\n",
       "      <th>price_mean</th>\n",
       "      <th>review_score_mean</th>\n",
       "      <th>customer_city</th>\n",
       "      <th>most_frequent_product_category</th>\n",
       "    </tr>\n",
       "  </thead>\n",
       "  <tbody>\n",
       "    <tr>\n",
       "      <th>0</th>\n",
       "      <td>0000366f3b9a7992bf8c76cfdf3221e2</td>\n",
       "      <td>2</td>\n",
       "      <td>1</td>\n",
       "      <td>141.90</td>\n",
       "      <td>8.0</td>\n",
       "      <td>129.90</td>\n",
       "      <td>5.0</td>\n",
       "      <td>cajamar</td>\n",
       "      <td>bed_bath_table</td>\n",
       "    </tr>\n",
       "    <tr>\n",
       "      <th>1</th>\n",
       "      <td>0000b849f77a49e4a4ce2b2a4ca5be3f</td>\n",
       "      <td>2</td>\n",
       "      <td>1</td>\n",
       "      <td>27.19</td>\n",
       "      <td>1.0</td>\n",
       "      <td>18.90</td>\n",
       "      <td>4.0</td>\n",
       "      <td>osasco</td>\n",
       "      <td>health_beauty</td>\n",
       "    </tr>\n",
       "    <tr>\n",
       "      <th>2</th>\n",
       "      <td>0000f46a3911fa3c0805444483337064</td>\n",
       "      <td>3</td>\n",
       "      <td>1</td>\n",
       "      <td>86.22</td>\n",
       "      <td>8.0</td>\n",
       "      <td>69.00</td>\n",
       "      <td>3.0</td>\n",
       "      <td>sao jose</td>\n",
       "      <td>stationery</td>\n",
       "    </tr>\n",
       "    <tr>\n",
       "      <th>3</th>\n",
       "      <td>0000f6ccb0745a6a4b88665a16c9f078</td>\n",
       "      <td>3</td>\n",
       "      <td>1</td>\n",
       "      <td>43.62</td>\n",
       "      <td>4.0</td>\n",
       "      <td>25.99</td>\n",
       "      <td>4.0</td>\n",
       "      <td>belem</td>\n",
       "      <td>telephony</td>\n",
       "    </tr>\n",
       "    <tr>\n",
       "      <th>4</th>\n",
       "      <td>0004aac84e0df4da2b147fca70cf8255</td>\n",
       "      <td>3</td>\n",
       "      <td>1</td>\n",
       "      <td>196.89</td>\n",
       "      <td>6.0</td>\n",
       "      <td>180.00</td>\n",
       "      <td>5.0</td>\n",
       "      <td>sorocaba</td>\n",
       "      <td>telephony</td>\n",
       "    </tr>\n",
       "    <tr>\n",
       "      <th>...</th>\n",
       "      <td>...</td>\n",
       "      <td>...</td>\n",
       "      <td>...</td>\n",
       "      <td>...</td>\n",
       "      <td>...</td>\n",
       "      <td>...</td>\n",
       "      <td>...</td>\n",
       "      <td>...</td>\n",
       "      <td>...</td>\n",
       "    </tr>\n",
       "    <tr>\n",
       "      <th>77953</th>\n",
       "      <td>fffcf5a5ff07b0908bd4e2dbc735a684</td>\n",
       "      <td>2</td>\n",
       "      <td>2</td>\n",
       "      <td>2067.42</td>\n",
       "      <td>10.0</td>\n",
       "      <td>785.00</td>\n",
       "      <td>5.0</td>\n",
       "      <td>sanharo</td>\n",
       "      <td>health_beauty</td>\n",
       "    </tr>\n",
       "    <tr>\n",
       "      <th>77954</th>\n",
       "      <td>fffea47cd6d3cc0a88bd621562a9d061</td>\n",
       "      <td>3</td>\n",
       "      <td>1</td>\n",
       "      <td>84.58</td>\n",
       "      <td>1.0</td>\n",
       "      <td>64.89</td>\n",
       "      <td>4.0</td>\n",
       "      <td>feira de santana</td>\n",
       "      <td>baby</td>\n",
       "    </tr>\n",
       "    <tr>\n",
       "      <th>77955</th>\n",
       "      <td>ffff371b4d645b6ecea244b27531430a</td>\n",
       "      <td>3</td>\n",
       "      <td>1</td>\n",
       "      <td>112.46</td>\n",
       "      <td>1.0</td>\n",
       "      <td>89.90</td>\n",
       "      <td>5.0</td>\n",
       "      <td>sinop</td>\n",
       "      <td>auto</td>\n",
       "    </tr>\n",
       "    <tr>\n",
       "      <th>77956</th>\n",
       "      <td>ffff5962728ec6157033ef9805bacc48</td>\n",
       "      <td>2</td>\n",
       "      <td>1</td>\n",
       "      <td>133.69</td>\n",
       "      <td>5.0</td>\n",
       "      <td>115.00</td>\n",
       "      <td>5.0</td>\n",
       "      <td>bom jesus do norte</td>\n",
       "      <td>watches_gifts</td>\n",
       "    </tr>\n",
       "    <tr>\n",
       "      <th>77957</th>\n",
       "      <td>ffffd2657e2aad2907e67c3e9daecbeb</td>\n",
       "      <td>3</td>\n",
       "      <td>1</td>\n",
       "      <td>71.56</td>\n",
       "      <td>4.0</td>\n",
       "      <td>56.99</td>\n",
       "      <td>5.0</td>\n",
       "      <td>campo largo</td>\n",
       "      <td>perfumery</td>\n",
       "    </tr>\n",
       "  </tbody>\n",
       "</table>\n",
       "<p>77958 rows × 9 columns</p>\n",
       "</div>"
      ],
      "text/plain": [
       "                     customer_unique_id  Churn_Risk  num_orders  \\\n",
       "0      0000366f3b9a7992bf8c76cfdf3221e2           2           1   \n",
       "1      0000b849f77a49e4a4ce2b2a4ca5be3f           2           1   \n",
       "2      0000f46a3911fa3c0805444483337064           3           1   \n",
       "3      0000f6ccb0745a6a4b88665a16c9f078           3           1   \n",
       "4      0004aac84e0df4da2b147fca70cf8255           3           1   \n",
       "...                                 ...         ...         ...   \n",
       "77953  fffcf5a5ff07b0908bd4e2dbc735a684           2           2   \n",
       "77954  fffea47cd6d3cc0a88bd621562a9d061           3           1   \n",
       "77955  ffff371b4d645b6ecea244b27531430a           3           1   \n",
       "77956  ffff5962728ec6157033ef9805bacc48           2           1   \n",
       "77957  ffffd2657e2aad2907e67c3e9daecbeb           3           1   \n",
       "\n",
       "       payment_value_mean  payment_installments_mean  price_mean  \\\n",
       "0                  141.90                        8.0      129.90   \n",
       "1                   27.19                        1.0       18.90   \n",
       "2                   86.22                        8.0       69.00   \n",
       "3                   43.62                        4.0       25.99   \n",
       "4                  196.89                        6.0      180.00   \n",
       "...                   ...                        ...         ...   \n",
       "77953             2067.42                       10.0      785.00   \n",
       "77954               84.58                        1.0       64.89   \n",
       "77955              112.46                        1.0       89.90   \n",
       "77956              133.69                        5.0      115.00   \n",
       "77957               71.56                        4.0       56.99   \n",
       "\n",
       "       review_score_mean       customer_city most_frequent_product_category  \n",
       "0                    5.0             cajamar                 bed_bath_table  \n",
       "1                    4.0              osasco                  health_beauty  \n",
       "2                    3.0            sao jose                     stationery  \n",
       "3                    4.0               belem                      telephony  \n",
       "4                    5.0            sorocaba                      telephony  \n",
       "...                  ...                 ...                            ...  \n",
       "77953                5.0             sanharo                  health_beauty  \n",
       "77954                4.0    feira de santana                           baby  \n",
       "77955                5.0               sinop                           auto  \n",
       "77956                5.0  bom jesus do norte                  watches_gifts  \n",
       "77957                5.0         campo largo                      perfumery  \n",
       "\n",
       "[77958 rows x 9 columns]"
      ]
     },
     "execution_count": 21,
     "metadata": {},
     "output_type": "execute_result"
    }
   ],
   "source": [
    "clients_data_1_train = orderer_by_client_train.merge(\n",
    "    payments_ratings_train, on=\"customer_unique_id\")\n",
    "clients_data_2_train = clients_city_train.merge(mode_category_train, on=\"customer_unique_id\")\n",
    "clients_data = clients_data_1_train.merge(\n",
    "    clients_data_2_train, on=\"customer_unique_id\")\n",
    "\n",
    "# ОбЪединяем с лейблами\n",
    "clients_data_labeled_train = labels.merge(clients_data, on=\"customer_unique_id\")\n",
    "clients_data_labeled_train"
   ]
  },
  {
   "cell_type": "code",
   "execution_count": 22,
   "id": "83d8bb42",
   "metadata": {},
   "outputs": [
    {
     "data": {
      "application/vnd.microsoft.datawrangler.viewer.v0+json": {
       "columns": [
        {
         "name": "index",
         "rawType": "int64",
         "type": "integer"
        },
        {
         "name": "customer_unique_id",
         "rawType": "object",
         "type": "string"
        },
        {
         "name": "Churn_Risk",
         "rawType": "int64",
         "type": "integer"
        },
        {
         "name": "num_orders",
         "rawType": "int64",
         "type": "integer"
        },
        {
         "name": "payment_value_mean",
         "rawType": "float64",
         "type": "float"
        },
        {
         "name": "payment_installments_mean",
         "rawType": "float64",
         "type": "float"
        },
        {
         "name": "price_mean",
         "rawType": "float64",
         "type": "float"
        },
        {
         "name": "review_score_mean",
         "rawType": "float64",
         "type": "float"
        },
        {
         "name": "customer_city",
         "rawType": "object",
         "type": "string"
        },
        {
         "name": "most_frequent_product_category",
         "rawType": "object",
         "type": "string"
        }
       ],
       "conversionMethod": "pd.DataFrame",
       "ref": "a04c0038-225c-4f9b-96cd-ee4c3a864443",
       "rows": [
        [
         "0",
         "000e309254ab1fc5ba99dd469d36bdb4",
         "1",
         "2",
         "39.21",
         "1.0",
         "59.9",
         "3.0",
         "valparaiso de goias",
         "fashion_underwear_beach"
        ],
        [
         "1",
         "000ec5bff359e1c0ad76a81a45cb598f",
         "2",
         "1",
         "27.75",
         "1.0",
         "14.96",
         "5.0",
         "salto de pirapora",
         "home_appliances"
        ],
        [
         "2",
         "000fbf0473c10fc1ab6f8d2d286ce20c",
         "1",
         "4",
         "362.38",
         "1.0",
         "71.45",
         "5.0",
         "indaiatuba",
         "musical_instruments"
        ],
        [
         "3",
         "0015752e079902b12cd00b9b7596276b",
         "1",
         "2",
         "74.82",
         "3.0",
         "29.9",
         "5.0",
         "sao paulo",
         "luggage_accessories"
        ],
        [
         "4",
         "00172711b30d52eea8b313a7f2cced02",
         "2",
         "1",
         "122.07",
         "2.0",
         "74.5",
         "4.0",
         "jequie",
         "stationery"
        ]
       ],
       "shape": {
        "columns": 9,
        "rows": 5
       }
      },
      "text/html": [
       "<div>\n",
       "<style scoped>\n",
       "    .dataframe tbody tr th:only-of-type {\n",
       "        vertical-align: middle;\n",
       "    }\n",
       "\n",
       "    .dataframe tbody tr th {\n",
       "        vertical-align: top;\n",
       "    }\n",
       "\n",
       "    .dataframe thead th {\n",
       "        text-align: right;\n",
       "    }\n",
       "</style>\n",
       "<table border=\"1\" class=\"dataframe\">\n",
       "  <thead>\n",
       "    <tr style=\"text-align: right;\">\n",
       "      <th></th>\n",
       "      <th>customer_unique_id</th>\n",
       "      <th>Churn_Risk</th>\n",
       "      <th>num_orders</th>\n",
       "      <th>payment_value_mean</th>\n",
       "      <th>payment_installments_mean</th>\n",
       "      <th>price_mean</th>\n",
       "      <th>review_score_mean</th>\n",
       "      <th>customer_city</th>\n",
       "      <th>most_frequent_product_category</th>\n",
       "    </tr>\n",
       "  </thead>\n",
       "  <tbody>\n",
       "    <tr>\n",
       "      <th>0</th>\n",
       "      <td>000e309254ab1fc5ba99dd469d36bdb4</td>\n",
       "      <td>1</td>\n",
       "      <td>2</td>\n",
       "      <td>39.21</td>\n",
       "      <td>1.0</td>\n",
       "      <td>59.90</td>\n",
       "      <td>3.0</td>\n",
       "      <td>valparaiso de goias</td>\n",
       "      <td>fashion_underwear_beach</td>\n",
       "    </tr>\n",
       "    <tr>\n",
       "      <th>1</th>\n",
       "      <td>000ec5bff359e1c0ad76a81a45cb598f</td>\n",
       "      <td>2</td>\n",
       "      <td>1</td>\n",
       "      <td>27.75</td>\n",
       "      <td>1.0</td>\n",
       "      <td>14.96</td>\n",
       "      <td>5.0</td>\n",
       "      <td>salto de pirapora</td>\n",
       "      <td>home_appliances</td>\n",
       "    </tr>\n",
       "    <tr>\n",
       "      <th>2</th>\n",
       "      <td>000fbf0473c10fc1ab6f8d2d286ce20c</td>\n",
       "      <td>1</td>\n",
       "      <td>4</td>\n",
       "      <td>362.38</td>\n",
       "      <td>1.0</td>\n",
       "      <td>71.45</td>\n",
       "      <td>5.0</td>\n",
       "      <td>indaiatuba</td>\n",
       "      <td>musical_instruments</td>\n",
       "    </tr>\n",
       "    <tr>\n",
       "      <th>3</th>\n",
       "      <td>0015752e079902b12cd00b9b7596276b</td>\n",
       "      <td>1</td>\n",
       "      <td>2</td>\n",
       "      <td>74.82</td>\n",
       "      <td>3.0</td>\n",
       "      <td>29.90</td>\n",
       "      <td>5.0</td>\n",
       "      <td>sao paulo</td>\n",
       "      <td>luggage_accessories</td>\n",
       "    </tr>\n",
       "    <tr>\n",
       "      <th>4</th>\n",
       "      <td>00172711b30d52eea8b313a7f2cced02</td>\n",
       "      <td>2</td>\n",
       "      <td>1</td>\n",
       "      <td>122.07</td>\n",
       "      <td>2.0</td>\n",
       "      <td>74.50</td>\n",
       "      <td>4.0</td>\n",
       "      <td>jequie</td>\n",
       "      <td>stationery</td>\n",
       "    </tr>\n",
       "  </tbody>\n",
       "</table>\n",
       "</div>"
      ],
      "text/plain": [
       "                 customer_unique_id  Churn_Risk  num_orders  \\\n",
       "0  000e309254ab1fc5ba99dd469d36bdb4           1           2   \n",
       "1  000ec5bff359e1c0ad76a81a45cb598f           2           1   \n",
       "2  000fbf0473c10fc1ab6f8d2d286ce20c           1           4   \n",
       "3  0015752e079902b12cd00b9b7596276b           1           2   \n",
       "4  00172711b30d52eea8b313a7f2cced02           2           1   \n",
       "\n",
       "   payment_value_mean  payment_installments_mean  price_mean  \\\n",
       "0               39.21                        1.0       59.90   \n",
       "1               27.75                        1.0       14.96   \n",
       "2              362.38                        1.0       71.45   \n",
       "3               74.82                        3.0       29.90   \n",
       "4              122.07                        2.0       74.50   \n",
       "\n",
       "   review_score_mean        customer_city most_frequent_product_category  \n",
       "0                3.0  valparaiso de goias        fashion_underwear_beach  \n",
       "1                5.0    salto de pirapora                home_appliances  \n",
       "2                5.0           indaiatuba            musical_instruments  \n",
       "3                5.0            sao paulo            luggage_accessories  \n",
       "4                4.0               jequie                     stationery  "
      ]
     },
     "execution_count": 22,
     "metadata": {},
     "output_type": "execute_result"
    }
   ],
   "source": [
    "clients_data_1_test = orderer_by_client_test.merge(\n",
    "    payments_ratings_test, on=\"customer_unique_id\")\n",
    "clients_data_2_test = clients_city_test.merge(mode_category_test, on=\"customer_unique_id\")\n",
    "clients_data = clients_data_1_test.merge(\n",
    "    clients_data_2_test, on=\"customer_unique_id\")\n",
    "\n",
    "# ОбЪединяем с лейблами\n",
    "clients_data_labeled_test = labels.merge(clients_data, on=\"customer_unique_id\")\n",
    "clients_data_labeled_test.head()"
   ]
  },
  {
   "cell_type": "code",
   "execution_count": 23,
   "id": "e5d15aba",
   "metadata": {},
   "outputs": [],
   "source": [
    "# # Кодируем и центрируем что нужно\n",
    "# label_encoder_city = LabelEncoder()\n",
    "# label_encoder_cat = LabelEncoder()\n",
    "# scaler = StandardScaler()\n",
    "\n",
    "# num_columns = [\"num_orders\", \"payment_value_mean\", \"payment_installments_mean\",\n",
    "#                \"price_mean\", \"review_score_mean\"]\n",
    "# cat_columns = [\"customer_city\", \"most_frequent_product_category\"]\n",
    "\n",
    "\n",
    "# # Разделение на X и y\n",
    "# X = clients_data_labeled[num_columns + cat_columns]\n",
    "# y = clients_data_labeled[\"labels_final\"]\n",
    "\n",
    "# X_scaled = scaler.fit_transform(X[num_columns])\n",
    "# X_city = label_encoder_city.fit_transform(X[\"customer_city\"])\n",
    "# X_category = label_encoder_cat.fit_transform(\n",
    "#     X[\"most_frequent_product_category\"])\n",
    "\n",
    "# X_joined = pd.concat([pd.DataFrame(X_scaled, columns=num_columns), pd.DataFrame(\n",
    "#     X_city, columns=[\"customer_city\"]), pd.DataFrame(X_category, columns=[\"most_frequent_product_category\"])], axis=1)\n",
    "# X_joined"
   ]
  },
  {
   "cell_type": "code",
   "execution_count": 25,
   "id": "3ddfcc47",
   "metadata": {},
   "outputs": [
    {
     "data": {
      "application/vnd.microsoft.datawrangler.viewer.v0+json": {
       "columns": [
        {
         "name": "index",
         "rawType": "int64",
         "type": "integer"
        },
        {
         "name": "order_count",
         "rawType": "float64",
         "type": "float"
        },
        {
         "name": "mean_payment_value",
         "rawType": "float64",
         "type": "float"
        },
        {
         "name": "mean_payment_installments",
         "rawType": "float64",
         "type": "float"
        },
        {
         "name": "mean_price",
         "rawType": "float64",
         "type": "float"
        },
        {
         "name": "mean_review_score",
         "rawType": "float64",
         "type": "float"
        },
        {
         "name": "city_frequency",
         "rawType": "int64",
         "type": "integer"
        },
        {
         "name": "category_frequency",
         "rawType": "int64",
         "type": "integer"
        }
       ],
       "conversionMethod": "pd.DataFrame",
       "ref": "6b93f859-2b30-40fa-bbdb-5e0c15bd673b",
       "rows": [
        [
         "0",
         "-0.2820264495071099",
         "-0.07156736322333337",
         "1.8790636644721683",
         "0.023481424150175397",
         "0.6721466669410483",
         "79",
         "7644"
        ],
        [
         "1",
         "-0.2820264495071099",
         "-0.6063093161429666",
         "-0.7140752755759358",
         "-0.5681401907250734",
         "-0.10022165226734961",
         "571",
         "6702"
        ],
        [
         "2",
         "-0.2820264495071099",
         "-0.33113001633609757",
         "1.8790636644721683",
         "-0.3011109753624611",
         "-0.8725899714757475",
         "138",
         "1832"
        ],
        [
         "3",
         "-0.2820264495071099",
         "-0.5297178220581477",
         "0.3972699844446802",
         "-0.5303510263154743",
         "-0.10022165226734961",
         "345",
         "3458"
        ],
        [
         "4",
         "-0.2820264495071099",
         "0.1847787268390031",
         "1.1381668244584242",
         "0.29051063951278766",
         "0.6721466669410483",
         "490",
         "3458"
        ],
        [
         "5",
         "-0.2820264495071099",
         "0.04534771113133833",
         "1.8790636644721683",
         "0.15193260359606273",
         "-0.10022165226734961",
         "11816",
         "2997"
        ],
        [
         "6",
         "-0.2820264495071099",
         "-0.5681301112400654",
         "-0.7140752755759358",
         "-0.5196911773988031",
         "-0.10022165226734961",
         "1152",
         "3458"
        ],
        [
         "7",
         "0.8702306623148736",
         "1.221024814490518",
         "0.02682156443780821",
         "0.34913980855447896",
         "-2.417326609892543",
         "1188",
         "6223"
        ],
        [
         "8",
         "-0.2820264495071099",
         "-0.033248307753022295",
         "0.02682156443780821",
         "0.0506640388876868",
         "-0.10022165226734961",
         "90",
         "1511"
        ],
        [
         "9",
         "-0.2820264495071099",
         "-0.12816022616853742",
         "0.3972699844446802",
         "-0.10976668730821397",
         "-2.417326609892543",
         "280",
         "6223"
        ],
        [
         "10",
         "-0.2820264495071099",
         "-0.5978716652425696",
         "-0.3436268555690638",
         "-0.5947898130167513",
         "-0.8725899714757475",
         "8",
         "7644"
        ],
        [
         "11",
         "-0.2820264495071099",
         "-0.1444761256996917",
         "-0.7140752755759358",
         "-0.24781173077910537",
         "0.6721466669410483",
         "44",
         "867"
        ],
        [
         "12",
         "-0.2820264495071099",
         "-0.43629764302833823",
         "0.02682156443780821",
         "-0.4026460362937538",
         "0.6721466669410483",
         "1152",
         "7644"
        ],
        [
         "13",
         "-0.2820264495071099",
         "-0.3505692452060729",
         "-0.7140752755759358",
         "-0.32301696488622034",
         "-0.10022165226734961",
         "730",
         "5485"
        ],
        [
         "14",
         "-0.2820264495071099",
         "-0.30754188729962867",
         "0.02682156443780821",
         "-0.2585248789403599",
         "-0.10022165226734961",
         "1090",
         "6702"
        ],
        [
         "15",
         "0.8702306623148736",
         "-0.5146605776336824",
         "0.3972699844446802",
         "-0.48232840694587065",
         "0.28596250733684936",
         "537",
         "1511"
        ],
        [
         "16",
         "-0.2820264495071099",
         "-0.5978716652425696",
         "-0.3436268555690638",
         "-0.5947898130167513",
         "0.6721466669410483",
         "2163",
         "7644"
        ],
        [
         "17",
         "-0.2820264495071099",
         "-0.5620699199856366",
         "-0.7140752755759358",
         "-0.5148409461417176",
         "0.6721466669410483",
         "11816",
         "3458"
        ],
        [
         "18",
         "0.8702306623148736",
         "0.46704378872797353",
         "0.3972699844446802",
         "-0.05646744272485822",
         "-1.6449582906841453",
         "51",
         "7644"
        ],
        [
         "19",
         "-0.2820264495071099",
         "-0.6363305712802906",
         "-0.7140752755759358",
         "-0.6002263359642536",
         "0.6721466669410483",
         "11816",
         "5485"
        ],
        [
         "20",
         "-0.2820264495071099",
         "0.7863226341247627",
         "2.6199605044859124",
         "0.9247716500547211",
         "-2.417326609892543",
         "15",
         "289"
        ],
        [
         "21",
         "-0.2820264495071099",
         "-0.44496837820775165",
         "1.1381668244584242",
         "-0.4026460362937538",
         "-0.10022165226734961",
         "11816",
         "7644"
        ],
        [
         "22",
         "0.8702306623148736",
         "0.25596266565063946",
         "-0.7140752755759358",
         "-0.21583218402909193",
         "-0.10022165226734961",
         "213",
         "4385"
        ],
        [
         "23",
         "-0.2820264495071099",
         "-0.378259657553232",
         "-0.7140752755759358",
         "-0.3491335947320646",
         "-0.10022165226734961",
         "1641",
         "6223"
        ],
        [
         "24",
         "-0.2820264495071099",
         "0.6521127062670672",
         "2.6199605044859124",
         "0.7648739163046538",
         "-0.8725899714757475",
         "3",
         "5485"
        ],
        [
         "25",
         "-0.2820264495071099",
         "0.16585228338286417",
         "0.02682156443780821",
         "0.260289967834025",
         "0.6721466669410483",
         "618",
         "867"
        ],
        [
         "26",
         "-0.2820264495071099",
         "-0.1832613497280358",
         "0.7677184044515523",
         "-0.13593661639864169",
         "0.6721466669410483",
         "4",
         "522"
        ],
        [
         "27",
         "-0.2820264495071099",
         "-0.007469186493798409",
         "-0.7140752755759358",
         "0.023481424150175397",
         "-2.417326609892543",
         "171",
         "4248"
        ],
        [
         "28",
         "-0.2820264495071099",
         "-0.2677310924436121",
         "0.02682156443780821",
         "-0.1998424106540852",
         "0.6721466669410483",
         "11816",
         "6702"
        ],
        [
         "29",
         "-0.2820264495071099",
         "-0.4586737338139213",
         "-0.3436268555690638",
         "-0.41357238143334174",
         "-0.8725899714757475",
         "13",
         "7644"
        ],
        [
         "30",
         "0.8702306623148736",
         "-0.3078682052902518",
         "-0.7140752755759358",
         "-0.5388522558265194",
         "-0.10022165226734961",
         "3",
         "5485"
        ],
        [
         "31",
         "-0.2820264495071099",
         "-0.6071950364032292",
         "-0.7140752755759358",
         "-0.6001197374750868",
         "-0.8725899714757475",
         "171",
         "2155"
        ],
        [
         "32",
         "-0.2820264495071099",
         "-0.32418410482140614",
         "-0.7140752755759358",
         "-0.24301479876660334",
         "-2.417326609892543",
         "142",
         "4385"
        ],
        [
         "33",
         "-0.2820264495071099",
         "0.18655016735952853",
         "-0.3436268555690638",
         "0.18385885110149286",
         "0.6721466669410483",
         "200",
         "6223"
        ],
        [
         "34",
         "-0.2820264495071099",
         "-0.5618368357066201",
         "-0.7140752755759358",
         "-0.5362672424642267",
         "-0.10022165226734961",
         "11816",
         "4385"
        ],
        [
         "35",
         "-0.2820264495071099",
         "-0.6201079054607429",
         "-0.7140752755759358",
         "-0.6209064428625956",
         "0.6721466669410483",
         "1090",
         "2155"
        ],
        [
         "36",
         "-0.2820264495071099",
         "-0.10336005888118269",
         "-0.7140752755759358",
         "-0.18923586098199743",
         "0.6721466669410483",
         "179",
         "2997"
        ],
        [
         "37",
         "-0.2820264495071099",
         "-0.5659857358731136",
         "0.02682156443780821",
         "-0.5362672424642267",
         "-0.8725899714757475",
         "11816",
         "4385"
        ],
        [
         "38",
         "-0.2820264495071099",
         "0.37553490078609925",
         "0.3972699844446802",
         "0.2744675668931976",
         "-0.10022165226734961",
         "177",
         "1081"
        ],
        [
         "39",
         "-0.2820264495071099",
         "-0.1535197957255316",
         "-0.3436268555690638",
         "-0.049272044706105224",
         "0.6721466669410483",
         "901",
         "2989"
        ],
        [
         "40",
         "-0.2820264495071099",
         "-0.23220904832149886",
         "-0.3436268555690638",
         "-0.1897155541832476",
         "-0.8725899714757475",
         "7",
         "2989"
        ],
        [
         "41",
         "-0.2820264495071099",
         "-0.46394143851969405",
         "-0.7140752755759358",
         "-0.45834374688336055",
         "-0.8725899714757475",
         "11816",
         "5182"
        ],
        [
         "42",
         "-0.2820264495071099",
         "-0.5149868956243054",
         "-0.3436268555690638",
         "-0.46687162601669746",
         "0.6721466669410483",
         "532",
         "2583"
        ],
        [
         "43",
         "0.8702306623148736",
         "0.09408563387368661",
         "-0.7140752755759358",
         "0.7915235385963316",
         "-0.8725899714757475",
         "151",
         "1081"
        ],
        [
         "44",
         "-0.2820264495071099",
         "-0.18204931147715003",
         "-0.7140752755759358",
         "-0.15773600743323413",
         "0.6721466669410483",
         "11",
         "2155"
        ],
        [
         "45",
         "0.8702306623148736",
         "0.46904831352751536",
         "-0.7140752755759358",
         "-0.035147744891515925",
         "-0.8725899714757475",
         "5317",
         "6702"
        ],
        [
         "46",
         "-0.2820264495071099",
         "0.28197487118887987",
         "0.02682156443780821",
         "0.3965761362336656",
         "-2.417326609892543",
         "9",
         "469"
        ],
        [
         "47",
         "0.8702306623148736",
         "0.28626362192278326",
         "0.3972699844446802",
         "-0.3917729903987492",
         "-0.8725899714757475",
         "1641",
         "6702"
        ],
        [
         "48",
         "-0.2820264495071099",
         "-0.4327547619872875",
         "-0.7140752755759358",
         "-0.4029125325166706",
         "-1.6449582906841453",
         "30",
         "1511"
        ],
        [
         "49",
         "-0.2820264495071099",
         "-0.5554969433173715",
         "-0.7140752755759358",
         "-0.5410108752321454",
         "0.6721466669410483",
         "77",
         "6702"
        ]
       ],
       "shape": {
        "columns": 7,
        "rows": 77958
       }
      },
      "text/html": [
       "<div>\n",
       "<style scoped>\n",
       "    .dataframe tbody tr th:only-of-type {\n",
       "        vertical-align: middle;\n",
       "    }\n",
       "\n",
       "    .dataframe tbody tr th {\n",
       "        vertical-align: top;\n",
       "    }\n",
       "\n",
       "    .dataframe thead th {\n",
       "        text-align: right;\n",
       "    }\n",
       "</style>\n",
       "<table border=\"1\" class=\"dataframe\">\n",
       "  <thead>\n",
       "    <tr style=\"text-align: right;\">\n",
       "      <th></th>\n",
       "      <th>order_count</th>\n",
       "      <th>mean_payment_value</th>\n",
       "      <th>mean_payment_installments</th>\n",
       "      <th>mean_price</th>\n",
       "      <th>mean_review_score</th>\n",
       "      <th>city_frequency</th>\n",
       "      <th>category_frequency</th>\n",
       "    </tr>\n",
       "  </thead>\n",
       "  <tbody>\n",
       "    <tr>\n",
       "      <th>0</th>\n",
       "      <td>-0.282026</td>\n",
       "      <td>-0.071567</td>\n",
       "      <td>1.879064</td>\n",
       "      <td>0.023481</td>\n",
       "      <td>0.672147</td>\n",
       "      <td>79</td>\n",
       "      <td>7644</td>\n",
       "    </tr>\n",
       "    <tr>\n",
       "      <th>1</th>\n",
       "      <td>-0.282026</td>\n",
       "      <td>-0.606309</td>\n",
       "      <td>-0.714075</td>\n",
       "      <td>-0.568140</td>\n",
       "      <td>-0.100222</td>\n",
       "      <td>571</td>\n",
       "      <td>6702</td>\n",
       "    </tr>\n",
       "    <tr>\n",
       "      <th>2</th>\n",
       "      <td>-0.282026</td>\n",
       "      <td>-0.331130</td>\n",
       "      <td>1.879064</td>\n",
       "      <td>-0.301111</td>\n",
       "      <td>-0.872590</td>\n",
       "      <td>138</td>\n",
       "      <td>1832</td>\n",
       "    </tr>\n",
       "    <tr>\n",
       "      <th>3</th>\n",
       "      <td>-0.282026</td>\n",
       "      <td>-0.529718</td>\n",
       "      <td>0.397270</td>\n",
       "      <td>-0.530351</td>\n",
       "      <td>-0.100222</td>\n",
       "      <td>345</td>\n",
       "      <td>3458</td>\n",
       "    </tr>\n",
       "    <tr>\n",
       "      <th>4</th>\n",
       "      <td>-0.282026</td>\n",
       "      <td>0.184779</td>\n",
       "      <td>1.138167</td>\n",
       "      <td>0.290511</td>\n",
       "      <td>0.672147</td>\n",
       "      <td>490</td>\n",
       "      <td>3458</td>\n",
       "    </tr>\n",
       "    <tr>\n",
       "      <th>...</th>\n",
       "      <td>...</td>\n",
       "      <td>...</td>\n",
       "      <td>...</td>\n",
       "      <td>...</td>\n",
       "      <td>...</td>\n",
       "      <td>...</td>\n",
       "      <td>...</td>\n",
       "    </tr>\n",
       "    <tr>\n",
       "      <th>77953</th>\n",
       "      <td>0.870231</td>\n",
       "      <td>8.904601</td>\n",
       "      <td>2.619961</td>\n",
       "      <td>3.515115</td>\n",
       "      <td>0.672147</td>\n",
       "      <td>3</td>\n",
       "      <td>6702</td>\n",
       "    </tr>\n",
       "    <tr>\n",
       "      <th>77954</th>\n",
       "      <td>-0.282026</td>\n",
       "      <td>-0.338775</td>\n",
       "      <td>-0.714075</td>\n",
       "      <td>-0.323017</td>\n",
       "      <td>-0.100222</td>\n",
       "      <td>143</td>\n",
       "      <td>2279</td>\n",
       "    </tr>\n",
       "    <tr>\n",
       "      <th>77955</th>\n",
       "      <td>-0.282026</td>\n",
       "      <td>-0.208807</td>\n",
       "      <td>-0.714075</td>\n",
       "      <td>-0.189716</td>\n",
       "      <td>0.672147</td>\n",
       "      <td>32</td>\n",
       "      <td>2989</td>\n",
       "    </tr>\n",
       "    <tr>\n",
       "      <th>77956</th>\n",
       "      <td>-0.282026</td>\n",
       "      <td>-0.109840</td>\n",
       "      <td>0.767718</td>\n",
       "      <td>-0.055934</td>\n",
       "      <td>0.672147</td>\n",
       "      <td>4</td>\n",
       "      <td>4248</td>\n",
       "    </tr>\n",
       "    <tr>\n",
       "      <th>77957</th>\n",
       "      <td>-0.282026</td>\n",
       "      <td>-0.399470</td>\n",
       "      <td>0.397270</td>\n",
       "      <td>-0.365123</td>\n",
       "      <td>0.672147</td>\n",
       "      <td>26</td>\n",
       "      <td>2583</td>\n",
       "    </tr>\n",
       "  </tbody>\n",
       "</table>\n",
       "<p>77958 rows × 7 columns</p>\n",
       "</div>"
      ],
      "text/plain": [
       "       order_count  mean_payment_value  mean_payment_installments  mean_price  \\\n",
       "0        -0.282026           -0.071567                   1.879064    0.023481   \n",
       "1        -0.282026           -0.606309                  -0.714075   -0.568140   \n",
       "2        -0.282026           -0.331130                   1.879064   -0.301111   \n",
       "3        -0.282026           -0.529718                   0.397270   -0.530351   \n",
       "4        -0.282026            0.184779                   1.138167    0.290511   \n",
       "...            ...                 ...                        ...         ...   \n",
       "77953     0.870231            8.904601                   2.619961    3.515115   \n",
       "77954    -0.282026           -0.338775                  -0.714075   -0.323017   \n",
       "77955    -0.282026           -0.208807                  -0.714075   -0.189716   \n",
       "77956    -0.282026           -0.109840                   0.767718   -0.055934   \n",
       "77957    -0.282026           -0.399470                   0.397270   -0.365123   \n",
       "\n",
       "       mean_review_score  city_frequency  category_frequency  \n",
       "0               0.672147              79                7644  \n",
       "1              -0.100222             571                6702  \n",
       "2              -0.872590             138                1832  \n",
       "3              -0.100222             345                3458  \n",
       "4               0.672147             490                3458  \n",
       "...                  ...             ...                 ...  \n",
       "77953           0.672147               3                6702  \n",
       "77954          -0.100222             143                2279  \n",
       "77955           0.672147              32                2989  \n",
       "77956           0.672147               4                4248  \n",
       "77957           0.672147              26                2583  \n",
       "\n",
       "[77958 rows x 7 columns]"
      ]
     },
     "execution_count": 25,
     "metadata": {},
     "output_type": "execute_result"
    }
   ],
   "source": [
    "# Кодируем и центрируем что нужно\n",
    "label_encoder_city = LabelEncoder()\n",
    "label_encoder_cat = OneHotEncoder()\n",
    "scaler = StandardScaler()\n",
    "\n",
    "num_columns = [\"num_orders\", \"payment_value_mean\", \"payment_installments_mean\",\n",
    "               \"price_mean\", \"review_score_mean\"]\n",
    "cat_columns = [\"customer_city\", \"most_frequent_product_category\"]\n",
    "\n",
    "# Разделение на X и y\n",
    "X_train = clients_data_labeled_train[num_columns + cat_columns]\n",
    "y_train = clients_data_labeled_train[\"Churn_Risk\"]\n",
    "\n",
    "X_test = clients_data_labeled_test[num_columns + cat_columns]\n",
    "y_test = clients_data_labeled_test[\"Churn_Risk\"]\n",
    "\n",
    "X_scaled_train = scaler.fit_transform(X_train[num_columns])\n",
    "X_scaled_test = scaler.transform(X_test[num_columns])\n",
    "\n",
    "frequency_city = X_train['customer_city'].value_counts()\n",
    "frequency_category = X_train[\"most_frequent_product_category\"].value_counts()\n",
    "\n",
    "X_train[\"customer_city\"] = X_train[\"customer_city\"].map(frequency_city)\n",
    "X_train[\"most_frequent_product_category\"] = X_train[\"most_frequent_product_category\"].map(\n",
    "    frequency_category)\n",
    "\n",
    "X_test[\"customer_city\"] = X_test[\"customer_city\"].map(frequency_city)\n",
    "X_test[\"most_frequent_product_category\"] = X_test[\"most_frequent_product_category\"].map(\n",
    "    frequency_category)\n",
    "\n",
    "\n",
    "X_scaled_train = pd.DataFrame(X_scaled_train)\n",
    "X_scaled_train = pd.concat([X_scaled_train, X_train[[\n",
    "                           \"customer_city\", \"most_frequent_product_category\",]]], axis=1)\n",
    "\n",
    "\n",
    "X_scaled_test = pd.DataFrame(X_scaled_test)\n",
    "X_scaled_test = pd.concat([X_scaled_test, X_test[[\n",
    "                           \"customer_city\", \"most_frequent_product_category\",]]], axis=1)\n",
    "\n",
    "\n",
    "new_column_names = {\n",
    "    0: 'order_count',\n",
    "    1: 'mean_payment_value',\n",
    "    2: 'mean_payment_installments',\n",
    "    3: 'mean_price',\n",
    "    4: 'mean_review_score',\n",
    "    'customer_city': 'city_frequency',\n",
    "    'most_frequent_product_category': 'category_frequency'\n",
    "}\n",
    "\n",
    "# Переименовываем колонки\n",
    "X_scaled_train.rename(columns=new_column_names, inplace=True)\n",
    "X_scaled_test.rename(columns=new_column_names, inplace=True)\n",
    "\n",
    "X_scaled_train"
   ]
  },
  {
   "cell_type": "code",
   "execution_count": null,
   "id": "d1a061f8",
   "metadata": {},
   "outputs": [],
   "source": [
    "# X_train, X_test, y_train, y_test = train_test_split(\n",
    "#     X_joined, y, test_size=0.2, stratify=y, random_state=42)"
   ]
  },
  {
   "cell_type": "code",
   "execution_count": 26,
   "id": "10072018",
   "metadata": {},
   "outputs": [],
   "source": [
    "X_train, X_test, y_train, y_test = X_scaled_train, X_scaled_test, y_train, y_test"
   ]
  },
  {
   "cell_type": "markdown",
   "id": "e28de8c9",
   "metadata": {},
   "source": [
    "---\n",
    "### Пробуем лес как базу"
   ]
  },
  {
   "cell_type": "code",
   "execution_count": 27,
   "id": "08c999ad",
   "metadata": {},
   "outputs": [],
   "source": [
    "rf_classif = RandomForestClassifier(n_jobs=-1, random_state=42)\n",
    "rf_classif.fit(X_train, y_train)\n",
    "\n",
    "y_pred = rf_classif.predict(X_test)\n",
    "y_test_pred = rf_classif.predict(X_train)"
   ]
  },
  {
   "cell_type": "code",
   "execution_count": 28,
   "id": "7d47eab4",
   "metadata": {},
   "outputs": [
    {
     "data": {
      "text/plain": [
       "0.46727089627391744"
      ]
     },
     "execution_count": 28,
     "metadata": {},
     "output_type": "execute_result"
    }
   ],
   "source": [
    "accuracy_score(y_test, y_pred)"
   ]
  },
  {
   "cell_type": "code",
   "execution_count": 29,
   "id": "3a80a380",
   "metadata": {},
   "outputs": [
    {
     "data": {
      "text/plain": [
       "0.9964211498499191"
      ]
     },
     "execution_count": 29,
     "metadata": {},
     "output_type": "execute_result"
    }
   ],
   "source": [
    "accuracy_score(y_train, y_test_pred)"
   ]
  },
  {
   "cell_type": "markdown",
   "id": "e0ad631a",
   "metadata": {},
   "source": [
    "> Лес переобучился"
   ]
  },
  {
   "cell_type": "markdown",
   "id": "80767dfc",
   "metadata": {},
   "source": [
    "---\n",
    "### Пробуем xgboost"
   ]
  },
  {
   "cell_type": "code",
   "execution_count": null,
   "id": "5b4b3881",
   "metadata": {},
   "outputs": [],
   "source": [
    "# X_train, X_test, y_train, y_test = train_test_split(\n",
    "#     X_joined, y, test_size=0.2, stratify=y, random_state=42)"
   ]
  },
  {
   "cell_type": "code",
   "execution_count": 30,
   "id": "ea8bbf3d",
   "metadata": {},
   "outputs": [
    {
     "ename": "XGBoostError",
     "evalue": "[10:09:02] /Users/runner/work/xgboost/xgboost/src/objective/multiclass_obj.cu:111: SoftmaxMultiClassObj: label must be in [0, num_class).\nStack trace:\n  [bt] (0) 1   libxgboost.dylib                    0x0000000323338428 dmlc::LogMessageFatal::~LogMessageFatal() + 124\n  [bt] (1) 2   libxgboost.dylib                    0x00000003235ab548 xgboost::obj::SoftmaxMultiClassObj::GetGradient(xgboost::HostDeviceVector<float> const&, xgboost::MetaInfo const&, int, xgboost::linalg::Tensor<xgboost::detail::GradientPairInternal<float>, 2>*) + 684\n  [bt] (2) 3   libxgboost.dylib                    0x00000003235239a8 xgboost::LearnerImpl::UpdateOneIter(int, std::__1::shared_ptr<xgboost::DMatrix>) + 652\n  [bt] (3) 4   libxgboost.dylib                    0x000000032335ab34 XGBoosterUpdateOneIter + 144\n  [bt] (4) 5   libffi.8.dylib                      0x0000000107e1804c ffi_call_SYSV + 76\n  [bt] (5) 6   libffi.8.dylib                      0x0000000107e15834 ffi_call_int + 1404\n  [bt] (6) 7   _ctypes.cpython-311-darwin.so       0x0000000107970134 _ctypes_callproc + 752\n  [bt] (7) 8   _ctypes.cpython-311-darwin.so       0x000000010796a48c PyCFuncPtr_call + 228\n  [bt] (8) 9   python3.11                          0x00000001049a59f0 _PyEval_EvalFrameDefault + 192220\n\n",
     "output_type": "error",
     "traceback": [
      "\u001b[0;31m---------------------------------------------------------------------------\u001b[0m",
      "\u001b[0;31mXGBoostError\u001b[0m                              Traceback (most recent call last)",
      "Cell \u001b[0;32mIn[30], line 22\u001b[0m\n\u001b[1;32m     20\u001b[0m \u001b[38;5;66;03m# Обучение модели\u001b[39;00m\n\u001b[1;32m     21\u001b[0m num_rounds \u001b[38;5;241m=\u001b[39m \u001b[38;5;241m1000\u001b[39m  \u001b[38;5;66;03m# Количество итераций (деревьев)\u001b[39;00m\n\u001b[0;32m---> 22\u001b[0m model \u001b[38;5;241m=\u001b[39m \u001b[43mxgb\u001b[49m\u001b[38;5;241;43m.\u001b[39;49m\u001b[43mtrain\u001b[49m\u001b[43m(\u001b[49m\u001b[43mparams\u001b[49m\u001b[43m,\u001b[49m\u001b[43m \u001b[49m\u001b[43mdtrain\u001b[49m\u001b[43m,\u001b[49m\u001b[43m \u001b[49m\u001b[43mnum_rounds\u001b[49m\u001b[43m)\u001b[49m\n\u001b[1;32m     24\u001b[0m \u001b[38;5;66;03m# Предсказание на тестовых данных\u001b[39;00m\n\u001b[1;32m     25\u001b[0m y_pred \u001b[38;5;241m=\u001b[39m model\u001b[38;5;241m.\u001b[39mpredict(dtest)\n",
      "File \u001b[0;32m/opt/homebrew/Caskroom/miniconda/base/envs/dlenv/lib/python3.11/site-packages/xgboost/core.py:726\u001b[0m, in \u001b[0;36mrequire_keyword_args.<locals>.throw_if.<locals>.inner_f\u001b[0;34m(*args, **kwargs)\u001b[0m\n\u001b[1;32m    724\u001b[0m \u001b[38;5;28;01mfor\u001b[39;00m k, arg \u001b[38;5;129;01min\u001b[39;00m \u001b[38;5;28mzip\u001b[39m(sig\u001b[38;5;241m.\u001b[39mparameters, args):\n\u001b[1;32m    725\u001b[0m     kwargs[k] \u001b[38;5;241m=\u001b[39m arg\n\u001b[0;32m--> 726\u001b[0m \u001b[38;5;28;01mreturn\u001b[39;00m \u001b[43mfunc\u001b[49m\u001b[43m(\u001b[49m\u001b[38;5;241;43m*\u001b[39;49m\u001b[38;5;241;43m*\u001b[39;49m\u001b[43mkwargs\u001b[49m\u001b[43m)\u001b[49m\n",
      "File \u001b[0;32m/opt/homebrew/Caskroom/miniconda/base/envs/dlenv/lib/python3.11/site-packages/xgboost/training.py:181\u001b[0m, in \u001b[0;36mtrain\u001b[0;34m(params, dtrain, num_boost_round, evals, obj, feval, maximize, early_stopping_rounds, evals_result, verbose_eval, xgb_model, callbacks, custom_metric)\u001b[0m\n\u001b[1;32m    179\u001b[0m \u001b[38;5;28;01mif\u001b[39;00m cb_container\u001b[38;5;241m.\u001b[39mbefore_iteration(bst, i, dtrain, evals):\n\u001b[1;32m    180\u001b[0m     \u001b[38;5;28;01mbreak\u001b[39;00m\n\u001b[0;32m--> 181\u001b[0m \u001b[43mbst\u001b[49m\u001b[38;5;241;43m.\u001b[39;49m\u001b[43mupdate\u001b[49m\u001b[43m(\u001b[49m\u001b[43mdtrain\u001b[49m\u001b[43m,\u001b[49m\u001b[43m \u001b[49m\u001b[43miteration\u001b[49m\u001b[38;5;241;43m=\u001b[39;49m\u001b[43mi\u001b[49m\u001b[43m,\u001b[49m\u001b[43m \u001b[49m\u001b[43mfobj\u001b[49m\u001b[38;5;241;43m=\u001b[39;49m\u001b[43mobj\u001b[49m\u001b[43m)\u001b[49m\n\u001b[1;32m    182\u001b[0m \u001b[38;5;28;01mif\u001b[39;00m cb_container\u001b[38;5;241m.\u001b[39mafter_iteration(bst, i, dtrain, evals):\n\u001b[1;32m    183\u001b[0m     \u001b[38;5;28;01mbreak\u001b[39;00m\n",
      "File \u001b[0;32m/opt/homebrew/Caskroom/miniconda/base/envs/dlenv/lib/python3.11/site-packages/xgboost/core.py:2100\u001b[0m, in \u001b[0;36mBooster.update\u001b[0;34m(self, dtrain, iteration, fobj)\u001b[0m\n\u001b[1;32m   2097\u001b[0m \u001b[38;5;28mself\u001b[39m\u001b[38;5;241m.\u001b[39m_assign_dmatrix_features(dtrain)\n\u001b[1;32m   2099\u001b[0m \u001b[38;5;28;01mif\u001b[39;00m fobj \u001b[38;5;129;01mis\u001b[39;00m \u001b[38;5;28;01mNone\u001b[39;00m:\n\u001b[0;32m-> 2100\u001b[0m     \u001b[43m_check_call\u001b[49m\u001b[43m(\u001b[49m\n\u001b[1;32m   2101\u001b[0m \u001b[43m        \u001b[49m\u001b[43m_LIB\u001b[49m\u001b[38;5;241;43m.\u001b[39;49m\u001b[43mXGBoosterUpdateOneIter\u001b[49m\u001b[43m(\u001b[49m\n\u001b[1;32m   2102\u001b[0m \u001b[43m            \u001b[49m\u001b[38;5;28;43mself\u001b[39;49m\u001b[38;5;241;43m.\u001b[39;49m\u001b[43mhandle\u001b[49m\u001b[43m,\u001b[49m\u001b[43m \u001b[49m\u001b[43mctypes\u001b[49m\u001b[38;5;241;43m.\u001b[39;49m\u001b[43mc_int\u001b[49m\u001b[43m(\u001b[49m\u001b[43miteration\u001b[49m\u001b[43m)\u001b[49m\u001b[43m,\u001b[49m\u001b[43m \u001b[49m\u001b[43mdtrain\u001b[49m\u001b[38;5;241;43m.\u001b[39;49m\u001b[43mhandle\u001b[49m\n\u001b[1;32m   2103\u001b[0m \u001b[43m        \u001b[49m\u001b[43m)\u001b[49m\n\u001b[1;32m   2104\u001b[0m \u001b[43m    \u001b[49m\u001b[43m)\u001b[49m\n\u001b[1;32m   2105\u001b[0m \u001b[38;5;28;01melse\u001b[39;00m:\n\u001b[1;32m   2106\u001b[0m     pred \u001b[38;5;241m=\u001b[39m \u001b[38;5;28mself\u001b[39m\u001b[38;5;241m.\u001b[39mpredict(dtrain, output_margin\u001b[38;5;241m=\u001b[39m\u001b[38;5;28;01mTrue\u001b[39;00m, training\u001b[38;5;241m=\u001b[39m\u001b[38;5;28;01mTrue\u001b[39;00m)\n",
      "File \u001b[0;32m/opt/homebrew/Caskroom/miniconda/base/envs/dlenv/lib/python3.11/site-packages/xgboost/core.py:284\u001b[0m, in \u001b[0;36m_check_call\u001b[0;34m(ret)\u001b[0m\n\u001b[1;32m    273\u001b[0m \u001b[38;5;250m\u001b[39m\u001b[38;5;124;03m\"\"\"Check the return value of C API call\u001b[39;00m\n\u001b[1;32m    274\u001b[0m \n\u001b[1;32m    275\u001b[0m \u001b[38;5;124;03mThis function will raise exception when error occurs.\u001b[39;00m\n\u001b[0;32m   (...)\u001b[0m\n\u001b[1;32m    281\u001b[0m \u001b[38;5;124;03m    return value from API calls\u001b[39;00m\n\u001b[1;32m    282\u001b[0m \u001b[38;5;124;03m\"\"\"\u001b[39;00m\n\u001b[1;32m    283\u001b[0m \u001b[38;5;28;01mif\u001b[39;00m ret \u001b[38;5;241m!=\u001b[39m \u001b[38;5;241m0\u001b[39m:\n\u001b[0;32m--> 284\u001b[0m     \u001b[38;5;28;01mraise\u001b[39;00m XGBoostError(py_str(_LIB\u001b[38;5;241m.\u001b[39mXGBGetLastError()))\n",
      "\u001b[0;31mXGBoostError\u001b[0m: [10:09:02] /Users/runner/work/xgboost/xgboost/src/objective/multiclass_obj.cu:111: SoftmaxMultiClassObj: label must be in [0, num_class).\nStack trace:\n  [bt] (0) 1   libxgboost.dylib                    0x0000000323338428 dmlc::LogMessageFatal::~LogMessageFatal() + 124\n  [bt] (1) 2   libxgboost.dylib                    0x00000003235ab548 xgboost::obj::SoftmaxMultiClassObj::GetGradient(xgboost::HostDeviceVector<float> const&, xgboost::MetaInfo const&, int, xgboost::linalg::Tensor<xgboost::detail::GradientPairInternal<float>, 2>*) + 684\n  [bt] (2) 3   libxgboost.dylib                    0x00000003235239a8 xgboost::LearnerImpl::UpdateOneIter(int, std::__1::shared_ptr<xgboost::DMatrix>) + 652\n  [bt] (3) 4   libxgboost.dylib                    0x000000032335ab34 XGBoosterUpdateOneIter + 144\n  [bt] (4) 5   libffi.8.dylib                      0x0000000107e1804c ffi_call_SYSV + 76\n  [bt] (5) 6   libffi.8.dylib                      0x0000000107e15834 ffi_call_int + 1404\n  [bt] (6) 7   _ctypes.cpython-311-darwin.so       0x0000000107970134 _ctypes_callproc + 752\n  [bt] (7) 8   _ctypes.cpython-311-darwin.so       0x000000010796a48c PyCFuncPtr_call + 228\n  [bt] (8) 9   python3.11                          0x00000001049a59f0 _PyEval_EvalFrameDefault + 192220\n\n"
     ]
    }
   ],
   "source": [
    "# Импортируем необходимые библиотеки\n",
    "import xgboost as xgb\n",
    "from sklearn.metrics import accuracy_score\n",
    "\n",
    "\n",
    "# Преобразуем данные в формат DMatrix, который используется в XGBoost\n",
    "dtrain = xgb.DMatrix(X_train, label=y_train)\n",
    "dtest = xgb.DMatrix(X_test, label=y_test)\n",
    "\n",
    "# Параметры модели\n",
    "params = {\n",
    "    'objective': 'multi:softmax',  # Целевая функция для многоклассовой классификации\n",
    "    'num_class': 3,               # Количество классов\n",
    "    'max_depth': 3,               # Максимальная глубина деревьев\n",
    "    'eta': 0.01,                   # Скорость обучения (learning rate)\n",
    "    'subsample': 0.7,             # Доля выборки, используемая для обучения каждого дерева\n",
    "    'colsample_bytree': 0.5      # Доля признаков, используемых для обучения каждого дерева\n",
    "}\n",
    "\n",
    "# Обучение модели\n",
    "num_rounds = 1000  # Количество итераций (деревьев)\n",
    "model = xgb.train(params, dtrain, num_rounds)\n",
    "\n",
    "# Предсказание на тестовых данных\n",
    "y_pred = model.predict(dtest)\n",
    "\n",
    "# Оценка качества модели\n",
    "accuracy = accuracy_score(y_test, y_pred)\n",
    "print(f\"Accuracy: {accuracy:.2f}\")"
   ]
  },
  {
   "cell_type": "markdown",
   "id": "939372f4",
   "metadata": {},
   "source": [
    "---"
   ]
  },
  {
   "cell_type": "code",
   "execution_count": 31,
   "id": "ce1eaf38",
   "metadata": {},
   "outputs": [],
   "source": [
    "# X_train, X_test, y_train, y_test = train_test_split(\n",
    "#     X_joined, y, test_size=0.2, stratify=y, random_state=42)"
   ]
  },
  {
   "cell_type": "code",
   "execution_count": 34,
   "id": "292bf2bf",
   "metadata": {},
   "outputs": [],
   "source": [
    "y_weights = y_train.value_counts().to_dict()"
   ]
  },
  {
   "cell_type": "code",
   "execution_count": 35,
   "id": "700deebe",
   "metadata": {},
   "outputs": [
    {
     "data": {
      "text/plain": [
       "{3: 38418, 2: 33481, 1: 6059}"
      ]
     },
     "execution_count": 35,
     "metadata": {},
     "output_type": "execute_result"
    }
   ],
   "source": [
    "y_weights"
   ]
  },
  {
   "cell_type": "code",
   "execution_count": 36,
   "id": "085e3653",
   "metadata": {},
   "outputs": [
    {
     "name": "stdout",
     "output_type": "stream",
     "text": [
      "Epoch [29/50], Loss: 0.0452\n",
      "Epoch [30/50], Loss: 0.0407\n",
      "Epoch [31/50], Loss: 0.0336\n",
      "Epoch [32/50], Loss: 0.0364\n",
      "Epoch [33/50], Loss: 0.0340\n",
      "Epoch [34/50], Loss: 0.3106\n",
      "Epoch [35/50], Loss: 0.0313\n",
      "Epoch [36/50], Loss: 0.3071\n",
      "Epoch [37/50], Loss: 0.0340\n",
      "Epoch [38/50], Loss: 0.1516\n",
      "Epoch [39/50], Loss: 0.0303\n",
      "Epoch [40/50], Loss: 0.2245\n",
      "Epoch [41/50], Loss: 0.0388\n",
      "Epoch [42/50], Loss: 0.5516\n",
      "Epoch [43/50], Loss: 0.0374\n",
      "Epoch [44/50], Loss: 0.0336\n",
      "Epoch [45/50], Loss: 0.0432\n",
      "Epoch [46/50], Loss: 0.0388\n",
      "Epoch [47/50], Loss: 0.2271\n",
      "Epoch [48/50], Loss: 0.2262\n",
      "Epoch [49/50], Loss: 0.0336\n",
      "Epoch [50/50], Loss: 0.0308\n",
      "Accuracy: 0.8615\n",
      "Confusion Matrix:\n",
      " [[    0  1925     0]\n",
      " [    0 11976     0]\n",
      " [    0     1     0]]\n"
     ]
    },
    {
     "data": {
      "image/png": "[encoded data removed]",
      "text/plain": [
       "<Figure size 800x600 with 2 Axes>"
      ]
     },
     "metadata": {},
     "output_type": "display_data"
    },
    {
     "name": "stdout",
     "output_type": "stream",
     "text": [
      "              precision    recall  f1-score   support\n",
      "\n",
      "     Class 1       0.00      0.00      0.00      1925\n",
      "     Class 2       0.86      1.00      0.93     11976\n",
      "     Class 3       0.00      0.00      0.00         1\n",
      "\n",
      "    accuracy                           0.86     13902\n",
      "   macro avg       0.29      0.33      0.31     13902\n",
      "weighted avg       0.74      0.86      0.80     13902\n",
      "\n"
     ]
    }
   ],
   "source": [
    "import torch\n",
    "import torch.nn as nn\n",
    "import torch.optim as optim\n",
    "from torch.utils.data import DataLoader, TensorDataset\n",
    "import numpy as np\n",
    "from sklearn.metrics import confusion_matrix, classification_report\n",
    "import seaborn as sns\n",
    "import matplotlib.pyplot as plt\n",
    "\n",
    "# 1. Определение архитектуры нейронной сети\n",
    "class SimpleClassifier(nn.Module):\n",
    "    def __init__(self, input_size, hidden_size, num_classes):\n",
    "        super().__init__()\n",
    "        self.fc1 = nn.Linear(input_size, hidden_size)\n",
    "        self.fc2 = nn.Linear(hidden_size, hidden_size)\n",
    "        self.fc3 = nn.Linear(hidden_size, num_classes)\n",
    "        self.relu = nn.ReLU()\n",
    "\n",
    "    def forward(self, x):\n",
    "        x = self.relu(self.fc1(x))\n",
    "        x = self.relu(self.fc2(x))\n",
    "        x = self.fc3(x)\n",
    "        return x\n",
    "        \n",
    "# 2. Подготовка данных\n",
    "input_size = X_train.shape[1]  # Размер входных данных\n",
    "hidden_size = 32  # Увеличили число нейронов\n",
    "num_classes = 3  # Количество классов для классификации\n",
    "\n",
    "# Преобразуем данные в тензоры\n",
    "X_train_tensor = torch.tensor(X_train.values, dtype=torch.float32)\n",
    "y_train_tensor = torch.tensor(y_train.values).long()\n",
    "\n",
    "# Создание Dataset и DataLoader\n",
    "dataset = TensorDataset(X_train_tensor, y_train_tensor)\n",
    "dataloader = DataLoader(dataset, batch_size=16, shuffle=True)\n",
    "\n",
    "# 3. Перевод модели и данных на устройство\n",
    "device = torch.device(\"mps\" if torch.backends.mps.is_available() else \"cpu\")\n",
    "print(f\"Using device: {device}\")\n",
    "\n",
    "model = SimpleClassifier(input_size, hidden_size, num_classes).to(device)\n",
    "\n",
    "# Инициализация функции потерь и оптимизатора\n",
    "class_counts = [y_weights[3], y_weights[2], y_weights[1]]\n",
    "total_samples = sum(class_counts)\n",
    "weights = torch.tensor([total_samples / count for count in class_counts])\n",
    "weights = weights / weights.sum()\n",
    "weights = weights.to(device)\n",
    "\n",
    "loss_fn = nn.CrossEntropyLoss(weight=weights)\n",
    "optimizer = optim.Adam(model.parameters(), lr=0.01)\n",
    "\n",
    "num_epochs = 50\n",
    "for epoch in range(num_epochs):\n",
    "    for batch_X, batch_y in dataloader:\n",
    "        batch_X, batch_y = batch_X.to(device), batch_y.to(device)\n",
    "\n",
    "        # Прямой проход\n",
    "        pred = model(batch_X)\n",
    "        loss = loss_fn(pred, batch_y)\n",
    "\n",
    "        # Backward pass и оптимизация\n",
    "        optimizer.zero_grad()  # Обнуление градиентов\n",
    "        loss.backward()  # Вычисление градиентов\n",
    "        optimizer.step()  # Обновление весов\n",
    "\n",
    "    print(f\"Epoch [{epoch + 1}/{num_epochs}], Loss: {loss.item():.4f}\")\n",
    "\n",
    "# 4. Оценка на тестовых данных\n",
    "X_test_tensor = torch.tensor(X_test.values, dtype=torch.float32).to(device)  # Предполагаем, что X_test уже определён\n",
    "y_test_tensor = torch.tensor(y_test.values).long().to(device)  # Предполагаем, что y_test уже определён\n",
    "\n",
    "# Переключаем модель в режим оценки\n",
    "model.eval()\n",
    "\n",
    "# Отключаем вычисление градиентов во время тестирования\n",
    "with torch.no_grad():\n",
    "    # Получаем предсказания\n",
    "    predictions = model(X_test_tensor)\n",
    "    _, predicted_classes = torch.max(predictions, 1)\n",
    "\n",
    "# Рассчитываем точность\n",
    "accuracy = (predicted_classes == y_test_tensor).float().mean().item()\n",
    "print(f'Accuracy: {accuracy:.4f}')\n",
    "\n",
    "# Матрица путаницы и отчет о классификации\n",
    "conf_matrix = confusion_matrix(y_test_tensor.cpu(), predicted_classes.cpu())\n",
    "print(\"Confusion Matrix:\\n\", conf_matrix)\n",
    "\n",
    "plt.figure(figsize=(8, 6))\n",
    "sns.heatmap(conf_matrix, annot=True, fmt='d', cmap='Blues', xticklabels=[1, 2, 3], yticklabels=[1, 2, 3])\n",
    "plt.ylabel('True label')\n",
    "plt.xlabel('Predicted label')\n",
    "plt.title('Confusion Matrix')\n",
    "plt.show()\n",
    "\n",
    "print(classification_report(y_test_tensor.cpu(), predicted_classes.cpu(), target_names=['Class 1', 'Class 2', 'Class 3']))"
   ]
  },
  {
   "cell_type": "code",
   "execution_count": 37,
   "id": "753caffa",
   "metadata": {},
   "outputs": [
    {
     "name": "stdout",
     "output_type": "stream",
     "text": [
      "Предсказанные классы: [2 2 2 ... 2 2 2]\n"
     ]
    }
   ],
   "source": [
    "print(\"Предсказанные классы:\", predicted_classes.cpu().numpy())"
   ]
  },
  {
   "cell_type": "code",
   "execution_count": 38,
   "id": "132bc345",
   "metadata": {},
   "outputs": [
    {
     "name": "stdout",
     "output_type": "stream",
     "text": [
      "Churn_Risk\n",
      "3    38418\n",
      "2    33481\n",
      "1     6059\n",
      "Name: count, dtype: int64\n",
      "Churn_Risk\n",
      "2    11976\n",
      "1     1925\n",
      "3        1\n",
      "Name: count, dtype: int64\n"
     ]
    }
   ],
   "source": [
    "print(y_train.value_counts())\n",
    "print(y_test.value_counts())"
   ]
  },
  {
   "cell_type": "code",
   "execution_count": 119,
   "id": "b457c65a",
   "metadata": {},
   "outputs": [
    {
     "name": "stdout",
     "output_type": "stream",
     "text": [
      "Модель успешно сохранена.\n"
     ]
    }
   ],
   "source": [
    "# Сохранение модели\n",
    "torch.save(model.state_dict(), \"../services/model_classif.pth\")\n",
    "print(\"Модель успешно сохранена.\")"
   ]
  },
  {
   "cell_type": "code",
   "execution_count": 120,
   "id": "9445e96f",
   "metadata": {},
   "outputs": [
    {
     "name": "stdout",
     "output_type": "stream",
     "text": [
      "Модель успешно загружена.\n"
     ]
    }
   ],
   "source": [
    "# Загрузка модели\n",
    "model = SimpleClassifier(input_size, hidden_size, num_classes).to(device)\n",
    "model.load_state_dict(torch.load(\"../services/model_classif.pth\"))\n",
    "print(\"Модель успешно загружена.\")"
   ]
  },
  {
   "cell_type": "code",
   "execution_count": 40,
   "id": "91926497",
   "metadata": {},
   "outputs": [
    {
     "name": "stdout",
     "output_type": "stream",
     "text": [
      "Предсказанные классы: [2 2 2 ... 2 2 2]\n"
     ]
    }
   ],
   "source": [
    "# Подготовка тестовых данных\n",
    "X_test_tensor = torch.tensor(X_test.values, dtype=torch.float32).to(device)\n",
    "\n",
    "# Предсказание\n",
    "model.eval()  # Убедитесь, что модель находится в режиме оценки\n",
    "with torch.no_grad():  # Отключаем вычисление градиентов\n",
    "    outputs = model(X_test_tensor)\n",
    "    _, predicted = torch.max(outputs, 1)  # Получаем индексы максимальных значений (классы)\n",
    "\n",
    "print(\"Предсказанные классы:\", predicted.cpu().numpy())"
   ]
  },
  {
   "cell_type": "code",
   "execution_count": 41,
   "id": "14914970",
   "metadata": {},
   "outputs": [
    {
     "name": "stdout",
     "output_type": "stream",
     "text": [
      "Accuracy: 0.8615\n"
     ]
    }
   ],
   "source": [
    "# Истинные метки\n",
    "y_test_tensor = torch.tensor(y_test.values).long()\n",
    "\n",
    "# Оценка точности\n",
    "accuracy = accuracy_score(y_test_tensor.cpu().numpy(), predicted.cpu().numpy())\n",
    "print(f\"Accuracy: {accuracy:.4f}\")"
   ]
  },
  {
   "cell_type": "code",
   "execution_count": 138,
   "id": "e230206e",
   "metadata": {},
   "outputs": [
    {
     "data": {
      "text/plain": [
       "2    17320\n",
       "Name: count, dtype: int64"
      ]
     },
     "execution_count": 138,
     "metadata": {},
     "output_type": "execute_result"
    }
   ],
   "source": [
    "pd.Series(predicted.cpu().numpy()).value_counts()"
   ]
  },
  {
   "cell_type": "code",
   "execution_count": null,
   "id": "e04eaf5c",
   "metadata": {},
   "outputs": [],
   "source": []
  }
 ],
 "metadata": {
  "kernelspec": {
   "display_name": "dlenv",
   "language": "python",
   "name": "python3"
  },
  "language_info": {
   "codemirror_mode": {
    "name": "ipython",
    "version": 3
   },
   "file_extension": ".py",
   "mimetype": "text/x-python",
   "name": "python",
   "nbconvert_exporter": "python",
   "pygments_lexer": "ipython3",
   "version": "3.11.11"
  }
 },
 "nbformat": 4,
 "nbformat_minor": 5
}
