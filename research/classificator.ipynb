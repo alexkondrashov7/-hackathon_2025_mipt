{
 "cells": [
  {
   "cell_type": "code",
   "execution_count": 1,
   "id": "2cb376b8",
   "metadata": {},
   "outputs": [],
   "source": [
    "import numpy as np\n",
    "import pandas as pd\n",
    "\n",
    "import matplotlib.pyplot as plt \n",
    "import seaborn as sns\n",
    "\n",
    "from sklearn.model_selection import train_test_split\n",
    "from sklearn.preprocessing import StandardScaler, OneHotEncoder, LabelEncoder\n",
    "from sklearn.metrics import accuracy_score\n",
    "from sklearn.metrics import confusion_matrix\n",
    "from sklearn.ensemble import RandomForestClassifier\n",
    "\n",
    "import torch\n",
    "import torch.nn as nn\n",
    "import torch.optim as optim\n",
    "from torch.utils.data import DataLoader, TensorDataset\n",
    "\n",
    "import warnings\n",
    "warnings.filterwarnings(\"ignore\")   "
   ]
  },
  {
   "cell_type": "markdown",
   "id": "f098be67",
   "metadata": {},
   "source": [
    "---\n",
    "### Произведем объединение первичных данных"
   ]
  },
  {
   "cell_type": "code",
   "execution_count": 2,
   "id": "74a3a795",
   "metadata": {},
   "outputs": [],
   "source": [
    "# Загрузка данных\n",
    "def load_data():\n",
    "    customers = pd.read_csv(\"./clean_data/customers.csv\")\n",
    "    geolocation = pd.read_csv(\"./clean_data/geolocation.csv\")\n",
    "    order_pay = pd.read_csv(\"./clean_data/order_payments.csv\")\n",
    "    reviews = pd.read_csv(\"./clean_data/order_reviews.csv\")\n",
    "    orders = pd.read_csv(\"./clean_data/orders.csv\")\n",
    "    item = pd.read_csv(\"./clean_data/orders_items.csv\")\n",
    "    category_name = pd.read_csv(\n",
    "        \"./clean_data/product_category_name_translation.csv\")\n",
    "    products = pd.read_csv(\"./clean_data/products.csv\")\n",
    "    sellers = pd.read_csv(\"./clean_data/sellers.csv\")\n",
    "    return customers, geolocation, order_pay, reviews, orders, item, category_name, products, sellers\n"
   ]
  },
  {
   "cell_type": "code",
   "execution_count": 3,
   "id": "6c130fbf",
   "metadata": {},
   "outputs": [],
   "source": [
    "# Объединение данных\n",
    "def merge_data(orders, item, order_pay, reviews, products, customers, sellers, category_name):\n",
    "    df = orders.merge(item, on='order_id', how='left')\n",
    "    df = df.merge(order_pay, on='order_id', how='outer', validate='m:m')\n",
    "    df = df.merge(reviews, on='order_id', how='outer')\n",
    "    df = df.merge(products, on='product_id', how='outer')\n",
    "    df = df.merge(customers, on='customer_id', how='outer')\n",
    "    df = df.merge(sellers, on='seller_id', how='outer')\n",
    "    df = df.merge(category_name, on=\"product_category_name\", how=\"left\")\n",
    "    return df"
   ]
  },
  {
   "cell_type": "code",
   "execution_count": 4,
   "id": "86e27317",
   "metadata": {},
   "outputs": [],
   "source": [
    "# Очистка данных: удаление строк без customer_unique_id\n",
    "def filter_customers(df):\n",
    "    return df[~df[\"customer_unique_id\"].isna()]"
   ]
  },
  {
   "cell_type": "code",
   "execution_count": 5,
   "id": "390dfe71",
   "metadata": {},
   "outputs": [],
   "source": [
    "# Главная функция пайплайна\n",
    "def main_pipeline():\n",
    "    # Шаг 1: Загрузка данных\n",
    "    customers, geolocation, order_pay, reviews, orders, item, category_name, products, sellers = load_data()\n",
    "\n",
    "    # Шаг 2: Объединение данных\n",
    "    df = merge_data(orders, item, order_pay, reviews, products,\n",
    "                    customers, sellers, category_name)\n",
    "\n",
    "    # Шаг 3: Фильтрация данных\n",
    "    df = filter_customers(df)\n",
    "\n",
    "    final_data = df\n",
    "\n",
    "    return final_data"
   ]
  },
  {
   "cell_type": "code",
   "execution_count": 6,
   "id": "07ce2eb1",
   "metadata": {},
   "outputs": [],
   "source": [
    "data = main_pipeline()"
   ]
  },
  {
   "cell_type": "code",
   "execution_count": 7,
   "id": "2074254c",
   "metadata": {},
   "outputs": [
    {
     "data": {
      "application/vnd.microsoft.datawrangler.viewer.v0+json": {
       "columns": [
        {
         "name": "index",
         "rawType": "int64",
         "type": "integer"
        },
        {
         "name": "customer_unique_id",
         "rawType": "object",
         "type": "string"
        },
        {
         "name": "R_rank",
         "rawType": "int64",
         "type": "integer"
        },
        {
         "name": "F_rank",
         "rawType": "int64",
         "type": "integer"
        },
        {
         "name": "M_rank",
         "rawType": "int64",
         "type": "integer"
        },
        {
         "name": "RFM_Weighted",
         "rawType": "float64",
         "type": "float"
        },
        {
         "name": "Churn_Risk",
         "rawType": "int64",
         "type": "integer"
        }
       ],
       "conversionMethod": "pd.DataFrame",
       "ref": "1d91dd5d-c770-4167-b2b6-136422086214",
       "rows": [
        [
         "0",
         "0000366f3b9a7992bf8c76cfdf3221e2",
         "4",
         "1",
         "1",
         "2.5",
         "2"
        ],
        [
         "1",
         "0000b849f77a49e4a4ce2b2a4ca5be3f",
         "3",
         "1",
         "1",
         "2.0",
         "2"
        ],
        [
         "2",
         "0000f46a3911fa3c0805444483337064",
         "1",
         "1",
         "1",
         "1.0",
         "3"
        ],
        [
         "3",
         "0000f6ccb0745a6a4b88665a16c9f078",
         "2",
         "1",
         "1",
         "1.5",
         "3"
        ],
        [
         "4",
         "0004aac84e0df4da2b147fca70cf8255",
         "2",
         "1",
         "1",
         "1.5",
         "3"
        ]
       ],
       "shape": {
        "columns": 6,
        "rows": 5
       }
      },
      "text/html": [
       "<div>\n",
       "<style scoped>\n",
       "    .dataframe tbody tr th:only-of-type {\n",
       "        vertical-align: middle;\n",
       "    }\n",
       "\n",
       "    .dataframe tbody tr th {\n",
       "        vertical-align: top;\n",
       "    }\n",
       "\n",
       "    .dataframe thead th {\n",
       "        text-align: right;\n",
       "    }\n",
       "</style>\n",
       "<table border=\"1\" class=\"dataframe\">\n",
       "  <thead>\n",
       "    <tr style=\"text-align: right;\">\n",
       "      <th></th>\n",
       "      <th>customer_unique_id</th>\n",
       "      <th>R_rank</th>\n",
       "      <th>F_rank</th>\n",
       "      <th>M_rank</th>\n",
       "      <th>RFM_Weighted</th>\n",
       "      <th>Churn_Risk</th>\n",
       "    </tr>\n",
       "  </thead>\n",
       "  <tbody>\n",
       "    <tr>\n",
       "      <th>0</th>\n",
       "      <td>0000366f3b9a7992bf8c76cfdf3221e2</td>\n",
       "      <td>4</td>\n",
       "      <td>1</td>\n",
       "      <td>1</td>\n",
       "      <td>2.5</td>\n",
       "      <td>2</td>\n",
       "    </tr>\n",
       "    <tr>\n",
       "      <th>1</th>\n",
       "      <td>0000b849f77a49e4a4ce2b2a4ca5be3f</td>\n",
       "      <td>3</td>\n",
       "      <td>1</td>\n",
       "      <td>1</td>\n",
       "      <td>2.0</td>\n",
       "      <td>2</td>\n",
       "    </tr>\n",
       "    <tr>\n",
       "      <th>2</th>\n",
       "      <td>0000f46a3911fa3c0805444483337064</td>\n",
       "      <td>1</td>\n",
       "      <td>1</td>\n",
       "      <td>1</td>\n",
       "      <td>1.0</td>\n",
       "      <td>3</td>\n",
       "    </tr>\n",
       "    <tr>\n",
       "      <th>3</th>\n",
       "      <td>0000f6ccb0745a6a4b88665a16c9f078</td>\n",
       "      <td>2</td>\n",
       "      <td>1</td>\n",
       "      <td>1</td>\n",
       "      <td>1.5</td>\n",
       "      <td>3</td>\n",
       "    </tr>\n",
       "    <tr>\n",
       "      <th>4</th>\n",
       "      <td>0004aac84e0df4da2b147fca70cf8255</td>\n",
       "      <td>2</td>\n",
       "      <td>1</td>\n",
       "      <td>1</td>\n",
       "      <td>1.5</td>\n",
       "      <td>3</td>\n",
       "    </tr>\n",
       "  </tbody>\n",
       "</table>\n",
       "</div>"
      ],
      "text/plain": [
       "                 customer_unique_id  R_rank  F_rank  M_rank  RFM_Weighted  \\\n",
       "0  0000366f3b9a7992bf8c76cfdf3221e2       4       1       1           2.5   \n",
       "1  0000b849f77a49e4a4ce2b2a4ca5be3f       3       1       1           2.0   \n",
       "2  0000f46a3911fa3c0805444483337064       1       1       1           1.0   \n",
       "3  0000f6ccb0745a6a4b88665a16c9f078       2       1       1           1.5   \n",
       "4  0004aac84e0df4da2b147fca70cf8255       2       1       1           1.5   \n",
       "\n",
       "   Churn_Risk  \n",
       "0           2  \n",
       "1           2  \n",
       "2           3  \n",
       "3           3  \n",
       "4           3  "
      ]
     },
     "execution_count": 7,
     "metadata": {},
     "output_type": "execute_result"
    }
   ],
   "source": [
    "labels = pd.read_csv(\"./labels/rfm.csv\")\n",
    "labels.head()"
   ]
  },
  {
   "cell_type": "code",
   "execution_count": 8,
   "id": "63e132ed",
   "metadata": {},
   "outputs": [
    {
     "data": {
      "application/vnd.microsoft.datawrangler.viewer.v0+json": {
       "columns": [
        {
         "name": "index",
         "rawType": "int64",
         "type": "integer"
        },
        {
         "name": "customer_unique_id",
         "rawType": "object",
         "type": "string"
        },
        {
         "name": "Churn_Risk",
         "rawType": "int64",
         "type": "integer"
        }
       ],
       "conversionMethod": "pd.DataFrame",
       "ref": "b1119b48-8b3d-4191-ad6d-8a2fef43f7fd",
       "rows": [
        [
         "0",
         "0000366f3b9a7992bf8c76cfdf3221e2",
         "2"
        ],
        [
         "1",
         "0000b849f77a49e4a4ce2b2a4ca5be3f",
         "2"
        ],
        [
         "2",
         "0000f46a3911fa3c0805444483337064",
         "3"
        ],
        [
         "3",
         "0000f6ccb0745a6a4b88665a16c9f078",
         "3"
        ],
        [
         "4",
         "0004aac84e0df4da2b147fca70cf8255",
         "3"
        ]
       ],
       "shape": {
        "columns": 2,
        "rows": 5
       }
      },
      "text/html": [
       "<div>\n",
       "<style scoped>\n",
       "    .dataframe tbody tr th:only-of-type {\n",
       "        vertical-align: middle;\n",
       "    }\n",
       "\n",
       "    .dataframe tbody tr th {\n",
       "        vertical-align: top;\n",
       "    }\n",
       "\n",
       "    .dataframe thead th {\n",
       "        text-align: right;\n",
       "    }\n",
       "</style>\n",
       "<table border=\"1\" class=\"dataframe\">\n",
       "  <thead>\n",
       "    <tr style=\"text-align: right;\">\n",
       "      <th></th>\n",
       "      <th>customer_unique_id</th>\n",
       "      <th>Churn_Risk</th>\n",
       "    </tr>\n",
       "  </thead>\n",
       "  <tbody>\n",
       "    <tr>\n",
       "      <th>0</th>\n",
       "      <td>0000366f3b9a7992bf8c76cfdf3221e2</td>\n",
       "      <td>2</td>\n",
       "    </tr>\n",
       "    <tr>\n",
       "      <th>1</th>\n",
       "      <td>0000b849f77a49e4a4ce2b2a4ca5be3f</td>\n",
       "      <td>2</td>\n",
       "    </tr>\n",
       "    <tr>\n",
       "      <th>2</th>\n",
       "      <td>0000f46a3911fa3c0805444483337064</td>\n",
       "      <td>3</td>\n",
       "    </tr>\n",
       "    <tr>\n",
       "      <th>3</th>\n",
       "      <td>0000f6ccb0745a6a4b88665a16c9f078</td>\n",
       "      <td>3</td>\n",
       "    </tr>\n",
       "    <tr>\n",
       "      <th>4</th>\n",
       "      <td>0004aac84e0df4da2b147fca70cf8255</td>\n",
       "      <td>3</td>\n",
       "    </tr>\n",
       "  </tbody>\n",
       "</table>\n",
       "</div>"
      ],
      "text/plain": [
       "                 customer_unique_id  Churn_Risk\n",
       "0  0000366f3b9a7992bf8c76cfdf3221e2           2\n",
       "1  0000b849f77a49e4a4ce2b2a4ca5be3f           2\n",
       "2  0000f46a3911fa3c0805444483337064           3\n",
       "3  0000f6ccb0745a6a4b88665a16c9f078           3\n",
       "4  0004aac84e0df4da2b147fca70cf8255           3"
      ]
     },
     "execution_count": 8,
     "metadata": {},
     "output_type": "execute_result"
    }
   ],
   "source": [
    "labels = labels[[\"customer_unique_id\", \"Churn_Risk\"]]\n",
    "labels.head()"
   ]
  },
  {
   "cell_type": "markdown",
   "id": "a7e54638",
   "metadata": {},
   "source": [
    "---\n",
    "### Сформируем портрет клиента на основе подхода который мы использовали для KMeans, но с учетом тех фитов которые мы можем поймать даже при первой покупке клиента, т.е. группа товаров, город, цена товара, оценка товара, что-то, что позволит нам идентифицировать клиента гораздо заранее с определенной долей вероятности"
   ]
  },
  {
   "cell_type": "code",
   "execution_count": 9,
   "id": "62f13b1f",
   "metadata": {},
   "outputs": [
    {
     "data": {
      "application/vnd.microsoft.datawrangler.viewer.v0+json": {
       "columns": [
        {
         "name": "index",
         "rawType": "int64",
         "type": "integer"
        },
        {
         "name": "customer_unique_id",
         "rawType": "object",
         "type": "string"
        },
        {
         "name": "num_orders",
         "rawType": "int64",
         "type": "integer"
        }
       ],
       "conversionMethod": "pd.DataFrame",
       "ref": "eab81606-14d4-450a-a457-ac6532c49749",
       "rows": [
        [
         "0",
         "0000366f3b9a7992bf8c76cfdf3221e2",
         "1"
        ],
        [
         "1",
         "0000b849f77a49e4a4ce2b2a4ca5be3f",
         "1"
        ],
        [
         "2",
         "0000f46a3911fa3c0805444483337064",
         "1"
        ],
        [
         "3",
         "0000f6ccb0745a6a4b88665a16c9f078",
         "1"
        ],
        [
         "4",
         "0004aac84e0df4da2b147fca70cf8255",
         "1"
        ],
        [
         "5",
         "0004bd2a26a76fe21f786e4fbd80607f",
         "1"
        ],
        [
         "6",
         "00050ab1314c0e55a6ca13cf7181fecf",
         "1"
        ],
        [
         "7",
         "00053a61a98854899e70ed204dd4bafe",
         "2"
        ],
        [
         "8",
         "0005e1862207bf6ccc02e4228effd9a0",
         "1"
        ],
        [
         "9",
         "0005ef4cd20d2893f0d9fbd94d3c0d97",
         "1"
        ],
        [
         "10",
         "0006fdc98a402fceb4eb0ee528f6a8d4",
         "1"
        ],
        [
         "11",
         "00082cbe03e478190aadbea78542e933",
         "1"
        ],
        [
         "12",
         "00090324bbad0e9342388303bb71ba0a",
         "1"
        ],
        [
         "13",
         "000949456b182f53c18b68d6babc79c1",
         "1"
        ],
        [
         "14",
         "000a5ad9c4601d2bbdd9ed765d5213b3",
         "1"
        ],
        [
         "15",
         "000bfa1d2f1a41876493be685390d6d3",
         "2"
        ],
        [
         "16",
         "000c8bdb58a29e7115cfc257230fb21b",
         "1"
        ],
        [
         "17",
         "000d460961d6dbfa3ec6c9f5805769e1",
         "1"
        ],
        [
         "18",
         "000de6019bb59f34c099a907c151d855",
         "2"
        ],
        [
         "19",
         "000e309254ab1fc5ba99dd469d36bdb4",
         "2"
        ],
        [
         "20",
         "000ec5bff359e1c0ad76a81a45cb598f",
         "1"
        ],
        [
         "21",
         "000ed48ceeb6f4bf8ad021a10a3c7b43",
         "1"
        ],
        [
         "22",
         "000fbf0473c10fc1ab6f8d2d286ce20c",
         "4"
        ],
        [
         "23",
         "0010a452c6d13139e50b57f19f52e04e",
         "1"
        ],
        [
         "24",
         "0010fb34b966d44409382af9e8fd5b77",
         "1"
        ],
        [
         "25",
         "001147e649a7b1afd577e873841632dd",
         "2"
        ],
        [
         "26",
         "00115fc7123b5310cf6d3a3aa932699e",
         "1"
        ],
        [
         "27",
         "0011805441c0d1b68b48002f1d005526",
         "1"
        ],
        [
         "28",
         "0011857aff0e5871ce5eb429f21cdaf5",
         "1"
        ],
        [
         "29",
         "0011c98589159d6149979563c504cb21",
         "1"
        ],
        [
         "30",
         "0012929d977a8d7280bb277c1e5f589d",
         "1"
        ],
        [
         "31",
         "0014a5a58da615f7b01a4f5e194bf5ea",
         "1"
        ],
        [
         "32",
         "0015752e079902b12cd00b9b7596276b",
         "2"
        ],
        [
         "33",
         "00172711b30d52eea8b313a7f2cced02",
         "1"
        ],
        [
         "34",
         "00191a9719ef48ebb5860b130347bf33",
         "1"
        ],
        [
         "35",
         "001926cef41060fae572e2e7b30bd2a4",
         "2"
        ],
        [
         "36",
         "001928b561575b2821c92254a2327d06",
         "2"
        ],
        [
         "37",
         "00196c4c9a3af7dd2ad10eade69c926f",
         "1"
        ],
        [
         "38",
         "00196fdb2bf9edfc35e88ebfbcf8d781",
         "1"
        ],
        [
         "39",
         "0019da6aa6bcb27cc32f1249bd12da05",
         "1"
        ],
        [
         "40",
         "0019e8c501c85848ac0966d45226fa1d",
         "1"
        ],
        [
         "41",
         "001a2bf0e46c684031af91fb2bce149d",
         "1"
        ],
        [
         "42",
         "001a34eb30ecb8e3aacb07c475ca4dd1",
         "1"
        ],
        [
         "43",
         "001a3a8e11d76c9a366c31a4aa2cc529",
         "1"
        ],
        [
         "44",
         "001ae44fa04911a9e9577356dce6c63c",
         "0"
        ],
        [
         "45",
         "001ae5a1788703d64536c30362503e49",
         "1"
        ],
        [
         "46",
         "001deb796b28a3a128d6113857569aa4",
         "1"
        ],
        [
         "47",
         "001f3c4211216384d5fe59b041ce1461",
         "1"
        ],
        [
         "48",
         "002043098f10ba39a4600b6c52fbfe3c",
         "1"
        ],
        [
         "49",
         "002311514717ca8b65b09a26cdf7b91a",
         "1"
        ]
       ],
       "shape": {
        "columns": 2,
        "rows": 96096
       }
      },
      "text/html": [
       "<div>\n",
       "<style scoped>\n",
       "    .dataframe tbody tr th:only-of-type {\n",
       "        vertical-align: middle;\n",
       "    }\n",
       "\n",
       "    .dataframe tbody tr th {\n",
       "        vertical-align: top;\n",
       "    }\n",
       "\n",
       "    .dataframe thead th {\n",
       "        text-align: right;\n",
       "    }\n",
       "</style>\n",
       "<table border=\"1\" class=\"dataframe\">\n",
       "  <thead>\n",
       "    <tr style=\"text-align: right;\">\n",
       "      <th></th>\n",
       "      <th>customer_unique_id</th>\n",
       "      <th>num_orders</th>\n",
       "    </tr>\n",
       "  </thead>\n",
       "  <tbody>\n",
       "    <tr>\n",
       "      <th>0</th>\n",
       "      <td>0000366f3b9a7992bf8c76cfdf3221e2</td>\n",
       "      <td>1</td>\n",
       "    </tr>\n",
       "    <tr>\n",
       "      <th>1</th>\n",
       "      <td>0000b849f77a49e4a4ce2b2a4ca5be3f</td>\n",
       "      <td>1</td>\n",
       "    </tr>\n",
       "    <tr>\n",
       "      <th>2</th>\n",
       "      <td>0000f46a3911fa3c0805444483337064</td>\n",
       "      <td>1</td>\n",
       "    </tr>\n",
       "    <tr>\n",
       "      <th>3</th>\n",
       "      <td>0000f6ccb0745a6a4b88665a16c9f078</td>\n",
       "      <td>1</td>\n",
       "    </tr>\n",
       "    <tr>\n",
       "      <th>4</th>\n",
       "      <td>0004aac84e0df4da2b147fca70cf8255</td>\n",
       "      <td>1</td>\n",
       "    </tr>\n",
       "    <tr>\n",
       "      <th>...</th>\n",
       "      <td>...</td>\n",
       "      <td>...</td>\n",
       "    </tr>\n",
       "    <tr>\n",
       "      <th>96091</th>\n",
       "      <td>fffcf5a5ff07b0908bd4e2dbc735a684</td>\n",
       "      <td>2</td>\n",
       "    </tr>\n",
       "    <tr>\n",
       "      <th>96092</th>\n",
       "      <td>fffea47cd6d3cc0a88bd621562a9d061</td>\n",
       "      <td>1</td>\n",
       "    </tr>\n",
       "    <tr>\n",
       "      <th>96093</th>\n",
       "      <td>ffff371b4d645b6ecea244b27531430a</td>\n",
       "      <td>1</td>\n",
       "    </tr>\n",
       "    <tr>\n",
       "      <th>96094</th>\n",
       "      <td>ffff5962728ec6157033ef9805bacc48</td>\n",
       "      <td>1</td>\n",
       "    </tr>\n",
       "    <tr>\n",
       "      <th>96095</th>\n",
       "      <td>ffffd2657e2aad2907e67c3e9daecbeb</td>\n",
       "      <td>1</td>\n",
       "    </tr>\n",
       "  </tbody>\n",
       "</table>\n",
       "<p>96096 rows × 2 columns</p>\n",
       "</div>"
      ],
      "text/plain": [
       "                     customer_unique_id  num_orders\n",
       "0      0000366f3b9a7992bf8c76cfdf3221e2           1\n",
       "1      0000b849f77a49e4a4ce2b2a4ca5be3f           1\n",
       "2      0000f46a3911fa3c0805444483337064           1\n",
       "3      0000f6ccb0745a6a4b88665a16c9f078           1\n",
       "4      0004aac84e0df4da2b147fca70cf8255           1\n",
       "...                                 ...         ...\n",
       "96091  fffcf5a5ff07b0908bd4e2dbc735a684           2\n",
       "96092  fffea47cd6d3cc0a88bd621562a9d061           1\n",
       "96093  ffff371b4d645b6ecea244b27531430a           1\n",
       "96094  ffff5962728ec6157033ef9805bacc48           1\n",
       "96095  ffffd2657e2aad2907e67c3e9daecbeb           1\n",
       "\n",
       "[96096 rows x 2 columns]"
      ]
     },
     "execution_count": 9,
     "metadata": {},
     "output_type": "execute_result"
    }
   ],
   "source": [
    "# Сформируем информацию по количеству покупок\n",
    "orderer_by_client = data.groupby([\"customer_unique_id\",])[\n",
    "    [\"order_id\"]].count().reset_index().rename(columns={\"order_id\":\"num_orders\"})\n",
    "\n",
    "orderer_by_client"
   ]
  },
  {
   "cell_type": "code",
   "execution_count": 10,
   "id": "c0f02264",
   "metadata": {},
   "outputs": [
    {
     "data": {
      "application/vnd.microsoft.datawrangler.viewer.v0+json": {
       "columns": [
        {
         "name": "index",
         "rawType": "int64",
         "type": "integer"
        },
        {
         "name": "customer_unique_id",
         "rawType": "object",
         "type": "string"
        },
        {
         "name": "customer_city",
         "rawType": "object",
         "type": "string"
        }
       ],
       "conversionMethod": "pd.DataFrame",
       "ref": "195d7949-4df7-493c-bc19-082dc3d3977b",
       "rows": [
        [
         "0",
         "3c7e305796add66698959fc7ad176f6b",
         "umuarama"
        ],
        [
         "1",
         "9de5797cddb92598755a0f76383ddbbb",
         "entre rios de minas"
        ],
        [
         "2",
         "9915eb9f74b6c11aaf04833f65b00e93",
         "paracatu"
        ],
        [
         "3",
         "dce323533e45e74d215e0fe7fb114118",
         "sao goncalo"
        ],
        [
         "5",
         "acfca8c3549ceceba9e125afc0349610",
         "curitiba"
        ],
        [
         "6",
         "6d30fb7a44f6405e3df4ec6a5a1c787c",
         "anguera"
        ],
        [
         "7",
         "fd65dc867fc1c42c8421fae7fb4eba67",
         "feira de santana"
        ],
        [
         "8",
         "eb69ead1e0da68c941a67677f6a39f3b",
         "osasco"
        ],
        [
         "9",
         "dd47740f3c285d15d8c9c72fc204e78a",
         "belo horizonte"
        ],
        [
         "10",
         "862b2b94a70e91cb0e9f1224d736992d",
         "castro"
        ],
        [
         "11",
         "2ac356d0dbef7022ef6e7d96151744f0",
         "juazeiro"
        ],
        [
         "12",
         "581f517c9afcdcc8d3a9d827f83e51a2",
         "videira"
        ],
        [
         "13",
         "20ae7f5cb408302fe02d95d78c8d4f01",
         "concordia"
        ],
        [
         "15",
         "4ed16134a4f12d79e401be023468cbe1",
         "marica"
        ],
        [
         "17",
         "be8b51073ad2413727c89e38b38e5818",
         "cachoeirinha"
        ],
        [
         "18",
         "919b613e7aa171cb4ca017c049fbc5da",
         "leme"
        ],
        [
         "20",
         "ec480617d171ec40842fd13cf45dcf6f",
         "sao paulo"
        ],
        [
         "21",
         "dc9108cdc59294eebe936e0971e6da63",
         "fortaleza"
        ],
        [
         "23",
         "2eb631a7476babac8aac18cfd99bb7d1",
         "santo andre"
        ],
        [
         "25",
         "bd32064dc20647a566342828eded6fd6",
         "hortolandia"
        ],
        [
         "26",
         "551a43d7e0bb14426e6ca28d7eec8463",
         "angra dos reis"
        ],
        [
         "31",
         "18cdff92d2777ba2cebf27e4a6370a6f",
         "sao paulo"
        ],
        [
         "32",
         "dac056a3c0afdd113e5cfa5698f561e7",
         "jaragua do sul"
        ],
        [
         "33",
         "21f748a16f4e1688a9014eb3ee6fa325",
         "piracicaba"
        ],
        [
         "34",
         "013ae505c83f5fb1905ed23afdafd3a2",
         "belo horizonte"
        ],
        [
         "35",
         "d1354b6a5a8b77dbbe3e3187e418e8ec",
         "caraguatatuba"
        ],
        [
         "36",
         "e58f0403dc02936d911f974a17c5610a",
         "sao paulo"
        ],
        [
         "37",
         "cf4521a1632386922541928abd69ab42",
         "pelotas"
        ],
        [
         "38",
         "9fc089b0b6a8db40d4357e784f1e91d4",
         "agua santa"
        ],
        [
         "39",
         "1df0a296f852bdf1a17b085730f4b894",
         "guaruja"
        ],
        [
         "40",
         "73b44df1a4441ad7605dfa49624655bc",
         "viamao"
        ],
        [
         "41",
         "bfe1ecef0f01ad67e5e0cf1860e94e60",
         "adamantina"
        ],
        [
         "42",
         "062933ff315c2b7a8c4a302a115be4c4",
         "curitiba"
        ],
        [
         "43",
         "d31877e6feecf887ec4e9b95c30e6422",
         "santo andre"
        ],
        [
         "44",
         "cd16d14e5c24e8d4ef137c35c00edf37",
         "sao goncalo"
        ],
        [
         "45",
         "7c7a3e75a07057d6e7e5ef9989d38f13",
         "teresina"
        ],
        [
         "46",
         "1267212283399f8294c491fec2b02be9",
         "sao bernardo do campo"
        ],
        [
         "47",
         "d17cf621fd6150d478c7a017158db8c7",
         "mesquita"
        ],
        [
         "48",
         "52dea3631aa7ae55b1fc52a767908327",
         "montes claros"
        ],
        [
         "49",
         "24433952cd744df9e64ee3ed8fc4e10d",
         "curitiba"
        ],
        [
         "50",
         "dfaeedb50d4f20b01551db05f8c0691d",
         "franca"
        ],
        [
         "52",
         "084fda7ed25e2b249c425263a2197bc0",
         "sorocaba"
        ],
        [
         "53",
         "2aa86eae0b8c66d71038f9652e3f2897",
         "salvador"
        ],
        [
         "54",
         "21bb05add38438bb24dbdbaa3ef7817d",
         "sorocaba"
        ],
        [
         "56",
         "89d68ade60d5942d65fa5189c810bdab",
         "capivari de baixo"
        ],
        [
         "57",
         "a6851c3bb0ecbf1b0f2b03e9416ccb1f",
         "barreiras"
        ],
        [
         "61",
         "7f9a82af65e8568d377ea5046f53a8da",
         "divinopolis"
        ],
        [
         "62",
         "cb7b0a31f4d257be90adf28f7a0afc47",
         "paraguacu"
        ],
        [
         "66",
         "7f31cf9189427507d76ff27437f75309",
         "rio de janeiro"
        ],
        [
         "67",
         "af7677b14139402d72356e06e8d6b924",
         "brasilia"
        ]
       ],
       "shape": {
        "columns": 2,
        "rows": 96219
       }
      },
      "text/html": [
       "<div>\n",
       "<style scoped>\n",
       "    .dataframe tbody tr th:only-of-type {\n",
       "        vertical-align: middle;\n",
       "    }\n",
       "\n",
       "    .dataframe tbody tr th {\n",
       "        vertical-align: top;\n",
       "    }\n",
       "\n",
       "    .dataframe thead th {\n",
       "        text-align: right;\n",
       "    }\n",
       "</style>\n",
       "<table border=\"1\" class=\"dataframe\">\n",
       "  <thead>\n",
       "    <tr style=\"text-align: right;\">\n",
       "      <th></th>\n",
       "      <th>customer_unique_id</th>\n",
       "      <th>customer_city</th>\n",
       "    </tr>\n",
       "  </thead>\n",
       "  <tbody>\n",
       "    <tr>\n",
       "      <th>0</th>\n",
       "      <td>3c7e305796add66698959fc7ad176f6b</td>\n",
       "      <td>umuarama</td>\n",
       "    </tr>\n",
       "    <tr>\n",
       "      <th>1</th>\n",
       "      <td>9de5797cddb92598755a0f76383ddbbb</td>\n",
       "      <td>entre rios de minas</td>\n",
       "    </tr>\n",
       "    <tr>\n",
       "      <th>2</th>\n",
       "      <td>9915eb9f74b6c11aaf04833f65b00e93</td>\n",
       "      <td>paracatu</td>\n",
       "    </tr>\n",
       "    <tr>\n",
       "      <th>3</th>\n",
       "      <td>dce323533e45e74d215e0fe7fb114118</td>\n",
       "      <td>sao goncalo</td>\n",
       "    </tr>\n",
       "    <tr>\n",
       "      <th>5</th>\n",
       "      <td>acfca8c3549ceceba9e125afc0349610</td>\n",
       "      <td>curitiba</td>\n",
       "    </tr>\n",
       "    <tr>\n",
       "      <th>...</th>\n",
       "      <td>...</td>\n",
       "      <td>...</td>\n",
       "    </tr>\n",
       "    <tr>\n",
       "      <th>118805</th>\n",
       "      <td>1479d41bbd302e37d1316c996c1f55ae</td>\n",
       "      <td>uberlandia</td>\n",
       "    </tr>\n",
       "    <tr>\n",
       "      <th>118806</th>\n",
       "      <td>587b326ba3bf8aa4d3e50fb1f38ea79f</td>\n",
       "      <td>cotia</td>\n",
       "    </tr>\n",
       "    <tr>\n",
       "      <th>118808</th>\n",
       "      <td>1942b890cee1b55dbf8176e925e79e07</td>\n",
       "      <td>porto alegre</td>\n",
       "    </tr>\n",
       "    <tr>\n",
       "      <th>118809</th>\n",
       "      <td>0f21adf44f13a61282678a89f6433c10</td>\n",
       "      <td>salvador</td>\n",
       "    </tr>\n",
       "    <tr>\n",
       "      <th>118810</th>\n",
       "      <td>736e6bfa0510aa5b878881a226a5fd89</td>\n",
       "      <td>osasco</td>\n",
       "    </tr>\n",
       "  </tbody>\n",
       "</table>\n",
       "<p>96219 rows × 2 columns</p>\n",
       "</div>"
      ],
      "text/plain": [
       "                      customer_unique_id        customer_city\n",
       "0       3c7e305796add66698959fc7ad176f6b             umuarama\n",
       "1       9de5797cddb92598755a0f76383ddbbb  entre rios de minas\n",
       "2       9915eb9f74b6c11aaf04833f65b00e93             paracatu\n",
       "3       dce323533e45e74d215e0fe7fb114118          sao goncalo\n",
       "5       acfca8c3549ceceba9e125afc0349610             curitiba\n",
       "...                                  ...                  ...\n",
       "118805  1479d41bbd302e37d1316c996c1f55ae           uberlandia\n",
       "118806  587b326ba3bf8aa4d3e50fb1f38ea79f                cotia\n",
       "118808  1942b890cee1b55dbf8176e925e79e07         porto alegre\n",
       "118809  0f21adf44f13a61282678a89f6433c10             salvador\n",
       "118810  736e6bfa0510aa5b878881a226a5fd89               osasco\n",
       "\n",
       "[96219 rows x 2 columns]"
      ]
     },
     "execution_count": 10,
     "metadata": {},
     "output_type": "execute_result"
    }
   ],
   "source": [
    "clients_city = data[[\"customer_unique_id\", \"customer_city\"]]\n",
    "clients_city = clients_city.drop_duplicates()\n",
    "clients_city"
   ]
  },
  {
   "cell_type": "code",
   "execution_count": 11,
   "id": "912fea14",
   "metadata": {},
   "outputs": [
    {
     "data": {
      "application/vnd.microsoft.datawrangler.viewer.v0+json": {
       "columns": [
        {
         "name": "index",
         "rawType": "int64",
         "type": "integer"
        },
        {
         "name": "customer_unique_id",
         "rawType": "object",
         "type": "string"
        },
        {
         "name": "payment_value_mean",
         "rawType": "float64",
         "type": "float"
        },
        {
         "name": "payment_installments_mean",
         "rawType": "float64",
         "type": "float"
        },
        {
         "name": "price_mean",
         "rawType": "float64",
         "type": "float"
        },
        {
         "name": "review_score_mean",
         "rawType": "float64",
         "type": "float"
        }
       ],
       "conversionMethod": "pd.DataFrame",
       "ref": "9b1447bb-c85d-4e47-8ca8-14e68b3638e1",
       "rows": [
        [
         "0",
         "0000366f3b9a7992bf8c76cfdf3221e2",
         "141.9",
         "8.0",
         "129.9",
         "5.0"
        ],
        [
         "1",
         "0000b849f77a49e4a4ce2b2a4ca5be3f",
         "27.19",
         "1.0",
         "18.9",
         "4.0"
        ],
        [
         "2",
         "0000f46a3911fa3c0805444483337064",
         "86.22",
         "8.0",
         "69.0",
         "3.0"
        ],
        [
         "3",
         "0000f6ccb0745a6a4b88665a16c9f078",
         "43.62",
         "4.0",
         "25.99",
         "4.0"
        ],
        [
         "4",
         "0004aac84e0df4da2b147fca70cf8255",
         "196.89",
         "6.0",
         "180.0",
         "5.0"
        ],
        [
         "5",
         "0004bd2a26a76fe21f786e4fbd80607f",
         "166.98",
         "8.0",
         "154.0",
         "4.0"
        ],
        [
         "6",
         "00050ab1314c0e55a6ca13cf7181fecf",
         "35.38",
         "1.0",
         "27.99",
         "4.0"
        ],
        [
         "7",
         "00053a61a98854899e70ed204dd4bafe",
         "419.18",
         "3.0",
         "191.0",
         "1.0"
        ],
        [
         "8",
         "0005e1862207bf6ccc02e4228effd9a0",
         "150.12",
         "3.0",
         "135.0",
         "4.0"
        ],
        [
         "9",
         "0005ef4cd20d2893f0d9fbd94d3c0d97",
         "129.76",
         "4.0",
         "104.9",
         "1.0"
        ],
        [
         "10",
         "0006fdc98a402fceb4eb0ee528f6a8d4",
         "29.0",
         "2.0",
         "13.9",
         "3.0"
        ],
        [
         "11",
         "00082cbe03e478190aadbea78542e933",
         "126.26",
         "1.0",
         "79.0",
         "5.0"
        ],
        [
         "12",
         "00090324bbad0e9342388303bb71ba0a",
         "63.66",
         "3.0",
         "49.95",
         "5.0"
        ],
        [
         "13",
         "000949456b182f53c18b68d6babc79c1",
         "82.05",
         "1.0",
         "64.89",
         "4.0"
        ],
        [
         "14",
         "000a5ad9c4601d2bbdd9ed765d5213b3",
         "91.28",
         "3.0",
         "76.99",
         "4.0"
        ],
        [
         "15",
         "000bfa1d2f1a41876493be685390d6d3",
         "46.85",
         "4.0",
         "35.0",
         "4.5"
        ],
        [
         "16",
         "000c8bdb58a29e7115cfc257230fb21b",
         "29.0",
         "2.0",
         "13.9",
         "5.0"
        ],
        [
         "17",
         "000d460961d6dbfa3ec6c9f5805769e1",
         "36.68",
         "1.0",
         "28.9",
         "5.0"
        ],
        [
         "18",
         "000de6019bb59f34c099a907c151d855",
         "257.44",
         "4.0",
         "114.9",
         "2.0"
        ],
        [
         "19",
         "000e309254ab1fc5ba99dd469d36bdb4",
         "39.21",
         "1.0",
         "59.9",
         "3.0"
        ],
        [
         "20",
         "000ec5bff359e1c0ad76a81a45cb598f",
         "27.75",
         "1.0",
         "14.96",
         "5.0"
        ],
        [
         "21",
         "000ed48ceeb6f4bf8ad021a10a3c7b43",
         "20.75",
         "1.0",
         "12.88",
         "5.0"
        ],
        [
         "22",
         "000fbf0473c10fc1ab6f8d2d286ce20c",
         "362.38",
         "1.0",
         "71.45",
         "5.0"
        ],
        [
         "23",
         "0010a452c6d13139e50b57f19f52e04e",
         "325.93",
         "10.0",
         "299.0",
         "1.0"
        ],
        [
         "24",
         "0010fb34b966d44409382af9e8fd5b77",
         "61.8",
         "6.0",
         "49.95",
         "4.0"
        ],
        [
         "25",
         "001147e649a7b1afd577e873841632dd",
         "212.16",
         "1.0",
         "85.0",
         "4.0"
        ],
        [
         "26",
         "00115fc7123b5310cf6d3a3aa932699e",
         "76.11",
         "1.0",
         "59.99",
         "4.0"
        ],
        [
         "27",
         "0011805441c0d1b68b48002f1d005526",
         "297.14",
         "10.0",
         "269.0",
         "3.0"
        ],
        [
         "28",
         "0011857aff0e5871ce5eb429f21cdaf5",
         "192.83",
         "3.0",
         "174.33",
         "5.0"
        ],
        [
         "29",
         "0011c98589159d6149979563c504cb21",
         "117.94",
         "5.0",
         "99.99",
         "5.0"
        ],
        [
         "30",
         "0012929d977a8d7280bb277c1e5f589d",
         "155.65",
         "1.0",
         "129.9",
         "1.0"
        ],
        [
         "31",
         "0014a5a58da615f7b01a4f5e194bf5ea",
         "99.82",
         "3.0",
         "88.0",
         "5.0"
        ],
        [
         "32",
         "0015752e079902b12cd00b9b7596276b",
         "74.82",
         "3.0",
         "29.9",
         "5.0"
        ],
        [
         "33",
         "00172711b30d52eea8b313a7f2cced02",
         "122.07",
         "2.0",
         "74.5",
         "4.0"
        ],
        [
         "34",
         "00191a9719ef48ebb5860b130347bf33",
         "58.86",
         "2.0",
         "47.9",
         "3.0"
        ],
        [
         "35",
         "001926cef41060fae572e2e7b30bd2a4",
         "91.21",
         "1.0",
         "24.395",
         "4.0"
        ],
        [
         "36",
         "001928b561575b2821c92254a2327d06",
         "164.81",
         "6.0",
         "68.44500000000001",
         "2.0"
        ],
        [
         "37",
         "00196c4c9a3af7dd2ad10eade69c926f",
         "37.58",
         "1.0",
         "22.32",
         "5.0"
        ],
        [
         "38",
         "00196fdb2bf9edfc35e88ebfbcf8d781",
         "27.0",
         "1.0",
         "12.9",
         "3.0"
        ],
        [
         "39",
         "0019da6aa6bcb27cc32f1249bd12da05",
         "87.71",
         "1.0",
         "79.9",
         "1.0"
        ],
        [
         "40",
         "0019e8c501c85848ac0966d45226fa1d",
         "197.27",
         "2.0",
         "159.99",
         "5.0"
        ],
        [
         "41",
         "001a2bf0e46c684031af91fb2bce149d",
         "36.73",
         "1.0",
         "24.88",
         "4.0"
        ],
        [
         "42",
         "001a34eb30ecb8e3aacb07c475ca4dd1",
         "161.71",
         "1.0",
         "151.9",
         "5.0"
        ],
        [
         "43",
         "001a3a8e11d76c9a366c31a4aa2cc529",
         "24.23",
         "1.0",
         "9.0",
         "5.0"
        ],
        [
         "44",
         "001ae44fa04911a9e9577356dce6c63c",
         null,
         null,
         null,
         null
        ],
        [
         "45",
         "001ae5a1788703d64536c30362503e49",
         "135.08",
         "1.0",
         "89.99",
         "5.0"
        ],
        [
         "46",
         "001deb796b28a3a128d6113857569aa4",
         "63.33",
         "6.0",
         "39.9",
         "4.0"
        ],
        [
         "47",
         "001f3c4211216384d5fe59b041ce1461",
         "35.84",
         "3.0",
         "24.88",
         "3.0"
        ],
        [
         "48",
         "002043098f10ba39a4600b6c52fbfe3c",
         "237.81",
         "4.0",
         "176.99",
         "4.0"
        ],
        [
         "49",
         "002311514717ca8b65b09a26cdf7b91a",
         "124.32",
         "2.0",
         "116.25",
         "5.0"
        ]
       ],
       "shape": {
        "columns": 5,
        "rows": 96096
       }
      },
      "text/html": [
       "<div>\n",
       "<style scoped>\n",
       "    .dataframe tbody tr th:only-of-type {\n",
       "        vertical-align: middle;\n",
       "    }\n",
       "\n",
       "    .dataframe tbody tr th {\n",
       "        vertical-align: top;\n",
       "    }\n",
       "\n",
       "    .dataframe thead th {\n",
       "        text-align: right;\n",
       "    }\n",
       "</style>\n",
       "<table border=\"1\" class=\"dataframe\">\n",
       "  <thead>\n",
       "    <tr style=\"text-align: right;\">\n",
       "      <th></th>\n",
       "      <th>customer_unique_id</th>\n",
       "      <th>payment_value_mean</th>\n",
       "      <th>payment_installments_mean</th>\n",
       "      <th>price_mean</th>\n",
       "      <th>review_score_mean</th>\n",
       "    </tr>\n",
       "  </thead>\n",
       "  <tbody>\n",
       "    <tr>\n",
       "      <th>0</th>\n",
       "      <td>0000366f3b9a7992bf8c76cfdf3221e2</td>\n",
       "      <td>141.90</td>\n",
       "      <td>8.0</td>\n",
       "      <td>129.90</td>\n",
       "      <td>5.0</td>\n",
       "    </tr>\n",
       "    <tr>\n",
       "      <th>1</th>\n",
       "      <td>0000b849f77a49e4a4ce2b2a4ca5be3f</td>\n",
       "      <td>27.19</td>\n",
       "      <td>1.0</td>\n",
       "      <td>18.90</td>\n",
       "      <td>4.0</td>\n",
       "    </tr>\n",
       "    <tr>\n",
       "      <th>2</th>\n",
       "      <td>0000f46a3911fa3c0805444483337064</td>\n",
       "      <td>86.22</td>\n",
       "      <td>8.0</td>\n",
       "      <td>69.00</td>\n",
       "      <td>3.0</td>\n",
       "    </tr>\n",
       "    <tr>\n",
       "      <th>3</th>\n",
       "      <td>0000f6ccb0745a6a4b88665a16c9f078</td>\n",
       "      <td>43.62</td>\n",
       "      <td>4.0</td>\n",
       "      <td>25.99</td>\n",
       "      <td>4.0</td>\n",
       "    </tr>\n",
       "    <tr>\n",
       "      <th>4</th>\n",
       "      <td>0004aac84e0df4da2b147fca70cf8255</td>\n",
       "      <td>196.89</td>\n",
       "      <td>6.0</td>\n",
       "      <td>180.00</td>\n",
       "      <td>5.0</td>\n",
       "    </tr>\n",
       "    <tr>\n",
       "      <th>...</th>\n",
       "      <td>...</td>\n",
       "      <td>...</td>\n",
       "      <td>...</td>\n",
       "      <td>...</td>\n",
       "      <td>...</td>\n",
       "    </tr>\n",
       "    <tr>\n",
       "      <th>96091</th>\n",
       "      <td>fffcf5a5ff07b0908bd4e2dbc735a684</td>\n",
       "      <td>2067.42</td>\n",
       "      <td>10.0</td>\n",
       "      <td>785.00</td>\n",
       "      <td>5.0</td>\n",
       "    </tr>\n",
       "    <tr>\n",
       "      <th>96092</th>\n",
       "      <td>fffea47cd6d3cc0a88bd621562a9d061</td>\n",
       "      <td>84.58</td>\n",
       "      <td>1.0</td>\n",
       "      <td>64.89</td>\n",
       "      <td>4.0</td>\n",
       "    </tr>\n",
       "    <tr>\n",
       "      <th>96093</th>\n",
       "      <td>ffff371b4d645b6ecea244b27531430a</td>\n",
       "      <td>112.46</td>\n",
       "      <td>1.0</td>\n",
       "      <td>89.90</td>\n",
       "      <td>5.0</td>\n",
       "    </tr>\n",
       "    <tr>\n",
       "      <th>96094</th>\n",
       "      <td>ffff5962728ec6157033ef9805bacc48</td>\n",
       "      <td>133.69</td>\n",
       "      <td>5.0</td>\n",
       "      <td>115.00</td>\n",
       "      <td>5.0</td>\n",
       "    </tr>\n",
       "    <tr>\n",
       "      <th>96095</th>\n",
       "      <td>ffffd2657e2aad2907e67c3e9daecbeb</td>\n",
       "      <td>71.56</td>\n",
       "      <td>4.0</td>\n",
       "      <td>56.99</td>\n",
       "      <td>5.0</td>\n",
       "    </tr>\n",
       "  </tbody>\n",
       "</table>\n",
       "<p>96096 rows × 5 columns</p>\n",
       "</div>"
      ],
      "text/plain": [
       "                     customer_unique_id  payment_value_mean  \\\n",
       "0      0000366f3b9a7992bf8c76cfdf3221e2              141.90   \n",
       "1      0000b849f77a49e4a4ce2b2a4ca5be3f               27.19   \n",
       "2      0000f46a3911fa3c0805444483337064               86.22   \n",
       "3      0000f6ccb0745a6a4b88665a16c9f078               43.62   \n",
       "4      0004aac84e0df4da2b147fca70cf8255              196.89   \n",
       "...                                 ...                 ...   \n",
       "96091  fffcf5a5ff07b0908bd4e2dbc735a684             2067.42   \n",
       "96092  fffea47cd6d3cc0a88bd621562a9d061               84.58   \n",
       "96093  ffff371b4d645b6ecea244b27531430a              112.46   \n",
       "96094  ffff5962728ec6157033ef9805bacc48              133.69   \n",
       "96095  ffffd2657e2aad2907e67c3e9daecbeb               71.56   \n",
       "\n",
       "       payment_installments_mean  price_mean  review_score_mean  \n",
       "0                            8.0      129.90                5.0  \n",
       "1                            1.0       18.90                4.0  \n",
       "2                            8.0       69.00                3.0  \n",
       "3                            4.0       25.99                4.0  \n",
       "4                            6.0      180.00                5.0  \n",
       "...                          ...         ...                ...  \n",
       "96091                       10.0      785.00                5.0  \n",
       "96092                        1.0       64.89                4.0  \n",
       "96093                        1.0       89.90                5.0  \n",
       "96094                        5.0      115.00                5.0  \n",
       "96095                        4.0       56.99                5.0  \n",
       "\n",
       "[96096 rows x 5 columns]"
      ]
     },
     "execution_count": 11,
     "metadata": {},
     "output_type": "execute_result"
    }
   ],
   "source": [
    "payments_ratings = data.groupby(\"customer_unique_id\")[\n",
    "    [\"payment_value\", \"payment_installments\", \"price\", \"review_score\"]].agg([\"mean\"]).reset_index()\n",
    "payments_ratings.columns = ['_'.join(col).strip('_') for col in payments_ratings.columns.values]\n",
    "payments_ratings"
   ]
  },
  {
   "cell_type": "code",
   "execution_count": 12,
   "id": "6a1a7dd3",
   "metadata": {},
   "outputs": [
    {
     "data": {
      "application/vnd.microsoft.datawrangler.viewer.v0+json": {
       "columns": [
        {
         "name": "index",
         "rawType": "int64",
         "type": "integer"
        },
        {
         "name": "customer_unique_id",
         "rawType": "object",
         "type": "string"
        },
        {
         "name": "most_frequent_product_category",
         "rawType": "object",
         "type": "unknown"
        }
       ],
       "conversionMethod": "pd.DataFrame",
       "ref": "60cdc1bb-aca2-471f-b1ca-6c0c70e35def",
       "rows": [
        [
         "0",
         "0000366f3b9a7992bf8c76cfdf3221e2",
         "bed_bath_table"
        ],
        [
         "1",
         "0000b849f77a49e4a4ce2b2a4ca5be3f",
         "health_beauty"
        ],
        [
         "2",
         "0000f46a3911fa3c0805444483337064",
         "stationery"
        ],
        [
         "3",
         "0000f6ccb0745a6a4b88665a16c9f078",
         "telephony"
        ],
        [
         "4",
         "0004aac84e0df4da2b147fca70cf8255",
         "telephony"
        ],
        [
         "5",
         "0004bd2a26a76fe21f786e4fbd80607f",
         "garden_tools"
        ],
        [
         "6",
         "00050ab1314c0e55a6ca13cf7181fecf",
         "telephony"
        ],
        [
         "7",
         "00053a61a98854899e70ed204dd4bafe",
         "sports_leisure"
        ],
        [
         "8",
         "0005e1862207bf6ccc02e4228effd9a0",
         "fashion_bags_accessories"
        ],
        [
         "9",
         "0005ef4cd20d2893f0d9fbd94d3c0d97",
         "sports_leisure"
        ],
        [
         "10",
         "0006fdc98a402fceb4eb0ee528f6a8d4",
         "bed_bath_table"
        ],
        [
         "11",
         "00082cbe03e478190aadbea78542e933",
         "luggage_accessories"
        ],
        [
         "12",
         "00090324bbad0e9342388303bb71ba0a",
         "bed_bath_table"
        ],
        [
         "13",
         "000949456b182f53c18b68d6babc79c1",
         "computers_accessories"
        ],
        [
         "14",
         "000a5ad9c4601d2bbdd9ed765d5213b3",
         "health_beauty"
        ],
        [
         "15",
         "000bfa1d2f1a41876493be685390d6d3",
         "fashion_bags_accessories"
        ],
        [
         "16",
         "000c8bdb58a29e7115cfc257230fb21b",
         "bed_bath_table"
        ],
        [
         "17",
         "000d460961d6dbfa3ec6c9f5805769e1",
         "telephony"
        ],
        [
         "18",
         "000de6019bb59f34c099a907c151d855",
         "bed_bath_table"
        ],
        [
         "19",
         "000e309254ab1fc5ba99dd469d36bdb4",
         "fashion_underwear_beach"
        ],
        [
         "20",
         "000ec5bff359e1c0ad76a81a45cb598f",
         "home_appliances"
        ],
        [
         "21",
         "000ed48ceeb6f4bf8ad021a10a3c7b43",
         "computers_accessories"
        ],
        [
         "22",
         "000fbf0473c10fc1ab6f8d2d286ce20c",
         "musical_instruments"
        ],
        [
         "23",
         "0010a452c6d13139e50b57f19f52e04e",
         "home_confort"
        ],
        [
         "24",
         "0010fb34b966d44409382af9e8fd5b77",
         "bed_bath_table"
        ],
        [
         "25",
         "001147e649a7b1afd577e873841632dd",
         "housewares"
        ],
        [
         "26",
         "00115fc7123b5310cf6d3a3aa932699e",
         "sports_leisure"
        ],
        [
         "27",
         "0011805441c0d1b68b48002f1d005526",
         "computers_accessories"
        ],
        [
         "28",
         "0011857aff0e5871ce5eb429f21cdaf5",
         "luggage_accessories"
        ],
        [
         "29",
         "0011c98589159d6149979563c504cb21",
         "small_appliances"
        ],
        [
         "30",
         "0012929d977a8d7280bb277c1e5f589d",
         "watches_gifts"
        ],
        [
         "31",
         "0014a5a58da615f7b01a4f5e194bf5ea",
         "health_beauty"
        ],
        [
         "32",
         "0015752e079902b12cd00b9b7596276b",
         "luggage_accessories"
        ],
        [
         "33",
         "00172711b30d52eea8b313a7f2cced02",
         "stationery"
        ],
        [
         "34",
         "00191a9719ef48ebb5860b130347bf33",
         "bed_bath_table"
        ],
        [
         "35",
         "001926cef41060fae572e2e7b30bd2a4",
         "computers_accessories"
        ],
        [
         "36",
         "001928b561575b2821c92254a2327d06",
         "bed_bath_table"
        ],
        [
         "37",
         "00196c4c9a3af7dd2ad10eade69c926f",
         "computers_accessories"
        ],
        [
         "38",
         "00196fdb2bf9edfc35e88ebfbcf8d781",
         "electronics"
        ],
        [
         "39",
         "0019da6aa6bcb27cc32f1249bd12da05",
         "housewares"
        ],
        [
         "40",
         "0019e8c501c85848ac0966d45226fa1d",
         "sports_leisure"
        ],
        [
         "41",
         "001a2bf0e46c684031af91fb2bce149d",
         "housewares"
        ],
        [
         "42",
         "001a34eb30ecb8e3aacb07c475ca4dd1",
         "housewares"
        ],
        [
         "43",
         "001a3a8e11d76c9a366c31a4aa2cc529",
         "electronics"
        ],
        [
         "44",
         "001ae44fa04911a9e9577356dce6c63c",
         null
        ],
        [
         "45",
         "001ae5a1788703d64536c30362503e49",
         "garden_tools"
        ],
        [
         "46",
         "001deb796b28a3a128d6113857569aa4",
         "housewares"
        ],
        [
         "47",
         "001f3c4211216384d5fe59b041ce1461",
         "housewares"
        ],
        [
         "48",
         "002043098f10ba39a4600b6c52fbfe3c",
         "office_furniture"
        ],
        [
         "49",
         "002311514717ca8b65b09a26cdf7b91a",
         "auto"
        ]
       ],
       "shape": {
        "columns": 2,
        "rows": 96096
       }
      },
      "text/html": [
       "<div>\n",
       "<style scoped>\n",
       "    .dataframe tbody tr th:only-of-type {\n",
       "        vertical-align: middle;\n",
       "    }\n",
       "\n",
       "    .dataframe tbody tr th {\n",
       "        vertical-align: top;\n",
       "    }\n",
       "\n",
       "    .dataframe thead th {\n",
       "        text-align: right;\n",
       "    }\n",
       "</style>\n",
       "<table border=\"1\" class=\"dataframe\">\n",
       "  <thead>\n",
       "    <tr style=\"text-align: right;\">\n",
       "      <th></th>\n",
       "      <th>customer_unique_id</th>\n",
       "      <th>most_frequent_product_category</th>\n",
       "    </tr>\n",
       "  </thead>\n",
       "  <tbody>\n",
       "    <tr>\n",
       "      <th>0</th>\n",
       "      <td>0000366f3b9a7992bf8c76cfdf3221e2</td>\n",
       "      <td>bed_bath_table</td>\n",
       "    </tr>\n",
       "    <tr>\n",
       "      <th>1</th>\n",
       "      <td>0000b849f77a49e4a4ce2b2a4ca5be3f</td>\n",
       "      <td>health_beauty</td>\n",
       "    </tr>\n",
       "    <tr>\n",
       "      <th>2</th>\n",
       "      <td>0000f46a3911fa3c0805444483337064</td>\n",
       "      <td>stationery</td>\n",
       "    </tr>\n",
       "    <tr>\n",
       "      <th>3</th>\n",
       "      <td>0000f6ccb0745a6a4b88665a16c9f078</td>\n",
       "      <td>telephony</td>\n",
       "    </tr>\n",
       "    <tr>\n",
       "      <th>4</th>\n",
       "      <td>0004aac84e0df4da2b147fca70cf8255</td>\n",
       "      <td>telephony</td>\n",
       "    </tr>\n",
       "    <tr>\n",
       "      <th>...</th>\n",
       "      <td>...</td>\n",
       "      <td>...</td>\n",
       "    </tr>\n",
       "    <tr>\n",
       "      <th>96091</th>\n",
       "      <td>fffcf5a5ff07b0908bd4e2dbc735a684</td>\n",
       "      <td>health_beauty</td>\n",
       "    </tr>\n",
       "    <tr>\n",
       "      <th>96092</th>\n",
       "      <td>fffea47cd6d3cc0a88bd621562a9d061</td>\n",
       "      <td>baby</td>\n",
       "    </tr>\n",
       "    <tr>\n",
       "      <th>96093</th>\n",
       "      <td>ffff371b4d645b6ecea244b27531430a</td>\n",
       "      <td>auto</td>\n",
       "    </tr>\n",
       "    <tr>\n",
       "      <th>96094</th>\n",
       "      <td>ffff5962728ec6157033ef9805bacc48</td>\n",
       "      <td>watches_gifts</td>\n",
       "    </tr>\n",
       "    <tr>\n",
       "      <th>96095</th>\n",
       "      <td>ffffd2657e2aad2907e67c3e9daecbeb</td>\n",
       "      <td>perfumery</td>\n",
       "    </tr>\n",
       "  </tbody>\n",
       "</table>\n",
       "<p>96096 rows × 2 columns</p>\n",
       "</div>"
      ],
      "text/plain": [
       "                     customer_unique_id most_frequent_product_category\n",
       "0      0000366f3b9a7992bf8c76cfdf3221e2                 bed_bath_table\n",
       "1      0000b849f77a49e4a4ce2b2a4ca5be3f                  health_beauty\n",
       "2      0000f46a3911fa3c0805444483337064                     stationery\n",
       "3      0000f6ccb0745a6a4b88665a16c9f078                      telephony\n",
       "4      0004aac84e0df4da2b147fca70cf8255                      telephony\n",
       "...                                 ...                            ...\n",
       "96091  fffcf5a5ff07b0908bd4e2dbc735a684                  health_beauty\n",
       "96092  fffea47cd6d3cc0a88bd621562a9d061                           baby\n",
       "96093  ffff371b4d645b6ecea244b27531430a                           auto\n",
       "96094  ffff5962728ec6157033ef9805bacc48                  watches_gifts\n",
       "96095  ffffd2657e2aad2907e67c3e9daecbeb                      perfumery\n",
       "\n",
       "[96096 rows x 2 columns]"
      ]
     },
     "execution_count": 12,
     "metadata": {},
     "output_type": "execute_result"
    }
   ],
   "source": [
    "# Сформируем информацию по модальной категории продуктов в разрезе пользователей\n",
    "def calculate_mode(series):\n",
    "    return series.mode().iloc[0] if not series.mode().empty else None\n",
    "\n",
    "mode_category = (\n",
    "    data.groupby(\"customer_unique_id\")[\"product_category_name_english\"]\n",
    "    .agg(calculate_mode)\n",
    "    .reset_index()\n",
    ")\n",
    "\n",
    "mode_category.columns = [\"customer_unique_id\", \"most_frequent_product_category\"]\n",
    "\n",
    "mode_category\n"
   ]
  },
  {
   "cell_type": "code",
   "execution_count": 13,
   "id": "6c456a48",
   "metadata": {},
   "outputs": [
    {
     "data": {
      "application/vnd.microsoft.datawrangler.viewer.v0+json": {
       "columns": [
        {
         "name": "index",
         "rawType": "int64",
         "type": "integer"
        },
        {
         "name": "customer_unique_id",
         "rawType": "object",
         "type": "string"
        },
        {
         "name": "Churn_Risk",
         "rawType": "int64",
         "type": "integer"
        },
        {
         "name": "num_orders",
         "rawType": "int64",
         "type": "integer"
        },
        {
         "name": "payment_value_mean",
         "rawType": "float64",
         "type": "float"
        },
        {
         "name": "payment_installments_mean",
         "rawType": "float64",
         "type": "float"
        },
        {
         "name": "price_mean",
         "rawType": "float64",
         "type": "float"
        },
        {
         "name": "review_score_mean",
         "rawType": "float64",
         "type": "float"
        },
        {
         "name": "customer_city",
         "rawType": "object",
         "type": "string"
        },
        {
         "name": "most_frequent_product_category",
         "rawType": "object",
         "type": "string"
        }
       ],
       "conversionMethod": "pd.DataFrame",
       "ref": "9fa53dcf-2212-484d-b1ff-861adea3468d",
       "rows": [
        [
         "0",
         "0000366f3b9a7992bf8c76cfdf3221e2",
         "2",
         "1",
         "141.9",
         "8.0",
         "129.9",
         "5.0",
         "cajamar",
         "bed_bath_table"
        ],
        [
         "1",
         "0000b849f77a49e4a4ce2b2a4ca5be3f",
         "2",
         "1",
         "27.19",
         "1.0",
         "18.9",
         "4.0",
         "osasco",
         "health_beauty"
        ],
        [
         "2",
         "0000f46a3911fa3c0805444483337064",
         "3",
         "1",
         "86.22",
         "8.0",
         "69.0",
         "3.0",
         "sao jose",
         "stationery"
        ],
        [
         "3",
         "0000f6ccb0745a6a4b88665a16c9f078",
         "3",
         "1",
         "43.62",
         "4.0",
         "25.99",
         "4.0",
         "belem",
         "telephony"
        ],
        [
         "4",
         "0004aac84e0df4da2b147fca70cf8255",
         "3",
         "1",
         "196.89",
         "6.0",
         "180.0",
         "5.0",
         "sorocaba",
         "telephony"
        ]
       ],
       "shape": {
        "columns": 9,
        "rows": 5
       }
      },
      "text/html": [
       "<div>\n",
       "<style scoped>\n",
       "    .dataframe tbody tr th:only-of-type {\n",
       "        vertical-align: middle;\n",
       "    }\n",
       "\n",
       "    .dataframe tbody tr th {\n",
       "        vertical-align: top;\n",
       "    }\n",
       "\n",
       "    .dataframe thead th {\n",
       "        text-align: right;\n",
       "    }\n",
       "</style>\n",
       "<table border=\"1\" class=\"dataframe\">\n",
       "  <thead>\n",
       "    <tr style=\"text-align: right;\">\n",
       "      <th></th>\n",
       "      <th>customer_unique_id</th>\n",
       "      <th>Churn_Risk</th>\n",
       "      <th>num_orders</th>\n",
       "      <th>payment_value_mean</th>\n",
       "      <th>payment_installments_mean</th>\n",
       "      <th>price_mean</th>\n",
       "      <th>review_score_mean</th>\n",
       "      <th>customer_city</th>\n",
       "      <th>most_frequent_product_category</th>\n",
       "    </tr>\n",
       "  </thead>\n",
       "  <tbody>\n",
       "    <tr>\n",
       "      <th>0</th>\n",
       "      <td>0000366f3b9a7992bf8c76cfdf3221e2</td>\n",
       "      <td>2</td>\n",
       "      <td>1</td>\n",
       "      <td>141.90</td>\n",
       "      <td>8.0</td>\n",
       "      <td>129.90</td>\n",
       "      <td>5.0</td>\n",
       "      <td>cajamar</td>\n",
       "      <td>bed_bath_table</td>\n",
       "    </tr>\n",
       "    <tr>\n",
       "      <th>1</th>\n",
       "      <td>0000b849f77a49e4a4ce2b2a4ca5be3f</td>\n",
       "      <td>2</td>\n",
       "      <td>1</td>\n",
       "      <td>27.19</td>\n",
       "      <td>1.0</td>\n",
       "      <td>18.90</td>\n",
       "      <td>4.0</td>\n",
       "      <td>osasco</td>\n",
       "      <td>health_beauty</td>\n",
       "    </tr>\n",
       "    <tr>\n",
       "      <th>2</th>\n",
       "      <td>0000f46a3911fa3c0805444483337064</td>\n",
       "      <td>3</td>\n",
       "      <td>1</td>\n",
       "      <td>86.22</td>\n",
       "      <td>8.0</td>\n",
       "      <td>69.00</td>\n",
       "      <td>3.0</td>\n",
       "      <td>sao jose</td>\n",
       "      <td>stationery</td>\n",
       "    </tr>\n",
       "    <tr>\n",
       "      <th>3</th>\n",
       "      <td>0000f6ccb0745a6a4b88665a16c9f078</td>\n",
       "      <td>3</td>\n",
       "      <td>1</td>\n",
       "      <td>43.62</td>\n",
       "      <td>4.0</td>\n",
       "      <td>25.99</td>\n",
       "      <td>4.0</td>\n",
       "      <td>belem</td>\n",
       "      <td>telephony</td>\n",
       "    </tr>\n",
       "    <tr>\n",
       "      <th>4</th>\n",
       "      <td>0004aac84e0df4da2b147fca70cf8255</td>\n",
       "      <td>3</td>\n",
       "      <td>1</td>\n",
       "      <td>196.89</td>\n",
       "      <td>6.0</td>\n",
       "      <td>180.00</td>\n",
       "      <td>5.0</td>\n",
       "      <td>sorocaba</td>\n",
       "      <td>telephony</td>\n",
       "    </tr>\n",
       "  </tbody>\n",
       "</table>\n",
       "</div>"
      ],
      "text/plain": [
       "                 customer_unique_id  Churn_Risk  num_orders  \\\n",
       "0  0000366f3b9a7992bf8c76cfdf3221e2           2           1   \n",
       "1  0000b849f77a49e4a4ce2b2a4ca5be3f           2           1   \n",
       "2  0000f46a3911fa3c0805444483337064           3           1   \n",
       "3  0000f6ccb0745a6a4b88665a16c9f078           3           1   \n",
       "4  0004aac84e0df4da2b147fca70cf8255           3           1   \n",
       "\n",
       "   payment_value_mean  payment_installments_mean  price_mean  \\\n",
       "0              141.90                        8.0      129.90   \n",
       "1               27.19                        1.0       18.90   \n",
       "2               86.22                        8.0       69.00   \n",
       "3               43.62                        4.0       25.99   \n",
       "4              196.89                        6.0      180.00   \n",
       "\n",
       "   review_score_mean customer_city most_frequent_product_category  \n",
       "0                5.0       cajamar                 bed_bath_table  \n",
       "1                4.0        osasco                  health_beauty  \n",
       "2                3.0      sao jose                     stationery  \n",
       "3                4.0         belem                      telephony  \n",
       "4                5.0      sorocaba                      telephony  "
      ]
     },
     "execution_count": 13,
     "metadata": {},
     "output_type": "execute_result"
    }
   ],
   "source": [
    "clients_data_1 = orderer_by_client.merge(\n",
    "    payments_ratings, on=\"customer_unique_id\")\n",
    "clients_data_2 = clients_city.merge(mode_category, on=\"customer_unique_id\")\n",
    "clients_data = clients_data_1.merge(\n",
    "    clients_data_2, on=\"customer_unique_id\")\n",
    "\n",
    "# ОбЪединяем с лейблами\n",
    "clients_data_labeled = labels.merge(clients_data, on=\"customer_unique_id\")\n",
    "clients_data_labeled.head()"
   ]
  },
  {
   "cell_type": "code",
   "execution_count": 14,
   "id": "e5d15aba",
   "metadata": {},
   "outputs": [
    {
     "data": {
      "application/vnd.microsoft.datawrangler.viewer.v0+json": {
       "columns": [
        {
         "name": "index",
         "rawType": "int64",
         "type": "integer"
        },
        {
         "name": "num_orders",
         "rawType": "float64",
         "type": "float"
        },
        {
         "name": "payment_value_mean",
         "rawType": "float64",
         "type": "float"
        },
        {
         "name": "payment_installments_mean",
         "rawType": "float64",
         "type": "float"
        },
        {
         "name": "price_mean",
         "rawType": "float64",
         "type": "float"
        },
        {
         "name": "review_score_mean",
         "rawType": "float64",
         "type": "float"
        },
        {
         "name": "customer_city",
         "rawType": "int64",
         "type": "integer"
        },
        {
         "name": "most_frequent_product_category",
         "rawType": "int64",
         "type": "integer"
        }
       ],
       "conversionMethod": "pd.DataFrame",
       "ref": "2b843f9c-cd11-4ffc-b66e-4012d670f641",
       "rows": [
        [
         "0",
         "-0.2381745501234624",
         "-0.07323225122761944",
         "1.9046132900063846",
         "0.021410562172327226",
         "0.6613032437494765",
         "655",
         "7"
        ],
        [
         "1",
         "-0.2381745501234624",
         "-0.601906165407732",
         "-0.7101864322451797",
         "-0.56138391103488",
         "-0.11966596263886617",
         "2594",
         "43"
        ],
        [
         "2",
         "-0.2381745501234624",
         "-0.329849490714575",
         "1.9046132900063846",
         "-0.29833883799270805",
         "-0.9006351690272087",
         "3520",
         "66"
        ],
        [
         "3",
         "-0.2381745501234624",
         "-0.5261838010979137",
         "0.4104420201483479",
         "-0.5241585703588519",
         "-0.11966596263886617",
         "448",
         "68"
        ],
        [
         "4",
         "-0.2381745501234624",
         "0.18020492548552133",
         "1.1575276550773663",
         "0.284455635214499",
         "0.6613032437494765",
         "3758",
         "68"
        ],
        [
         "5",
         "-0.2381745501234624",
         "0.042356117420599665",
         "1.9046132900063846",
         "0.14794521806686495",
         "-0.11966596263886617",
         "3597",
         "42"
        ],
        [
         "6",
         "-0.2381745501234624",
         "-0.5641602029185409",
         "-0.7101864322451797",
         "-0.5136577690398032",
         "-0.11966596263886617",
         "707",
         "68"
        ],
        [
         "7",
         "0.9187196413213061",
         "1.2046921051829953",
         "0.03689920268383871",
         "0.3422100424692673",
         "-2.462573581803894",
         "1143",
         "65"
        ],
        [
         "8",
         "-0.2381745501234624",
         "-0.035348025139566745",
         "0.03689920268383871",
         "0.048187605535901575",
         "-0.11966596263886617",
         "3845",
         "28"
        ],
        [
         "9",
         "-0.2381745501234624",
         "-0.12918292090024236",
         "0.4104420201483479",
         "-0.10984945431578247",
         "-2.462573581803894",
         "3566",
         "65"
        ],
        [
         "10",
         "-0.2381745501234624",
         "-0.5935642616097545",
         "-0.3366436147806705",
         "-0.5876359143325017",
         "-0.9006351690272087",
         "2308",
         "7"
        ],
        [
         "11",
         "-0.2381745501234624",
         "-0.14531367410075133",
         "-0.7101864322451797",
         "-0.24583483139746415",
         "0.6613032437494765",
         "1809",
         "53"
        ],
        [
         "12",
         "-0.2381745501234624",
         "-0.43382371705842765",
         "0.03689920268383871",
         "-0.3983589705566476",
         "0.6613032437494765",
         "707",
         "7"
        ],
        [
         "13",
         "-0.2381745501234624",
         "-0.34906813095632433",
         "-0.7101864322451797",
         "-0.31991798470335325",
         "-0.11966596263886617",
         "3428",
         "15"
        ],
        [
         "14",
         "-0.2381745501234624",
         "-0.30652903037326756",
         "0.03689920268383871",
         "-0.2563881367231082",
         "-0.11966596263886617",
         "2964",
         "43"
        ],
        [
         "15",
         "0.9187196413213061",
         "-0.5112974202871583",
         "0.4104420201483479",
         "-0.4768524604165372",
         "0.27081864055530513",
         "3415",
         "28"
        ],
        [
         "16",
         "-0.2381745501234624",
         "-0.5935642616097545",
         "-0.3366436147806705",
         "-0.5876359143325017",
         "0.6613032437494765",
         "453",
         "7"
        ],
        [
         "17",
         "-0.2381745501234624",
         "-0.5581687803012089",
         "-0.7101864322451797",
         "-0.508879904439636",
         "0.6613032437494765",
         "3597",
         "68"
        ],
        [
         "18",
         "0.9187196413213061",
         "0.45926695585432803",
         "0.4104420201483479",
         "-0.057345447720538595",
         "-1.6816043754155514",
         "3617",
         "7"
        ],
        [
         "19",
         "0.9187196413213061",
         "-0.5465085501305551",
         "-0.7101864322451797",
         "-0.34611748399438",
         "-0.9006351690272087",
         "4004",
         "33"
        ],
        [
         "20",
         "-0.2381745501234624",
         "-0.5993252448956505",
         "-0.7101864322451797",
         "-0.582070489633406",
         "0.6613032437494765",
         "3240",
         "44"
        ],
        [
         "21",
         "-0.2381745501234624",
         "-0.6315867512966686",
         "-0.7101864322451797",
         "-0.5929913230052167",
         "0.6613032437494765",
         "3597",
         "15"
        ],
        [
         "22",
         "3.2325080242108433",
         "0.9429130246718768",
         "-0.7101864322451797",
         "-0.28547535637687327",
         "0.6613032437494765",
         "1663",
         "56"
        ],
        [
         "23",
         "-0.2381745501234624",
         "0.7749227520551467",
         "2.651698924935403",
         "0.9092533136979013",
         "-2.462573581803894",
         "3811",
         "47"
        ],
        [
         "24",
         "-0.2381745501234624",
         "-0.442396060187841",
         "1.1575276550773663",
         "-0.3983589705566476",
         "-0.11966596263886617",
         "3597",
         "7"
        ],
        [
         "25",
         "0.9187196413213061",
         "0.250581097306028",
         "-0.7101864322451797",
         "-0.21433242744031783",
         "-0.11966596263886617",
         "2242",
         "49"
        ],
        [
         "26",
         "-0.2381745501234624",
         "-0.37644432353090257",
         "-0.7101864322451797",
         "-0.3456449479350228",
         "-0.11966596263886617",
         "558",
         "65"
        ],
        [
         "27",
         "-0.2381745501234624",
         "0.6422357850143878",
         "2.651698924935403",
         "0.7517412939121696",
         "-0.9006351690272087",
         "1444",
         "15"
        ],
        [
         "28",
         "-0.2381745501234624",
         "0.16149325177293095",
         "0.03689920268383871",
         "0.25468586347499583",
         "0.6613032437494765",
         "3375",
         "53"
        ],
        [
         "29",
         "-0.2381745501234624",
         "-0.18365877885167575",
         "0.7839848376128572",
         "-0.13562892155404727",
         "0.6613032437494765",
         "735",
         "63"
        ],
        [
         "30",
         "-0.2381745501234624",
         "-0.009861435082762432",
         "-0.7101864322451797",
         "0.021410562172327226",
         "-2.462573581803894",
         "772",
         "70"
        ],
        [
         "31",
         "-0.2381745501234624",
         "-0.2671699925640255",
         "0.03689920268383871",
         "-0.19858122546174467",
         "0.6613032437494765",
         "3597",
         "43"
        ],
        [
         "32",
         "0.9187196413213061",
         "-0.3823896582819474",
         "0.03689920268383871",
         "-0.5036295037801116",
         "0.6613032437494765",
         "3597",
         "53"
        ],
        [
         "33",
         "-0.2381745501234624",
         "-0.1646244900750751",
         "-0.3366436147806705",
         "-0.2694616343653239",
         "-0.11966596263886617",
         "1960",
         "66"
        ],
        [
         "34",
         "-0.2381745501234624",
         "-0.45594589287626863",
         "-0.3366436147806705",
         "-0.40912229190867266",
         "-0.9006351690272087",
         "1946",
         "7"
        ],
        [
         "35",
         "0.9187196413213061",
         "-0.3068516454372778",
         "-0.7101864322451797",
         "-0.5325329594107934",
         "-0.11966596263886617",
         "2487",
         "15"
        ],
        [
         "36",
         "0.9187196413213061",
         "0.03235505043628411",
         "1.1575276550773663",
         "-0.301252810358744",
         "-1.6816043754155514",
         "3597",
         "7"
        ],
        [
         "37",
         "-0.2381745501234624",
         "-0.5540208723353637",
         "-0.7101864322451797",
         "-0.5434275407793064",
         "0.6613032437494765",
         "4076",
         "15"
        ],
        [
         "38",
         "-0.2381745501234624",
         "-0.6027818348671882",
         "-0.7101864322451797",
         "-0.5928863149920262",
         "-0.9006351690272087",
         "772",
         "26"
        ],
        [
         "39",
         "-0.2381745501234624",
         "-0.3229823986377868",
         "-0.7101864322451797",
         "-0.24110947080389217",
         "-2.462573581803894",
         "2098",
         "49"
        ],
        [
         "40",
         "-0.2381745501234624",
         "0.18195626440443385",
         "-0.3366436147806705",
         "0.1793951180174161",
         "0.6613032437494765",
         "1133",
         "65"
        ],
        [
         "41",
         "-0.2381745501234624",
         "-0.557938340969773",
         "-0.7101864322451797",
         "-0.5299865150909241",
         "-0.11966596263886617",
         "3597",
         "49"
        ],
        [
         "42",
         "-0.2381745501234624",
         "0.01806781188726183",
         "-0.7101864322451797",
         "0.13691937668186377",
         "0.6613032437494765",
         "3597",
         "49"
        ],
        [
         "43",
         "-0.2381745501234624",
         "-0.615548173828734",
         "-0.7101864322451797",
         "-0.6133628775641713",
         "0.6613032437494765",
         "2964",
         "26"
        ],
        [
         "44",
         "-1.3950687415682308",
         null,
         null,
         null,
         null,
         "3433",
         "71"
        ],
        [
         "45",
         "-0.2381745501234624",
         "-0.10466417603546849",
         "-0.7101864322451797",
         "-0.18813292814929117",
         "0.6613032437494765",
         "4097",
         "42"
        ],
        [
         "46",
         "-0.2381745501234624",
         "-0.4353446166459042",
         "1.1575276550773663",
         "-0.4511254971848678",
         "-0.11966596263886617",
         "3155",
         "49"
        ],
        [
         "47",
         "-0.2381745501234624",
         "-0.5620401610693311",
         "0.03689920268383871",
         "-0.5299865150909241",
         "-0.9006351690272087",
         "3597",
         "49"
        ],
        [
         "48",
         "-0.2381745501234624",
         "0.36879647433261586",
         "0.4104420201483479",
         "0.2686519292293307",
         "-0.11966596263886617",
         "227",
         "57"
        ],
        [
         "49",
         "-0.2381745501234624",
         "-0.15425472016046213",
         "-0.3366436147806705",
         "-0.0502574068301807",
         "0.6613032437494765",
         "1529",
         "5"
        ]
       ],
       "shape": {
        "columns": 7,
        "rows": 96219
       }
      },
      "text/html": [
       "<div>\n",
       "<style scoped>\n",
       "    .dataframe tbody tr th:only-of-type {\n",
       "        vertical-align: middle;\n",
       "    }\n",
       "\n",
       "    .dataframe tbody tr th {\n",
       "        vertical-align: top;\n",
       "    }\n",
       "\n",
       "    .dataframe thead th {\n",
       "        text-align: right;\n",
       "    }\n",
       "</style>\n",
       "<table border=\"1\" class=\"dataframe\">\n",
       "  <thead>\n",
       "    <tr style=\"text-align: right;\">\n",
       "      <th></th>\n",
       "      <th>num_orders</th>\n",
       "      <th>payment_value_mean</th>\n",
       "      <th>payment_installments_mean</th>\n",
       "      <th>price_mean</th>\n",
       "      <th>review_score_mean</th>\n",
       "      <th>customer_city</th>\n",
       "      <th>most_frequent_product_category</th>\n",
       "    </tr>\n",
       "  </thead>\n",
       "  <tbody>\n",
       "    <tr>\n",
       "      <th>0</th>\n",
       "      <td>-0.238175</td>\n",
       "      <td>-0.073232</td>\n",
       "      <td>1.904613</td>\n",
       "      <td>0.021411</td>\n",
       "      <td>0.661303</td>\n",
       "      <td>655</td>\n",
       "      <td>7</td>\n",
       "    </tr>\n",
       "    <tr>\n",
       "      <th>1</th>\n",
       "      <td>-0.238175</td>\n",
       "      <td>-0.601906</td>\n",
       "      <td>-0.710186</td>\n",
       "      <td>-0.561384</td>\n",
       "      <td>-0.119666</td>\n",
       "      <td>2594</td>\n",
       "      <td>43</td>\n",
       "    </tr>\n",
       "    <tr>\n",
       "      <th>2</th>\n",
       "      <td>-0.238175</td>\n",
       "      <td>-0.329849</td>\n",
       "      <td>1.904613</td>\n",
       "      <td>-0.298339</td>\n",
       "      <td>-0.900635</td>\n",
       "      <td>3520</td>\n",
       "      <td>66</td>\n",
       "    </tr>\n",
       "    <tr>\n",
       "      <th>3</th>\n",
       "      <td>-0.238175</td>\n",
       "      <td>-0.526184</td>\n",
       "      <td>0.410442</td>\n",
       "      <td>-0.524159</td>\n",
       "      <td>-0.119666</td>\n",
       "      <td>448</td>\n",
       "      <td>68</td>\n",
       "    </tr>\n",
       "    <tr>\n",
       "      <th>4</th>\n",
       "      <td>-0.238175</td>\n",
       "      <td>0.180205</td>\n",
       "      <td>1.157528</td>\n",
       "      <td>0.284456</td>\n",
       "      <td>0.661303</td>\n",
       "      <td>3758</td>\n",
       "      <td>68</td>\n",
       "    </tr>\n",
       "    <tr>\n",
       "      <th>...</th>\n",
       "      <td>...</td>\n",
       "      <td>...</td>\n",
       "      <td>...</td>\n",
       "      <td>...</td>\n",
       "      <td>...</td>\n",
       "      <td>...</td>\n",
       "      <td>...</td>\n",
       "    </tr>\n",
       "    <tr>\n",
       "      <th>96214</th>\n",
       "      <td>0.918720</td>\n",
       "      <td>8.801079</td>\n",
       "      <td>2.651699</td>\n",
       "      <td>3.460948</td>\n",
       "      <td>0.661303</td>\n",
       "      <td>3255</td>\n",
       "      <td>43</td>\n",
       "    </tr>\n",
       "    <tr>\n",
       "      <th>96215</th>\n",
       "      <td>-0.238175</td>\n",
       "      <td>-0.337408</td>\n",
       "      <td>-0.710186</td>\n",
       "      <td>-0.319918</td>\n",
       "      <td>-0.119666</td>\n",
       "      <td>1324</td>\n",
       "      <td>6</td>\n",
       "    </tr>\n",
       "    <tr>\n",
       "      <th>96216</th>\n",
       "      <td>-0.238175</td>\n",
       "      <td>-0.208915</td>\n",
       "      <td>-0.710186</td>\n",
       "      <td>-0.188605</td>\n",
       "      <td>0.661303</td>\n",
       "      <td>3740</td>\n",
       "      <td>5</td>\n",
       "    </tr>\n",
       "    <tr>\n",
       "      <th>96217</th>\n",
       "      <td>-0.238175</td>\n",
       "      <td>-0.111070</td>\n",
       "      <td>0.783985</td>\n",
       "      <td>-0.056820</td>\n",
       "      <td>0.661303</td>\n",
       "      <td>516</td>\n",
       "      <td>70</td>\n",
       "    </tr>\n",
       "    <tr>\n",
       "      <th>96218</th>\n",
       "      <td>-0.238175</td>\n",
       "      <td>-0.397414</td>\n",
       "      <td>0.410442</td>\n",
       "      <td>-0.361396</td>\n",
       "      <td>0.661303</td>\n",
       "      <td>727</td>\n",
       "      <td>59</td>\n",
       "    </tr>\n",
       "  </tbody>\n",
       "</table>\n",
       "<p>96219 rows × 7 columns</p>\n",
       "</div>"
      ],
      "text/plain": [
       "       num_orders  payment_value_mean  payment_installments_mean  price_mean  \\\n",
       "0       -0.238175           -0.073232                   1.904613    0.021411   \n",
       "1       -0.238175           -0.601906                  -0.710186   -0.561384   \n",
       "2       -0.238175           -0.329849                   1.904613   -0.298339   \n",
       "3       -0.238175           -0.526184                   0.410442   -0.524159   \n",
       "4       -0.238175            0.180205                   1.157528    0.284456   \n",
       "...           ...                 ...                        ...         ...   \n",
       "96214    0.918720            8.801079                   2.651699    3.460948   \n",
       "96215   -0.238175           -0.337408                  -0.710186   -0.319918   \n",
       "96216   -0.238175           -0.208915                  -0.710186   -0.188605   \n",
       "96217   -0.238175           -0.111070                   0.783985   -0.056820   \n",
       "96218   -0.238175           -0.397414                   0.410442   -0.361396   \n",
       "\n",
       "       review_score_mean  customer_city  most_frequent_product_category  \n",
       "0               0.661303            655                               7  \n",
       "1              -0.119666           2594                              43  \n",
       "2              -0.900635           3520                              66  \n",
       "3              -0.119666            448                              68  \n",
       "4               0.661303           3758                              68  \n",
       "...                  ...            ...                             ...  \n",
       "96214           0.661303           3255                              43  \n",
       "96215          -0.119666           1324                               6  \n",
       "96216           0.661303           3740                               5  \n",
       "96217           0.661303            516                              70  \n",
       "96218           0.661303            727                              59  \n",
       "\n",
       "[96219 rows x 7 columns]"
      ]
     },
     "execution_count": 14,
     "metadata": {},
     "output_type": "execute_result"
    }
   ],
   "source": [
    "# Кодируем и центрируем что нужно\n",
    "label_encoder_city = LabelEncoder()\n",
    "label_encoder_cat = LabelEncoder()\n",
    "scaler = StandardScaler()\n",
    "\n",
    "num_columns = [\"num_orders\", \"payment_value_mean\", \"payment_installments_mean\",\n",
    "               \"price_mean\", \"review_score_mean\"]\n",
    "cat_columns = [\"customer_city\", \"most_frequent_product_category\"]\n",
    "\n",
    "\n",
    "# Разделение на X и y\n",
    "X = clients_data_labeled[num_columns + cat_columns]\n",
    "y = clients_data_labeled[\"Churn_Risk\"]\n",
    "\n",
    "X_scaled = scaler.fit_transform(X[num_columns])\n",
    "X_city = label_encoder_city.fit_transform(X[\"customer_city\"])\n",
    "X_category = label_encoder_cat.fit_transform(\n",
    "    X[\"most_frequent_product_category\"])\n",
    "\n",
    "X_joined = pd.concat([pd.DataFrame(X_scaled, columns=num_columns), pd.DataFrame(\n",
    "    X_city, columns=[\"customer_city\"]), pd.DataFrame(X_category, columns=[\"most_frequent_product_category\"])], axis=1)\n",
    "X_joined"
   ]
  },
  {
   "cell_type": "code",
   "execution_count": 15,
   "id": "486edd37",
   "metadata": {},
   "outputs": [
    {
     "data": {
      "text/plain": [
       "Churn_Risk\n",
       "2    46231\n",
       "3    42189\n",
       "1     7799\n",
       "Name: count, dtype: int64"
      ]
     },
     "execution_count": 15,
     "metadata": {},
     "output_type": "execute_result"
    }
   ],
   "source": [
    "y.value_counts()"
   ]
  },
  {
   "cell_type": "code",
   "execution_count": 16,
   "id": "51a123a7",
   "metadata": {},
   "outputs": [],
   "source": [
    "y_xgb = y-1"
   ]
  },
  {
   "cell_type": "code",
   "execution_count": 17,
   "id": "d1a061f8",
   "metadata": {},
   "outputs": [],
   "source": [
    "X_train, X_test, y_train, y_test = train_test_split(\n",
    "    X_joined, y, test_size=0.2, stratify=y, random_state=42)"
   ]
  },
  {
   "cell_type": "markdown",
   "id": "e28de8c9",
   "metadata": {},
   "source": [
    "---\n",
    "### Пробуем лес как базу"
   ]
  },
  {
   "cell_type": "code",
   "execution_count": 18,
   "id": "08c999ad",
   "metadata": {},
   "outputs": [],
   "source": [
    "rf_classif = RandomForestClassifier(n_jobs=-1, random_state=42)\n",
    "rf_classif.fit(X_train, y_train)\n",
    "\n",
    "y_pred = rf_classif.predict(X_test)\n",
    "y_test_pred = rf_classif.predict(X_train)"
   ]
  },
  {
   "cell_type": "code",
   "execution_count": 19,
   "id": "7d47eab4",
   "metadata": {},
   "outputs": [
    {
     "data": {
      "text/plain": [
       "0.6735605903138641"
      ]
     },
     "execution_count": 19,
     "metadata": {},
     "output_type": "execute_result"
    }
   ],
   "source": [
    "accuracy_score(y_test, y_pred)"
   ]
  },
  {
   "cell_type": "code",
   "execution_count": 20,
   "id": "3a80a380",
   "metadata": {},
   "outputs": [
    {
     "data": {
      "text/plain": [
       "0.9976485872036376"
      ]
     },
     "execution_count": 20,
     "metadata": {},
     "output_type": "execute_result"
    }
   ],
   "source": [
    "accuracy_score(y_train, y_test_pred)"
   ]
  },
  {
   "cell_type": "markdown",
   "id": "e0ad631a",
   "metadata": {},
   "source": [
    "> Лес переобучился"
   ]
  },
  {
   "cell_type": "markdown",
   "id": "80767dfc",
   "metadata": {},
   "source": [
    "---\n",
    "### Пробуем xgboost"
   ]
  },
  {
   "cell_type": "code",
   "execution_count": 21,
   "id": "5b4b3881",
   "metadata": {},
   "outputs": [],
   "source": [
    "X_train, X_test, y_train, y_test = train_test_split(\n",
    "    X_joined, y_xgb, test_size=0.2, stratify=y, random_state=42)"
   ]
  },
  {
   "cell_type": "code",
   "execution_count": 22,
   "id": "ea8bbf3d",
   "metadata": {},
   "outputs": [
    {
     "name": "stdout",
     "output_type": "stream",
     "text": [
      "Accuracy: 0.60\n"
     ]
    }
   ],
   "source": [
    "# Импортируем необходимые библиотеки\n",
    "import xgboost as xgb\n",
    "from sklearn.metrics import accuracy_score\n",
    "\n",
    "\n",
    "# Преобразуем данные в формат DMatrix, который используется в XGBoost\n",
    "dtrain = xgb.DMatrix(X_train, label=y_train)\n",
    "dtest = xgb.DMatrix(X_test, label=y_test)\n",
    "\n",
    "# Параметры модели\n",
    "params = {\n",
    "    'objective': 'multi:softmax',  # Целевая функция для многоклассовой классификации\n",
    "    'num_class': 3,               # Количество классов\n",
    "    'max_depth': 3,               # Максимальная глубина деревьев\n",
    "    'eta': 0.01,                   # Скорость обучения (learning rate)\n",
    "    'subsample': 0.7,             # Доля выборки, используемая для обучения каждого дерева\n",
    "    'colsample_bytree': 0.5      # Доля признаков, используемых для обучения каждого дерева\n",
    "}\n",
    "\n",
    "# Обучение модели\n",
    "num_rounds = 1000  # Количество итераций (деревьев)\n",
    "model = xgb.train(params, dtrain, num_rounds)\n",
    "\n",
    "# Предсказание на тестовых данных\n",
    "y_pred = model.predict(dtest)\n",
    "\n",
    "# Оценка качества модели\n",
    "accuracy = accuracy_score(y_test, y_pred)\n",
    "print(f\"Accuracy: {accuracy:.2f}\")"
   ]
  },
  {
   "cell_type": "markdown",
   "id": "939372f4",
   "metadata": {},
   "source": [
    "---"
   ]
  },
  {
   "cell_type": "code",
   "execution_count": 29,
   "id": "ce1eaf38",
   "metadata": {},
   "outputs": [],
   "source": [
    "X_train, X_test, y_train, y_test = train_test_split(\n",
    "    X_joined, y, test_size=0.2, stratify=y, random_state=42)"
   ]
  },
  {
   "cell_type": "code",
   "execution_count": 30,
   "id": "085e3653",
   "metadata": {},
   "outputs": [
    {
     "name": "stdout",
     "output_type": "stream",
     "text": [
      "Using device: mps\n",
      "Epoch [1/10], Loss: 0.3912\n",
      "Epoch [2/10], Loss: 0.6394\n",
      "Epoch [3/10], Loss: 0.1300\n",
      "Epoch [4/10], Loss: 0.6736\n",
      "Epoch [5/10], Loss: 0.1296\n",
      "Epoch [6/10], Loss: 0.5310\n",
      "Epoch [7/10], Loss: 0.1312\n",
      "Epoch [8/10], Loss: 0.1415\n",
      "Epoch [9/10], Loss: 0.5317\n",
      "Epoch [10/10], Loss: 0.1256\n",
      "Accuracy: 0.4805\n",
      "Confusion Matrix:\n",
      " [[   0 1560    0]\n",
      " [   0 9246    0]\n",
      " [   0 8438    0]]\n"
     ]
    },
    {
     "data": {
      "image/png": "[encoded data removed]",
      "text/plain": [
       "<Figure size 800x600 with 2 Axes>"
      ]
     },
     "metadata": {},
     "output_type": "display_data"
    },
    {
     "name": "stdout",
     "output_type": "stream",
     "text": [
      "              precision    recall  f1-score   support\n",
      "\n",
      "     Class 1       0.00      0.00      0.00      1560\n",
      "     Class 2       0.48      1.00      0.65      9246\n",
      "     Class 3       0.00      0.00      0.00      8438\n",
      "\n",
      "    accuracy                           0.48     19244\n",
      "   macro avg       0.16      0.33      0.22     19244\n",
      "weighted avg       0.23      0.48      0.31     19244\n",
      "\n"
     ]
    }
   ],
   "source": [
    "import torch\n",
    "import torch.nn as nn\n",
    "import torch.optim as optim\n",
    "from torch.utils.data import DataLoader, TensorDataset\n",
    "import numpy as np\n",
    "from sklearn.metrics import confusion_matrix, classification_report\n",
    "import seaborn as sns\n",
    "import matplotlib.pyplot as plt\n",
    "\n",
    "# 1. Определение архитектуры нейронной сети\n",
    "class SimpleClassifier(nn.Module):\n",
    "    def __init__(self, input_size, hidden_size, num_classes):\n",
    "        super().__init__()\n",
    "        self.fc1 = nn.Linear(input_size, hidden_size)\n",
    "        self.fc2 = nn.Linear(hidden_size, hidden_size)\n",
    "        self.fc3 = nn.Linear(hidden_size, num_classes)\n",
    "        self.relu = nn.ReLU()\n",
    "\n",
    "    def forward(self, x):\n",
    "        x = self.relu(self.fc1(x))\n",
    "        x = self.relu(self.fc2(x))\n",
    "        x = self.fc3(x)\n",
    "        return x\n",
    "        \n",
    "# 2. Подготовка данных\n",
    "input_size = X_joined.shape[1]  # Размер входных данных\n",
    "hidden_size = 32  # Увеличили число нейронов\n",
    "num_classes = 3  # Количество классов для классификации\n",
    "\n",
    "# Преобразуем данные в тензоры\n",
    "X_train_tensor = torch.tensor(X_train.values, dtype=torch.float32)\n",
    "y_train_tensor = torch.tensor(y_train.values).long()\n",
    "\n",
    "# Создание Dataset и DataLoader\n",
    "dataset = TensorDataset(X_train_tensor, y_train_tensor)\n",
    "dataloader = DataLoader(dataset, batch_size=16, shuffle=True)\n",
    "\n",
    "# 3. Перевод модели и данных на устройство\n",
    "device = torch.device(\"mps\" if torch.backends.mps.is_available() else \"cpu\")\n",
    "print(f\"Using device: {device}\")\n",
    "\n",
    "model = SimpleClassifier(input_size, hidden_size, num_classes).to(device)\n",
    "\n",
    "# Инициализация функции потерь и оптимизатора\n",
    "class_counts = [7799, 46231, 42189]\n",
    "total_samples = sum(class_counts)\n",
    "weights = torch.tensor([total_samples / count for count in class_counts])\n",
    "weights = weights / weights.sum()\n",
    "weights = weights.to(device)\n",
    "\n",
    "loss_fn = nn.CrossEntropyLoss(weight=weights)\n",
    "optimizer = optim.Adam(model.parameters(), lr=0.01)\n",
    "\n",
    "num_epochs = 10\n",
    "for epoch in range(num_epochs):\n",
    "    for batch_X, batch_y in dataloader:\n",
    "        batch_X, batch_y = batch_X.to(device), batch_y.to(device)\n",
    "\n",
    "        # Прямой проход\n",
    "        pred = model(batch_X)\n",
    "        loss = loss_fn(pred, batch_y)\n",
    "\n",
    "        # Backward pass и оптимизация\n",
    "        optimizer.zero_grad()  # Обнуление градиентов\n",
    "        loss.backward()  # Вычисление градиентов\n",
    "        optimizer.step()  # Обновление весов\n",
    "\n",
    "    print(f\"Epoch [{epoch + 1}/{num_epochs}], Loss: {loss.item():.4f}\")\n",
    "\n",
    "# 4. Оценка на тестовых данных\n",
    "X_test_tensor = torch.tensor(X_test.values, dtype=torch.float32).to(device)  # Предполагаем, что X_test уже определён\n",
    "y_test_tensor = torch.tensor(y_test.values).long().to(device)  # Предполагаем, что y_test уже определён\n",
    "\n",
    "# Переключаем модель в режим оценки\n",
    "model.eval()\n",
    "\n",
    "# Отключаем вычисление градиентов во время тестирования\n",
    "with torch.no_grad():\n",
    "    # Получаем предсказания\n",
    "    predictions = model(X_test_tensor)\n",
    "    _, predicted_classes = torch.max(predictions, 1)\n",
    "\n",
    "# Рассчитываем точность\n",
    "accuracy = (predicted_classes == y_test_tensor).float().mean().item()\n",
    "print(f'Accuracy: {accuracy:.4f}')\n",
    "\n",
    "# Матрица путаницы и отчет о классификации\n",
    "conf_matrix = confusion_matrix(y_test_tensor.cpu(), predicted_classes.cpu())\n",
    "print(\"Confusion Matrix:\\n\", conf_matrix)\n",
    "\n",
    "plt.figure(figsize=(8, 6))\n",
    "sns.heatmap(conf_matrix, annot=True, fmt='d', cmap='Blues', xticklabels=[1, 2, 3], yticklabels=[1, 2, 3])\n",
    "plt.ylabel('True label')\n",
    "plt.xlabel('Predicted label')\n",
    "plt.title('Confusion Matrix')\n",
    "plt.show()\n",
    "\n",
    "print(classification_report(y_test_tensor.cpu(), predicted_classes.cpu(), target_names=['Class 1', 'Class 2', 'Class 3']))"
   ]
  },
  {
   "cell_type": "code",
   "execution_count": 31,
   "id": "753caffa",
   "metadata": {},
   "outputs": [
    {
     "name": "stdout",
     "output_type": "stream",
     "text": [
      "Предсказанные классы: [2 2 2 ... 2 2 2]\n"
     ]
    }
   ],
   "source": [
    "print(\"Предсказанные классы:\", predicted_classes.cpu().numpy())"
   ]
  },
  {
   "cell_type": "code",
   "execution_count": 32,
   "id": "132bc345",
   "metadata": {},
   "outputs": [
    {
     "name": "stdout",
     "output_type": "stream",
     "text": [
      "Churn_Risk\n",
      "2    36985\n",
      "3    33751\n",
      "1     6239\n",
      "Name: count, dtype: int64\n",
      "Churn_Risk\n",
      "2    9246\n",
      "3    8438\n",
      "1    1560\n",
      "Name: count, dtype: int64\n"
     ]
    }
   ],
   "source": [
    "print(y_train.value_counts())\n",
    "print(y_test.value_counts())"
   ]
  },
  {
   "cell_type": "code",
   "execution_count": 119,
   "id": "b457c65a",
   "metadata": {},
   "outputs": [
    {
     "name": "stdout",
     "output_type": "stream",
     "text": [
      "Модель успешно сохранена.\n"
     ]
    }
   ],
   "source": [
    "# Сохранение модели\n",
    "torch.save(model.state_dict(), \"../services/model_classif.pth\")\n",
    "print(\"Модель успешно сохранена.\")"
   ]
  },
  {
   "cell_type": "code",
   "execution_count": 120,
   "id": "9445e96f",
   "metadata": {},
   "outputs": [
    {
     "name": "stdout",
     "output_type": "stream",
     "text": [
      "Модель успешно загружена.\n"
     ]
    }
   ],
   "source": [
    "# Загрузка модели\n",
    "model = SimpleClassifier(input_size, hidden_size, num_classes).to(device)\n",
    "model.load_state_dict(torch.load(\"../services/model_classif.pth\"))\n",
    "print(\"Модель успешно загружена.\")"
   ]
  },
  {
   "cell_type": "code",
   "execution_count": 136,
   "id": "91926497",
   "metadata": {},
   "outputs": [
    {
     "name": "stdout",
     "output_type": "stream",
     "text": [
      "Предсказанные классы: [2 2 2 ... 2 2 2]\n"
     ]
    }
   ],
   "source": [
    "# Подготовка тестовых данных\n",
    "X_test_tensor = torch.tensor(X_test.values, dtype=torch.float32).to(device)\n",
    "\n",
    "# Предсказание\n",
    "model.eval()  # Убедитесь, что модель находится в режиме оценки\n",
    "with torch.no_grad():  # Отключаем вычисление градиентов\n",
    "    outputs = model(X_test_tensor)\n",
    "    _, predicted = torch.max(outputs, 1)  # Получаем индексы максимальных значений (классы)\n",
    "\n",
    "print(\"Предсказанные классы:\", predicted.cpu().numpy())"
   ]
  },
  {
   "cell_type": "code",
   "execution_count": 137,
   "id": "14914970",
   "metadata": {},
   "outputs": [
    {
     "name": "stdout",
     "output_type": "stream",
     "text": [
      "Accuracy: 0.4805\n"
     ]
    }
   ],
   "source": [
    "# Истинные метки\n",
    "y_test_tensor = torch.tensor(y_test.values).long()\n",
    "\n",
    "# Оценка точности\n",
    "accuracy = accuracy_score(y_test_tensor.cpu().numpy(), predicted.cpu().numpy())\n",
    "print(f\"Accuracy: {accuracy:.4f}\")"
   ]
  },
  {
   "cell_type": "code",
   "execution_count": 138,
   "id": "e230206e",
   "metadata": {},
   "outputs": [
    {
     "data": {
      "text/plain": [
       "2    17320\n",
       "Name: count, dtype: int64"
      ]
     },
     "execution_count": 138,
     "metadata": {},
     "output_type": "execute_result"
    }
   ],
   "source": [
    "pd.Series(predicted.cpu().numpy()).value_counts()"
   ]
  },
  {
   "cell_type": "code",
   "execution_count": null,
   "id": "e04eaf5c",
   "metadata": {},
   "outputs": [],
   "source": []
  }
 ],
 "metadata": {
  "kernelspec": {
   "display_name": "dlenv",
   "language": "python",
   "name": "python3"
  },
  "language_info": {
   "codemirror_mode": {
    "name": "ipython",
    "version": 3
   },
   "file_extension": ".py",
   "mimetype": "text/x-python",
   "name": "python",
   "nbconvert_exporter": "python",
   "pygments_lexer": "ipython3",
   "version": "3.11.11"
  }
 },
 "nbformat": 4,
 "nbformat_minor": 5
}
