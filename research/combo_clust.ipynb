{
 "cells": [
  {
   "cell_type": "code",
   "execution_count": null,
   "id": "bef3a3ae",
   "metadata": {},
   "outputs": [],
   "source": [
    "import numpy as np\n",
    "import pandas as pd\n",
    "\n",
    "import matplotlib.pyplot as plt \n",
    "import seaborn as sns\n",
    "\n",
    "from sklearn.pipeline import Pipeline\n",
    "from sklearn.preprocessing import StandardScaler, LabelEncoder, OneHotEncoder\n",
    "from sklearn.compose import ColumnTransformer\n",
    "from sklearn.cluster import KMeans, AgglomerativeClustering, DBSCAN\n",
    "from sklearn.metrics import silhouette_score\n",
    "from sklearn.decomposition import PCA\n",
    "\n",
    "import warnings\n",
    "warnings.filterwarnings(\"ignore\")   "
   ]
  },
  {
   "cell_type": "markdown",
   "id": "b0d79ae2",
   "metadata": {},
   "source": [
    "---\n"
   ]
  },
  {
   "cell_type": "code",
   "execution_count": 4,
   "id": "b27be8c9",
   "metadata": {},
   "outputs": [
    {
     "data": {
      "application/vnd.microsoft.datawrangler.viewer.v0+json": {
       "columns": [
        {
         "name": "index",
         "rawType": "int64",
         "type": "integer"
        },
        {
         "name": "customer_unique_id",
         "rawType": "object",
         "type": "string"
        },
        {
         "name": "R_rank",
         "rawType": "int64",
         "type": "integer"
        },
        {
         "name": "F_rank",
         "rawType": "int64",
         "type": "integer"
        },
        {
         "name": "M_rank",
         "rawType": "int64",
         "type": "integer"
        },
        {
         "name": "RFM_Weighted",
         "rawType": "float64",
         "type": "float"
        },
        {
         "name": "Churn_Risk",
         "rawType": "int64",
         "type": "integer"
        }
       ],
       "conversionMethod": "pd.DataFrame",
       "ref": "b641bd01-9a5e-4fc2-b3aa-345dc22da808",
       "rows": [
        [
         "0",
         "0000366f3b9a7992bf8c76cfdf3221e2",
         "4",
         "1",
         "1",
         "2.5",
         "2"
        ],
        [
         "1",
         "0000b849f77a49e4a4ce2b2a4ca5be3f",
         "3",
         "1",
         "1",
         "2.0",
         "2"
        ],
        [
         "2",
         "0000f46a3911fa3c0805444483337064",
         "1",
         "1",
         "1",
         "1.0",
         "3"
        ],
        [
         "3",
         "0000f6ccb0745a6a4b88665a16c9f078",
         "2",
         "1",
         "1",
         "1.5",
         "3"
        ],
        [
         "4",
         "0004aac84e0df4da2b147fca70cf8255",
         "2",
         "1",
         "1",
         "1.5",
         "3"
        ]
       ],
       "shape": {
        "columns": 6,
        "rows": 5
       }
      },
      "text/html": [
       "<div>\n",
       "<style scoped>\n",
       "    .dataframe tbody tr th:only-of-type {\n",
       "        vertical-align: middle;\n",
       "    }\n",
       "\n",
       "    .dataframe tbody tr th {\n",
       "        vertical-align: top;\n",
       "    }\n",
       "\n",
       "    .dataframe thead th {\n",
       "        text-align: right;\n",
       "    }\n",
       "</style>\n",
       "<table border=\"1\" class=\"dataframe\">\n",
       "  <thead>\n",
       "    <tr style=\"text-align: right;\">\n",
       "      <th></th>\n",
       "      <th>customer_unique_id</th>\n",
       "      <th>R_rank</th>\n",
       "      <th>F_rank</th>\n",
       "      <th>M_rank</th>\n",
       "      <th>RFM_Weighted</th>\n",
       "      <th>Churn_Risk</th>\n",
       "    </tr>\n",
       "  </thead>\n",
       "  <tbody>\n",
       "    <tr>\n",
       "      <th>0</th>\n",
       "      <td>0000366f3b9a7992bf8c76cfdf3221e2</td>\n",
       "      <td>4</td>\n",
       "      <td>1</td>\n",
       "      <td>1</td>\n",
       "      <td>2.5</td>\n",
       "      <td>2</td>\n",
       "    </tr>\n",
       "    <tr>\n",
       "      <th>1</th>\n",
       "      <td>0000b849f77a49e4a4ce2b2a4ca5be3f</td>\n",
       "      <td>3</td>\n",
       "      <td>1</td>\n",
       "      <td>1</td>\n",
       "      <td>2.0</td>\n",
       "      <td>2</td>\n",
       "    </tr>\n",
       "    <tr>\n",
       "      <th>2</th>\n",
       "      <td>0000f46a3911fa3c0805444483337064</td>\n",
       "      <td>1</td>\n",
       "      <td>1</td>\n",
       "      <td>1</td>\n",
       "      <td>1.0</td>\n",
       "      <td>3</td>\n",
       "    </tr>\n",
       "    <tr>\n",
       "      <th>3</th>\n",
       "      <td>0000f6ccb0745a6a4b88665a16c9f078</td>\n",
       "      <td>2</td>\n",
       "      <td>1</td>\n",
       "      <td>1</td>\n",
       "      <td>1.5</td>\n",
       "      <td>3</td>\n",
       "    </tr>\n",
       "    <tr>\n",
       "      <th>4</th>\n",
       "      <td>0004aac84e0df4da2b147fca70cf8255</td>\n",
       "      <td>2</td>\n",
       "      <td>1</td>\n",
       "      <td>1</td>\n",
       "      <td>1.5</td>\n",
       "      <td>3</td>\n",
       "    </tr>\n",
       "  </tbody>\n",
       "</table>\n",
       "</div>"
      ],
      "text/plain": [
       "                 customer_unique_id  R_rank  F_rank  M_rank  RFM_Weighted  \\\n",
       "0  0000366f3b9a7992bf8c76cfdf3221e2       4       1       1           2.5   \n",
       "1  0000b849f77a49e4a4ce2b2a4ca5be3f       3       1       1           2.0   \n",
       "2  0000f46a3911fa3c0805444483337064       1       1       1           1.0   \n",
       "3  0000f6ccb0745a6a4b88665a16c9f078       2       1       1           1.5   \n",
       "4  0004aac84e0df4da2b147fca70cf8255       2       1       1           1.5   \n",
       "\n",
       "   Churn_Risk  \n",
       "0           2  \n",
       "1           2  \n",
       "2           3  \n",
       "3           3  \n",
       "4           3  "
      ]
     },
     "execution_count": 4,
     "metadata": {},
     "output_type": "execute_result"
    }
   ],
   "source": [
    "# Берем rfm датасет\n",
    "rfm_df = pd.read_csv(\"./labels/rfm.csv\")\n",
    "rfm_df.head()"
   ]
  },
  {
   "cell_type": "code",
   "execution_count": 7,
   "id": "9fd2cf67",
   "metadata": {},
   "outputs": [
    {
     "data": {
      "application/vnd.microsoft.datawrangler.viewer.v0+json": {
       "columns": [
        {
         "name": "index",
         "rawType": "int64",
         "type": "integer"
        },
        {
         "name": "customer_unique_id",
         "rawType": "object",
         "type": "string"
        },
        {
         "name": "num_orders",
         "rawType": "int64",
         "type": "integer"
        },
        {
         "name": "price_mean",
         "rawType": "float64",
         "type": "float"
        },
        {
         "name": "review_score_mean",
         "rawType": "float64",
         "type": "float"
        },
        {
         "name": "life_span",
         "rawType": "int64",
         "type": "integer"
        },
        {
         "name": "most_frequent_product_category",
         "rawType": "int64",
         "type": "integer"
        },
        {
         "name": "customer_city",
         "rawType": "int64",
         "type": "integer"
        },
        {
         "name": "labels",
         "rawType": "int64",
         "type": "integer"
        }
       ],
       "conversionMethod": "pd.DataFrame",
       "ref": "797bac0f-c081-4519-ad86-38b4c15b4f68",
       "rows": [
        [
         "0",
         "0000366f3b9a7992bf8c76cfdf3221e2",
         "1",
         "129.9",
         "5.0",
         "0",
         "7",
         "647",
         "0"
        ],
        [
         "1",
         "0000b849f77a49e4a4ce2b2a4ca5be3f",
         "1",
         "18.9",
         "4.0",
         "0",
         "43",
         "2564",
         "0"
        ],
        [
         "2",
         "0000f46a3911fa3c0805444483337064",
         "1",
         "69.0",
         "3.0",
         "0",
         "66",
         "3477",
         "0"
        ],
        [
         "3",
         "0000f6ccb0745a6a4b88665a16c9f078",
         "1",
         "25.99",
         "4.0",
         "0",
         "68",
         "443",
         "0"
        ],
        [
         "4",
         "0004aac84e0df4da2b147fca70cf8255",
         "1",
         "180.0",
         "5.0",
         "0",
         "68",
         "3713",
         "0"
        ]
       ],
       "shape": {
        "columns": 8,
        "rows": 5
       }
      },
      "text/html": [
       "<div>\n",
       "<style scoped>\n",
       "    .dataframe tbody tr th:only-of-type {\n",
       "        vertical-align: middle;\n",
       "    }\n",
       "\n",
       "    .dataframe tbody tr th {\n",
       "        vertical-align: top;\n",
       "    }\n",
       "\n",
       "    .dataframe thead th {\n",
       "        text-align: right;\n",
       "    }\n",
       "</style>\n",
       "<table border=\"1\" class=\"dataframe\">\n",
       "  <thead>\n",
       "    <tr style=\"text-align: right;\">\n",
       "      <th></th>\n",
       "      <th>customer_unique_id</th>\n",
       "      <th>num_orders</th>\n",
       "      <th>price_mean</th>\n",
       "      <th>review_score_mean</th>\n",
       "      <th>life_span</th>\n",
       "      <th>most_frequent_product_category</th>\n",
       "      <th>customer_city</th>\n",
       "      <th>labels</th>\n",
       "    </tr>\n",
       "  </thead>\n",
       "  <tbody>\n",
       "    <tr>\n",
       "      <th>0</th>\n",
       "      <td>0000366f3b9a7992bf8c76cfdf3221e2</td>\n",
       "      <td>1</td>\n",
       "      <td>129.90</td>\n",
       "      <td>5.0</td>\n",
       "      <td>0</td>\n",
       "      <td>7</td>\n",
       "      <td>647</td>\n",
       "      <td>0</td>\n",
       "    </tr>\n",
       "    <tr>\n",
       "      <th>1</th>\n",
       "      <td>0000b849f77a49e4a4ce2b2a4ca5be3f</td>\n",
       "      <td>1</td>\n",
       "      <td>18.90</td>\n",
       "      <td>4.0</td>\n",
       "      <td>0</td>\n",
       "      <td>43</td>\n",
       "      <td>2564</td>\n",
       "      <td>0</td>\n",
       "    </tr>\n",
       "    <tr>\n",
       "      <th>2</th>\n",
       "      <td>0000f46a3911fa3c0805444483337064</td>\n",
       "      <td>1</td>\n",
       "      <td>69.00</td>\n",
       "      <td>3.0</td>\n",
       "      <td>0</td>\n",
       "      <td>66</td>\n",
       "      <td>3477</td>\n",
       "      <td>0</td>\n",
       "    </tr>\n",
       "    <tr>\n",
       "      <th>3</th>\n",
       "      <td>0000f6ccb0745a6a4b88665a16c9f078</td>\n",
       "      <td>1</td>\n",
       "      <td>25.99</td>\n",
       "      <td>4.0</td>\n",
       "      <td>0</td>\n",
       "      <td>68</td>\n",
       "      <td>443</td>\n",
       "      <td>0</td>\n",
       "    </tr>\n",
       "    <tr>\n",
       "      <th>4</th>\n",
       "      <td>0004aac84e0df4da2b147fca70cf8255</td>\n",
       "      <td>1</td>\n",
       "      <td>180.00</td>\n",
       "      <td>5.0</td>\n",
       "      <td>0</td>\n",
       "      <td>68</td>\n",
       "      <td>3713</td>\n",
       "      <td>0</td>\n",
       "    </tr>\n",
       "  </tbody>\n",
       "</table>\n",
       "</div>"
      ],
      "text/plain": [
       "                 customer_unique_id  num_orders  price_mean  \\\n",
       "0  0000366f3b9a7992bf8c76cfdf3221e2           1      129.90   \n",
       "1  0000b849f77a49e4a4ce2b2a4ca5be3f           1       18.90   \n",
       "2  0000f46a3911fa3c0805444483337064           1       69.00   \n",
       "3  0000f6ccb0745a6a4b88665a16c9f078           1       25.99   \n",
       "4  0004aac84e0df4da2b147fca70cf8255           1      180.00   \n",
       "\n",
       "   review_score_mean  life_span  most_frequent_product_category  \\\n",
       "0                5.0          0                               7   \n",
       "1                4.0          0                              43   \n",
       "2                3.0          0                              66   \n",
       "3                4.0          0                              68   \n",
       "4                5.0          0                              68   \n",
       "\n",
       "   customer_city  labels  \n",
       "0            647       0  \n",
       "1           2564       0  \n",
       "2           3477       0  \n",
       "3            443       0  \n",
       "4           3713       0  "
      ]
     },
     "execution_count": 7,
     "metadata": {},
     "output_type": "execute_result"
    }
   ],
   "source": [
    "# kmeans датасет\n",
    "kmeans_df = pd.read_csv(\"./labels/kmeans.csv\")\n",
    "kmeans_df.head()"
   ]
  },
  {
   "cell_type": "code",
   "execution_count": 14,
   "id": "ede51097",
   "metadata": {},
   "outputs": [
    {
     "data": {
      "application/vnd.microsoft.datawrangler.viewer.v0+json": {
       "columns": [
        {
         "name": "index",
         "rawType": "int64",
         "type": "integer"
        },
        {
         "name": "customer_unique_id",
         "rawType": "object",
         "type": "string"
        },
        {
         "name": "num_orders",
         "rawType": "int64",
         "type": "integer"
        },
        {
         "name": "price_mean",
         "rawType": "float64",
         "type": "float"
        },
        {
         "name": "review_score_mean",
         "rawType": "float64",
         "type": "float"
        },
        {
         "name": "life_span",
         "rawType": "int64",
         "type": "integer"
        },
        {
         "name": "most_frequent_product_category",
         "rawType": "int64",
         "type": "integer"
        },
        {
         "name": "customer_city",
         "rawType": "int64",
         "type": "integer"
        },
        {
         "name": "labels",
         "rawType": "int64",
         "type": "integer"
        },
        {
         "name": "R_rank",
         "rawType": "int64",
         "type": "integer"
        },
        {
         "name": "F_rank",
         "rawType": "int64",
         "type": "integer"
        },
        {
         "name": "M_rank",
         "rawType": "int64",
         "type": "integer"
        },
        {
         "name": "RFM_Weighted",
         "rawType": "float64",
         "type": "float"
        },
        {
         "name": "Churn_Risk",
         "rawType": "int64",
         "type": "integer"
        }
       ],
       "conversionMethod": "pd.DataFrame",
       "ref": "5392aaed-1f80-4791-8486-f2e56c29b415",
       "rows": [
        [
         "0",
         "0000366f3b9a7992bf8c76cfdf3221e2",
         "1",
         "129.9",
         "5.0",
         "0",
         "7",
         "647",
         "0",
         "4",
         "1",
         "1",
         "2.5",
         "2"
        ],
        [
         "1",
         "0000b849f77a49e4a4ce2b2a4ca5be3f",
         "1",
         "18.9",
         "4.0",
         "0",
         "43",
         "2564",
         "0",
         "3",
         "1",
         "1",
         "2.0",
         "2"
        ],
        [
         "2",
         "0000f46a3911fa3c0805444483337064",
         "1",
         "69.0",
         "3.0",
         "0",
         "66",
         "3477",
         "0",
         "1",
         "1",
         "1",
         "1.0",
         "3"
        ],
        [
         "3",
         "0000f6ccb0745a6a4b88665a16c9f078",
         "1",
         "25.99",
         "4.0",
         "0",
         "68",
         "443",
         "0",
         "2",
         "1",
         "1",
         "1.5",
         "3"
        ],
        [
         "4",
         "0004aac84e0df4da2b147fca70cf8255",
         "1",
         "180.0",
         "5.0",
         "0",
         "68",
         "3713",
         "0",
         "2",
         "1",
         "1",
         "1.5",
         "3"
        ]
       ],
       "shape": {
        "columns": 13,
        "rows": 5
       }
      },
      "text/html": [
       "<div>\n",
       "<style scoped>\n",
       "    .dataframe tbody tr th:only-of-type {\n",
       "        vertical-align: middle;\n",
       "    }\n",
       "\n",
       "    .dataframe tbody tr th {\n",
       "        vertical-align: top;\n",
       "    }\n",
       "\n",
       "    .dataframe thead th {\n",
       "        text-align: right;\n",
       "    }\n",
       "</style>\n",
       "<table border=\"1\" class=\"dataframe\">\n",
       "  <thead>\n",
       "    <tr style=\"text-align: right;\">\n",
       "      <th></th>\n",
       "      <th>customer_unique_id</th>\n",
       "      <th>num_orders</th>\n",
       "      <th>price_mean</th>\n",
       "      <th>review_score_mean</th>\n",
       "      <th>life_span</th>\n",
       "      <th>most_frequent_product_category</th>\n",
       "      <th>customer_city</th>\n",
       "      <th>labels</th>\n",
       "      <th>R_rank</th>\n",
       "      <th>F_rank</th>\n",
       "      <th>M_rank</th>\n",
       "      <th>RFM_Weighted</th>\n",
       "      <th>Churn_Risk</th>\n",
       "    </tr>\n",
       "  </thead>\n",
       "  <tbody>\n",
       "    <tr>\n",
       "      <th>0</th>\n",
       "      <td>0000366f3b9a7992bf8c76cfdf3221e2</td>\n",
       "      <td>1</td>\n",
       "      <td>129.90</td>\n",
       "      <td>5.0</td>\n",
       "      <td>0</td>\n",
       "      <td>7</td>\n",
       "      <td>647</td>\n",
       "      <td>0</td>\n",
       "      <td>4</td>\n",
       "      <td>1</td>\n",
       "      <td>1</td>\n",
       "      <td>2.5</td>\n",
       "      <td>2</td>\n",
       "    </tr>\n",
       "    <tr>\n",
       "      <th>1</th>\n",
       "      <td>0000b849f77a49e4a4ce2b2a4ca5be3f</td>\n",
       "      <td>1</td>\n",
       "      <td>18.90</td>\n",
       "      <td>4.0</td>\n",
       "      <td>0</td>\n",
       "      <td>43</td>\n",
       "      <td>2564</td>\n",
       "      <td>0</td>\n",
       "      <td>3</td>\n",
       "      <td>1</td>\n",
       "      <td>1</td>\n",
       "      <td>2.0</td>\n",
       "      <td>2</td>\n",
       "    </tr>\n",
       "    <tr>\n",
       "      <th>2</th>\n",
       "      <td>0000f46a3911fa3c0805444483337064</td>\n",
       "      <td>1</td>\n",
       "      <td>69.00</td>\n",
       "      <td>3.0</td>\n",
       "      <td>0</td>\n",
       "      <td>66</td>\n",
       "      <td>3477</td>\n",
       "      <td>0</td>\n",
       "      <td>1</td>\n",
       "      <td>1</td>\n",
       "      <td>1</td>\n",
       "      <td>1.0</td>\n",
       "      <td>3</td>\n",
       "    </tr>\n",
       "    <tr>\n",
       "      <th>3</th>\n",
       "      <td>0000f6ccb0745a6a4b88665a16c9f078</td>\n",
       "      <td>1</td>\n",
       "      <td>25.99</td>\n",
       "      <td>4.0</td>\n",
       "      <td>0</td>\n",
       "      <td>68</td>\n",
       "      <td>443</td>\n",
       "      <td>0</td>\n",
       "      <td>2</td>\n",
       "      <td>1</td>\n",
       "      <td>1</td>\n",
       "      <td>1.5</td>\n",
       "      <td>3</td>\n",
       "    </tr>\n",
       "    <tr>\n",
       "      <th>4</th>\n",
       "      <td>0004aac84e0df4da2b147fca70cf8255</td>\n",
       "      <td>1</td>\n",
       "      <td>180.00</td>\n",
       "      <td>5.0</td>\n",
       "      <td>0</td>\n",
       "      <td>68</td>\n",
       "      <td>3713</td>\n",
       "      <td>0</td>\n",
       "      <td>2</td>\n",
       "      <td>1</td>\n",
       "      <td>1</td>\n",
       "      <td>1.5</td>\n",
       "      <td>3</td>\n",
       "    </tr>\n",
       "  </tbody>\n",
       "</table>\n",
       "</div>"
      ],
      "text/plain": [
       "                 customer_unique_id  num_orders  price_mean  \\\n",
       "0  0000366f3b9a7992bf8c76cfdf3221e2           1      129.90   \n",
       "1  0000b849f77a49e4a4ce2b2a4ca5be3f           1       18.90   \n",
       "2  0000f46a3911fa3c0805444483337064           1       69.00   \n",
       "3  0000f6ccb0745a6a4b88665a16c9f078           1       25.99   \n",
       "4  0004aac84e0df4da2b147fca70cf8255           1      180.00   \n",
       "\n",
       "   review_score_mean  life_span  most_frequent_product_category  \\\n",
       "0                5.0          0                               7   \n",
       "1                4.0          0                              43   \n",
       "2                3.0          0                              66   \n",
       "3                4.0          0                              68   \n",
       "4                5.0          0                              68   \n",
       "\n",
       "   customer_city  labels  R_rank  F_rank  M_rank  RFM_Weighted  Churn_Risk  \n",
       "0            647       0       4       1       1           2.5           2  \n",
       "1           2564       0       3       1       1           2.0           2  \n",
       "2           3477       0       1       1       1           1.0           3  \n",
       "3            443       0       2       1       1           1.5           3  \n",
       "4           3713       0       2       1       1           1.5           3  "
      ]
     },
     "execution_count": 14,
     "metadata": {},
     "output_type": "execute_result"
    }
   ],
   "source": [
    "# Консолидируем\n",
    "df = kmeans_df.merge(rfm_df, on=\"customer_unique_id\")\n",
    "df.head()"
   ]
  },
  {
   "cell_type": "code",
   "execution_count": 15,
   "id": "0d4c446e",
   "metadata": {},
   "outputs": [
    {
     "data": {
      "application/vnd.microsoft.datawrangler.viewer.v0+json": {
       "columns": [
        {
         "name": "index",
         "rawType": "int64",
         "type": "integer"
        },
        {
         "name": "num_orders",
         "rawType": "int64",
         "type": "integer"
        },
        {
         "name": "price_mean",
         "rawType": "float64",
         "type": "float"
        },
        {
         "name": "review_score_mean",
         "rawType": "float64",
         "type": "float"
        },
        {
         "name": "life_span",
         "rawType": "int64",
         "type": "integer"
        },
        {
         "name": "most_frequent_product_category",
         "rawType": "int64",
         "type": "integer"
        },
        {
         "name": "customer_city",
         "rawType": "int64",
         "type": "integer"
        },
        {
         "name": "labels",
         "rawType": "int64",
         "type": "integer"
        },
        {
         "name": "R_rank",
         "rawType": "int64",
         "type": "integer"
        },
        {
         "name": "F_rank",
         "rawType": "int64",
         "type": "integer"
        },
        {
         "name": "M_rank",
         "rawType": "int64",
         "type": "integer"
        },
        {
         "name": "RFM_Weighted",
         "rawType": "float64",
         "type": "float"
        },
        {
         "name": "Churn_Risk",
         "rawType": "int64",
         "type": "integer"
        }
       ],
       "conversionMethod": "pd.DataFrame",
       "ref": "3b40510e-53ef-49e2-8849-6e6d751a79e0",
       "rows": [
        [
         "0",
         "1",
         "129.9",
         "5.0",
         "0",
         "7",
         "647",
         "0",
         "4",
         "1",
         "1",
         "2.5",
         "2"
        ],
        [
         "1",
         "1",
         "18.9",
         "4.0",
         "0",
         "43",
         "2564",
         "0",
         "3",
         "1",
         "1",
         "2.0",
         "2"
        ],
        [
         "2",
         "1",
         "69.0",
         "3.0",
         "0",
         "66",
         "3477",
         "0",
         "1",
         "1",
         "1",
         "1.0",
         "3"
        ],
        [
         "3",
         "1",
         "25.99",
         "4.0",
         "0",
         "68",
         "443",
         "0",
         "2",
         "1",
         "1",
         "1.5",
         "3"
        ],
        [
         "4",
         "1",
         "180.0",
         "5.0",
         "0",
         "68",
         "3713",
         "0",
         "2",
         "1",
         "1",
         "1.5",
         "3"
        ]
       ],
       "shape": {
        "columns": 12,
        "rows": 5
       }
      },
      "text/html": [
       "<div>\n",
       "<style scoped>\n",
       "    .dataframe tbody tr th:only-of-type {\n",
       "        vertical-align: middle;\n",
       "    }\n",
       "\n",
       "    .dataframe tbody tr th {\n",
       "        vertical-align: top;\n",
       "    }\n",
       "\n",
       "    .dataframe thead th {\n",
       "        text-align: right;\n",
       "    }\n",
       "</style>\n",
       "<table border=\"1\" class=\"dataframe\">\n",
       "  <thead>\n",
       "    <tr style=\"text-align: right;\">\n",
       "      <th></th>\n",
       "      <th>num_orders</th>\n",
       "      <th>price_mean</th>\n",
       "      <th>review_score_mean</th>\n",
       "      <th>life_span</th>\n",
       "      <th>most_frequent_product_category</th>\n",
       "      <th>customer_city</th>\n",
       "      <th>labels</th>\n",
       "      <th>R_rank</th>\n",
       "      <th>F_rank</th>\n",
       "      <th>M_rank</th>\n",
       "      <th>RFM_Weighted</th>\n",
       "      <th>Churn_Risk</th>\n",
       "    </tr>\n",
       "  </thead>\n",
       "  <tbody>\n",
       "    <tr>\n",
       "      <th>0</th>\n",
       "      <td>1</td>\n",
       "      <td>129.90</td>\n",
       "      <td>5.0</td>\n",
       "      <td>0</td>\n",
       "      <td>7</td>\n",
       "      <td>647</td>\n",
       "      <td>0</td>\n",
       "      <td>4</td>\n",
       "      <td>1</td>\n",
       "      <td>1</td>\n",
       "      <td>2.5</td>\n",
       "      <td>2</td>\n",
       "    </tr>\n",
       "    <tr>\n",
       "      <th>1</th>\n",
       "      <td>1</td>\n",
       "      <td>18.90</td>\n",
       "      <td>4.0</td>\n",
       "      <td>0</td>\n",
       "      <td>43</td>\n",
       "      <td>2564</td>\n",
       "      <td>0</td>\n",
       "      <td>3</td>\n",
       "      <td>1</td>\n",
       "      <td>1</td>\n",
       "      <td>2.0</td>\n",
       "      <td>2</td>\n",
       "    </tr>\n",
       "    <tr>\n",
       "      <th>2</th>\n",
       "      <td>1</td>\n",
       "      <td>69.00</td>\n",
       "      <td>3.0</td>\n",
       "      <td>0</td>\n",
       "      <td>66</td>\n",
       "      <td>3477</td>\n",
       "      <td>0</td>\n",
       "      <td>1</td>\n",
       "      <td>1</td>\n",
       "      <td>1</td>\n",
       "      <td>1.0</td>\n",
       "      <td>3</td>\n",
       "    </tr>\n",
       "    <tr>\n",
       "      <th>3</th>\n",
       "      <td>1</td>\n",
       "      <td>25.99</td>\n",
       "      <td>4.0</td>\n",
       "      <td>0</td>\n",
       "      <td>68</td>\n",
       "      <td>443</td>\n",
       "      <td>0</td>\n",
       "      <td>2</td>\n",
       "      <td>1</td>\n",
       "      <td>1</td>\n",
       "      <td>1.5</td>\n",
       "      <td>3</td>\n",
       "    </tr>\n",
       "    <tr>\n",
       "      <th>4</th>\n",
       "      <td>1</td>\n",
       "      <td>180.00</td>\n",
       "      <td>5.0</td>\n",
       "      <td>0</td>\n",
       "      <td>68</td>\n",
       "      <td>3713</td>\n",
       "      <td>0</td>\n",
       "      <td>2</td>\n",
       "      <td>1</td>\n",
       "      <td>1</td>\n",
       "      <td>1.5</td>\n",
       "      <td>3</td>\n",
       "    </tr>\n",
       "  </tbody>\n",
       "</table>\n",
       "</div>"
      ],
      "text/plain": [
       "   num_orders  price_mean  review_score_mean  life_span  \\\n",
       "0           1      129.90                5.0          0   \n",
       "1           1       18.90                4.0          0   \n",
       "2           1       69.00                3.0          0   \n",
       "3           1       25.99                4.0          0   \n",
       "4           1      180.00                5.0          0   \n",
       "\n",
       "   most_frequent_product_category  customer_city  labels  R_rank  F_rank  \\\n",
       "0                               7            647       0       4       1   \n",
       "1                              43           2564       0       3       1   \n",
       "2                              66           3477       0       1       1   \n",
       "3                              68            443       0       2       1   \n",
       "4                              68           3713       0       2       1   \n",
       "\n",
       "   M_rank  RFM_Weighted  Churn_Risk  \n",
       "0       1           2.5           2  \n",
       "1       1           2.0           2  \n",
       "2       1           1.0           3  \n",
       "3       1           1.5           3  \n",
       "4       1           1.5           3  "
      ]
     },
     "execution_count": 15,
     "metadata": {},
     "output_type": "execute_result"
    }
   ],
   "source": [
    "# Выделяем рабочий сабсет\n",
    "X = df.iloc[:, 1:]\n",
    "X.head()"
   ]
  },
  {
   "cell_type": "code",
   "execution_count": 20,
   "id": "a08c19d2",
   "metadata": {},
   "outputs": [
    {
     "data": {
      "application/vnd.microsoft.datawrangler.viewer.v0+json": {
       "columns": [
        {
         "name": "index",
         "rawType": "int64",
         "type": "integer"
        },
        {
         "name": "num_orders",
         "rawType": "float64",
         "type": "float"
        },
        {
         "name": "price_mean",
         "rawType": "float64",
         "type": "float"
        },
        {
         "name": "review_score_mean",
         "rawType": "float64",
         "type": "float"
        },
        {
         "name": "life_span",
         "rawType": "float64",
         "type": "float"
        },
        {
         "name": "most_frequent_product_category",
         "rawType": "float64",
         "type": "float"
        },
        {
         "name": "customer_city",
         "rawType": "float64",
         "type": "float"
        },
        {
         "name": "labels",
         "rawType": "float64",
         "type": "float"
        },
        {
         "name": "R_rank",
         "rawType": "float64",
         "type": "float"
        },
        {
         "name": "F_rank",
         "rawType": "float64",
         "type": "float"
        },
        {
         "name": "M_rank",
         "rawType": "float64",
         "type": "float"
        },
        {
         "name": "RFM_Weighted",
         "rawType": "float64",
         "type": "float"
        },
        {
         "name": "Churn_Risk",
         "rawType": "float64",
         "type": "float"
        }
       ],
       "conversionMethod": "pd.DataFrame",
       "ref": "fa912d90-77e9-4a59-bcba-28df32820790",
       "rows": [
        [
         "0",
         "-0.2826481168565091",
         "0.022553385446717374",
         "0.6609345991837702",
         "-0.12658005579303988",
         "-1.4099410521799747",
         "-1.4212778879604056",
         "-0.12340632850697236",
         "1.3312112315333995",
         "-0.18074398532651695",
         "-0.42384790157400193",
         "0.9687258397776936",
         "-0.5363985459260759"
        ],
        [
         "1",
         "-0.2826481168565091",
         "-0.5661159995747308",
         "-0.12089683419092365",
         "-0.12658005579303988",
         "0.17283072184620238",
         "0.18060486252418814",
         "-0.12340632850697236",
         "0.43778585106961754",
         "-0.18074398532651695",
         "-0.42384790157400193",
         "0.1939428063287079",
         "-0.5363985459260759"
        ],
        [
         "2",
         "-0.2826481168565091",
         "-0.30041927714613126",
         "-0.9027282675656174",
         "-0.12658005579303988",
         "1.184046021918482",
         "0.9435255465056352",
         "-0.12340632850697236",
         "-1.3490649098579464",
         "-0.18074398532651695",
         "-0.42384790157400193",
         "-1.3556232605692633",
         "1.062651984420821"
        ],
        [
         "3",
         "-0.2826481168565091",
         "-0.52851540552246",
         "-0.12089683419092365",
         "-0.12658005579303988",
         "1.2719777871421587",
         "-1.5917442839431166",
         "-0.12340632850697236",
         "-0.4556395293941644",
         "-0.18074398532651695",
         "-0.42384790157400193",
         "-0.5808402271202777",
         "1.062651984420821"
        ],
        [
         "4",
         "-0.2826481168565091",
         "0.28825010787531696",
         "0.6609345991837702",
         "-0.12658005579303988",
         "1.2719777871421587",
         "1.1407317693091639",
         "-0.12340632850697236",
         "-0.4556395293941644",
         "-0.18074398532651695",
         "-0.42384790157400193",
         "-0.5808402271202777",
         "1.062651984420821"
        ]
       ],
       "shape": {
        "columns": 12,
        "rows": 5
       }
      },
      "text/html": [
       "<div>\n",
       "<style scoped>\n",
       "    .dataframe tbody tr th:only-of-type {\n",
       "        vertical-align: middle;\n",
       "    }\n",
       "\n",
       "    .dataframe tbody tr th {\n",
       "        vertical-align: top;\n",
       "    }\n",
       "\n",
       "    .dataframe thead th {\n",
       "        text-align: right;\n",
       "    }\n",
       "</style>\n",
       "<table border=\"1\" class=\"dataframe\">\n",
       "  <thead>\n",
       "    <tr style=\"text-align: right;\">\n",
       "      <th></th>\n",
       "      <th>num_orders</th>\n",
       "      <th>price_mean</th>\n",
       "      <th>review_score_mean</th>\n",
       "      <th>life_span</th>\n",
       "      <th>most_frequent_product_category</th>\n",
       "      <th>customer_city</th>\n",
       "      <th>labels</th>\n",
       "      <th>R_rank</th>\n",
       "      <th>F_rank</th>\n",
       "      <th>M_rank</th>\n",
       "      <th>RFM_Weighted</th>\n",
       "      <th>Churn_Risk</th>\n",
       "    </tr>\n",
       "  </thead>\n",
       "  <tbody>\n",
       "    <tr>\n",
       "      <th>0</th>\n",
       "      <td>-0.282648</td>\n",
       "      <td>0.022553</td>\n",
       "      <td>0.660935</td>\n",
       "      <td>-0.12658</td>\n",
       "      <td>-1.409941</td>\n",
       "      <td>-1.421278</td>\n",
       "      <td>-0.123406</td>\n",
       "      <td>1.331211</td>\n",
       "      <td>-0.180744</td>\n",
       "      <td>-0.423848</td>\n",
       "      <td>0.968726</td>\n",
       "      <td>-0.536399</td>\n",
       "    </tr>\n",
       "    <tr>\n",
       "      <th>1</th>\n",
       "      <td>-0.282648</td>\n",
       "      <td>-0.566116</td>\n",
       "      <td>-0.120897</td>\n",
       "      <td>-0.12658</td>\n",
       "      <td>0.172831</td>\n",
       "      <td>0.180605</td>\n",
       "      <td>-0.123406</td>\n",
       "      <td>0.437786</td>\n",
       "      <td>-0.180744</td>\n",
       "      <td>-0.423848</td>\n",
       "      <td>0.193943</td>\n",
       "      <td>-0.536399</td>\n",
       "    </tr>\n",
       "    <tr>\n",
       "      <th>2</th>\n",
       "      <td>-0.282648</td>\n",
       "      <td>-0.300419</td>\n",
       "      <td>-0.902728</td>\n",
       "      <td>-0.12658</td>\n",
       "      <td>1.184046</td>\n",
       "      <td>0.943526</td>\n",
       "      <td>-0.123406</td>\n",
       "      <td>-1.349065</td>\n",
       "      <td>-0.180744</td>\n",
       "      <td>-0.423848</td>\n",
       "      <td>-1.355623</td>\n",
       "      <td>1.062652</td>\n",
       "    </tr>\n",
       "    <tr>\n",
       "      <th>3</th>\n",
       "      <td>-0.282648</td>\n",
       "      <td>-0.528515</td>\n",
       "      <td>-0.120897</td>\n",
       "      <td>-0.12658</td>\n",
       "      <td>1.271978</td>\n",
       "      <td>-1.591744</td>\n",
       "      <td>-0.123406</td>\n",
       "      <td>-0.455640</td>\n",
       "      <td>-0.180744</td>\n",
       "      <td>-0.423848</td>\n",
       "      <td>-0.580840</td>\n",
       "      <td>1.062652</td>\n",
       "    </tr>\n",
       "    <tr>\n",
       "      <th>4</th>\n",
       "      <td>-0.282648</td>\n",
       "      <td>0.288250</td>\n",
       "      <td>0.660935</td>\n",
       "      <td>-0.12658</td>\n",
       "      <td>1.271978</td>\n",
       "      <td>1.140732</td>\n",
       "      <td>-0.123406</td>\n",
       "      <td>-0.455640</td>\n",
       "      <td>-0.180744</td>\n",
       "      <td>-0.423848</td>\n",
       "      <td>-0.580840</td>\n",
       "      <td>1.062652</td>\n",
       "    </tr>\n",
       "  </tbody>\n",
       "</table>\n",
       "</div>"
      ],
      "text/plain": [
       "   num_orders  price_mean  review_score_mean  life_span  \\\n",
       "0   -0.282648    0.022553           0.660935   -0.12658   \n",
       "1   -0.282648   -0.566116          -0.120897   -0.12658   \n",
       "2   -0.282648   -0.300419          -0.902728   -0.12658   \n",
       "3   -0.282648   -0.528515          -0.120897   -0.12658   \n",
       "4   -0.282648    0.288250           0.660935   -0.12658   \n",
       "\n",
       "   most_frequent_product_category  customer_city    labels    R_rank  \\\n",
       "0                       -1.409941      -1.421278 -0.123406  1.331211   \n",
       "1                        0.172831       0.180605 -0.123406  0.437786   \n",
       "2                        1.184046       0.943526 -0.123406 -1.349065   \n",
       "3                        1.271978      -1.591744 -0.123406 -0.455640   \n",
       "4                        1.271978       1.140732 -0.123406 -0.455640   \n",
       "\n",
       "     F_rank    M_rank  RFM_Weighted  Churn_Risk  \n",
       "0 -0.180744 -0.423848      0.968726   -0.536399  \n",
       "1 -0.180744 -0.423848      0.193943   -0.536399  \n",
       "2 -0.180744 -0.423848     -1.355623    1.062652  \n",
       "3 -0.180744 -0.423848     -0.580840    1.062652  \n",
       "4 -0.180744 -0.423848     -0.580840    1.062652  "
      ]
     },
     "execution_count": 20,
     "metadata": {},
     "output_type": "execute_result"
    }
   ],
   "source": [
    "# Стандартизируем \n",
    "scaler = StandardScaler()\n",
    "X_scaled = scaler.fit_transform(X)\n",
    "X_scaled = pd.DataFrame(X_scaled, columns=X.columns)\n",
    "X_scaled.head()"
   ]
  },
  {
   "cell_type": "code",
   "execution_count": 24,
   "id": "ae6b94f0",
   "metadata": {},
   "outputs": [
    {
     "data": {
      "text/plain": [
       "<Axes: >"
      ]
     },
     "execution_count": 24,
     "metadata": {},
     "output_type": "execute_result"
    },
    {
     "data": {
      "image/png": "[encoded data removed]",
      "text/plain": [
       "<Figure size 1500x1000 with 2 Axes>"
      ]
     },
     "metadata": {},
     "output_type": "display_data"
    }
   ],
   "source": [
    "# Посмотрим на мультиколлениарность\n",
    "fig, axes = plt.subplots(1,1, figsize=(15, 10))\n",
    "sns.heatmap(X_scaled.corr(), annot=True, ax=axes)"
   ]
  },
  {
   "cell_type": "markdown",
   "id": "c3e717d6",
   "metadata": {},
   "source": [
    "> Скинем RFM-weighted для ужаление мультикора\n"
   ]
  },
  {
   "cell_type": "code",
   "execution_count": null,
   "id": "26f8e2cd",
   "metadata": {},
   "outputs": [],
   "source": [
    "X_scaled.drop(columns=[\"RFM_Weighted\", \"\"], inplace=True)"
   ]
  },
  {
   "cell_type": "code",
   "execution_count": 55,
   "id": "9334bc3c",
   "metadata": {},
   "outputs": [],
   "source": [
    "X_test = X[[\"Churn_Risk\", \"labels\"]]"
   ]
  },
  {
   "cell_type": "markdown",
   "id": "51fdfb47",
   "metadata": {},
   "source": [
    "---\n",
    "Проведем исследование кластеризации"
   ]
  },
  {
   "cell_type": "code",
   "execution_count": 30,
   "id": "4d5a478b",
   "metadata": {},
   "outputs": [],
   "source": [
    "# Метод локтя\n",
    "inertia = []\n",
    "silhouette_scores = []\n",
    "range_n_clusters = range(2, 8)\n",
    "\n",
    "for n_clusters in range_n_clusters:\n",
    "    kmeans = KMeans(n_clusters=n_clusters, random_state=42)\n",
    "    kmeans.fit(X_test)\n",
    "    \n",
    "    inertia.append(kmeans.inertia_)\n",
    "    \n",
    "    # Предсказание кластеров и расчет коэффициента силуэта\n",
    "    cluster_labels = kmeans.labels_\n",
    "    silhouette_avg = silhouette_score(X_test, cluster_labels)\n",
    "    silhouette_scores.append(silhouette_avg)\n",
    "\n"
   ]
  },
  {
   "cell_type": "code",
   "execution_count": 31,
   "id": "25a27622",
   "metadata": {},
   "outputs": [
    {
     "data": {
      "image/png": "[encoded data removed]",
      "text/plain": [
       "<Figure size 1200x600 with 2 Axes>"
      ]
     },
     "metadata": {},
     "output_type": "display_data"
    }
   ],
   "source": [
    "# Визуализация метода локтя\n",
    "plt.figure(figsize=(12, 6))\n",
    "\n",
    "plt.subplot(1, 2, 1)\n",
    "plt.plot(range_n_clusters, inertia, marker='o')\n",
    "plt.title('Метод локтя')\n",
    "plt.xlabel('Количество кластеров')\n",
    "plt.ylabel('Inertia')\n",
    "plt.xticks(range_n_clusters)\n",
    "\n",
    "# Визуализация метода силуэта\n",
    "plt.subplot(1, 2, 2)\n",
    "plt.plot(range_n_clusters, silhouette_scores, marker='o')\n",
    "plt.title('Метод силуэта')\n",
    "plt.xlabel('Количество кластеров')\n",
    "plt.ylabel('Силуэт')\n",
    "plt.xticks(range_n_clusters)\n",
    "\n",
    "plt.tight_layout()\n",
    "plt.show()"
   ]
  },
  {
   "cell_type": "code",
   "execution_count": 56,
   "id": "5b60f48c",
   "metadata": {},
   "outputs": [
    {
     "data": {
      "text/plain": [
       "<matplotlib.collections.PathCollection at 0x151946e10>"
      ]
     },
     "execution_count": 56,
     "metadata": {},
     "output_type": "execute_result"
    },
    {
     "data": {
      "image/png": "[encoded data removed]",
      "text/plain": [
       "<Figure size 640x480 with 1 Axes>"
      ]
     },
     "metadata": {},
     "output_type": "display_data"
    }
   ],
   "source": [
    "X_test\n",
    "plt.scatter(data=X_test, x=\"Churn_Risk\", y=\"labels\")"
   ]
  },
  {
   "cell_type": "markdown",
   "id": "d8ceef14",
   "metadata": {},
   "source": [
    "> Можно наблюдать кластеризацию (агломеративно) на 7 кластеров, но выдвигая предположения (основанное на эвристиках) об минимальном количестве лояльных клиентов в совокупности относительно остальных групп можно предположить кластеризацию путем проведения отсечных вертикальных черт делящих выборку на 3 кластера."
   ]
  },
  {
   "cell_type": "markdown",
   "id": "b9e4dc45",
   "metadata": {},
   "source": [
    "----\n",
    "### На основе полученных гиперпараметров кластеризуем и получим метки классов"
   ]
  },
  {
   "cell_type": "code",
   "execution_count": 57,
   "id": "bc2dba66",
   "metadata": {},
   "outputs": [
    {
     "data": {
      "application/vnd.microsoft.datawrangler.viewer.v0+json": {
       "columns": [
        {
         "name": "index",
         "rawType": "int64",
         "type": "integer"
        },
        {
         "name": "Churn_Risk",
         "rawType": "int64",
         "type": "integer"
        },
        {
         "name": "labels",
         "rawType": "int64",
         "type": "integer"
        },
        {
         "name": "labels_combo",
         "rawType": "int32",
         "type": "integer"
        }
       ],
       "conversionMethod": "pd.DataFrame",
       "ref": "6a77025d-40ba-4b8f-94fc-dc931d0d50f7",
       "rows": [
        [
         "0",
         "2",
         "0",
         "2"
        ],
        [
         "1",
         "2",
         "0",
         "2"
        ],
        [
         "2",
         "3",
         "0",
         "0"
        ],
        [
         "3",
         "3",
         "0",
         "0"
        ],
        [
         "4",
         "3",
         "0",
         "0"
        ],
        [
         "5",
         "2",
         "0",
         "2"
        ],
        [
         "6",
         "2",
         "0",
         "2"
        ],
        [
         "7",
         "1",
         "0",
         "1"
        ],
        [
         "8",
         "3",
         "0",
         "0"
        ],
        [
         "9",
         "2",
         "0",
         "2"
        ],
        [
         "10",
         "3",
         "0",
         "0"
        ],
        [
         "11",
         "3",
         "0",
         "0"
        ],
        [
         "12",
         "2",
         "0",
         "2"
        ],
        [
         "13",
         "2",
         "0",
         "2"
        ],
        [
         "14",
         "3",
         "0",
         "0"
        ],
        [
         "15",
         "2",
         "0",
         "2"
        ],
        [
         "16",
         "3",
         "0",
         "0"
        ],
        [
         "17",
         "3",
         "0",
         "0"
        ],
        [
         "18",
         "2",
         "0",
         "2"
        ],
        [
         "19",
         "1",
         "0",
         "1"
        ],
        [
         "20",
         "2",
         "0",
         "2"
        ],
        [
         "21",
         "2",
         "0",
         "2"
        ],
        [
         "22",
         "1",
         "0",
         "1"
        ],
        [
         "23",
         "3",
         "0",
         "0"
        ],
        [
         "24",
         "2",
         "0",
         "2"
        ],
        [
         "25",
         "2",
         "0",
         "2"
        ],
        [
         "26",
         "3",
         "0",
         "0"
        ],
        [
         "27",
         "3",
         "0",
         "0"
        ],
        [
         "28",
         "3",
         "0",
         "0"
        ],
        [
         "29",
         "3",
         "0",
         "0"
        ],
        [
         "30",
         "3",
         "0",
         "0"
        ],
        [
         "31",
         "3",
         "0",
         "0"
        ],
        [
         "32",
         "1",
         "0",
         "1"
        ],
        [
         "33",
         "2",
         "0",
         "2"
        ],
        [
         "34",
         "3",
         "0",
         "0"
        ],
        [
         "35",
         "2",
         "0",
         "2"
        ],
        [
         "36",
         "1",
         "0",
         "1"
        ],
        [
         "37",
         "2",
         "0",
         "2"
        ],
        [
         "38",
         "2",
         "0",
         "2"
        ],
        [
         "39",
         "2",
         "0",
         "2"
        ],
        [
         "40",
         "2",
         "0",
         "2"
        ],
        [
         "41",
         "3",
         "0",
         "0"
        ],
        [
         "42",
         "2",
         "0",
         "2"
        ],
        [
         "43",
         "2",
         "0",
         "2"
        ],
        [
         "44",
         "3",
         "0",
         "0"
        ],
        [
         "45",
         "2",
         "0",
         "2"
        ],
        [
         "46",
         "3",
         "0",
         "0"
        ],
        [
         "47",
         "3",
         "0",
         "0"
        ],
        [
         "48",
         "2",
         "0",
         "2"
        ],
        [
         "49",
         "2",
         "0",
         "2"
        ]
       ],
       "shape": {
        "columns": 3,
        "rows": 91576
       }
      },
      "text/html": [
       "<div>\n",
       "<style scoped>\n",
       "    .dataframe tbody tr th:only-of-type {\n",
       "        vertical-align: middle;\n",
       "    }\n",
       "\n",
       "    .dataframe tbody tr th {\n",
       "        vertical-align: top;\n",
       "    }\n",
       "\n",
       "    .dataframe thead th {\n",
       "        text-align: right;\n",
       "    }\n",
       "</style>\n",
       "<table border=\"1\" class=\"dataframe\">\n",
       "  <thead>\n",
       "    <tr style=\"text-align: right;\">\n",
       "      <th></th>\n",
       "      <th>Churn_Risk</th>\n",
       "      <th>labels</th>\n",
       "      <th>labels_combo</th>\n",
       "    </tr>\n",
       "  </thead>\n",
       "  <tbody>\n",
       "    <tr>\n",
       "      <th>0</th>\n",
       "      <td>2</td>\n",
       "      <td>0</td>\n",
       "      <td>2</td>\n",
       "    </tr>\n",
       "    <tr>\n",
       "      <th>1</th>\n",
       "      <td>2</td>\n",
       "      <td>0</td>\n",
       "      <td>2</td>\n",
       "    </tr>\n",
       "    <tr>\n",
       "      <th>2</th>\n",
       "      <td>3</td>\n",
       "      <td>0</td>\n",
       "      <td>0</td>\n",
       "    </tr>\n",
       "    <tr>\n",
       "      <th>3</th>\n",
       "      <td>3</td>\n",
       "      <td>0</td>\n",
       "      <td>0</td>\n",
       "    </tr>\n",
       "    <tr>\n",
       "      <th>4</th>\n",
       "      <td>3</td>\n",
       "      <td>0</td>\n",
       "      <td>0</td>\n",
       "    </tr>\n",
       "    <tr>\n",
       "      <th>...</th>\n",
       "      <td>...</td>\n",
       "      <td>...</td>\n",
       "      <td>...</td>\n",
       "    </tr>\n",
       "    <tr>\n",
       "      <th>91571</th>\n",
       "      <td>2</td>\n",
       "      <td>0</td>\n",
       "      <td>2</td>\n",
       "    </tr>\n",
       "    <tr>\n",
       "      <th>91572</th>\n",
       "      <td>3</td>\n",
       "      <td>0</td>\n",
       "      <td>0</td>\n",
       "    </tr>\n",
       "    <tr>\n",
       "      <th>91573</th>\n",
       "      <td>3</td>\n",
       "      <td>0</td>\n",
       "      <td>0</td>\n",
       "    </tr>\n",
       "    <tr>\n",
       "      <th>91574</th>\n",
       "      <td>2</td>\n",
       "      <td>0</td>\n",
       "      <td>2</td>\n",
       "    </tr>\n",
       "    <tr>\n",
       "      <th>91575</th>\n",
       "      <td>3</td>\n",
       "      <td>0</td>\n",
       "      <td>0</td>\n",
       "    </tr>\n",
       "  </tbody>\n",
       "</table>\n",
       "<p>91576 rows × 3 columns</p>\n",
       "</div>"
      ],
      "text/plain": [
       "       Churn_Risk  labels  labels_combo\n",
       "0               2       0             2\n",
       "1               2       0             2\n",
       "2               3       0             0\n",
       "3               3       0             0\n",
       "4               3       0             0\n",
       "...           ...     ...           ...\n",
       "91571           2       0             2\n",
       "91572           3       0             0\n",
       "91573           3       0             0\n",
       "91574           2       0             2\n",
       "91575           3       0             0\n",
       "\n",
       "[91576 rows x 3 columns]"
      ]
     },
     "execution_count": 57,
     "metadata": {},
     "output_type": "execute_result"
    }
   ],
   "source": [
    "k_means_whole = KMeans(n_clusters=3, random_state=42)\n",
    "k_means_whole.fit(X_test)\n",
    "\n",
    "X_test[\"labels_combo\"] = k_means_whole.labels_\n",
    "X_test"
   ]
  },
  {
   "cell_type": "code",
   "execution_count": 58,
   "id": "e50fa3bc",
   "metadata": {},
   "outputs": [
    {
     "data": {
      "text/plain": [
       "labels_combo\n",
       "2    45457\n",
       "0    38419\n",
       "1     7700\n",
       "Name: count, dtype: int64"
      ]
     },
     "execution_count": 58,
     "metadata": {},
     "output_type": "execute_result"
    }
   ],
   "source": [
    "X_test[\"labels_combo\"].value_counts()"
   ]
  },
  {
   "cell_type": "code",
   "execution_count": 60,
   "id": "f8901dbf",
   "metadata": {},
   "outputs": [
    {
     "data": {
      "application/vnd.microsoft.datawrangler.viewer.v0+json": {
       "columns": [
        {
         "name": "index",
         "rawType": "int64",
         "type": "integer"
        },
        {
         "name": "Churn_Risk",
         "rawType": "int64",
         "type": "integer"
        },
        {
         "name": "labels",
         "rawType": "int64",
         "type": "integer"
        },
        {
         "name": "labels_combo",
         "rawType": "int32",
         "type": "integer"
        },
        {
         "name": "Churn_Risk_maped",
         "rawType": "object",
         "type": "string"
        }
       ],
       "conversionMethod": "pd.DataFrame",
       "ref": "64a4f349-5e7f-4786-bb4b-dc9f6f624a01",
       "rows": [
        [
         "0",
         "2",
         "0",
         "2",
         "Средний риск"
        ],
        [
         "1",
         "2",
         "0",
         "2",
         "Средний риск"
        ],
        [
         "2",
         "3",
         "0",
         "0",
         "Высокий риск"
        ],
        [
         "3",
         "3",
         "0",
         "0",
         "Высокий риск"
        ],
        [
         "4",
         "3",
         "0",
         "0",
         "Высокий риск"
        ],
        [
         "5",
         "2",
         "0",
         "2",
         "Средний риск"
        ],
        [
         "6",
         "2",
         "0",
         "2",
         "Средний риск"
        ],
        [
         "7",
         "1",
         "0",
         "1",
         "Низкий риск"
        ],
        [
         "8",
         "3",
         "0",
         "0",
         "Высокий риск"
        ],
        [
         "9",
         "2",
         "0",
         "2",
         "Средний риск"
        ],
        [
         "10",
         "3",
         "0",
         "0",
         "Высокий риск"
        ],
        [
         "11",
         "3",
         "0",
         "0",
         "Высокий риск"
        ],
        [
         "12",
         "2",
         "0",
         "2",
         "Средний риск"
        ],
        [
         "13",
         "2",
         "0",
         "2",
         "Средний риск"
        ],
        [
         "14",
         "3",
         "0",
         "0",
         "Высокий риск"
        ],
        [
         "15",
         "2",
         "0",
         "2",
         "Средний риск"
        ],
        [
         "16",
         "3",
         "0",
         "0",
         "Высокий риск"
        ],
        [
         "17",
         "3",
         "0",
         "0",
         "Высокий риск"
        ],
        [
         "18",
         "2",
         "0",
         "2",
         "Средний риск"
        ],
        [
         "19",
         "1",
         "0",
         "1",
         "Низкий риск"
        ],
        [
         "20",
         "2",
         "0",
         "2",
         "Средний риск"
        ],
        [
         "21",
         "2",
         "0",
         "2",
         "Средний риск"
        ],
        [
         "22",
         "1",
         "0",
         "1",
         "Низкий риск"
        ],
        [
         "23",
         "3",
         "0",
         "0",
         "Высокий риск"
        ],
        [
         "24",
         "2",
         "0",
         "2",
         "Средний риск"
        ],
        [
         "25",
         "2",
         "0",
         "2",
         "Средний риск"
        ],
        [
         "26",
         "3",
         "0",
         "0",
         "Высокий риск"
        ],
        [
         "27",
         "3",
         "0",
         "0",
         "Высокий риск"
        ],
        [
         "28",
         "3",
         "0",
         "0",
         "Высокий риск"
        ],
        [
         "29",
         "3",
         "0",
         "0",
         "Высокий риск"
        ],
        [
         "30",
         "3",
         "0",
         "0",
         "Высокий риск"
        ],
        [
         "31",
         "3",
         "0",
         "0",
         "Высокий риск"
        ],
        [
         "32",
         "1",
         "0",
         "1",
         "Низкий риск"
        ],
        [
         "33",
         "2",
         "0",
         "2",
         "Средний риск"
        ],
        [
         "34",
         "3",
         "0",
         "0",
         "Высокий риск"
        ],
        [
         "35",
         "2",
         "0",
         "2",
         "Средний риск"
        ],
        [
         "36",
         "1",
         "0",
         "1",
         "Низкий риск"
        ],
        [
         "37",
         "2",
         "0",
         "2",
         "Средний риск"
        ],
        [
         "38",
         "2",
         "0",
         "2",
         "Средний риск"
        ],
        [
         "39",
         "2",
         "0",
         "2",
         "Средний риск"
        ],
        [
         "40",
         "2",
         "0",
         "2",
         "Средний риск"
        ],
        [
         "41",
         "3",
         "0",
         "0",
         "Высокий риск"
        ],
        [
         "42",
         "2",
         "0",
         "2",
         "Средний риск"
        ],
        [
         "43",
         "2",
         "0",
         "2",
         "Средний риск"
        ],
        [
         "44",
         "3",
         "0",
         "0",
         "Высокий риск"
        ],
        [
         "45",
         "2",
         "0",
         "2",
         "Средний риск"
        ],
        [
         "46",
         "3",
         "0",
         "0",
         "Высокий риск"
        ],
        [
         "47",
         "3",
         "0",
         "0",
         "Высокий риск"
        ],
        [
         "48",
         "2",
         "0",
         "2",
         "Средний риск"
        ],
        [
         "49",
         "2",
         "0",
         "2",
         "Средний риск"
        ]
       ],
       "shape": {
        "columns": 4,
        "rows": 91576
       }
      },
      "text/html": [
       "<div>\n",
       "<style scoped>\n",
       "    .dataframe tbody tr th:only-of-type {\n",
       "        vertical-align: middle;\n",
       "    }\n",
       "\n",
       "    .dataframe tbody tr th {\n",
       "        vertical-align: top;\n",
       "    }\n",
       "\n",
       "    .dataframe thead th {\n",
       "        text-align: right;\n",
       "    }\n",
       "</style>\n",
       "<table border=\"1\" class=\"dataframe\">\n",
       "  <thead>\n",
       "    <tr style=\"text-align: right;\">\n",
       "      <th></th>\n",
       "      <th>Churn_Risk</th>\n",
       "      <th>labels</th>\n",
       "      <th>labels_combo</th>\n",
       "      <th>Churn_Risk_maped</th>\n",
       "    </tr>\n",
       "  </thead>\n",
       "  <tbody>\n",
       "    <tr>\n",
       "      <th>0</th>\n",
       "      <td>2</td>\n",
       "      <td>0</td>\n",
       "      <td>2</td>\n",
       "      <td>Средний риск</td>\n",
       "    </tr>\n",
       "    <tr>\n",
       "      <th>1</th>\n",
       "      <td>2</td>\n",
       "      <td>0</td>\n",
       "      <td>2</td>\n",
       "      <td>Средний риск</td>\n",
       "    </tr>\n",
       "    <tr>\n",
       "      <th>2</th>\n",
       "      <td>3</td>\n",
       "      <td>0</td>\n",
       "      <td>0</td>\n",
       "      <td>Высокий риск</td>\n",
       "    </tr>\n",
       "    <tr>\n",
       "      <th>3</th>\n",
       "      <td>3</td>\n",
       "      <td>0</td>\n",
       "      <td>0</td>\n",
       "      <td>Высокий риск</td>\n",
       "    </tr>\n",
       "    <tr>\n",
       "      <th>4</th>\n",
       "      <td>3</td>\n",
       "      <td>0</td>\n",
       "      <td>0</td>\n",
       "      <td>Высокий риск</td>\n",
       "    </tr>\n",
       "    <tr>\n",
       "      <th>...</th>\n",
       "      <td>...</td>\n",
       "      <td>...</td>\n",
       "      <td>...</td>\n",
       "      <td>...</td>\n",
       "    </tr>\n",
       "    <tr>\n",
       "      <th>91571</th>\n",
       "      <td>2</td>\n",
       "      <td>0</td>\n",
       "      <td>2</td>\n",
       "      <td>Средний риск</td>\n",
       "    </tr>\n",
       "    <tr>\n",
       "      <th>91572</th>\n",
       "      <td>3</td>\n",
       "      <td>0</td>\n",
       "      <td>0</td>\n",
       "      <td>Высокий риск</td>\n",
       "    </tr>\n",
       "    <tr>\n",
       "      <th>91573</th>\n",
       "      <td>3</td>\n",
       "      <td>0</td>\n",
       "      <td>0</td>\n",
       "      <td>Высокий риск</td>\n",
       "    </tr>\n",
       "    <tr>\n",
       "      <th>91574</th>\n",
       "      <td>2</td>\n",
       "      <td>0</td>\n",
       "      <td>2</td>\n",
       "      <td>Средний риск</td>\n",
       "    </tr>\n",
       "    <tr>\n",
       "      <th>91575</th>\n",
       "      <td>3</td>\n",
       "      <td>0</td>\n",
       "      <td>0</td>\n",
       "      <td>Высокий риск</td>\n",
       "    </tr>\n",
       "  </tbody>\n",
       "</table>\n",
       "<p>91576 rows × 4 columns</p>\n",
       "</div>"
      ],
      "text/plain": [
       "       Churn_Risk  labels  labels_combo Churn_Risk_maped\n",
       "0               2       0             2     Средний риск\n",
       "1               2       0             2     Средний риск\n",
       "2               3       0             0     Высокий риск\n",
       "3               3       0             0     Высокий риск\n",
       "4               3       0             0     Высокий риск\n",
       "...           ...     ...           ...              ...\n",
       "91571           2       0             2     Средний риск\n",
       "91572           3       0             0     Высокий риск\n",
       "91573           3       0             0     Высокий риск\n",
       "91574           2       0             2     Средний риск\n",
       "91575           3       0             0     Высокий риск\n",
       "\n",
       "[91576 rows x 4 columns]"
      ]
     },
     "execution_count": 60,
     "metadata": {},
     "output_type": "execute_result"
    }
   ],
   "source": [
    "X_test[\"Churn_Risk_maped\"] = X_test[\"Churn_Risk\"].map(\n",
    "    {3: \"Высокий риск\", 2: \"Средний риск\", 1:\"Низкий риск\"})\n",
    "\n",
    "X_test"
   ]
  },
  {
   "cell_type": "code",
   "execution_count": 61,
   "id": "d412fc34",
   "metadata": {},
   "outputs": [
    {
     "data": {
      "image/png": "[encoded data removed]",
      "text/plain": [
       "<Figure size 1200x600 with 1 Axes>"
      ]
     },
     "metadata": {},
     "output_type": "display_data"
    }
   ],
   "source": [
    "plt.figure(figsize=(12, 6))\n",
    "sns.countplot(x='labels_combo', data=X_test)\n",
    "plt.title('Распределение клиентов по риску оттока')\n",
    "plt.savefig(\"./labels/combo_chart.png\", dpi=300, bbox_inches='tight')\n",
    "plt.show()"
   ]
  },
  {
   "cell_type": "code",
   "execution_count": 68,
   "id": "97bc228f",
   "metadata": {},
   "outputs": [
    {
     "data": {
      "application/vnd.microsoft.datawrangler.viewer.v0+json": {
       "columns": [
        {
         "name": "index",
         "rawType": "int64",
         "type": "integer"
        },
        {
         "name": "labels_combo",
         "rawType": "int32",
         "type": "integer"
        }
       ],
       "conversionMethod": "pd.DataFrame",
       "ref": "dde8b973-1c8a-42a3-9a6e-7d2b053d0a3f",
       "rows": [
        [
         "0",
         "2"
        ],
        [
         "1",
         "2"
        ],
        [
         "2",
         "0"
        ],
        [
         "3",
         "0"
        ],
        [
         "4",
         "0"
        ],
        [
         "5",
         "2"
        ],
        [
         "6",
         "2"
        ],
        [
         "7",
         "1"
        ],
        [
         "8",
         "0"
        ],
        [
         "9",
         "2"
        ],
        [
         "10",
         "0"
        ],
        [
         "11",
         "0"
        ],
        [
         "12",
         "2"
        ],
        [
         "13",
         "2"
        ],
        [
         "14",
         "0"
        ],
        [
         "15",
         "2"
        ],
        [
         "16",
         "0"
        ],
        [
         "17",
         "0"
        ],
        [
         "18",
         "2"
        ],
        [
         "19",
         "1"
        ],
        [
         "20",
         "2"
        ],
        [
         "21",
         "2"
        ],
        [
         "22",
         "1"
        ],
        [
         "23",
         "0"
        ],
        [
         "24",
         "2"
        ],
        [
         "25",
         "2"
        ],
        [
         "26",
         "0"
        ],
        [
         "27",
         "0"
        ],
        [
         "28",
         "0"
        ],
        [
         "29",
         "0"
        ],
        [
         "30",
         "0"
        ],
        [
         "31",
         "0"
        ],
        [
         "32",
         "1"
        ],
        [
         "33",
         "2"
        ],
        [
         "34",
         "0"
        ],
        [
         "35",
         "2"
        ],
        [
         "36",
         "1"
        ],
        [
         "37",
         "2"
        ],
        [
         "38",
         "2"
        ],
        [
         "39",
         "2"
        ],
        [
         "40",
         "2"
        ],
        [
         "41",
         "0"
        ],
        [
         "42",
         "2"
        ],
        [
         "43",
         "2"
        ],
        [
         "44",
         "0"
        ],
        [
         "45",
         "2"
        ],
        [
         "46",
         "0"
        ],
        [
         "47",
         "0"
        ],
        [
         "48",
         "2"
        ],
        [
         "49",
         "2"
        ]
       ],
       "shape": {
        "columns": 1,
        "rows": 91576
       }
      },
      "text/html": [
       "<div>\n",
       "<style scoped>\n",
       "    .dataframe tbody tr th:only-of-type {\n",
       "        vertical-align: middle;\n",
       "    }\n",
       "\n",
       "    .dataframe tbody tr th {\n",
       "        vertical-align: top;\n",
       "    }\n",
       "\n",
       "    .dataframe thead th {\n",
       "        text-align: right;\n",
       "    }\n",
       "</style>\n",
       "<table border=\"1\" class=\"dataframe\">\n",
       "  <thead>\n",
       "    <tr style=\"text-align: right;\">\n",
       "      <th></th>\n",
       "      <th>labels_combo</th>\n",
       "    </tr>\n",
       "  </thead>\n",
       "  <tbody>\n",
       "    <tr>\n",
       "      <th>0</th>\n",
       "      <td>2</td>\n",
       "    </tr>\n",
       "    <tr>\n",
       "      <th>1</th>\n",
       "      <td>2</td>\n",
       "    </tr>\n",
       "    <tr>\n",
       "      <th>2</th>\n",
       "      <td>0</td>\n",
       "    </tr>\n",
       "    <tr>\n",
       "      <th>3</th>\n",
       "      <td>0</td>\n",
       "    </tr>\n",
       "    <tr>\n",
       "      <th>4</th>\n",
       "      <td>0</td>\n",
       "    </tr>\n",
       "    <tr>\n",
       "      <th>...</th>\n",
       "      <td>...</td>\n",
       "    </tr>\n",
       "    <tr>\n",
       "      <th>91571</th>\n",
       "      <td>2</td>\n",
       "    </tr>\n",
       "    <tr>\n",
       "      <th>91572</th>\n",
       "      <td>0</td>\n",
       "    </tr>\n",
       "    <tr>\n",
       "      <th>91573</th>\n",
       "      <td>0</td>\n",
       "    </tr>\n",
       "    <tr>\n",
       "      <th>91574</th>\n",
       "      <td>2</td>\n",
       "    </tr>\n",
       "    <tr>\n",
       "      <th>91575</th>\n",
       "      <td>0</td>\n",
       "    </tr>\n",
       "  </tbody>\n",
       "</table>\n",
       "<p>91576 rows × 1 columns</p>\n",
       "</div>"
      ],
      "text/plain": [
       "       labels_combo\n",
       "0                 2\n",
       "1                 2\n",
       "2                 0\n",
       "3                 0\n",
       "4                 0\n",
       "...             ...\n",
       "91571             2\n",
       "91572             0\n",
       "91573             0\n",
       "91574             2\n",
       "91575             0\n",
       "\n",
       "[91576 rows x 1 columns]"
      ]
     },
     "execution_count": 68,
     "metadata": {},
     "output_type": "execute_result"
    }
   ],
   "source": [
    "X_test[[\"labels_combo\"]]"
   ]
  },
  {
   "cell_type": "markdown",
   "id": "4e810bfb",
   "metadata": {},
   "source": [
    "> Комбинированная кластеризация, дает нам возможность выдвинуть предположение о следующем распределении клиентов \n",
    "\n",
    "0 - высокий риск оттока 1 покупка, вероятнее всего разовый клиент\n",
    "1 - лояльные клиенты, фокусировка на удержании\n",
    "2 - потенциально лояльные клиенты, фокусировка на форсированнии интереса"
   ]
  },
  {
   "cell_type": "code",
   "execution_count": null,
   "id": "af6ba003",
   "metadata": {},
   "outputs": [],
   "source": [
    "df[\"labels_final\"] = X_test[[\"labels_combo\"]]\n",
    "df"
   ]
  },
  {
   "cell_type": "code",
   "execution_count": 73,
   "id": "5d4c22ae",
   "metadata": {},
   "outputs": [
    {
     "data": {
      "application/vnd.microsoft.datawrangler.viewer.v0+json": {
       "columns": [
        {
         "name": "index",
         "rawType": "int64",
         "type": "integer"
        },
        {
         "name": "customer_unique_id",
         "rawType": "object",
         "type": "string"
        },
        {
         "name": "labels_final",
         "rawType": "int32",
         "type": "integer"
        }
       ],
       "conversionMethod": "pd.DataFrame",
       "ref": "803e839e-d96d-4bfc-b338-730fe8553c9f",
       "rows": [
        [
         "0",
         "0000366f3b9a7992bf8c76cfdf3221e2",
         "2"
        ],
        [
         "1",
         "0000b849f77a49e4a4ce2b2a4ca5be3f",
         "2"
        ],
        [
         "2",
         "0000f46a3911fa3c0805444483337064",
         "0"
        ],
        [
         "3",
         "0000f6ccb0745a6a4b88665a16c9f078",
         "0"
        ],
        [
         "4",
         "0004aac84e0df4da2b147fca70cf8255",
         "0"
        ],
        [
         "5",
         "0004bd2a26a76fe21f786e4fbd80607f",
         "2"
        ],
        [
         "6",
         "00050ab1314c0e55a6ca13cf7181fecf",
         "2"
        ],
        [
         "7",
         "00053a61a98854899e70ed204dd4bafe",
         "1"
        ],
        [
         "8",
         "0005e1862207bf6ccc02e4228effd9a0",
         "0"
        ],
        [
         "9",
         "0005ef4cd20d2893f0d9fbd94d3c0d97",
         "2"
        ],
        [
         "10",
         "0006fdc98a402fceb4eb0ee528f6a8d4",
         "0"
        ],
        [
         "11",
         "00082cbe03e478190aadbea78542e933",
         "0"
        ],
        [
         "12",
         "00090324bbad0e9342388303bb71ba0a",
         "2"
        ],
        [
         "13",
         "000949456b182f53c18b68d6babc79c1",
         "2"
        ],
        [
         "14",
         "000a5ad9c4601d2bbdd9ed765d5213b3",
         "0"
        ],
        [
         "15",
         "000bfa1d2f1a41876493be685390d6d3",
         "2"
        ],
        [
         "16",
         "000c8bdb58a29e7115cfc257230fb21b",
         "0"
        ],
        [
         "17",
         "000d460961d6dbfa3ec6c9f5805769e1",
         "0"
        ],
        [
         "18",
         "000de6019bb59f34c099a907c151d855",
         "2"
        ],
        [
         "19",
         "000e309254ab1fc5ba99dd469d36bdb4",
         "1"
        ],
        [
         "20",
         "000ec5bff359e1c0ad76a81a45cb598f",
         "2"
        ],
        [
         "21",
         "000ed48ceeb6f4bf8ad021a10a3c7b43",
         "2"
        ],
        [
         "22",
         "000fbf0473c10fc1ab6f8d2d286ce20c",
         "1"
        ],
        [
         "23",
         "0010a452c6d13139e50b57f19f52e04e",
         "0"
        ],
        [
         "24",
         "0010fb34b966d44409382af9e8fd5b77",
         "2"
        ],
        [
         "25",
         "001147e649a7b1afd577e873841632dd",
         "2"
        ],
        [
         "26",
         "00115fc7123b5310cf6d3a3aa932699e",
         "0"
        ],
        [
         "27",
         "0011805441c0d1b68b48002f1d005526",
         "0"
        ],
        [
         "28",
         "0011857aff0e5871ce5eb429f21cdaf5",
         "0"
        ],
        [
         "29",
         "0011c98589159d6149979563c504cb21",
         "0"
        ],
        [
         "30",
         "0012929d977a8d7280bb277c1e5f589d",
         "0"
        ],
        [
         "31",
         "0014a5a58da615f7b01a4f5e194bf5ea",
         "0"
        ],
        [
         "32",
         "0015752e079902b12cd00b9b7596276b",
         "1"
        ],
        [
         "33",
         "00172711b30d52eea8b313a7f2cced02",
         "2"
        ],
        [
         "34",
         "00191a9719ef48ebb5860b130347bf33",
         "0"
        ],
        [
         "35",
         "001926cef41060fae572e2e7b30bd2a4",
         "2"
        ],
        [
         "36",
         "001928b561575b2821c92254a2327d06",
         "1"
        ],
        [
         "37",
         "00196c4c9a3af7dd2ad10eade69c926f",
         "2"
        ],
        [
         "38",
         "00196fdb2bf9edfc35e88ebfbcf8d781",
         "2"
        ],
        [
         "39",
         "0019da6aa6bcb27cc32f1249bd12da05",
         "2"
        ],
        [
         "40",
         "0019e8c501c85848ac0966d45226fa1d",
         "2"
        ],
        [
         "41",
         "001a2bf0e46c684031af91fb2bce149d",
         "0"
        ],
        [
         "42",
         "001a34eb30ecb8e3aacb07c475ca4dd1",
         "2"
        ],
        [
         "43",
         "001a3a8e11d76c9a366c31a4aa2cc529",
         "2"
        ],
        [
         "44",
         "001ae5a1788703d64536c30362503e49",
         "0"
        ],
        [
         "45",
         "001deb796b28a3a128d6113857569aa4",
         "2"
        ],
        [
         "46",
         "001f3c4211216384d5fe59b041ce1461",
         "0"
        ],
        [
         "47",
         "002043098f10ba39a4600b6c52fbfe3c",
         "0"
        ],
        [
         "48",
         "002311514717ca8b65b09a26cdf7b91a",
         "2"
        ],
        [
         "49",
         "0023557a94bef0038066b5d1b3dc763e",
         "2"
        ]
       ],
       "shape": {
        "columns": 2,
        "rows": 91576
       }
      },
      "text/html": [
       "<div>\n",
       "<style scoped>\n",
       "    .dataframe tbody tr th:only-of-type {\n",
       "        vertical-align: middle;\n",
       "    }\n",
       "\n",
       "    .dataframe tbody tr th {\n",
       "        vertical-align: top;\n",
       "    }\n",
       "\n",
       "    .dataframe thead th {\n",
       "        text-align: right;\n",
       "    }\n",
       "</style>\n",
       "<table border=\"1\" class=\"dataframe\">\n",
       "  <thead>\n",
       "    <tr style=\"text-align: right;\">\n",
       "      <th></th>\n",
       "      <th>customer_unique_id</th>\n",
       "      <th>labels_final</th>\n",
       "    </tr>\n",
       "  </thead>\n",
       "  <tbody>\n",
       "    <tr>\n",
       "      <th>0</th>\n",
       "      <td>0000366f3b9a7992bf8c76cfdf3221e2</td>\n",
       "      <td>2</td>\n",
       "    </tr>\n",
       "    <tr>\n",
       "      <th>1</th>\n",
       "      <td>0000b849f77a49e4a4ce2b2a4ca5be3f</td>\n",
       "      <td>2</td>\n",
       "    </tr>\n",
       "    <tr>\n",
       "      <th>2</th>\n",
       "      <td>0000f46a3911fa3c0805444483337064</td>\n",
       "      <td>0</td>\n",
       "    </tr>\n",
       "    <tr>\n",
       "      <th>3</th>\n",
       "      <td>0000f6ccb0745a6a4b88665a16c9f078</td>\n",
       "      <td>0</td>\n",
       "    </tr>\n",
       "    <tr>\n",
       "      <th>4</th>\n",
       "      <td>0004aac84e0df4da2b147fca70cf8255</td>\n",
       "      <td>0</td>\n",
       "    </tr>\n",
       "    <tr>\n",
       "      <th>...</th>\n",
       "      <td>...</td>\n",
       "      <td>...</td>\n",
       "    </tr>\n",
       "    <tr>\n",
       "      <th>91571</th>\n",
       "      <td>fffcf5a5ff07b0908bd4e2dbc735a684</td>\n",
       "      <td>2</td>\n",
       "    </tr>\n",
       "    <tr>\n",
       "      <th>91572</th>\n",
       "      <td>fffea47cd6d3cc0a88bd621562a9d061</td>\n",
       "      <td>0</td>\n",
       "    </tr>\n",
       "    <tr>\n",
       "      <th>91573</th>\n",
       "      <td>ffff371b4d645b6ecea244b27531430a</td>\n",
       "      <td>0</td>\n",
       "    </tr>\n",
       "    <tr>\n",
       "      <th>91574</th>\n",
       "      <td>ffff5962728ec6157033ef9805bacc48</td>\n",
       "      <td>2</td>\n",
       "    </tr>\n",
       "    <tr>\n",
       "      <th>91575</th>\n",
       "      <td>ffffd2657e2aad2907e67c3e9daecbeb</td>\n",
       "      <td>0</td>\n",
       "    </tr>\n",
       "  </tbody>\n",
       "</table>\n",
       "<p>91576 rows × 2 columns</p>\n",
       "</div>"
      ],
      "text/plain": [
       "                     customer_unique_id  labels_final\n",
       "0      0000366f3b9a7992bf8c76cfdf3221e2             2\n",
       "1      0000b849f77a49e4a4ce2b2a4ca5be3f             2\n",
       "2      0000f46a3911fa3c0805444483337064             0\n",
       "3      0000f6ccb0745a6a4b88665a16c9f078             0\n",
       "4      0004aac84e0df4da2b147fca70cf8255             0\n",
       "...                                 ...           ...\n",
       "91571  fffcf5a5ff07b0908bd4e2dbc735a684             2\n",
       "91572  fffea47cd6d3cc0a88bd621562a9d061             0\n",
       "91573  ffff371b4d645b6ecea244b27531430a             0\n",
       "91574  ffff5962728ec6157033ef9805bacc48             2\n",
       "91575  ffffd2657e2aad2907e67c3e9daecbeb             0\n",
       "\n",
       "[91576 rows x 2 columns]"
      ]
     },
     "execution_count": 73,
     "metadata": {},
     "output_type": "execute_result"
    }
   ],
   "source": [
    "X_final = df[[\"customer_unique_id\", \"labels_final\"]]\n",
    "X_final"
   ]
  },
  {
   "cell_type": "code",
   "execution_count": 76,
   "id": "faa11408",
   "metadata": {},
   "outputs": [],
   "source": [
    "X_final[\"labels_decode\"] = X_final[\"labels_final\"].map(\n",
    "    {0: \"Разовый клиент\", 1:\"Лояльный клиент\", 2:\"Потенциально лояльные\"})"
   ]
  },
  {
   "cell_type": "code",
   "execution_count": 78,
   "id": "dcb84152",
   "metadata": {},
   "outputs": [
    {
     "data": {
      "application/vnd.microsoft.datawrangler.viewer.v0+json": {
       "columns": [
        {
         "name": "index",
         "rawType": "int64",
         "type": "integer"
        },
        {
         "name": "customer_unique_id",
         "rawType": "object",
         "type": "string"
        },
        {
         "name": "labels_final",
         "rawType": "int32",
         "type": "integer"
        },
        {
         "name": "labels_decode",
         "rawType": "object",
         "type": "string"
        }
       ],
       "conversionMethod": "pd.DataFrame",
       "ref": "dfc9ed49-3632-4654-b7e3-5406852bcea5",
       "rows": [
        [
         "0",
         "0000366f3b9a7992bf8c76cfdf3221e2",
         "2",
         "Потенциально лояльные"
        ],
        [
         "1",
         "0000b849f77a49e4a4ce2b2a4ca5be3f",
         "2",
         "Потенциально лояльные"
        ],
        [
         "2",
         "0000f46a3911fa3c0805444483337064",
         "0",
         "Разовый клиент"
        ],
        [
         "3",
         "0000f6ccb0745a6a4b88665a16c9f078",
         "0",
         "Разовый клиент"
        ],
        [
         "4",
         "0004aac84e0df4da2b147fca70cf8255",
         "0",
         "Разовый клиент"
        ],
        [
         "5",
         "0004bd2a26a76fe21f786e4fbd80607f",
         "2",
         "Потенциально лояльные"
        ],
        [
         "6",
         "00050ab1314c0e55a6ca13cf7181fecf",
         "2",
         "Потенциально лояльные"
        ],
        [
         "7",
         "00053a61a98854899e70ed204dd4bafe",
         "1",
         "Лояльный клиент"
        ],
        [
         "8",
         "0005e1862207bf6ccc02e4228effd9a0",
         "0",
         "Разовый клиент"
        ],
        [
         "9",
         "0005ef4cd20d2893f0d9fbd94d3c0d97",
         "2",
         "Потенциально лояльные"
        ],
        [
         "10",
         "0006fdc98a402fceb4eb0ee528f6a8d4",
         "0",
         "Разовый клиент"
        ],
        [
         "11",
         "00082cbe03e478190aadbea78542e933",
         "0",
         "Разовый клиент"
        ],
        [
         "12",
         "00090324bbad0e9342388303bb71ba0a",
         "2",
         "Потенциально лояльные"
        ],
        [
         "13",
         "000949456b182f53c18b68d6babc79c1",
         "2",
         "Потенциально лояльные"
        ],
        [
         "14",
         "000a5ad9c4601d2bbdd9ed765d5213b3",
         "0",
         "Разовый клиент"
        ],
        [
         "15",
         "000bfa1d2f1a41876493be685390d6d3",
         "2",
         "Потенциально лояльные"
        ],
        [
         "16",
         "000c8bdb58a29e7115cfc257230fb21b",
         "0",
         "Разовый клиент"
        ],
        [
         "17",
         "000d460961d6dbfa3ec6c9f5805769e1",
         "0",
         "Разовый клиент"
        ],
        [
         "18",
         "000de6019bb59f34c099a907c151d855",
         "2",
         "Потенциально лояльные"
        ],
        [
         "19",
         "000e309254ab1fc5ba99dd469d36bdb4",
         "1",
         "Лояльный клиент"
        ],
        [
         "20",
         "000ec5bff359e1c0ad76a81a45cb598f",
         "2",
         "Потенциально лояльные"
        ],
        [
         "21",
         "000ed48ceeb6f4bf8ad021a10a3c7b43",
         "2",
         "Потенциально лояльные"
        ],
        [
         "22",
         "000fbf0473c10fc1ab6f8d2d286ce20c",
         "1",
         "Лояльный клиент"
        ],
        [
         "23",
         "0010a452c6d13139e50b57f19f52e04e",
         "0",
         "Разовый клиент"
        ],
        [
         "24",
         "0010fb34b966d44409382af9e8fd5b77",
         "2",
         "Потенциально лояльные"
        ],
        [
         "25",
         "001147e649a7b1afd577e873841632dd",
         "2",
         "Потенциально лояльные"
        ],
        [
         "26",
         "00115fc7123b5310cf6d3a3aa932699e",
         "0",
         "Разовый клиент"
        ],
        [
         "27",
         "0011805441c0d1b68b48002f1d005526",
         "0",
         "Разовый клиент"
        ],
        [
         "28",
         "0011857aff0e5871ce5eb429f21cdaf5",
         "0",
         "Разовый клиент"
        ],
        [
         "29",
         "0011c98589159d6149979563c504cb21",
         "0",
         "Разовый клиент"
        ],
        [
         "30",
         "0012929d977a8d7280bb277c1e5f589d",
         "0",
         "Разовый клиент"
        ],
        [
         "31",
         "0014a5a58da615f7b01a4f5e194bf5ea",
         "0",
         "Разовый клиент"
        ],
        [
         "32",
         "0015752e079902b12cd00b9b7596276b",
         "1",
         "Лояльный клиент"
        ],
        [
         "33",
         "00172711b30d52eea8b313a7f2cced02",
         "2",
         "Потенциально лояльные"
        ],
        [
         "34",
         "00191a9719ef48ebb5860b130347bf33",
         "0",
         "Разовый клиент"
        ],
        [
         "35",
         "001926cef41060fae572e2e7b30bd2a4",
         "2",
         "Потенциально лояльные"
        ],
        [
         "36",
         "001928b561575b2821c92254a2327d06",
         "1",
         "Лояльный клиент"
        ],
        [
         "37",
         "00196c4c9a3af7dd2ad10eade69c926f",
         "2",
         "Потенциально лояльные"
        ],
        [
         "38",
         "00196fdb2bf9edfc35e88ebfbcf8d781",
         "2",
         "Потенциально лояльные"
        ],
        [
         "39",
         "0019da6aa6bcb27cc32f1249bd12da05",
         "2",
         "Потенциально лояльные"
        ],
        [
         "40",
         "0019e8c501c85848ac0966d45226fa1d",
         "2",
         "Потенциально лояльные"
        ],
        [
         "41",
         "001a2bf0e46c684031af91fb2bce149d",
         "0",
         "Разовый клиент"
        ],
        [
         "42",
         "001a34eb30ecb8e3aacb07c475ca4dd1",
         "2",
         "Потенциально лояльные"
        ],
        [
         "43",
         "001a3a8e11d76c9a366c31a4aa2cc529",
         "2",
         "Потенциально лояльные"
        ],
        [
         "44",
         "001ae5a1788703d64536c30362503e49",
         "0",
         "Разовый клиент"
        ],
        [
         "45",
         "001deb796b28a3a128d6113857569aa4",
         "2",
         "Потенциально лояльные"
        ],
        [
         "46",
         "001f3c4211216384d5fe59b041ce1461",
         "0",
         "Разовый клиент"
        ],
        [
         "47",
         "002043098f10ba39a4600b6c52fbfe3c",
         "0",
         "Разовый клиент"
        ],
        [
         "48",
         "002311514717ca8b65b09a26cdf7b91a",
         "2",
         "Потенциально лояльные"
        ],
        [
         "49",
         "0023557a94bef0038066b5d1b3dc763e",
         "2",
         "Потенциально лояльные"
        ]
       ],
       "shape": {
        "columns": 3,
        "rows": 91576
       }
      },
      "text/html": [
       "<div>\n",
       "<style scoped>\n",
       "    .dataframe tbody tr th:only-of-type {\n",
       "        vertical-align: middle;\n",
       "    }\n",
       "\n",
       "    .dataframe tbody tr th {\n",
       "        vertical-align: top;\n",
       "    }\n",
       "\n",
       "    .dataframe thead th {\n",
       "        text-align: right;\n",
       "    }\n",
       "</style>\n",
       "<table border=\"1\" class=\"dataframe\">\n",
       "  <thead>\n",
       "    <tr style=\"text-align: right;\">\n",
       "      <th></th>\n",
       "      <th>customer_unique_id</th>\n",
       "      <th>labels_final</th>\n",
       "      <th>labels_decode</th>\n",
       "    </tr>\n",
       "  </thead>\n",
       "  <tbody>\n",
       "    <tr>\n",
       "      <th>0</th>\n",
       "      <td>0000366f3b9a7992bf8c76cfdf3221e2</td>\n",
       "      <td>2</td>\n",
       "      <td>Потенциально лояльные</td>\n",
       "    </tr>\n",
       "    <tr>\n",
       "      <th>1</th>\n",
       "      <td>0000b849f77a49e4a4ce2b2a4ca5be3f</td>\n",
       "      <td>2</td>\n",
       "      <td>Потенциально лояльные</td>\n",
       "    </tr>\n",
       "    <tr>\n",
       "      <th>2</th>\n",
       "      <td>0000f46a3911fa3c0805444483337064</td>\n",
       "      <td>0</td>\n",
       "      <td>Разовый клиент</td>\n",
       "    </tr>\n",
       "    <tr>\n",
       "      <th>3</th>\n",
       "      <td>0000f6ccb0745a6a4b88665a16c9f078</td>\n",
       "      <td>0</td>\n",
       "      <td>Разовый клиент</td>\n",
       "    </tr>\n",
       "    <tr>\n",
       "      <th>4</th>\n",
       "      <td>0004aac84e0df4da2b147fca70cf8255</td>\n",
       "      <td>0</td>\n",
       "      <td>Разовый клиент</td>\n",
       "    </tr>\n",
       "    <tr>\n",
       "      <th>...</th>\n",
       "      <td>...</td>\n",
       "      <td>...</td>\n",
       "      <td>...</td>\n",
       "    </tr>\n",
       "    <tr>\n",
       "      <th>91571</th>\n",
       "      <td>fffcf5a5ff07b0908bd4e2dbc735a684</td>\n",
       "      <td>2</td>\n",
       "      <td>Потенциально лояльные</td>\n",
       "    </tr>\n",
       "    <tr>\n",
       "      <th>91572</th>\n",
       "      <td>fffea47cd6d3cc0a88bd621562a9d061</td>\n",
       "      <td>0</td>\n",
       "      <td>Разовый клиент</td>\n",
       "    </tr>\n",
       "    <tr>\n",
       "      <th>91573</th>\n",
       "      <td>ffff371b4d645b6ecea244b27531430a</td>\n",
       "      <td>0</td>\n",
       "      <td>Разовый клиент</td>\n",
       "    </tr>\n",
       "    <tr>\n",
       "      <th>91574</th>\n",
       "      <td>ffff5962728ec6157033ef9805bacc48</td>\n",
       "      <td>2</td>\n",
       "      <td>Потенциально лояльные</td>\n",
       "    </tr>\n",
       "    <tr>\n",
       "      <th>91575</th>\n",
       "      <td>ffffd2657e2aad2907e67c3e9daecbeb</td>\n",
       "      <td>0</td>\n",
       "      <td>Разовый клиент</td>\n",
       "    </tr>\n",
       "  </tbody>\n",
       "</table>\n",
       "<p>91576 rows × 3 columns</p>\n",
       "</div>"
      ],
      "text/plain": [
       "                     customer_unique_id  labels_final          labels_decode\n",
       "0      0000366f3b9a7992bf8c76cfdf3221e2             2  Потенциально лояльные\n",
       "1      0000b849f77a49e4a4ce2b2a4ca5be3f             2  Потенциально лояльные\n",
       "2      0000f46a3911fa3c0805444483337064             0         Разовый клиент\n",
       "3      0000f6ccb0745a6a4b88665a16c9f078             0         Разовый клиент\n",
       "4      0004aac84e0df4da2b147fca70cf8255             0         Разовый клиент\n",
       "...                                 ...           ...                    ...\n",
       "91571  fffcf5a5ff07b0908bd4e2dbc735a684             2  Потенциально лояльные\n",
       "91572  fffea47cd6d3cc0a88bd621562a9d061             0         Разовый клиент\n",
       "91573  ffff371b4d645b6ecea244b27531430a             0         Разовый клиент\n",
       "91574  ffff5962728ec6157033ef9805bacc48             2  Потенциально лояльные\n",
       "91575  ffffd2657e2aad2907e67c3e9daecbeb             0         Разовый клиент\n",
       "\n",
       "[91576 rows x 3 columns]"
      ]
     },
     "execution_count": 78,
     "metadata": {},
     "output_type": "execute_result"
    }
   ],
   "source": [
    "X_final"
   ]
  },
  {
   "cell_type": "code",
   "execution_count": 81,
   "id": "90c6a604",
   "metadata": {},
   "outputs": [],
   "source": [
    "X_final.to_csv(\"./labels/combo_clust.csv\", index=False)"
   ]
  },
  {
   "cell_type": "code",
   "execution_count": null,
   "id": "6b5b96e7",
   "metadata": {},
   "outputs": [],
   "source": []
  }
 ],
 "metadata": {
  "kernelspec": {
   "display_name": "dlenv",
   "language": "python",
   "name": "python3"
  },
  "language_info": {
   "codemirror_mode": {
    "name": "ipython",
    "version": 3
   },
   "file_extension": ".py",
   "mimetype": "text/x-python",
   "name": "python",
   "nbconvert_exporter": "python",
   "pygments_lexer": "ipython3",
   "version": "3.11.11"
  }
 },
 "nbformat": 4,
 "nbformat_minor": 5
}
